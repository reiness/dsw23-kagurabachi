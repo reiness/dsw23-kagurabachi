{
 "cells": [
  {
   "cell_type": "markdown",
   "metadata": {},
   "source": [
    "# Renamer"
   ]
  },
  {
   "cell_type": "code",
   "execution_count": 3,
   "metadata": {},
   "outputs": [],
   "source": [
    "# Peta konversi\n",
    "conversion_map = {\n",
    "    'Device Class': {0: 'High End', 1: 'Low End', 2: 'Mid End'},\n",
    "    'Games Product': {0: 'No', 1: 'No internet service', 2: 'Yes'},\n",
    "    'Music Product': {0: 'No', 1: 'No internet service', 2: 'Yes'},\n",
    "    'Education Product': {0: 'No', 1: 'No internet service', 2: 'Yes'},\n",
    "    'Call Center': {0: 'No', 1: 'Yes'},\n",
    "    'Video Product': {0: 'No', 1: 'No internet service', 2: 'Yes'},\n",
    "    'Use MyApp': {0: 'No', 1: 'No internet service', 2: 'Yes'},\n",
    "    'Payment Method': {0: 'Credit', 1: 'Debit', 2: 'Digital Wallet', 3: 'Pulsa'}\n",
    "}\n",
    "\n",
    "def replace_values(line):\n",
    "    for key, value_map in conversion_map.items():\n",
    "        for num_val, str_val in value_map.items():\n",
    "            line = line.replace(f'{key}:=:{num_val}', f'{key}:=:{str_val}')\n",
    "    return line\n",
    "\n",
    "# Membaca dan mengubah isi file\n",
    "updated_lines = []\n",
    "with open('rules_bandung_output.txt', 'r') as file:\n",
    "    for line in file:\n",
    "        updated_line = replace_values(line.strip())\n",
    "        updated_lines.append(updated_line)\n",
    "\n",
    "# Menulis kembali ke file\n",
    "with open('rules_bandung.txt', 'w') as file:\n",
    "    for line in updated_lines:\n",
    "        file.write(line + '\\n')\n"
   ]
  },
  {
   "cell_type": "markdown",
   "metadata": {},
   "source": [
    "# Cleaning"
   ]
  },
  {
   "cell_type": "code",
   "execution_count": 5,
   "metadata": {},
   "outputs": [],
   "source": [
    "import re\n",
    "\n",
    "# Function to remove specified characters and all numbers\n",
    "def remove_chars(line):\n",
    "    line = line.replace(':', '')  # Remove colons\n",
    "    line = re.sub(r'\\d+\\.?\\d*', '', line)  # Remove all numbers\n",
    "    return line\n",
    "\n",
    "# Read and modify the file content\n",
    "updated_lines = []\n",
    "with open('rules_bandung.txt', 'r') as file:\n",
    "    for line in file:\n",
    "        updated_line = remove_chars(line.strip())\n",
    "        updated_lines.append(updated_line)\n",
    "\n",
    "# Write the updated content back to the file\n",
    "with open('rules.txt', 'w') as file:\n",
    "    for line in updated_lines:\n",
    "        file.write(line + '\\n')\n"
   ]
  },
  {
   "cell_type": "markdown",
   "metadata": {},
   "source": [
    "# Semicolon-er"
   ]
  },
  {
   "cell_type": "code",
   "execution_count": 6,
   "metadata": {},
   "outputs": [],
   "source": [
    "# Function to replace the first comma with a semicolon in a line\n",
    "def replace_first_comma(line):\n",
    "    return line.replace(',', ';', 1)  # The third argument '1' limits the replacement to the first occurrence\n",
    "\n",
    "# Read and modify the file content\n",
    "updated_lines = []\n",
    "with open('rules.txt', 'r') as file:  # Replace 'filename.txt' with the actual file name\n",
    "    for line in file:\n",
    "        updated_line = replace_first_comma(line.strip())\n",
    "        updated_lines.append(updated_line)\n",
    "\n",
    "# Write the updated content back to the file\n",
    "with open('rules.txt', 'w') as file:  # Replace 'filename.txt' with the actual file name\n",
    "    for line in updated_lines:\n",
    "        file.write(line + '\\n')\n"
   ]
  },
  {
   "cell_type": "markdown",
   "metadata": {},
   "source": [
    "# Useless symbols remover"
   ]
  },
  {
   "cell_type": "code",
   "execution_count": 20,
   "metadata": {},
   "outputs": [],
   "source": [
    "# To accomplish the task, we will first read the contents of 'rules.txt', process it to remove the unwanted symbols, \n",
    "# and then write the processed content back to the same file.\n",
    "\n",
    "def process_file(file_name):\n",
    "    # Read the content of the file\n",
    "    with open(file_name, 'r') as file:\n",
    "        content = file.read()\n",
    "\n",
    "    # Remove all symbols except '=' and ';'\n",
    "    processed_content = ''.join(char for char in content if char.isalnum() or char in ['=', ';', ' ', '\\n' , ','])\n",
    "\n",
    "    # Write the processed content back to the same file\n",
    "    with open(file_name, 'w') as file:\n",
    "        file.write(processed_content)\n",
    "\n",
    "# Assuming the file 'rules.txt' is in the current directory and accessible\n",
    "file_name = 'rules.txt'\n",
    "process_file(file_name)\n"
   ]
  },
  {
   "cell_type": "code",
   "execution_count": 21,
   "metadata": {},
   "outputs": [],
   "source": [
    "def remove_last_two_commas(file_name):\n",
    "    with open(file_name, 'r') as file:\n",
    "        lines = file.readlines()\n",
    "\n",
    "    processed_lines = []\n",
    "    for line in lines:\n",
    "        # Find the positions of the last two commas\n",
    "        last_comma_idx = line.rfind(',')\n",
    "        second_last_comma_idx = line.rfind(',', 0, last_comma_idx)\n",
    "\n",
    "        # Remove the last two commas\n",
    "        if last_comma_idx != -1 and second_last_comma_idx != -1:\n",
    "            new_line = line[:second_last_comma_idx] + line[second_last_comma_idx+1:last_comma_idx] + line[last_comma_idx+1:]\n",
    "        else:\n",
    "            new_line = line\n",
    "\n",
    "        processed_lines.append(new_line)\n",
    "\n",
    "    # Write the processed content back to the same file\n",
    "    with open(file_name, 'w') as file:\n",
    "        file.writelines(processed_lines)\n",
    "\n",
    "# File name (assuming the file is in the current directory and accessible)\n",
    "file_name = 'rules.txt'\n",
    "remove_last_two_commas(file_name)\n"
   ]
  },
  {
   "cell_type": "code",
   "execution_count": 22,
   "metadata": {},
   "outputs": [],
   "source": [
    "def remove_comma_in_last_line(file_name):\n",
    "    with open(file_name, 'r') as file:\n",
    "        lines = file.readlines()\n",
    "\n",
    "    # Check if the last line exists and remove one comma if present\n",
    "    if lines:\n",
    "        last_line = lines[-1]\n",
    "        comma_index = last_line.rfind(',')\n",
    "        if comma_index != -1:\n",
    "            lines[-1] = last_line[:comma_index] + last_line[comma_index + 1:]\n",
    "\n",
    "    # Write the processed content back to the same file\n",
    "    with open(file_name, 'w') as file:\n",
    "        file.writelines(lines)\n",
    "\n",
    "# File name (assuming the file is in the current directory and accessible)\n",
    "file_name = 'rules.txt'\n",
    "remove_comma_in_last_line(file_name)\n"
   ]
  },
  {
   "cell_type": "markdown",
   "metadata": {},
   "source": [
    "# Duplicate remover"
   ]
  },
  {
   "cell_type": "code",
   "execution_count": null,
   "metadata": {},
   "outputs": [],
   "source": []
  }
 ],
 "metadata": {
  "kernelspec": {
   "display_name": "Python 3",
   "language": "python",
   "name": "python3"
  },
  "language_info": {
   "codemirror_mode": {
    "name": "ipython",
    "version": 3
   },
   "file_extension": ".py",
   "mimetype": "text/x-python",
   "name": "python",
   "nbconvert_exporter": "python",
   "pygments_lexer": "ipython3",
   "version": "3.11.4"
  }
 },
 "nbformat": 4,
 "nbformat_minor": 2
}
