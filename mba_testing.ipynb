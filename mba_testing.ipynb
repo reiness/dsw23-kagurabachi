{
 "cells": [
  {
   "cell_type": "code",
   "execution_count": 2,
   "metadata": {},
   "outputs": [],
   "source": [
    "def load_rules(file_path):\n",
    "    \"\"\"Load and parse association rules from the given file.\"\"\"\n",
    "    with open(file_path, 'r') as file:\n",
    "        rules = [line.strip().split(';') for line in file.readlines()]\n",
    "    return {antecedent.strip(): consequent.strip() for antecedent, consequent in rules}\n",
    "\n",
    "def list_antecedents(rules):\n",
    "    \"\"\"List all antecedents from the rules.\"\"\"\n",
    "    return list(rules.keys())\n",
    "\n",
    "def find_consequent(rules, antecedent):\n",
    "    \"\"\"Find the consequent for a given antecedent in the rules.\"\"\"\n",
    "    return rules.get(antecedent, \"No consequent found for this antecedent.\")\n",
    "\n"
   ]
  },
  {
   "cell_type": "code",
   "execution_count": 2,
   "metadata": {},
   "outputs": [
    {
     "name": "stdout",
     "output_type": "stream",
     "text": [
      "Available Antecedents:\n",
      "CallCenter=No, UseMyApp=Nointernetservice, DeviceClass=LowEnd, VideoProduct=Nointernetservice, EducationProduct=Nointernetservice, MusicProduct=Nointernetservice, GamesProduct=Nointernetservice, UseMyApp=Yes, VideoProduct=No, VideoProduct=Yes, UseMyApp=No, EducationProduct=Yes, EducationProduct=No, GamesProduct=No, DeviceClass=MidEnd\n"
     ]
    },
    {
     "name": "stdout",
     "output_type": "stream",
     "text": [
      "Consequent: MusicProduct=No\n",
      "Antecedent not found in the list. Please try again.\n"
     ]
    }
   ],
   "source": [
    "# Load the rules from the file\n",
    "rules_file_path = 'rules.txt'  # Replace with your file path\n",
    "rules = load_rules(rules_file_path)\n",
    "\n",
    "# List all available antecedents\n",
    "available_antecedents = list_antecedents(rules)\n",
    "print(\"Available Antecedents:\")\n",
    "print(\", \".join(available_antecedents))\n",
    "\n",
    "# Interactive segment\n",
    "user_input = input(\"Enter an antecedent from the list above (or 'exit' to quit): \").strip()\n",
    "while user_input.lower() != 'exit':\n",
    "    if user_input in available_antecedents:\n",
    "        consequent = find_consequent(rules, user_input)\n",
    "        print(f\"Consequent: {consequent}\")\n",
    "    else:\n",
    "        print(\"Antecedent not found in the list. Please try again.\")\n",
    "    user_input = input(\"Enter an antecedent from the list above (or 'exit' to quit): \").strip()\n"
   ]
  },
  {
   "cell_type": "code",
   "execution_count": 3,
   "metadata": {},
   "outputs": [
    {
     "name": "stdout",
     "output_type": "stream",
     "text": [
      "Available Antecedents:\n",
      "Call Center=No, Use MyApp=No internet service, Device Class=Low End, Video Product=No internet service, Education Product=No internet service, Music Product=No internet service, Games Product=No internet service, Use MyApp=Yes, Video Product=No, Video Product=Yes, Use MyApp=No, Education Product=Yes, Education Product=No, Games Product=No, Device Class=Mid End\n"
     ]
    }
   ],
   "source": [
    "# Load the rules from the file\n",
    "rules_file_path = 'rules.txt'  # Replace with your file path\n",
    "rules = load_rules(rules_file_path)\n",
    "\n",
    "# List all available antecedents\n",
    "available_antecedents = list_antecedents(rules)\n",
    "print(\"Available Antecedents:\")\n",
    "print(\", \".join(available_antecedents))"
   ]
  },
  {
   "cell_type": "code",
   "execution_count": null,
   "metadata": {},
   "outputs": [],
   "source": []
  },
  {
   "cell_type": "code",
   "execution_count": 1,
   "metadata": {},
   "outputs": [],
   "source": [
    "    antecedents_consequents_pair = {}\n",
    "    consequents_list = []\n",
    "    antecedents_list = []\n",
    "    consequents = 0\n",
    "    antecedents = 0\n",
    "\n",
    "    def pairing_antecedents_consequents(rules):\n",
    "        antecedents_consequents_pair = {}\n",
    "        \n",
    "        # Split the input string into rows\n",
    "        rows = rules.strip().split('\\n')\n",
    "\n",
    "        for row in rows:\n",
    "            # Split each row into two parts based on the ';' character\n",
    "            parts = row.split(';')\n",
    "            \n",
    "            # Ensure that there are exactly two parts (consequents and antecedents)\n",
    "            if len(parts) != 2:\n",
    "                raise ValueError(\"Each row must contain exactly one ';' character\")\n",
    "\n",
    "            # Assign consequents and antecedents\n",
    "            consequents = parts[0].strip()\n",
    "            antecedents = parts[1].strip()\n",
    "\n",
    "            # Add to the dictionary\n",
    "            antecedents_consequents_pair[consequents] = antecedents\n",
    "\n",
    "        return antecedents_consequents_pair\n",
    "\n",
    "    with open('rules.txt', 'r') as file:\n",
    "        # Read the content of the file\n",
    "        rules = file.read()  \n",
    "    pairing_antecedents_consequents(rules)\n",
    "\n",
    "    # inserting key and value into separate lists\n",
    "    for antecedent, consequent in antecedents_consequents_pair.items():\n",
    "        antecedents_list.append(antecedent)\n",
    "        consequents_list.append(consequent)"
   ]
  },
  {
   "cell_type": "code",
   "execution_count": 2,
   "metadata": {},
   "outputs": [],
   "source": [
    "rows = rules.strip().split('\\n')\n",
    "\n",
    "for row in rows:\n",
    "    # Split each row into two parts based on the ';' character\n",
    "    parts = row.split(';')\n",
    "\n",
    "    # Assign consequents and antecedents\n",
    "    consequents = parts[0].strip()\n",
    "    antecedents = parts[1].strip()\n",
    "\n",
    "    # Add to the dictionary\n",
    "    antecedents_consequents_pair[consequents] = antecedents"
   ]
  },
  {
   "cell_type": "code",
   "execution_count": 36,
   "metadata": {},
   "outputs": [],
   "source": [
    "antecedents_consequents_pair[antecedents] = consequents"
   ]
  },
  {
   "cell_type": "code",
   "execution_count": 3,
   "metadata": {},
   "outputs": [
    {
     "data": {
      "text/plain": [
       "{'Call Center = No': 'Use MyApp = No internet service',\n",
       " 'Use MyApp = No internet service': 'Device Class = Low End, Call Center = No',\n",
       " 'Device Class = Low End': 'Use MyApp = No internet service, Call Center = No',\n",
       " 'Video Product = No internet service': 'Use MyApp = No internet service, Call Center = No',\n",
       " 'Education Product = No internet service': 'Use MyApp = No internet service, Call Center = No',\n",
       " 'Music Product = No internet service': 'Use MyApp = No internet service, Call Center = No',\n",
       " 'Games Product = No internet service': 'Use MyApp = No internet service, Call Center = No',\n",
       " 'Use MyApp = Yes': 'Video Product = Yes',\n",
       " 'Video Product = No': 'Use MyApp = No',\n",
       " 'Video Product = Yes': 'Use MyApp = Yes',\n",
       " 'Use MyApp = No': 'Video Product = No',\n",
       " 'Education Product = Yes': 'Use MyApp = Yes',\n",
       " 'Education Product = No': 'Use MyApp = No',\n",
       " 'Games Product = No': 'Device Class = High End',\n",
       " 'Device Class = Mid End': 'Games Product = Yes'}"
      ]
     },
     "execution_count": 3,
     "metadata": {},
     "output_type": "execute_result"
    }
   ],
   "source": [
    "antecedents_consequents_pair"
   ]
  },
  {
   "cell_type": "code",
   "execution_count": 4,
   "metadata": {},
   "outputs": [
    {
     "data": {
      "image/png": "[encoded data removed]",
      "text/plain": [
       "<Figure size 800x600 with 1 Axes>"
      ]
     },
     "metadata": {},
     "output_type": "display_data"
    }
   ],
   "source": [
    "import matplotlib.pyplot as plt\n",
    "\n",
    "# Data for the pie chart\n",
    "labels = ['Yes', 'No']\n",
    "sizes = [73.5, 26.5]\n",
    "colors = ['#FF6347', '#FFB6C1']  # Shades of red\n",
    "\n",
    "# Create the pie chart\n",
    "plt.figure(figsize=(8, 6))\n",
    "plt.pie(sizes, labels=labels, colors=colors, autopct='%1.1f%%', startangle=140)\n",
    "plt.title('Pie Chart Visualization')\n",
    "\n",
    "# Show the plot\n",
    "plt.show()\n"
   ]
  }
 ],
 "metadata": {
  "kernelspec": {
   "display_name": "Python 3",
   "language": "python",
   "name": "python3"
  },
  "language_info": {
   "codemirror_mode": {
    "name": "ipython",
    "version": 3
   },
   "file_extension": ".py",
   "mimetype": "text/x-python",
   "name": "python",
   "nbconvert_exporter": "python",
   "pygments_lexer": "ipython3",
   "version": "3.11.4"
  }
 },
 "nbformat": 4,
 "nbformat_minor": 2
}
