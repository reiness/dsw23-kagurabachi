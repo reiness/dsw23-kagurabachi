{
 "cells": [
  {
   "cell_type": "code",
   "execution_count": 1,
   "metadata": {},
   "outputs": [],
   "source": [
    "import pandas as pd"
   ]
  },
  {
   "cell_type": "code",
   "execution_count": 2,
   "metadata": {},
   "outputs": [
    {
     "name": "stdout",
     "output_type": "stream",
     "text": [
      "<class 'pandas.core.frame.DataFrame'>\n",
      "RangeIndex: 7043 entries, 0 to 7042\n",
      "Data columns (total 16 columns):\n",
      " #   Column                        Non-Null Count  Dtype  \n",
      "---  ------                        --------------  -----  \n",
      " 0   Customer ID                   7043 non-null   int64  \n",
      " 1   Tenure Months                 7043 non-null   int64  \n",
      " 2   Location                      7043 non-null   object \n",
      " 3   Device Class                  7043 non-null   object \n",
      " 4   Games Product                 7043 non-null   object \n",
      " 5   Music Product                 7043 non-null   object \n",
      " 6   Education Product             7043 non-null   object \n",
      " 7   Call Center                   7043 non-null   object \n",
      " 8   Video Product                 7043 non-null   object \n",
      " 9   Use MyApp                     7043 non-null   object \n",
      " 10  Payment Method                7043 non-null   object \n",
      " 11  Monthly Purchase (Thou. IDR)  7043 non-null   float64\n",
      " 12  Churn Label                   7043 non-null   object \n",
      " 13  Longitude                     7043 non-null   float64\n",
      " 14  Latitude                      7043 non-null   float64\n",
      " 15  CLTV (Predicted Thou. IDR)    7043 non-null   float64\n",
      "dtypes: float64(4), int64(2), object(10)\n",
      "memory usage: 880.5+ KB\n"
     ]
    }
   ],
   "source": [
    "data = pd.read_excel('data.xlsx')\n",
    "data.info()"
   ]
  },
  {
   "cell_type": "markdown",
   "metadata": {},
   "source": [
    "# Checking Null"
   ]
  },
  {
   "cell_type": "code",
   "execution_count": 3,
   "metadata": {},
   "outputs": [
    {
     "data": {
      "text/plain": [
       "Customer ID                     0\n",
       "Tenure Months                   0\n",
       "Location                        0\n",
       "Device Class                    0\n",
       "Games Product                   0\n",
       "Music Product                   0\n",
       "Education Product               0\n",
       "Call Center                     0\n",
       "Video Product                   0\n",
       "Use MyApp                       0\n",
       "Payment Method                  0\n",
       "Monthly Purchase (Thou. IDR)    0\n",
       "Churn Label                     0\n",
       "Longitude                       0\n",
       "Latitude                        0\n",
       "CLTV (Predicted Thou. IDR)      0\n",
       "dtype: int64"
      ]
     },
     "execution_count": 3,
     "metadata": {},
     "output_type": "execute_result"
    }
   ],
   "source": [
    "data.isnull().sum()"
   ]
  },
  {
   "cell_type": "markdown",
   "metadata": {},
   "source": [
    "# Checking Churn Distribution"
   ]
  },
  {
   "cell_type": "code",
   "execution_count": 4,
   "metadata": {},
   "outputs": [
    {
     "data": {
      "text/plain": [
       "Churn Label\n",
       "No     5174\n",
       "Yes    1869\n",
       "Name: Customer ID, dtype: int64"
      ]
     },
     "execution_count": 4,
     "metadata": {},
     "output_type": "execute_result"
    }
   ],
   "source": [
    "data.groupby('Churn Label')['Customer ID'].nunique()\n"
   ]
  },
  {
   "cell_type": "markdown",
   "metadata": {},
   "source": [
    "# General Churn Rate"
   ]
  },
  {
   "cell_type": "code",
   "execution_count": 5,
   "metadata": {},
   "outputs": [],
   "source": [
    "import plotly.express as px"
   ]
  },
  {
   "cell_type": "code",
   "execution_count": 6,
   "metadata": {},
   "outputs": [
    {
     "data": {
      "application/vnd.plotly.v1+json": {
       "config": {
        "plotlyServerURL": "https://plot.ly"
       },
       "data": [
        {
         "domain": {
          "x": [
           0,
           1
          ],
          "y": [
           0,
           1
          ]
         },
         "hovertemplate": "Churn Label=%{label}<br>Customer ID=%{value}<extra></extra>",
         "labels": [
          "No",
          "Yes"
         ],
         "legendgroup": "",
         "name": "",
         "showlegend": true,
         "type": "pie",
         "values": [
          5174,
          1869
         ]
        }
       ],
       "layout": {
        "legend": {
         "tracegroupgap": 0
        },
        "margin": {
         "t": 60
        },
        "template": {
         "data": {
          "bar": [
           {
            "error_x": {
             "color": "#2a3f5f"
            },
            "error_y": {
             "color": "#2a3f5f"
            },
            "marker": {
             "line": {
              "color": "#E5ECF6",
              "width": 0.5
             },
             "pattern": {
              "fillmode": "overlay",
              "size": 10,
              "solidity": 0.2
             }
            },
            "type": "bar"
           }
          ],
          "barpolar": [
           {
            "marker": {
             "line": {
              "color": "#E5ECF6",
              "width": 0.5
             },
             "pattern": {
              "fillmode": "overlay",
              "size": 10,
              "solidity": 0.2
             }
            },
            "type": "barpolar"
           }
          ],
          "carpet": [
           {
            "aaxis": {
             "endlinecolor": "#2a3f5f",
             "gridcolor": "white",
             "linecolor": "white",
             "minorgridcolor": "white",
             "startlinecolor": "#2a3f5f"
            },
            "baxis": {
             "endlinecolor": "#2a3f5f",
             "gridcolor": "white",
             "linecolor": "white",
             "minorgridcolor": "white",
             "startlinecolor": "#2a3f5f"
            },
            "type": "carpet"
           }
          ],
          "choropleth": [
           {
            "colorbar": {
             "outlinewidth": 0,
             "ticks": ""
            },
            "type": "choropleth"
           }
          ],
          "contour": [
           {
            "colorbar": {
             "outlinewidth": 0,
             "ticks": ""
            },
            "colorscale": [
             [
              0,
              "#0d0887"
             ],
             [
              0.1111111111111111,
              "#46039f"
             ],
             [
              0.2222222222222222,
              "#7201a8"
             ],
             [
              0.3333333333333333,
              "#9c179e"
             ],
             [
              0.4444444444444444,
              "#bd3786"
             ],
             [
              0.5555555555555556,
              "#d8576b"
             ],
             [
              0.6666666666666666,
              "#ed7953"
             ],
             [
              0.7777777777777778,
              "#fb9f3a"
             ],
             [
              0.8888888888888888,
              "#fdca26"
             ],
             [
              1,
              "#f0f921"
             ]
            ],
            "type": "contour"
           }
          ],
          "contourcarpet": [
           {
            "colorbar": {
             "outlinewidth": 0,
             "ticks": ""
            },
            "type": "contourcarpet"
           }
          ],
          "heatmap": [
           {
            "colorbar": {
             "outlinewidth": 0,
             "ticks": ""
            },
            "colorscale": [
             [
              0,
              "#0d0887"
             ],
             [
              0.1111111111111111,
              "#46039f"
             ],
             [
              0.2222222222222222,
              "#7201a8"
             ],
             [
              0.3333333333333333,
              "#9c179e"
             ],
             [
              0.4444444444444444,
              "#bd3786"
             ],
             [
              0.5555555555555556,
              "#d8576b"
             ],
             [
              0.6666666666666666,
              "#ed7953"
             ],
             [
              0.7777777777777778,
              "#fb9f3a"
             ],
             [
              0.8888888888888888,
              "#fdca26"
             ],
             [
              1,
              "#f0f921"
             ]
            ],
            "type": "heatmap"
           }
          ],
          "heatmapgl": [
           {
            "colorbar": {
             "outlinewidth": 0,
             "ticks": ""
            },
            "colorscale": [
             [
              0,
              "#0d0887"
             ],
             [
              0.1111111111111111,
              "#46039f"
             ],
             [
              0.2222222222222222,
              "#7201a8"
             ],
             [
              0.3333333333333333,
              "#9c179e"
             ],
             [
              0.4444444444444444,
              "#bd3786"
             ],
             [
              0.5555555555555556,
              "#d8576b"
             ],
             [
              0.6666666666666666,
              "#ed7953"
             ],
             [
              0.7777777777777778,
              "#fb9f3a"
             ],
             [
              0.8888888888888888,
              "#fdca26"
             ],
             [
              1,
              "#f0f921"
             ]
            ],
            "type": "heatmapgl"
           }
          ],
          "histogram": [
           {
            "marker": {
             "pattern": {
              "fillmode": "overlay",
              "size": 10,
              "solidity": 0.2
             }
            },
            "type": "histogram"
           }
          ],
          "histogram2d": [
           {
            "colorbar": {
             "outlinewidth": 0,
             "ticks": ""
            },
            "colorscale": [
             [
              0,
              "#0d0887"
             ],
             [
              0.1111111111111111,
              "#46039f"
             ],
             [
              0.2222222222222222,
              "#7201a8"
             ],
             [
              0.3333333333333333,
              "#9c179e"
             ],
             [
              0.4444444444444444,
              "#bd3786"
             ],
             [
              0.5555555555555556,
              "#d8576b"
             ],
             [
              0.6666666666666666,
              "#ed7953"
             ],
             [
              0.7777777777777778,
              "#fb9f3a"
             ],
             [
              0.8888888888888888,
              "#fdca26"
             ],
             [
              1,
              "#f0f921"
             ]
            ],
            "type": "histogram2d"
           }
          ],
          "histogram2dcontour": [
           {
            "colorbar": {
             "outlinewidth": 0,
             "ticks": ""
            },
            "colorscale": [
             [
              0,
              "#0d0887"
             ],
             [
              0.1111111111111111,
              "#46039f"
             ],
             [
              0.2222222222222222,
              "#7201a8"
             ],
             [
              0.3333333333333333,
              "#9c179e"
             ],
             [
              0.4444444444444444,
              "#bd3786"
             ],
             [
              0.5555555555555556,
              "#d8576b"
             ],
             [
              0.6666666666666666,
              "#ed7953"
             ],
             [
              0.7777777777777778,
              "#fb9f3a"
             ],
             [
              0.8888888888888888,
              "#fdca26"
             ],
             [
              1,
              "#f0f921"
             ]
            ],
            "type": "histogram2dcontour"
           }
          ],
          "mesh3d": [
           {
            "colorbar": {
             "outlinewidth": 0,
             "ticks": ""
            },
            "type": "mesh3d"
           }
          ],
          "parcoords": [
           {
            "line": {
             "colorbar": {
              "outlinewidth": 0,
              "ticks": ""
             }
            },
            "type": "parcoords"
           }
          ],
          "pie": [
           {
            "automargin": true,
            "type": "pie"
           }
          ],
          "scatter": [
           {
            "fillpattern": {
             "fillmode": "overlay",
             "size": 10,
             "solidity": 0.2
            },
            "type": "scatter"
           }
          ],
          "scatter3d": [
           {
            "line": {
             "colorbar": {
              "outlinewidth": 0,
              "ticks": ""
             }
            },
            "marker": {
             "colorbar": {
              "outlinewidth": 0,
              "ticks": ""
             }
            },
            "type": "scatter3d"
           }
          ],
          "scattercarpet": [
           {
            "marker": {
             "colorbar": {
              "outlinewidth": 0,
              "ticks": ""
             }
            },
            "type": "scattercarpet"
           }
          ],
          "scattergeo": [
           {
            "marker": {
             "colorbar": {
              "outlinewidth": 0,
              "ticks": ""
             }
            },
            "type": "scattergeo"
           }
          ],
          "scattergl": [
           {
            "marker": {
             "colorbar": {
              "outlinewidth": 0,
              "ticks": ""
             }
            },
            "type": "scattergl"
           }
          ],
          "scattermapbox": [
           {
            "marker": {
             "colorbar": {
              "outlinewidth": 0,
              "ticks": ""
             }
            },
            "type": "scattermapbox"
           }
          ],
          "scatterpolar": [
           {
            "marker": {
             "colorbar": {
              "outlinewidth": 0,
              "ticks": ""
             }
            },
            "type": "scatterpolar"
           }
          ],
          "scatterpolargl": [
           {
            "marker": {
             "colorbar": {
              "outlinewidth": 0,
              "ticks": ""
             }
            },
            "type": "scatterpolargl"
           }
          ],
          "scatterternary": [
           {
            "marker": {
             "colorbar": {
              "outlinewidth": 0,
              "ticks": ""
             }
            },
            "type": "scatterternary"
           }
          ],
          "surface": [
           {
            "colorbar": {
             "outlinewidth": 0,
             "ticks": ""
            },
            "colorscale": [
             [
              0,
              "#0d0887"
             ],
             [
              0.1111111111111111,
              "#46039f"
             ],
             [
              0.2222222222222222,
              "#7201a8"
             ],
             [
              0.3333333333333333,
              "#9c179e"
             ],
             [
              0.4444444444444444,
              "#bd3786"
             ],
             [
              0.5555555555555556,
              "#d8576b"
             ],
             [
              0.6666666666666666,
              "#ed7953"
             ],
             [
              0.7777777777777778,
              "#fb9f3a"
             ],
             [
              0.8888888888888888,
              "#fdca26"
             ],
             [
              1,
              "#f0f921"
             ]
            ],
            "type": "surface"
           }
          ],
          "table": [
           {
            "cells": {
             "fill": {
              "color": "#EBF0F8"
             },
             "line": {
              "color": "white"
             }
            },
            "header": {
             "fill": {
              "color": "#C8D4E3"
             },
             "line": {
              "color": "white"
             }
            },
            "type": "table"
           }
          ]
         },
         "layout": {
          "annotationdefaults": {
           "arrowcolor": "#2a3f5f",
           "arrowhead": 0,
           "arrowwidth": 1
          },
          "autotypenumbers": "strict",
          "coloraxis": {
           "colorbar": {
            "outlinewidth": 0,
            "ticks": ""
           }
          },
          "colorscale": {
           "diverging": [
            [
             0,
             "#8e0152"
            ],
            [
             0.1,
             "#c51b7d"
            ],
            [
             0.2,
             "#de77ae"
            ],
            [
             0.3,
             "#f1b6da"
            ],
            [
             0.4,
             "#fde0ef"
            ],
            [
             0.5,
             "#f7f7f7"
            ],
            [
             0.6,
             "#e6f5d0"
            ],
            [
             0.7,
             "#b8e186"
            ],
            [
             0.8,
             "#7fbc41"
            ],
            [
             0.9,
             "#4d9221"
            ],
            [
             1,
             "#276419"
            ]
           ],
           "sequential": [
            [
             0,
             "#0d0887"
            ],
            [
             0.1111111111111111,
             "#46039f"
            ],
            [
             0.2222222222222222,
             "#7201a8"
            ],
            [
             0.3333333333333333,
             "#9c179e"
            ],
            [
             0.4444444444444444,
             "#bd3786"
            ],
            [
             0.5555555555555556,
             "#d8576b"
            ],
            [
             0.6666666666666666,
             "#ed7953"
            ],
            [
             0.7777777777777778,
             "#fb9f3a"
            ],
            [
             0.8888888888888888,
             "#fdca26"
            ],
            [
             1,
             "#f0f921"
            ]
           ],
           "sequentialminus": [
            [
             0,
             "#0d0887"
            ],
            [
             0.1111111111111111,
             "#46039f"
            ],
            [
             0.2222222222222222,
             "#7201a8"
            ],
            [
             0.3333333333333333,
             "#9c179e"
            ],
            [
             0.4444444444444444,
             "#bd3786"
            ],
            [
             0.5555555555555556,
             "#d8576b"
            ],
            [
             0.6666666666666666,
             "#ed7953"
            ],
            [
             0.7777777777777778,
             "#fb9f3a"
            ],
            [
             0.8888888888888888,
             "#fdca26"
            ],
            [
             1,
             "#f0f921"
            ]
           ]
          },
          "colorway": [
           "#636efa",
           "#EF553B",
           "#00cc96",
           "#ab63fa",
           "#FFA15A",
           "#19d3f3",
           "#FF6692",
           "#B6E880",
           "#FF97FF",
           "#FECB52"
          ],
          "font": {
           "color": "#2a3f5f"
          },
          "geo": {
           "bgcolor": "white",
           "lakecolor": "white",
           "landcolor": "#E5ECF6",
           "showlakes": true,
           "showland": true,
           "subunitcolor": "white"
          },
          "hoverlabel": {
           "align": "left"
          },
          "hovermode": "closest",
          "mapbox": {
           "style": "light"
          },
          "paper_bgcolor": "white",
          "plot_bgcolor": "#E5ECF6",
          "polar": {
           "angularaxis": {
            "gridcolor": "white",
            "linecolor": "white",
            "ticks": ""
           },
           "bgcolor": "#E5ECF6",
           "radialaxis": {
            "gridcolor": "white",
            "linecolor": "white",
            "ticks": ""
           }
          },
          "scene": {
           "xaxis": {
            "backgroundcolor": "#E5ECF6",
            "gridcolor": "white",
            "gridwidth": 2,
            "linecolor": "white",
            "showbackground": true,
            "ticks": "",
            "zerolinecolor": "white"
           },
           "yaxis": {
            "backgroundcolor": "#E5ECF6",
            "gridcolor": "white",
            "gridwidth": 2,
            "linecolor": "white",
            "showbackground": true,
            "ticks": "",
            "zerolinecolor": "white"
           },
           "zaxis": {
            "backgroundcolor": "#E5ECF6",
            "gridcolor": "white",
            "gridwidth": 2,
            "linecolor": "white",
            "showbackground": true,
            "ticks": "",
            "zerolinecolor": "white"
           }
          },
          "shapedefaults": {
           "line": {
            "color": "#2a3f5f"
           }
          },
          "ternary": {
           "aaxis": {
            "gridcolor": "white",
            "linecolor": "white",
            "ticks": ""
           },
           "baxis": {
            "gridcolor": "white",
            "linecolor": "white",
            "ticks": ""
           },
           "bgcolor": "#E5ECF6",
           "caxis": {
            "gridcolor": "white",
            "linecolor": "white",
            "ticks": ""
           }
          },
          "title": {
           "x": 0.05
          },
          "xaxis": {
           "automargin": true,
           "gridcolor": "white",
           "linecolor": "white",
           "ticks": "",
           "title": {
            "standoff": 15
           },
           "zerolinecolor": "white",
           "zerolinewidth": 2
          },
          "yaxis": {
           "automargin": true,
           "gridcolor": "white",
           "linecolor": "white",
           "ticks": "",
           "title": {
            "standoff": 15
           },
           "zerolinecolor": "white",
           "zerolinewidth": 2
          }
         }
        }
       }
      }
     },
     "metadata": {},
     "output_type": "display_data"
    }
   ],
   "source": [
    "fig = px.pie(data.groupby('Churn Label')['Customer ID'].nunique().reset_index(), \n",
    "             values='Customer ID', \n",
    "             names='Churn Label')\n",
    "fig.show()"
   ]
  },
  {
   "cell_type": "markdown",
   "metadata": {},
   "source": [
    "# Geography"
   ]
  },
  {
   "cell_type": "code",
   "execution_count": 7,
   "metadata": {},
   "outputs": [
    {
     "data": {
      "text/plain": [
       "2"
      ]
     },
     "execution_count": 7,
     "metadata": {},
     "output_type": "execute_result"
    }
   ],
   "source": [
    "data['Location'].nunique()"
   ]
  },
  {
   "cell_type": "code",
   "execution_count": 8,
   "metadata": {},
   "outputs": [
    {
     "data": {
      "application/vnd.plotly.v1+json": {
       "config": {
        "plotlyServerURL": "https://plot.ly"
       },
       "data": [
        {
         "customdata": [
          [
           2012
          ],
          [
           5031
          ]
         ],
         "hovertemplate": "Latitude=%{lat}<br>Longitude=%{lon}<br>Customer ID=%{customdata[0]}<extra></extra>",
         "lat": [
          -6.914744,
          -6.2
         ],
         "legendgroup": "",
         "lon": [
          107.60981,
          106.816666
         ],
         "marker": {
          "color": "#636efa",
          "size": 15
         },
         "mode": "markers",
         "name": "",
         "showlegend": false,
         "subplot": "mapbox",
         "type": "scattermapbox"
        }
       ],
       "layout": {
        "height": 300,
        "legend": {
         "tracegroupgap": 0
        },
        "mapbox": {
         "center": {
          "lat": -6.557372,
          "lon": 107.21323799999999
         },
         "domain": {
          "x": [
           0,
           1
          ],
          "y": [
           0,
           1
          ]
         },
         "style": "open-street-map",
         "zoom": 4
        },
        "margin": {
         "b": 0,
         "l": 0,
         "r": 0,
         "t": 0
        },
        "template": {
         "data": {
          "bar": [
           {
            "error_x": {
             "color": "#2a3f5f"
            },
            "error_y": {
             "color": "#2a3f5f"
            },
            "marker": {
             "line": {
              "color": "#E5ECF6",
              "width": 0.5
             },
             "pattern": {
              "fillmode": "overlay",
              "size": 10,
              "solidity": 0.2
             }
            },
            "type": "bar"
           }
          ],
          "barpolar": [
           {
            "marker": {
             "line": {
              "color": "#E5ECF6",
              "width": 0.5
             },
             "pattern": {
              "fillmode": "overlay",
              "size": 10,
              "solidity": 0.2
             }
            },
            "type": "barpolar"
           }
          ],
          "carpet": [
           {
            "aaxis": {
             "endlinecolor": "#2a3f5f",
             "gridcolor": "white",
             "linecolor": "white",
             "minorgridcolor": "white",
             "startlinecolor": "#2a3f5f"
            },
            "baxis": {
             "endlinecolor": "#2a3f5f",
             "gridcolor": "white",
             "linecolor": "white",
             "minorgridcolor": "white",
             "startlinecolor": "#2a3f5f"
            },
            "type": "carpet"
           }
          ],
          "choropleth": [
           {
            "colorbar": {
             "outlinewidth": 0,
             "ticks": ""
            },
            "type": "choropleth"
           }
          ],
          "contour": [
           {
            "colorbar": {
             "outlinewidth": 0,
             "ticks": ""
            },
            "colorscale": [
             [
              0,
              "#0d0887"
             ],
             [
              0.1111111111111111,
              "#46039f"
             ],
             [
              0.2222222222222222,
              "#7201a8"
             ],
             [
              0.3333333333333333,
              "#9c179e"
             ],
             [
              0.4444444444444444,
              "#bd3786"
             ],
             [
              0.5555555555555556,
              "#d8576b"
             ],
             [
              0.6666666666666666,
              "#ed7953"
             ],
             [
              0.7777777777777778,
              "#fb9f3a"
             ],
             [
              0.8888888888888888,
              "#fdca26"
             ],
             [
              1,
              "#f0f921"
             ]
            ],
            "type": "contour"
           }
          ],
          "contourcarpet": [
           {
            "colorbar": {
             "outlinewidth": 0,
             "ticks": ""
            },
            "type": "contourcarpet"
           }
          ],
          "heatmap": [
           {
            "colorbar": {
             "outlinewidth": 0,
             "ticks": ""
            },
            "colorscale": [
             [
              0,
              "#0d0887"
             ],
             [
              0.1111111111111111,
              "#46039f"
             ],
             [
              0.2222222222222222,
              "#7201a8"
             ],
             [
              0.3333333333333333,
              "#9c179e"
             ],
             [
              0.4444444444444444,
              "#bd3786"
             ],
             [
              0.5555555555555556,
              "#d8576b"
             ],
             [
              0.6666666666666666,
              "#ed7953"
             ],
             [
              0.7777777777777778,
              "#fb9f3a"
             ],
             [
              0.8888888888888888,
              "#fdca26"
             ],
             [
              1,
              "#f0f921"
             ]
            ],
            "type": "heatmap"
           }
          ],
          "heatmapgl": [
           {
            "colorbar": {
             "outlinewidth": 0,
             "ticks": ""
            },
            "colorscale": [
             [
              0,
              "#0d0887"
             ],
             [
              0.1111111111111111,
              "#46039f"
             ],
             [
              0.2222222222222222,
              "#7201a8"
             ],
             [
              0.3333333333333333,
              "#9c179e"
             ],
             [
              0.4444444444444444,
              "#bd3786"
             ],
             [
              0.5555555555555556,
              "#d8576b"
             ],
             [
              0.6666666666666666,
              "#ed7953"
             ],
             [
              0.7777777777777778,
              "#fb9f3a"
             ],
             [
              0.8888888888888888,
              "#fdca26"
             ],
             [
              1,
              "#f0f921"
             ]
            ],
            "type": "heatmapgl"
           }
          ],
          "histogram": [
           {
            "marker": {
             "pattern": {
              "fillmode": "overlay",
              "size": 10,
              "solidity": 0.2
             }
            },
            "type": "histogram"
           }
          ],
          "histogram2d": [
           {
            "colorbar": {
             "outlinewidth": 0,
             "ticks": ""
            },
            "colorscale": [
             [
              0,
              "#0d0887"
             ],
             [
              0.1111111111111111,
              "#46039f"
             ],
             [
              0.2222222222222222,
              "#7201a8"
             ],
             [
              0.3333333333333333,
              "#9c179e"
             ],
             [
              0.4444444444444444,
              "#bd3786"
             ],
             [
              0.5555555555555556,
              "#d8576b"
             ],
             [
              0.6666666666666666,
              "#ed7953"
             ],
             [
              0.7777777777777778,
              "#fb9f3a"
             ],
             [
              0.8888888888888888,
              "#fdca26"
             ],
             [
              1,
              "#f0f921"
             ]
            ],
            "type": "histogram2d"
           }
          ],
          "histogram2dcontour": [
           {
            "colorbar": {
             "outlinewidth": 0,
             "ticks": ""
            },
            "colorscale": [
             [
              0,
              "#0d0887"
             ],
             [
              0.1111111111111111,
              "#46039f"
             ],
             [
              0.2222222222222222,
              "#7201a8"
             ],
             [
              0.3333333333333333,
              "#9c179e"
             ],
             [
              0.4444444444444444,
              "#bd3786"
             ],
             [
              0.5555555555555556,
              "#d8576b"
             ],
             [
              0.6666666666666666,
              "#ed7953"
             ],
             [
              0.7777777777777778,
              "#fb9f3a"
             ],
             [
              0.8888888888888888,
              "#fdca26"
             ],
             [
              1,
              "#f0f921"
             ]
            ],
            "type": "histogram2dcontour"
           }
          ],
          "mesh3d": [
           {
            "colorbar": {
             "outlinewidth": 0,
             "ticks": ""
            },
            "type": "mesh3d"
           }
          ],
          "parcoords": [
           {
            "line": {
             "colorbar": {
              "outlinewidth": 0,
              "ticks": ""
             }
            },
            "type": "parcoords"
           }
          ],
          "pie": [
           {
            "automargin": true,
            "type": "pie"
           }
          ],
          "scatter": [
           {
            "fillpattern": {
             "fillmode": "overlay",
             "size": 10,
             "solidity": 0.2
            },
            "type": "scatter"
           }
          ],
          "scatter3d": [
           {
            "line": {
             "colorbar": {
              "outlinewidth": 0,
              "ticks": ""
             }
            },
            "marker": {
             "colorbar": {
              "outlinewidth": 0,
              "ticks": ""
             }
            },
            "type": "scatter3d"
           }
          ],
          "scattercarpet": [
           {
            "marker": {
             "colorbar": {
              "outlinewidth": 0,
              "ticks": ""
             }
            },
            "type": "scattercarpet"
           }
          ],
          "scattergeo": [
           {
            "marker": {
             "colorbar": {
              "outlinewidth": 0,
              "ticks": ""
             }
            },
            "type": "scattergeo"
           }
          ],
          "scattergl": [
           {
            "marker": {
             "colorbar": {
              "outlinewidth": 0,
              "ticks": ""
             }
            },
            "type": "scattergl"
           }
          ],
          "scattermapbox": [
           {
            "marker": {
             "colorbar": {
              "outlinewidth": 0,
              "ticks": ""
             }
            },
            "type": "scattermapbox"
           }
          ],
          "scatterpolar": [
           {
            "marker": {
             "colorbar": {
              "outlinewidth": 0,
              "ticks": ""
             }
            },
            "type": "scatterpolar"
           }
          ],
          "scatterpolargl": [
           {
            "marker": {
             "colorbar": {
              "outlinewidth": 0,
              "ticks": ""
             }
            },
            "type": "scatterpolargl"
           }
          ],
          "scatterternary": [
           {
            "marker": {
             "colorbar": {
              "outlinewidth": 0,
              "ticks": ""
             }
            },
            "type": "scatterternary"
           }
          ],
          "surface": [
           {
            "colorbar": {
             "outlinewidth": 0,
             "ticks": ""
            },
            "colorscale": [
             [
              0,
              "#0d0887"
             ],
             [
              0.1111111111111111,
              "#46039f"
             ],
             [
              0.2222222222222222,
              "#7201a8"
             ],
             [
              0.3333333333333333,
              "#9c179e"
             ],
             [
              0.4444444444444444,
              "#bd3786"
             ],
             [
              0.5555555555555556,
              "#d8576b"
             ],
             [
              0.6666666666666666,
              "#ed7953"
             ],
             [
              0.7777777777777778,
              "#fb9f3a"
             ],
             [
              0.8888888888888888,
              "#fdca26"
             ],
             [
              1,
              "#f0f921"
             ]
            ],
            "type": "surface"
           }
          ],
          "table": [
           {
            "cells": {
             "fill": {
              "color": "#EBF0F8"
             },
             "line": {
              "color": "white"
             }
            },
            "header": {
             "fill": {
              "color": "#C8D4E3"
             },
             "line": {
              "color": "white"
             }
            },
            "type": "table"
           }
          ]
         },
         "layout": {
          "annotationdefaults": {
           "arrowcolor": "#2a3f5f",
           "arrowhead": 0,
           "arrowwidth": 1
          },
          "autotypenumbers": "strict",
          "coloraxis": {
           "colorbar": {
            "outlinewidth": 0,
            "ticks": ""
           }
          },
          "colorscale": {
           "diverging": [
            [
             0,
             "#8e0152"
            ],
            [
             0.1,
             "#c51b7d"
            ],
            [
             0.2,
             "#de77ae"
            ],
            [
             0.3,
             "#f1b6da"
            ],
            [
             0.4,
             "#fde0ef"
            ],
            [
             0.5,
             "#f7f7f7"
            ],
            [
             0.6,
             "#e6f5d0"
            ],
            [
             0.7,
             "#b8e186"
            ],
            [
             0.8,
             "#7fbc41"
            ],
            [
             0.9,
             "#4d9221"
            ],
            [
             1,
             "#276419"
            ]
           ],
           "sequential": [
            [
             0,
             "#0d0887"
            ],
            [
             0.1111111111111111,
             "#46039f"
            ],
            [
             0.2222222222222222,
             "#7201a8"
            ],
            [
             0.3333333333333333,
             "#9c179e"
            ],
            [
             0.4444444444444444,
             "#bd3786"
            ],
            [
             0.5555555555555556,
             "#d8576b"
            ],
            [
             0.6666666666666666,
             "#ed7953"
            ],
            [
             0.7777777777777778,
             "#fb9f3a"
            ],
            [
             0.8888888888888888,
             "#fdca26"
            ],
            [
             1,
             "#f0f921"
            ]
           ],
           "sequentialminus": [
            [
             0,
             "#0d0887"
            ],
            [
             0.1111111111111111,
             "#46039f"
            ],
            [
             0.2222222222222222,
             "#7201a8"
            ],
            [
             0.3333333333333333,
             "#9c179e"
            ],
            [
             0.4444444444444444,
             "#bd3786"
            ],
            [
             0.5555555555555556,
             "#d8576b"
            ],
            [
             0.6666666666666666,
             "#ed7953"
            ],
            [
             0.7777777777777778,
             "#fb9f3a"
            ],
            [
             0.8888888888888888,
             "#fdca26"
            ],
            [
             1,
             "#f0f921"
            ]
           ]
          },
          "colorway": [
           "#636efa",
           "#EF553B",
           "#00cc96",
           "#ab63fa",
           "#FFA15A",
           "#19d3f3",
           "#FF6692",
           "#B6E880",
           "#FF97FF",
           "#FECB52"
          ],
          "font": {
           "color": "#2a3f5f"
          },
          "geo": {
           "bgcolor": "white",
           "lakecolor": "white",
           "landcolor": "#E5ECF6",
           "showlakes": true,
           "showland": true,
           "subunitcolor": "white"
          },
          "hoverlabel": {
           "align": "left"
          },
          "hovermode": "closest",
          "mapbox": {
           "style": "light"
          },
          "paper_bgcolor": "white",
          "plot_bgcolor": "#E5ECF6",
          "polar": {
           "angularaxis": {
            "gridcolor": "white",
            "linecolor": "white",
            "ticks": ""
           },
           "bgcolor": "#E5ECF6",
           "radialaxis": {
            "gridcolor": "white",
            "linecolor": "white",
            "ticks": ""
           }
          },
          "scene": {
           "xaxis": {
            "backgroundcolor": "#E5ECF6",
            "gridcolor": "white",
            "gridwidth": 2,
            "linecolor": "white",
            "showbackground": true,
            "ticks": "",
            "zerolinecolor": "white"
           },
           "yaxis": {
            "backgroundcolor": "#E5ECF6",
            "gridcolor": "white",
            "gridwidth": 2,
            "linecolor": "white",
            "showbackground": true,
            "ticks": "",
            "zerolinecolor": "white"
           },
           "zaxis": {
            "backgroundcolor": "#E5ECF6",
            "gridcolor": "white",
            "gridwidth": 2,
            "linecolor": "white",
            "showbackground": true,
            "ticks": "",
            "zerolinecolor": "white"
           }
          },
          "shapedefaults": {
           "line": {
            "color": "#2a3f5f"
           }
          },
          "ternary": {
           "aaxis": {
            "gridcolor": "white",
            "linecolor": "white",
            "ticks": ""
           },
           "baxis": {
            "gridcolor": "white",
            "linecolor": "white",
            "ticks": ""
           },
           "bgcolor": "#E5ECF6",
           "caxis": {
            "gridcolor": "white",
            "linecolor": "white",
            "ticks": ""
           }
          },
          "title": {
           "x": 0.05
          },
          "xaxis": {
           "automargin": true,
           "gridcolor": "white",
           "linecolor": "white",
           "ticks": "",
           "title": {
            "standoff": 15
           },
           "zerolinecolor": "white",
           "zerolinewidth": 2
          },
          "yaxis": {
           "automargin": true,
           "gridcolor": "white",
           "linecolor": "white",
           "ticks": "",
           "title": {
            "standoff": 15
           },
           "zerolinecolor": "white",
           "zerolinewidth": 2
          }
         }
        }
       }
      }
     },
     "metadata": {},
     "output_type": "display_data"
    }
   ],
   "source": [
    "fig = px.scatter_mapbox(data.groupby(['Latitude', 'Longitude'])['Customer ID'].count().reset_index(), \n",
    "                        lat=\"Latitude\", \n",
    "                        lon=\"Longitude\", \n",
    "                        hover_data=['Customer ID'], \n",
    "                        zoom=4, \n",
    "                        height=300)\n",
    "\n",
    "# Adjust the marker size (you can adjust the value to make the dots larger or smaller)\n",
    "fig.update_traces(marker=dict(size=15))\n",
    "\n",
    "fig.update_layout(mapbox_style=\"open-street-map\")\n",
    "fig.update_layout(margin={\"r\": 0, \"t\": 0, \"l\": 0, \"b\": 0})\n",
    "fig.show()"
   ]
  },
  {
   "cell_type": "code",
   "execution_count": 9,
   "metadata": {},
   "outputs": [
    {
     "data": {
      "application/vnd.plotly.v1+json": {
       "config": {
        "plotlyServerURL": "https://plot.ly"
       },
       "data": [
        {
         "alignmentgroup": "True",
         "hovertemplate": "Location=%{x}<br>Customer ID=%{marker.color}<extra></extra>",
         "legendgroup": "",
         "marker": {
          "color": [
           5031,
           2012
          ],
          "coloraxis": "coloraxis",
          "pattern": {
           "shape": ""
          }
         },
         "name": "",
         "offsetgroup": "",
         "orientation": "v",
         "showlegend": false,
         "text": [
          5031,
          2012
         ],
         "textposition": "auto",
         "type": "bar",
         "x": [
          "Jakarta",
          "Bandung"
         ],
         "xaxis": "x",
         "y": [
          5031,
          2012
         ],
         "yaxis": "y"
        }
       ],
       "layout": {
        "barmode": "relative",
        "coloraxis": {
         "colorbar": {
          "title": {
           "text": "Customer ID"
          }
         },
         "colorscale": [
          [
           0,
           "#0d0887"
          ],
          [
           0.1111111111111111,
           "#46039f"
          ],
          [
           0.2222222222222222,
           "#7201a8"
          ],
          [
           0.3333333333333333,
           "#9c179e"
          ],
          [
           0.4444444444444444,
           "#bd3786"
          ],
          [
           0.5555555555555556,
           "#d8576b"
          ],
          [
           0.6666666666666666,
           "#ed7953"
          ],
          [
           0.7777777777777778,
           "#fb9f3a"
          ],
          [
           0.8888888888888888,
           "#fdca26"
          ],
          [
           1,
           "#f0f921"
          ]
         ]
        },
        "legend": {
         "tracegroupgap": 0
        },
        "margin": {
         "t": 60
        },
        "template": {
         "data": {
          "bar": [
           {
            "error_x": {
             "color": "#2a3f5f"
            },
            "error_y": {
             "color": "#2a3f5f"
            },
            "marker": {
             "line": {
              "color": "#E5ECF6",
              "width": 0.5
             },
             "pattern": {
              "fillmode": "overlay",
              "size": 10,
              "solidity": 0.2
             }
            },
            "type": "bar"
           }
          ],
          "barpolar": [
           {
            "marker": {
             "line": {
              "color": "#E5ECF6",
              "width": 0.5
             },
             "pattern": {
              "fillmode": "overlay",
              "size": 10,
              "solidity": 0.2
             }
            },
            "type": "barpolar"
           }
          ],
          "carpet": [
           {
            "aaxis": {
             "endlinecolor": "#2a3f5f",
             "gridcolor": "white",
             "linecolor": "white",
             "minorgridcolor": "white",
             "startlinecolor": "#2a3f5f"
            },
            "baxis": {
             "endlinecolor": "#2a3f5f",
             "gridcolor": "white",
             "linecolor": "white",
             "minorgridcolor": "white",
             "startlinecolor": "#2a3f5f"
            },
            "type": "carpet"
           }
          ],
          "choropleth": [
           {
            "colorbar": {
             "outlinewidth": 0,
             "ticks": ""
            },
            "type": "choropleth"
           }
          ],
          "contour": [
           {
            "colorbar": {
             "outlinewidth": 0,
             "ticks": ""
            },
            "colorscale": [
             [
              0,
              "#0d0887"
             ],
             [
              0.1111111111111111,
              "#46039f"
             ],
             [
              0.2222222222222222,
              "#7201a8"
             ],
             [
              0.3333333333333333,
              "#9c179e"
             ],
             [
              0.4444444444444444,
              "#bd3786"
             ],
             [
              0.5555555555555556,
              "#d8576b"
             ],
             [
              0.6666666666666666,
              "#ed7953"
             ],
             [
              0.7777777777777778,
              "#fb9f3a"
             ],
             [
              0.8888888888888888,
              "#fdca26"
             ],
             [
              1,
              "#f0f921"
             ]
            ],
            "type": "contour"
           }
          ],
          "contourcarpet": [
           {
            "colorbar": {
             "outlinewidth": 0,
             "ticks": ""
            },
            "type": "contourcarpet"
           }
          ],
          "heatmap": [
           {
            "colorbar": {
             "outlinewidth": 0,
             "ticks": ""
            },
            "colorscale": [
             [
              0,
              "#0d0887"
             ],
             [
              0.1111111111111111,
              "#46039f"
             ],
             [
              0.2222222222222222,
              "#7201a8"
             ],
             [
              0.3333333333333333,
              "#9c179e"
             ],
             [
              0.4444444444444444,
              "#bd3786"
             ],
             [
              0.5555555555555556,
              "#d8576b"
             ],
             [
              0.6666666666666666,
              "#ed7953"
             ],
             [
              0.7777777777777778,
              "#fb9f3a"
             ],
             [
              0.8888888888888888,
              "#fdca26"
             ],
             [
              1,
              "#f0f921"
             ]
            ],
            "type": "heatmap"
           }
          ],
          "heatmapgl": [
           {
            "colorbar": {
             "outlinewidth": 0,
             "ticks": ""
            },
            "colorscale": [
             [
              0,
              "#0d0887"
             ],
             [
              0.1111111111111111,
              "#46039f"
             ],
             [
              0.2222222222222222,
              "#7201a8"
             ],
             [
              0.3333333333333333,
              "#9c179e"
             ],
             [
              0.4444444444444444,
              "#bd3786"
             ],
             [
              0.5555555555555556,
              "#d8576b"
             ],
             [
              0.6666666666666666,
              "#ed7953"
             ],
             [
              0.7777777777777778,
              "#fb9f3a"
             ],
             [
              0.8888888888888888,
              "#fdca26"
             ],
             [
              1,
              "#f0f921"
             ]
            ],
            "type": "heatmapgl"
           }
          ],
          "histogram": [
           {
            "marker": {
             "pattern": {
              "fillmode": "overlay",
              "size": 10,
              "solidity": 0.2
             }
            },
            "type": "histogram"
           }
          ],
          "histogram2d": [
           {
            "colorbar": {
             "outlinewidth": 0,
             "ticks": ""
            },
            "colorscale": [
             [
              0,
              "#0d0887"
             ],
             [
              0.1111111111111111,
              "#46039f"
             ],
             [
              0.2222222222222222,
              "#7201a8"
             ],
             [
              0.3333333333333333,
              "#9c179e"
             ],
             [
              0.4444444444444444,
              "#bd3786"
             ],
             [
              0.5555555555555556,
              "#d8576b"
             ],
             [
              0.6666666666666666,
              "#ed7953"
             ],
             [
              0.7777777777777778,
              "#fb9f3a"
             ],
             [
              0.8888888888888888,
              "#fdca26"
             ],
             [
              1,
              "#f0f921"
             ]
            ],
            "type": "histogram2d"
           }
          ],
          "histogram2dcontour": [
           {
            "colorbar": {
             "outlinewidth": 0,
             "ticks": ""
            },
            "colorscale": [
             [
              0,
              "#0d0887"
             ],
             [
              0.1111111111111111,
              "#46039f"
             ],
             [
              0.2222222222222222,
              "#7201a8"
             ],
             [
              0.3333333333333333,
              "#9c179e"
             ],
             [
              0.4444444444444444,
              "#bd3786"
             ],
             [
              0.5555555555555556,
              "#d8576b"
             ],
             [
              0.6666666666666666,
              "#ed7953"
             ],
             [
              0.7777777777777778,
              "#fb9f3a"
             ],
             [
              0.8888888888888888,
              "#fdca26"
             ],
             [
              1,
              "#f0f921"
             ]
            ],
            "type": "histogram2dcontour"
           }
          ],
          "mesh3d": [
           {
            "colorbar": {
             "outlinewidth": 0,
             "ticks": ""
            },
            "type": "mesh3d"
           }
          ],
          "parcoords": [
           {
            "line": {
             "colorbar": {
              "outlinewidth": 0,
              "ticks": ""
             }
            },
            "type": "parcoords"
           }
          ],
          "pie": [
           {
            "automargin": true,
            "type": "pie"
           }
          ],
          "scatter": [
           {
            "fillpattern": {
             "fillmode": "overlay",
             "size": 10,
             "solidity": 0.2
            },
            "type": "scatter"
           }
          ],
          "scatter3d": [
           {
            "line": {
             "colorbar": {
              "outlinewidth": 0,
              "ticks": ""
             }
            },
            "marker": {
             "colorbar": {
              "outlinewidth": 0,
              "ticks": ""
             }
            },
            "type": "scatter3d"
           }
          ],
          "scattercarpet": [
           {
            "marker": {
             "colorbar": {
              "outlinewidth": 0,
              "ticks": ""
             }
            },
            "type": "scattercarpet"
           }
          ],
          "scattergeo": [
           {
            "marker": {
             "colorbar": {
              "outlinewidth": 0,
              "ticks": ""
             }
            },
            "type": "scattergeo"
           }
          ],
          "scattergl": [
           {
            "marker": {
             "colorbar": {
              "outlinewidth": 0,
              "ticks": ""
             }
            },
            "type": "scattergl"
           }
          ],
          "scattermapbox": [
           {
            "marker": {
             "colorbar": {
              "outlinewidth": 0,
              "ticks": ""
             }
            },
            "type": "scattermapbox"
           }
          ],
          "scatterpolar": [
           {
            "marker": {
             "colorbar": {
              "outlinewidth": 0,
              "ticks": ""
             }
            },
            "type": "scatterpolar"
           }
          ],
          "scatterpolargl": [
           {
            "marker": {
             "colorbar": {
              "outlinewidth": 0,
              "ticks": ""
             }
            },
            "type": "scatterpolargl"
           }
          ],
          "scatterternary": [
           {
            "marker": {
             "colorbar": {
              "outlinewidth": 0,
              "ticks": ""
             }
            },
            "type": "scatterternary"
           }
          ],
          "surface": [
           {
            "colorbar": {
             "outlinewidth": 0,
             "ticks": ""
            },
            "colorscale": [
             [
              0,
              "#0d0887"
             ],
             [
              0.1111111111111111,
              "#46039f"
             ],
             [
              0.2222222222222222,
              "#7201a8"
             ],
             [
              0.3333333333333333,
              "#9c179e"
             ],
             [
              0.4444444444444444,
              "#bd3786"
             ],
             [
              0.5555555555555556,
              "#d8576b"
             ],
             [
              0.6666666666666666,
              "#ed7953"
             ],
             [
              0.7777777777777778,
              "#fb9f3a"
             ],
             [
              0.8888888888888888,
              "#fdca26"
             ],
             [
              1,
              "#f0f921"
             ]
            ],
            "type": "surface"
           }
          ],
          "table": [
           {
            "cells": {
             "fill": {
              "color": "#EBF0F8"
             },
             "line": {
              "color": "white"
             }
            },
            "header": {
             "fill": {
              "color": "#C8D4E3"
             },
             "line": {
              "color": "white"
             }
            },
            "type": "table"
           }
          ]
         },
         "layout": {
          "annotationdefaults": {
           "arrowcolor": "#2a3f5f",
           "arrowhead": 0,
           "arrowwidth": 1
          },
          "autotypenumbers": "strict",
          "coloraxis": {
           "colorbar": {
            "outlinewidth": 0,
            "ticks": ""
           }
          },
          "colorscale": {
           "diverging": [
            [
             0,
             "#8e0152"
            ],
            [
             0.1,
             "#c51b7d"
            ],
            [
             0.2,
             "#de77ae"
            ],
            [
             0.3,
             "#f1b6da"
            ],
            [
             0.4,
             "#fde0ef"
            ],
            [
             0.5,
             "#f7f7f7"
            ],
            [
             0.6,
             "#e6f5d0"
            ],
            [
             0.7,
             "#b8e186"
            ],
            [
             0.8,
             "#7fbc41"
            ],
            [
             0.9,
             "#4d9221"
            ],
            [
             1,
             "#276419"
            ]
           ],
           "sequential": [
            [
             0,
             "#0d0887"
            ],
            [
             0.1111111111111111,
             "#46039f"
            ],
            [
             0.2222222222222222,
             "#7201a8"
            ],
            [
             0.3333333333333333,
             "#9c179e"
            ],
            [
             0.4444444444444444,
             "#bd3786"
            ],
            [
             0.5555555555555556,
             "#d8576b"
            ],
            [
             0.6666666666666666,
             "#ed7953"
            ],
            [
             0.7777777777777778,
             "#fb9f3a"
            ],
            [
             0.8888888888888888,
             "#fdca26"
            ],
            [
             1,
             "#f0f921"
            ]
           ],
           "sequentialminus": [
            [
             0,
             "#0d0887"
            ],
            [
             0.1111111111111111,
             "#46039f"
            ],
            [
             0.2222222222222222,
             "#7201a8"
            ],
            [
             0.3333333333333333,
             "#9c179e"
            ],
            [
             0.4444444444444444,
             "#bd3786"
            ],
            [
             0.5555555555555556,
             "#d8576b"
            ],
            [
             0.6666666666666666,
             "#ed7953"
            ],
            [
             0.7777777777777778,
             "#fb9f3a"
            ],
            [
             0.8888888888888888,
             "#fdca26"
            ],
            [
             1,
             "#f0f921"
            ]
           ]
          },
          "colorway": [
           "#636efa",
           "#EF553B",
           "#00cc96",
           "#ab63fa",
           "#FFA15A",
           "#19d3f3",
           "#FF6692",
           "#B6E880",
           "#FF97FF",
           "#FECB52"
          ],
          "font": {
           "color": "#2a3f5f"
          },
          "geo": {
           "bgcolor": "white",
           "lakecolor": "white",
           "landcolor": "#E5ECF6",
           "showlakes": true,
           "showland": true,
           "subunitcolor": "white"
          },
          "hoverlabel": {
           "align": "left"
          },
          "hovermode": "closest",
          "mapbox": {
           "style": "light"
          },
          "paper_bgcolor": "white",
          "plot_bgcolor": "#E5ECF6",
          "polar": {
           "angularaxis": {
            "gridcolor": "white",
            "linecolor": "white",
            "ticks": ""
           },
           "bgcolor": "#E5ECF6",
           "radialaxis": {
            "gridcolor": "white",
            "linecolor": "white",
            "ticks": ""
           }
          },
          "scene": {
           "xaxis": {
            "backgroundcolor": "#E5ECF6",
            "gridcolor": "white",
            "gridwidth": 2,
            "linecolor": "white",
            "showbackground": true,
            "ticks": "",
            "zerolinecolor": "white"
           },
           "yaxis": {
            "backgroundcolor": "#E5ECF6",
            "gridcolor": "white",
            "gridwidth": 2,
            "linecolor": "white",
            "showbackground": true,
            "ticks": "",
            "zerolinecolor": "white"
           },
           "zaxis": {
            "backgroundcolor": "#E5ECF6",
            "gridcolor": "white",
            "gridwidth": 2,
            "linecolor": "white",
            "showbackground": true,
            "ticks": "",
            "zerolinecolor": "white"
           }
          },
          "shapedefaults": {
           "line": {
            "color": "#2a3f5f"
           }
          },
          "ternary": {
           "aaxis": {
            "gridcolor": "white",
            "linecolor": "white",
            "ticks": ""
           },
           "baxis": {
            "gridcolor": "white",
            "linecolor": "white",
            "ticks": ""
           },
           "bgcolor": "#E5ECF6",
           "caxis": {
            "gridcolor": "white",
            "linecolor": "white",
            "ticks": ""
           }
          },
          "title": {
           "x": 0.05
          },
          "xaxis": {
           "automargin": true,
           "gridcolor": "white",
           "linecolor": "white",
           "ticks": "",
           "title": {
            "standoff": 15
           },
           "zerolinecolor": "white",
           "zerolinewidth": 2
          },
          "yaxis": {
           "automargin": true,
           "gridcolor": "white",
           "linecolor": "white",
           "ticks": "",
           "title": {
            "standoff": 15
           },
           "zerolinecolor": "white",
           "zerolinewidth": 2
          }
         }
        },
        "xaxis": {
         "anchor": "y",
         "domain": [
          0,
          1
         ],
         "title": {
          "text": "Location"
         }
        },
        "yaxis": {
         "anchor": "x",
         "domain": [
          0,
          1
         ],
         "title": {
          "text": "Customer ID"
         }
        }
       }
      }
     },
     "metadata": {},
     "output_type": "display_data"
    }
   ],
   "source": [
    "fig = px.bar(data.groupby(['Location'])['Customer ID'].count().reset_index().sort_values('Customer ID',\n",
    "                                                                                    ascending=False).head(50),\n",
    "             x='Location',\n",
    "             y='Customer ID', \n",
    "             color = 'Customer ID',\n",
    "             text = 'Customer ID')\n",
    "fig.show()"
   ]
  },
  {
   "cell_type": "markdown",
   "metadata": {},
   "source": [
    "# By Hexagons"
   ]
  },
  {
   "cell_type": "code",
   "execution_count": 35,
   "metadata": {},
   "outputs": [],
   "source": [
    "import h3\n",
    "import folium\n",
    "import folium.plugins as plugins\n",
    "import matplotlib.pyplot as plt\n",
    "from matplotlib import cm\n",
    "\n",
    "\n"
   ]
  },
  {
   "cell_type": "code",
   "execution_count": 47,
   "metadata": {},
   "outputs": [
    {
     "data": {
      "text/html": [
       "<div style=\"width:100%;\"><div style=\"position:relative;width:100%;height:0;padding-bottom:60%;\"><span style=\"color:#565656\">Make this Notebook Trusted to load map: File -> Trust Notebook</span><iframe srcdoc=\"&lt;!DOCTYPE html&gt;\n",
       "&lt;html&gt;\n",
       "&lt;head&gt;\n",
       "    \n",
       "    &lt;meta http-equiv=&quot;content-type&quot; content=&quot;text/html; charset=UTF-8&quot; /&gt;\n",
       "    \n",
       "        &lt;script&gt;\n",
       "            L_NO_TOUCH = false;\n",
       "            L_DISABLE_3D = false;\n",
       "        &lt;/script&gt;\n",
       "    \n",
       "    &lt;style&gt;html, body {width: 100%;height: 100%;margin: 0;padding: 0;}&lt;/style&gt;\n",
       "    &lt;style&gt;#map {position:absolute;top:0;bottom:0;right:0;left:0;}&lt;/style&gt;\n",
       "    &lt;script src=&quot;https://cdn.jsdelivr.net/npm/leaflet@1.9.3/dist/leaflet.js&quot;&gt;&lt;/script&gt;\n",
       "    &lt;script src=&quot;https://code.jquery.com/jquery-3.7.1.min.js&quot;&gt;&lt;/script&gt;\n",
       "    &lt;script src=&quot;https://cdn.jsdelivr.net/npm/bootstrap@5.2.2/dist/js/bootstrap.bundle.min.js&quot;&gt;&lt;/script&gt;\n",
       "    &lt;script src=&quot;https://cdnjs.cloudflare.com/ajax/libs/Leaflet.awesome-markers/2.0.2/leaflet.awesome-markers.js&quot;&gt;&lt;/script&gt;\n",
       "    &lt;link rel=&quot;stylesheet&quot; href=&quot;https://cdn.jsdelivr.net/npm/leaflet@1.9.3/dist/leaflet.css&quot;/&gt;\n",
       "    &lt;link rel=&quot;stylesheet&quot; href=&quot;https://cdn.jsdelivr.net/npm/bootstrap@5.2.2/dist/css/bootstrap.min.css&quot;/&gt;\n",
       "    &lt;link rel=&quot;stylesheet&quot; href=&quot;https://netdna.bootstrapcdn.com/bootstrap/3.0.0/css/bootstrap.min.css&quot;/&gt;\n",
       "    &lt;link rel=&quot;stylesheet&quot; href=&quot;https://cdn.jsdelivr.net/npm/@fortawesome/fontawesome-free@6.2.0/css/all.min.css&quot;/&gt;\n",
       "    &lt;link rel=&quot;stylesheet&quot; href=&quot;https://cdnjs.cloudflare.com/ajax/libs/Leaflet.awesome-markers/2.0.2/leaflet.awesome-markers.css&quot;/&gt;\n",
       "    &lt;link rel=&quot;stylesheet&quot; href=&quot;https://cdn.jsdelivr.net/gh/python-visualization/folium/folium/templates/leaflet.awesome.rotate.min.css&quot;/&gt;\n",
       "    \n",
       "            &lt;meta name=&quot;viewport&quot; content=&quot;width=device-width,\n",
       "                initial-scale=1.0, maximum-scale=1.0, user-scalable=no&quot; /&gt;\n",
       "            &lt;style&gt;\n",
       "                #map_1d5d55b5b1722be3c5f0b68be5023941 {\n",
       "                    position: relative;\n",
       "                    width: 100.0%;\n",
       "                    height: 100.0%;\n",
       "                    left: 0.0%;\n",
       "                    top: 0.0%;\n",
       "                }\n",
       "                .leaflet-container { font-size: 1rem; }\n",
       "            &lt;/style&gt;\n",
       "        \n",
       "    &lt;script src=&quot;https://cdnjs.cloudflare.com/ajax/libs/d3/3.5.5/d3.min.js&quot;&gt;&lt;/script&gt;\n",
       "&lt;/head&gt;\n",
       "&lt;body&gt;\n",
       "    \n",
       "    \n",
       "            &lt;div class=&quot;folium-map&quot; id=&quot;map_1d5d55b5b1722be3c5f0b68be5023941&quot; &gt;&lt;/div&gt;\n",
       "        \n",
       "&lt;/body&gt;\n",
       "&lt;script&gt;\n",
       "    \n",
       "    \n",
       "            var map_1d5d55b5b1722be3c5f0b68be5023941 = L.map(\n",
       "                &quot;map_1d5d55b5b1722be3c5f0b68be5023941&quot;,\n",
       "                {\n",
       "                    center: [-6.602638132046241, 107.24102040435457],\n",
       "                    crs: L.CRS.EPSG3857,\n",
       "                    zoom: 10,\n",
       "                    zoomControl: true,\n",
       "                    preferCanvas: false,\n",
       "                }\n",
       "            );\n",
       "\n",
       "            \n",
       "\n",
       "        \n",
       "    \n",
       "            var tile_layer_d5fa0a5d1be5891b1d7a16b32f356497 = L.tileLayer(\n",
       "                &quot;https://{s}.tile.openstreetmap.org/{z}/{x}/{y}.png&quot;,\n",
       "                {&quot;attribution&quot;: &quot;Data by \\u0026copy; \\u003ca target=\\&quot;_blank\\&quot; href=\\&quot;http://openstreetmap.org\\&quot;\\u003eOpenStreetMap\\u003c/a\\u003e, under \\u003ca target=\\&quot;_blank\\&quot; href=\\&quot;http://www.openstreetmap.org/copyright\\&quot;\\u003eODbL\\u003c/a\\u003e.&quot;, &quot;detectRetina&quot;: false, &quot;maxNativeZoom&quot;: 18, &quot;maxZoom&quot;: 18, &quot;minZoom&quot;: 0, &quot;noWrap&quot;: false, &quot;opacity&quot;: 1, &quot;subdomains&quot;: &quot;abc&quot;, &quot;tms&quot;: false}\n",
       "            );\n",
       "        \n",
       "    \n",
       "                tile_layer_d5fa0a5d1be5891b1d7a16b32f356497.addTo(map_1d5d55b5b1722be3c5f0b68be5023941);\n",
       "    \n",
       "            var polygon_2161aee0467be7271730cbbddc65cf0c = L.polygon(\n",
       "                [[-6.25453844437063, 106.95412977413248], [-6.169585572507736, 106.93377486361251], [-6.1481988840635085, 106.84682178004863], [-6.211830156415392, 106.78023477284731], [-6.296793306218341, 106.80064972300812], [-6.318114982052419, 106.88759169470293]],\n",
       "                {&quot;bubblingMouseEvents&quot;: true, &quot;color&quot;: &quot;black&quot;, &quot;dashArray&quot;: null, &quot;dashOffset&quot;: null, &quot;fill&quot;: true, &quot;fillColor&quot;: &quot;#008000ff&quot;, &quot;fillOpacity&quot;: 0.7, &quot;fillRule&quot;: &quot;evenodd&quot;, &quot;lineCap&quot;: &quot;round&quot;, &quot;lineJoin&quot;: &quot;round&quot;, &quot;noClip&quot;: false, &quot;opacity&quot;: 1.0, &quot;smoothFactor&quot;: 1.0, &quot;stroke&quot;: true, &quot;weight&quot;: 2}\n",
       "            ).addTo(map_1d5d55b5b1722be3c5f0b68be5023941);\n",
       "        \n",
       "    \n",
       "            polygon_2161aee0467be7271730cbbddc65cf0c.bindTooltip(\n",
       "                `&lt;div&gt;\n",
       "                     Number of clients: 5031\n",
       "                 &lt;/div&gt;`,\n",
       "                {&quot;sticky&quot;: true}\n",
       "            );\n",
       "        \n",
       "    \n",
       "            var polygon_1d2d87b6d64a4a4b23d20b74d0cbd4a0 = L.polygon(\n",
       "                [[-6.992843351168751, 107.7010336435289], [-6.908847026795143, 107.6810353160386], [-6.88802983812137, 107.59479158316032], [-6.951275931937366, 107.52855524420343], [-7.03528373763027, 107.54861421414738], [-7.05603404518201, 107.63484893037727]],\n",
       "                {&quot;bubblingMouseEvents&quot;: true, &quot;color&quot;: &quot;black&quot;, &quot;dashArray&quot;: null, &quot;dashOffset&quot;: null, &quot;fill&quot;: true, &quot;fillColor&quot;: &quot;#800080ff&quot;, &quot;fillOpacity&quot;: 0.7, &quot;fillRule&quot;: &quot;evenodd&quot;, &quot;lineCap&quot;: &quot;round&quot;, &quot;lineJoin&quot;: &quot;round&quot;, &quot;noClip&quot;: false, &quot;opacity&quot;: 1.0, &quot;smoothFactor&quot;: 1.0, &quot;stroke&quot;: true, &quot;weight&quot;: 2}\n",
       "            ).addTo(map_1d5d55b5b1722be3c5f0b68be5023941);\n",
       "        \n",
       "    \n",
       "            polygon_1d2d87b6d64a4a4b23d20b74d0cbd4a0.bindTooltip(\n",
       "                `&lt;div&gt;\n",
       "                     Number of clients: 2012\n",
       "                 &lt;/div&gt;`,\n",
       "                {&quot;sticky&quot;: true}\n",
       "            );\n",
       "        \n",
       "    \n",
       "    var color_map_fd961d543c221896e9dffb7dd2928017 = {};\n",
       "\n",
       "    \n",
       "    color_map_fd961d543c221896e9dffb7dd2928017.color = d3.scale.threshold()\n",
       "              .domain([2012.0, 2018.0501002004007, 2024.1002004008017, 2030.1503006012024, 2036.200400801603, 2042.250501002004, 2048.300601202405, 2054.3507014028055, 2060.400801603206, 2066.4509018036074, 2072.501002004008, 2078.551102204409, 2084.6012024048096, 2090.6513026052103, 2096.701402805611, 2102.751503006012, 2108.801603206413, 2114.8517034068136, 2120.9018036072143, 2126.951903807615, 2133.0020040080162, 2139.052104208417, 2145.1022044088177, 2151.1523046092184, 2157.202404809619, 2163.25250501002, 2169.302605210421, 2175.3527054108217, 2181.4028056112224, 2187.452905811623, 2193.503006012024, 2199.5531062124246, 2205.603206412826, 2211.6533066132265, 2217.703406813627, 2223.753507014028, 2229.8036072144287, 2235.85370741483, 2241.9038076152306, 2247.9539078156313, 2254.004008016032, 2260.0541082164327, 2266.104208416834, 2272.1543086172346, 2278.2044088176353, 2284.254509018036, 2290.304609218437, 2296.3547094188375, 2302.404809619238, 2308.4549098196394, 2314.50501002004, 2320.555110220441, 2326.6052104208416, 2332.6553106212423, 2338.7054108216435, 2344.755511022044, 2350.805611222445, 2356.8557114228456, 2362.9058116232463, 2368.9559118236475, 2375.0060120240482, 2381.056112224449, 2387.1062124248497, 2393.1563126252504, 2399.206412825651, 2405.2565130260523, 2411.306613226453, 2417.3567134268537, 2423.4068136272545, 2429.456913827655, 2435.507014028056, 2441.557114228457, 2447.607214428858, 2453.6573146292585, 2459.7074148296592, 2465.75751503006, 2471.807615230461, 2477.857715430862, 2483.9078156312626, 2489.9579158316633, 2496.008016032064, 2502.058116232465, 2508.108216432866, 2514.1583166332666, 2520.2084168336673, 2526.258517034068, 2532.308617234469, 2538.3587174348695, 2544.4088176352707, 2550.4589178356714, 2556.509018036072, 2562.559118236473, 2568.6092184368736, 2574.6593186372747, 2580.7094188376755, 2586.759519038076, 2592.809619238477, 2598.8597194388776, 2604.909819639279, 2610.9599198396795, 2617.0100200400802, 2623.060120240481, 2629.1102204408817, 2635.1603206412824, 2641.210420841683, 2647.2605210420843, 2653.310621242485, 2659.3607214428857, 2665.4108216432865, 2671.460921843687, 2677.5110220440883, 2683.561122244489, 2689.61122244489, 2695.6613226452905, 2701.7114228456912, 2707.7615230460924, 2713.811623246493, 2719.861723446894, 2725.9118236472946, 2731.9619238476953, 2738.0120240480965, 2744.0621242484967, 2750.112224448898, 2756.1623246492986, 2762.2124248496993, 2768.2625250501, 2774.312625250501, 2780.362725450902, 2786.4128256513027, 2792.4629258517034, 2798.513026052104, 2804.563126252505, 2810.613226452906, 2816.6633266533067, 2822.7134268537075, 2828.763527054108, 2834.813627254509, 2840.86372745491, 2846.9138276553103, 2852.9639278557115, 2859.0140280561122, 2865.064128256513, 2871.1142284569137, 2877.1643286573144, 2883.2144288577156, 2889.2645290581163, 2895.314629258517, 2901.3647294589177, 2907.4148296593185, 2913.4649298597196, 2919.5150300601204, 2925.565130260521, 2931.615230460922, 2937.6653306613225, 2943.7154308617237, 2949.7655310621244, 2955.815631262525, 2961.865731462926, 2967.9158316633266, 2973.9659318637273, 2980.016032064128, 2986.066132264529, 2992.11623246493, 2998.1663326653306, 3004.2164328657313, 3010.266533066132, 3016.3166332665332, 3022.366733466934, 3028.4168336673347, 3034.4669338677354, 3040.517034068136, 3046.5671342685373, 3052.6172344689376, 3058.6673346693387, 3064.7174348697395, 3070.76753507014, 3076.8176352705414, 3082.8677354709416, 3088.917835671343, 3094.9679358717435, 3101.0180360721442, 3107.0681362725454, 3113.1182364729457, 3119.168336673347, 3125.2184368737476, 3131.2685370741483, 3137.318637274549, 3143.3687374749497, 3149.418837675351, 3155.468937875751, 3161.5190380761524, 3167.569138276553, 3173.619238476954, 3179.669338677355, 3185.7194388777552, 3191.7695390781564, 3197.819639278557, 3203.869739478958, 3209.919839679359, 3215.9699398797593, 3222.0200400801605, 3228.070140280561, 3234.120240480962, 3240.1703406813626, 3246.2204408817634, 3252.2705410821645, 3258.320641282565, 3264.370741482966, 3270.4208416833667, 3276.4709418837674, 3282.5210420841686, 3288.571142284569, 3294.62124248497, 3300.6713426853707, 3306.7214428857715, 3312.7715430861726, 3318.821643286573, 3324.871743486974, 3330.921843687375, 3336.9719438877755, 3343.0220440881762, 3349.072144288577, 3355.122244488978, 3361.172344689379, 3367.2224448897796, 3373.2725450901803, 3379.322645290581, 3385.372745490982, 3391.4228456913825, 3397.4729458917836, 3403.5230460921844, 3409.573146292585, 3415.6232464929863, 3421.6733466933865, 3427.7234468937877, 3433.7735470941884, 3439.823647294589, 3445.8737474949903, 3451.9238476953906, 3457.9739478957918, 3464.0240480961925, 3470.074148296593, 3476.124248496994, 3482.1743486973946, 3488.224448897796, 3494.274549098196, 3500.3246492985973, 3506.374749498998, 3512.4248496993987, 3518.4749498998, 3524.5250501002, 3530.5751503006013, 3536.625250501002, 3542.6753507014027, 3548.725450901804, 3554.775551102204, 3560.8256513026054, 3566.875751503006, 3572.925851703407, 3578.9759519038075, 3585.0260521042082, 3591.0761523046094, 3597.1262525050097, 3603.176352705411, 3609.2264529058116, 3615.2765531062123, 3621.3266533066135, 3627.3767535070137, 3633.426853707415, 3639.4769539078156, 3645.5270541082164, 3651.5771543086175, 3657.627254509018, 3663.677354709419, 3669.7274549098197, 3675.7775551102204, 3681.827655310621, 3687.877755511022, 3693.927855711423, 3699.9779559118238, 3706.0280561122245, 3712.078156312625, 3718.128256513026, 3724.178356713427, 3730.2284569138274, 3736.2785571142285, 3742.3286573146293, 3748.37875751503, 3754.428857715431, 3760.4789579158314, 3766.5290581162326, 3772.5791583166333, 3778.629258517034, 3784.679358717435, 3790.7294589178355, 3796.7795591182366, 3802.8296593186374, 3808.879759519038, 3814.929859719439, 3820.9799599198395, 3827.0300601202407, 3833.080160320641, 3839.130260521042, 3845.180360721443, 3851.2304609218436, 3857.2805611222448, 3863.330661322645, 3869.380761523046, 3875.430861723447, 3881.4809619238476, 3887.531062124249, 3893.581162324649, 3899.6312625250503, 3905.681362725451, 3911.7314629258517, 3917.7815631262524, 3923.831663326653, 3929.8817635270543, 3935.9318637274546, 3941.9819639278558, 3948.0320641282565, 3954.082164328657, 3960.1322645290584, 3966.1823647294586, 3972.23246492986, 3978.2825651302605, 3984.3326653306613, 3990.3827655310624, 3996.4328657314627, 4002.482965931864, 4008.5330661322646, 4014.5831663326653, 4020.633266533066, 4026.6833667334668, 4032.733466933868, 4038.783567134268, 4044.8336673346694, 4050.88376753507, 4056.933867735471, 4062.9839679358715, 4069.0340681362727, 4075.0841683366734, 4081.134268537074, 4087.184368737475, 4093.2344689378756, 4099.284569138277, 4105.3346693386775, 4111.384769539078, 4117.434869739479, 4123.48496993988, 4129.53507014028, 4135.5851703406815, 4141.635270541083, 4147.685370741483, 4153.735470941883, 4159.785571142284, 4165.835671342686, 4171.885771543086, 4177.935871743487, 4183.985971943888, 4190.0360721442885, 4196.086172344689, 4202.136272545091, 4208.186372745491, 4214.236472945891, 4220.2865731462925, 4226.336673346694, 4232.386773547094, 4238.436873747495, 4244.486973947896, 4250.537074148297, 4256.587174348697, 4262.637274549098, 4268.687374749499, 4274.7374749498995, 4280.787575150301, 4286.837675350702, 4292.887775551102, 4298.937875751502, 4304.987975951904, 4311.038076152305, 4317.088176352705, 4323.138276553106, 4329.188376753507, 4335.238476953908, 4341.288577154309, 4347.33867735471, 4353.38877755511, 4359.4388777555105, 4365.488977955912, 4371.539078156313, 4377.589178356713, 4383.639278557114, 4389.689378757515, 4395.739478957916, 4401.789579158316, 4407.839679358718, 4413.889779559118, 4419.939879759519, 4425.98997995992, 4432.040080160321, 4438.090180360721, 4444.140280561122, 4450.190380761524, 4456.240480961924, 4462.290581162324, 4468.340681362725, 4474.390781563126, 4480.440881763527, 4486.490981963928, 4492.541082164329, 4498.591182364729, 4504.64128256513, 4510.691382765532, 4516.741482965932, 4522.791583166332, 4528.841683366733, 4534.891783567135, 4540.941883767535, 4546.991983967936, 4553.042084168337, 4559.092184368737, 4565.142284569138, 4571.192384769539, 4577.24248496994, 4583.29258517034, 4589.3426853707415, 4595.392785571143, 4601.442885771543, 4607.492985971944, 4613.543086172345, 4619.593186372746, 4625.643286573146, 4631.693386773547, 4637.743486973948, 4643.793587174348, 4649.84368737475, 4655.893787575151, 4661.943887775551, 4667.993987975951, 4674.0440881763525, 4680.094188376754, 4686.144288577154, 4692.194388777555, 4698.244488977956, 4704.294589178357, 4710.344689378758, 4716.394789579159, 4722.444889779559, 4728.494989979959, 4734.545090180361, 4740.595190380762, 4746.645290581162, 4752.695390781563, 4758.745490981964, 4764.795591182365, 4770.845691382765, 4776.895791583167, 4782.945891783567, 4788.9959919839675, 4795.046092184369, 4801.09619238477, 4807.14629258517, 4813.196392785571, 4819.2464929859725, 4825.296593186373, 4831.346693386773, 4837.396793587174, 4843.446893787575, 4849.496993987976, 4855.547094188377, 4861.597194388778, 4867.647294589178, 4873.6973947895785, 4879.747494989981, 4885.797595190381, 4891.847695390781, 4897.897795591182, 4903.9478957915835, 4909.997995991984, 4916.048096192385, 4922.098196392786, 4928.148296593186, 4934.198396793587, 4940.248496993988, 4946.298597194389, 4952.348697394789, 4958.39879759519, 4964.448897795592, 4970.498997995992, 4976.549098196392, 4982.599198396794, 4988.6492985971945, 4994.699398797595, 5000.749498997996, 5006.799599198397, 5012.849699398797, 5018.899799599199, 5024.9498997996, 5031.0])\n",
       "              .range([&#x27;#800080ff&#x27;, &#x27;#81007fff&#x27;, &#x27;#82007eff&#x27;, &#x27;#83007dff&#x27;, &#x27;#84007cff&#x27;, &#x27;#85007bff&#x27;, &#x27;#86007aff&#x27;, &#x27;#870079ff&#x27;, &#x27;#880078ff&#x27;, &#x27;#890077ff&#x27;, &#x27;#8a0076ff&#x27;, &#x27;#8b0075ff&#x27;, &#x27;#8c0074ff&#x27;, &#x27;#8d0073ff&#x27;, &#x27;#8e0072ff&#x27;, &#x27;#8f0071ff&#x27;, &#x27;#900070ff&#x27;, &#x27;#91006eff&#x27;, &#x27;#92006dff&#x27;, &#x27;#93006cff&#x27;, &#x27;#94006bff&#x27;, &#x27;#95006aff&#x27;, &#x27;#960069ff&#x27;, &#x27;#980068ff&#x27;, &#x27;#990067ff&#x27;, &#x27;#9a0066ff&#x27;, &#x27;#9b0065ff&#x27;, &#x27;#9c0064ff&#x27;, &#x27;#9d0063ff&#x27;, &#x27;#9e0062ff&#x27;, &#x27;#9f0061ff&#x27;, &#x27;#a00060ff&#x27;, &#x27;#a1005fff&#x27;, &#x27;#a2005eff&#x27;, &#x27;#a3005dff&#x27;, &#x27;#a4005cff&#x27;, &#x27;#a5005bff&#x27;, &#x27;#a6005aff&#x27;, &#x27;#a70059ff&#x27;, &#x27;#a80058ff&#x27;, &#x27;#a90057ff&#x27;, &#x27;#aa0056ff&#x27;, &#x27;#ab0055ff&#x27;, &#x27;#ac0054ff&#x27;, &#x27;#ad0053ff&#x27;, &#x27;#ae0052ff&#x27;, &#x27;#af0051ff&#x27;, &#x27;#b00050ff&#x27;, &#x27;#b1004fff&#x27;, &#x27;#b2004eff&#x27;, &#x27;#b3004cff&#x27;, &#x27;#b4004bff&#x27;, &#x27;#b5004aff&#x27;, &#x27;#b60049ff&#x27;, &#x27;#b70048ff&#x27;, &#x27;#b80047ff&#x27;, &#x27;#b90046ff&#x27;, &#x27;#ba0045ff&#x27;, &#x27;#bb0044ff&#x27;, &#x27;#bc0043ff&#x27;, &#x27;#bd0042ff&#x27;, &#x27;#be0041ff&#x27;, &#x27;#bf0040ff&#x27;, &#x27;#c0003fff&#x27;, &#x27;#c1003eff&#x27;, &#x27;#c2003dff&#x27;, &#x27;#c3003cff&#x27;, &#x27;#c4003bff&#x27;, &#x27;#c5003aff&#x27;, &#x27;#c70039ff&#x27;, &#x27;#c80038ff&#x27;, &#x27;#c90037ff&#x27;, &#x27;#ca0036ff&#x27;, &#x27;#cb0035ff&#x27;, &#x27;#cc0034ff&#x27;, &#x27;#cd0033ff&#x27;, &#x27;#ce0032ff&#x27;, &#x27;#cf0031ff&#x27;, &#x27;#d00030ff&#x27;, &#x27;#d1002fff&#x27;, &#x27;#d2002eff&#x27;, &#x27;#d3002dff&#x27;, &#x27;#d4002cff&#x27;, &#x27;#d5002bff&#x27;, &#x27;#d60029ff&#x27;, &#x27;#d70028ff&#x27;, &#x27;#d80027ff&#x27;, &#x27;#d90026ff&#x27;, &#x27;#da0025ff&#x27;, &#x27;#db0024ff&#x27;, &#x27;#dc0023ff&#x27;, &#x27;#dd0022ff&#x27;, &#x27;#de0021ff&#x27;, &#x27;#df0020ff&#x27;, &#x27;#e0001fff&#x27;, &#x27;#e1001eff&#x27;, &#x27;#e2001dff&#x27;, &#x27;#e3001cff&#x27;, &#x27;#e4001bff&#x27;, &#x27;#e5001aff&#x27;, &#x27;#e60019ff&#x27;, &#x27;#e70018ff&#x27;, &#x27;#e80017ff&#x27;, &#x27;#e90016ff&#x27;, &#x27;#ea0015ff&#x27;, &#x27;#eb0014ff&#x27;, &#x27;#ec0013ff&#x27;, &#x27;#ed0012ff&#x27;, &#x27;#ee0011ff&#x27;, &#x27;#ef0010ff&#x27;, &#x27;#f0000fff&#x27;, &#x27;#f1000eff&#x27;, &#x27;#f2000dff&#x27;, &#x27;#f3000cff&#x27;, &#x27;#f5000bff&#x27;, &#x27;#f6000aff&#x27;, &#x27;#f70009ff&#x27;, &#x27;#f80007ff&#x27;, &#x27;#f90006ff&#x27;, &#x27;#fa0005ff&#x27;, &#x27;#fb0004ff&#x27;, &#x27;#fc0003ff&#x27;, &#x27;#fd0002ff&#x27;, &#x27;#fe0001ff&#x27;, &#x27;#ff0000ff&#x27;, &#x27;#ff0000ff&#x27;, &#x27;#ff0100ff&#x27;, &#x27;#ff0200ff&#x27;, &#x27;#ff0400ff&#x27;, &#x27;#ff0500ff&#x27;, &#x27;#ff0600ff&#x27;, &#x27;#ff0800ff&#x27;, &#x27;#ff0900ff&#x27;, &#x27;#ff0a00ff&#x27;, &#x27;#ff0c00ff&#x27;, &#x27;#ff0d00ff&#x27;, &#x27;#ff0e00ff&#x27;, &#x27;#ff1000ff&#x27;, &#x27;#ff1100ff&#x27;, &#x27;#ff1200ff&#x27;, &#x27;#ff1400ff&#x27;, &#x27;#ff1500ff&#x27;, &#x27;#ff1600ff&#x27;, &#x27;#ff1800ff&#x27;, &#x27;#ff1900ff&#x27;, &#x27;#ff1a00ff&#x27;, &#x27;#ff1c00ff&#x27;, &#x27;#ff1d00ff&#x27;, &#x27;#ff1e00ff&#x27;, &#x27;#ff2000ff&#x27;, &#x27;#ff2100ff&#x27;, &#x27;#ff2200ff&#x27;, &#x27;#ff2400ff&#x27;, &#x27;#ff2500ff&#x27;, &#x27;#ff2600ff&#x27;, &#x27;#ff2800ff&#x27;, &#x27;#ff2900ff&#x27;, &#x27;#ff2a00ff&#x27;, &#x27;#ff2c00ff&#x27;, &#x27;#ff2d00ff&#x27;, &#x27;#ff2e00ff&#x27;, &#x27;#ff3000ff&#x27;, &#x27;#ff3100ff&#x27;, &#x27;#ff3200ff&#x27;, &#x27;#ff3400ff&#x27;, &#x27;#ff3500ff&#x27;, &#x27;#ff3600ff&#x27;, &#x27;#ff3800ff&#x27;, &#x27;#ff3900ff&#x27;, &#x27;#ff3a00ff&#x27;, &#x27;#ff3c00ff&#x27;, &#x27;#ff3d00ff&#x27;, &#x27;#ff3e00ff&#x27;, &#x27;#ff4000ff&#x27;, &#x27;#ff4100ff&#x27;, &#x27;#ff4200ff&#x27;, &#x27;#ff4400ff&#x27;, &#x27;#ff4500ff&#x27;, &#x27;#ff4600ff&#x27;, &#x27;#ff4800ff&#x27;, &#x27;#ff4900ff&#x27;, &#x27;#ff4a00ff&#x27;, &#x27;#ff4c00ff&#x27;, &#x27;#ff4d00ff&#x27;, &#x27;#ff4e00ff&#x27;, &#x27;#ff5000ff&#x27;, &#x27;#ff5100ff&#x27;, &#x27;#ff5200ff&#x27;, &#x27;#ff5300ff&#x27;, &#x27;#ff5500ff&#x27;, &#x27;#ff5600ff&#x27;, &#x27;#ff5700ff&#x27;, &#x27;#ff5900ff&#x27;, &#x27;#ff5a00ff&#x27;, &#x27;#ff5b00ff&#x27;, &#x27;#ff5d00ff&#x27;, &#x27;#ff5e00ff&#x27;, &#x27;#ff5f00ff&#x27;, &#x27;#ff6100ff&#x27;, &#x27;#ff6200ff&#x27;, &#x27;#ff6300ff&#x27;, &#x27;#ff6500ff&#x27;, &#x27;#ff6600ff&#x27;, &#x27;#ff6700ff&#x27;, &#x27;#ff6900ff&#x27;, &#x27;#ff6a00ff&#x27;, &#x27;#ff6b00ff&#x27;, &#x27;#ff6d00ff&#x27;, &#x27;#ff6e00ff&#x27;, &#x27;#ff6f00ff&#x27;, &#x27;#ff7100ff&#x27;, &#x27;#ff7200ff&#x27;, &#x27;#ff7300ff&#x27;, &#x27;#ff7500ff&#x27;, &#x27;#ff7600ff&#x27;, &#x27;#ff7700ff&#x27;, &#x27;#ff7900ff&#x27;, &#x27;#ff7a00ff&#x27;, &#x27;#ff7b00ff&#x27;, &#x27;#ff7d00ff&#x27;, &#x27;#ff7e00ff&#x27;, &#x27;#ff7f00ff&#x27;, &#x27;#ff8100ff&#x27;, &#x27;#ff8200ff&#x27;, &#x27;#ff8300ff&#x27;, &#x27;#ff8500ff&#x27;, &#x27;#ff8600ff&#x27;, &#x27;#ff8700ff&#x27;, &#x27;#ff8900ff&#x27;, &#x27;#ff8a00ff&#x27;, &#x27;#ff8b00ff&#x27;, &#x27;#ff8d00ff&#x27;, &#x27;#ff8e00ff&#x27;, &#x27;#ff8f00ff&#x27;, &#x27;#ff9100ff&#x27;, &#x27;#ff9200ff&#x27;, &#x27;#ff9300ff&#x27;, &#x27;#ff9500ff&#x27;, &#x27;#ff9600ff&#x27;, &#x27;#ff9700ff&#x27;, &#x27;#ff9900ff&#x27;, &#x27;#ff9a00ff&#x27;, &#x27;#ff9b00ff&#x27;, &#x27;#ff9d00ff&#x27;, &#x27;#ff9e00ff&#x27;, &#x27;#ff9f00ff&#x27;, &#x27;#ffa000ff&#x27;, &#x27;#ffa200ff&#x27;, &#x27;#ffa300ff&#x27;, &#x27;#ffa400ff&#x27;, &#x27;#ffa600ff&#x27;, &#x27;#ffa600ff&#x27;, &#x27;#ffa700ff&#x27;, &#x27;#ffa800ff&#x27;, &#x27;#ffa800ff&#x27;, &#x27;#ffa900ff&#x27;, &#x27;#ffaa00ff&#x27;, &#x27;#ffab00ff&#x27;, &#x27;#ffab00ff&#x27;, &#x27;#ffac00ff&#x27;, &#x27;#ffad00ff&#x27;, &#x27;#ffad00ff&#x27;, &#x27;#ffae00ff&#x27;, &#x27;#ffaf00ff&#x27;, &#x27;#ffb000ff&#x27;, &#x27;#ffb000ff&#x27;, &#x27;#ffb100ff&#x27;, &#x27;#ffb200ff&#x27;, &#x27;#ffb300ff&#x27;, &#x27;#ffb300ff&#x27;, &#x27;#ffb400ff&#x27;, &#x27;#ffb500ff&#x27;, &#x27;#ffb500ff&#x27;, &#x27;#ffb600ff&#x27;, &#x27;#ffb700ff&#x27;, &#x27;#ffb800ff&#x27;, &#x27;#ffb800ff&#x27;, &#x27;#ffb900ff&#x27;, &#x27;#ffba00ff&#x27;, &#x27;#ffbb00ff&#x27;, &#x27;#ffbb00ff&#x27;, &#x27;#ffbc00ff&#x27;, &#x27;#ffbd00ff&#x27;, &#x27;#ffbd00ff&#x27;, &#x27;#ffbe00ff&#x27;, &#x27;#ffbf00ff&#x27;, &#x27;#ffc000ff&#x27;, &#x27;#ffc000ff&#x27;, &#x27;#ffc100ff&#x27;, &#x27;#ffc200ff&#x27;, &#x27;#ffc200ff&#x27;, &#x27;#ffc300ff&#x27;, &#x27;#ffc400ff&#x27;, &#x27;#ffc500ff&#x27;, &#x27;#ffc500ff&#x27;, &#x27;#ffc600ff&#x27;, &#x27;#ffc700ff&#x27;, &#x27;#ffc800ff&#x27;, &#x27;#ffc800ff&#x27;, &#x27;#ffc900ff&#x27;, &#x27;#ffca00ff&#x27;, &#x27;#ffca00ff&#x27;, &#x27;#ffcb00ff&#x27;, &#x27;#ffcc00ff&#x27;, &#x27;#ffcd00ff&#x27;, &#x27;#ffcd00ff&#x27;, &#x27;#ffce00ff&#x27;, &#x27;#ffcf00ff&#x27;, &#x27;#ffd000ff&#x27;, &#x27;#ffd000ff&#x27;, &#x27;#ffd100ff&#x27;, &#x27;#ffd200ff&#x27;, &#x27;#ffd200ff&#x27;, &#x27;#ffd300ff&#x27;, &#x27;#ffd400ff&#x27;, &#x27;#ffd500ff&#x27;, &#x27;#ffd500ff&#x27;, &#x27;#ffd600ff&#x27;, &#x27;#ffd700ff&#x27;, &#x27;#ffd700ff&#x27;, &#x27;#ffd800ff&#x27;, &#x27;#ffd900ff&#x27;, &#x27;#ffda00ff&#x27;, &#x27;#ffda00ff&#x27;, &#x27;#ffdb00ff&#x27;, &#x27;#ffdc00ff&#x27;, &#x27;#ffdd00ff&#x27;, &#x27;#ffdd00ff&#x27;, &#x27;#ffde00ff&#x27;, &#x27;#ffdf00ff&#x27;, &#x27;#ffdf00ff&#x27;, &#x27;#ffe000ff&#x27;, &#x27;#ffe100ff&#x27;, &#x27;#ffe200ff&#x27;, &#x27;#ffe200ff&#x27;, &#x27;#ffe300ff&#x27;, &#x27;#ffe400ff&#x27;, &#x27;#ffe500ff&#x27;, &#x27;#ffe500ff&#x27;, &#x27;#ffe600ff&#x27;, &#x27;#ffe700ff&#x27;, &#x27;#ffe700ff&#x27;, &#x27;#ffe800ff&#x27;, &#x27;#ffe900ff&#x27;, &#x27;#ffea00ff&#x27;, &#x27;#ffea00ff&#x27;, &#x27;#ffeb00ff&#x27;, &#x27;#ffec00ff&#x27;, &#x27;#ffec00ff&#x27;, &#x27;#ffed00ff&#x27;, &#x27;#ffee00ff&#x27;, &#x27;#ffef00ff&#x27;, &#x27;#ffef00ff&#x27;, &#x27;#fff000ff&#x27;, &#x27;#fff100ff&#x27;, &#x27;#fff200ff&#x27;, &#x27;#fff200ff&#x27;, &#x27;#fff300ff&#x27;, &#x27;#fff400ff&#x27;, &#x27;#fff400ff&#x27;, &#x27;#fff500ff&#x27;, &#x27;#fff600ff&#x27;, &#x27;#fff700ff&#x27;, &#x27;#fff700ff&#x27;, &#x27;#fff800ff&#x27;, &#x27;#fff900ff&#x27;, &#x27;#fffa00ff&#x27;, &#x27;#fffa00ff&#x27;, &#x27;#fffb00ff&#x27;, &#x27;#fffc00ff&#x27;, &#x27;#fffc00ff&#x27;, &#x27;#fffd00ff&#x27;, &#x27;#fffe00ff&#x27;, &#x27;#ffff00ff&#x27;, &#x27;#ffff00ff&#x27;, &#x27;#feff00ff&#x27;, &#x27;#fcfe00ff&#x27;, &#x27;#fafd00ff&#x27;, &#x27;#f8fc00ff&#x27;, &#x27;#f6fb00ff&#x27;, &#x27;#f4fa00ff&#x27;, &#x27;#f2f900ff&#x27;, &#x27;#f0f800ff&#x27;, &#x27;#eef700ff&#x27;, &#x27;#ebf600ff&#x27;, &#x27;#e9f500ff&#x27;, &#x27;#e7f300ff&#x27;, &#x27;#e5f200ff&#x27;, &#x27;#e3f100ff&#x27;, &#x27;#e1f000ff&#x27;, &#x27;#dfef00ff&#x27;, &#x27;#ddee00ff&#x27;, &#x27;#dbed00ff&#x27;, &#x27;#d9ec00ff&#x27;, &#x27;#d7eb00ff&#x27;, &#x27;#d5ea00ff&#x27;, &#x27;#d3e900ff&#x27;, &#x27;#d1e800ff&#x27;, &#x27;#cfe700ff&#x27;, &#x27;#cde600ff&#x27;, &#x27;#cbe500ff&#x27;, &#x27;#c9e400ff&#x27;, &#x27;#c7e300ff&#x27;, &#x27;#c5e200ff&#x27;, &#x27;#c2e100ff&#x27;, &#x27;#c0e000ff&#x27;, &#x27;#bedf00ff&#x27;, &#x27;#bcde00ff&#x27;, &#x27;#badd00ff&#x27;, &#x27;#b8dc00ff&#x27;, &#x27;#b6db00ff&#x27;, &#x27;#b4da00ff&#x27;, &#x27;#b2d900ff&#x27;, &#x27;#b0d800ff&#x27;, &#x27;#aed700ff&#x27;, &#x27;#acd600ff&#x27;, &#x27;#aad500ff&#x27;, &#x27;#a8d400ff&#x27;, &#x27;#a6d300ff&#x27;, &#x27;#a4d200ff&#x27;, &#x27;#a2d100ff&#x27;, &#x27;#a0d000ff&#x27;, &#x27;#9ecf00ff&#x27;, &#x27;#9bce00ff&#x27;, &#x27;#99cd00ff&#x27;, &#x27;#97cc00ff&#x27;, &#x27;#95cb00ff&#x27;, &#x27;#93ca00ff&#x27;, &#x27;#91c900ff&#x27;, &#x27;#8fc800ff&#x27;, &#x27;#8dc700ff&#x27;, &#x27;#8bc500ff&#x27;, &#x27;#89c400ff&#x27;, &#x27;#87c300ff&#x27;, &#x27;#85c200ff&#x27;, &#x27;#83c100ff&#x27;, &#x27;#81c000ff&#x27;, &#x27;#7fbf00ff&#x27;, &#x27;#7dbe00ff&#x27;, &#x27;#7bbd00ff&#x27;, &#x27;#79bc00ff&#x27;, &#x27;#77bb00ff&#x27;, &#x27;#74ba00ff&#x27;, &#x27;#72b900ff&#x27;, &#x27;#70b800ff&#x27;, &#x27;#6eb700ff&#x27;, &#x27;#6cb600ff&#x27;, &#x27;#6ab500ff&#x27;, &#x27;#68b400ff&#x27;, &#x27;#66b300ff&#x27;, &#x27;#64b200ff&#x27;, &#x27;#62b100ff&#x27;, &#x27;#60b000ff&#x27;, &#x27;#5eaf00ff&#x27;, &#x27;#5cae00ff&#x27;, &#x27;#5aad00ff&#x27;, &#x27;#58ac00ff&#x27;, &#x27;#56ab00ff&#x27;, &#x27;#54aa00ff&#x27;, &#x27;#52a900ff&#x27;, &#x27;#50a800ff&#x27;, &#x27;#4da700ff&#x27;, &#x27;#4ba600ff&#x27;, &#x27;#49a500ff&#x27;, &#x27;#47a400ff&#x27;, &#x27;#45a300ff&#x27;, &#x27;#43a200ff&#x27;, &#x27;#41a100ff&#x27;, &#x27;#3fa000ff&#x27;, &#x27;#3d9f00ff&#x27;, &#x27;#3b9e00ff&#x27;, &#x27;#399d00ff&#x27;, &#x27;#379c00ff&#x27;, &#x27;#359b00ff&#x27;, &#x27;#339a00ff&#x27;, &#x27;#319900ff&#x27;, &#x27;#2f9800ff&#x27;, &#x27;#2d9600ff&#x27;, &#x27;#2b9500ff&#x27;, &#x27;#299400ff&#x27;, &#x27;#269300ff&#x27;, &#x27;#249200ff&#x27;, &#x27;#229100ff&#x27;, &#x27;#209000ff&#x27;, &#x27;#1e8f00ff&#x27;, &#x27;#1c8e00ff&#x27;, &#x27;#1a8d00ff&#x27;, &#x27;#188c00ff&#x27;, &#x27;#168b00ff&#x27;, &#x27;#148a00ff&#x27;, &#x27;#128900ff&#x27;, &#x27;#108800ff&#x27;, &#x27;#0e8700ff&#x27;, &#x27;#0c8600ff&#x27;, &#x27;#0a8500ff&#x27;, &#x27;#088400ff&#x27;, &#x27;#068300ff&#x27;, &#x27;#048200ff&#x27;, &#x27;#028100ff&#x27;, &#x27;#008000ff&#x27;]);\n",
       "    \n",
       "\n",
       "    color_map_fd961d543c221896e9dffb7dd2928017.x = d3.scale.linear()\n",
       "              .domain([2012.0, 5031.0])\n",
       "              .range([0, 450 - 50]);\n",
       "\n",
       "    color_map_fd961d543c221896e9dffb7dd2928017.legend = L.control({position: &#x27;topright&#x27;});\n",
       "    color_map_fd961d543c221896e9dffb7dd2928017.legend.onAdd = function (map) {var div = L.DomUtil.create(&#x27;div&#x27;, &#x27;legend&#x27;); return div};\n",
       "    color_map_fd961d543c221896e9dffb7dd2928017.legend.addTo(map_1d5d55b5b1722be3c5f0b68be5023941);\n",
       "\n",
       "    color_map_fd961d543c221896e9dffb7dd2928017.xAxis = d3.svg.axis()\n",
       "        .scale(color_map_fd961d543c221896e9dffb7dd2928017.x)\n",
       "        .orient(&quot;top&quot;)\n",
       "        .tickSize(1)\n",
       "        .tickValues([2012.0, 2766.75, 3521.5, 4276.25, 5031.0]);\n",
       "\n",
       "    color_map_fd961d543c221896e9dffb7dd2928017.svg = d3.select(&quot;.legend.leaflet-control&quot;).append(&quot;svg&quot;)\n",
       "        .attr(&quot;id&quot;, &#x27;legend&#x27;)\n",
       "        .attr(&quot;width&quot;, 450)\n",
       "        .attr(&quot;height&quot;, 40);\n",
       "\n",
       "    color_map_fd961d543c221896e9dffb7dd2928017.g = color_map_fd961d543c221896e9dffb7dd2928017.svg.append(&quot;g&quot;)\n",
       "        .attr(&quot;class&quot;, &quot;key&quot;)\n",
       "        .attr(&quot;transform&quot;, &quot;translate(25,16)&quot;);\n",
       "\n",
       "    color_map_fd961d543c221896e9dffb7dd2928017.g.selectAll(&quot;rect&quot;)\n",
       "        .data(color_map_fd961d543c221896e9dffb7dd2928017.color.range().map(function(d, i) {\n",
       "          return {\n",
       "            x0: i ? color_map_fd961d543c221896e9dffb7dd2928017.x(color_map_fd961d543c221896e9dffb7dd2928017.color.domain()[i - 1]) : color_map_fd961d543c221896e9dffb7dd2928017.x.range()[0],\n",
       "            x1: i &lt; color_map_fd961d543c221896e9dffb7dd2928017.color.domain().length ? color_map_fd961d543c221896e9dffb7dd2928017.x(color_map_fd961d543c221896e9dffb7dd2928017.color.domain()[i]) : color_map_fd961d543c221896e9dffb7dd2928017.x.range()[1],\n",
       "            z: d\n",
       "          };\n",
       "        }))\n",
       "      .enter().append(&quot;rect&quot;)\n",
       "        .attr(&quot;height&quot;, 40 - 30)\n",
       "        .attr(&quot;x&quot;, function(d) { return d.x0; })\n",
       "        .attr(&quot;width&quot;, function(d) { return d.x1 - d.x0; })\n",
       "        .style(&quot;fill&quot;, function(d) { return d.z; });\n",
       "\n",
       "    color_map_fd961d543c221896e9dffb7dd2928017.g.call(color_map_fd961d543c221896e9dffb7dd2928017.xAxis).append(&quot;text&quot;)\n",
       "        .attr(&quot;class&quot;, &quot;caption&quot;)\n",
       "        .attr(&quot;y&quot;, 21)\n",
       "        .text(&quot;Number of clients&quot;);\n",
       "&lt;/script&gt;\n",
       "&lt;/html&gt;\" style=\"position:absolute;width:100%;height:100%;left:0;top:0;border:none !important;\" allowfullscreen webkitallowfullscreen mozallowfullscreen></iframe></div></div>"
      ],
      "text/plain": [
       "<folium.folium.Map at 0x29fdee5aa50>"
      ]
     },
     "execution_count": 47,
     "metadata": {},
     "output_type": "execute_result"
    }
   ],
   "source": [
    "import folium\n",
    "import h3\n",
    "from branca.colormap import LinearColormap\n",
    "\n",
    "hex_level = 5\n",
    "\n",
    "data['hex_id'] = data.apply(lambda x: h3.geo_to_h3(x['Latitude'], x['Longitude'], hex_level), axis=1)\n",
    "\n",
    "hex_counts = data.groupby('hex_id')['Customer ID'].count().reset_index(name='total_clients')\n",
    "hex_counts['center'] = hex_counts['hex_id'].apply(lambda x: h3.h3_to_geo(x))\n",
    "\n",
    "# Define a LinearColormap\n",
    "color_range = [hex_counts['total_clients'].min(), hex_counts['total_clients'].max()]\n",
    "colormap = LinearColormap(colors=[\"purple\", \"red\", \"orange\", \"yellow\", \"green\"], vmin=min(color_range), vmax=max(color_range))\n",
    "\n",
    "mean_lat, mean_lon = hex_counts['center'].apply(lambda x: x[0]).mean(), hex_counts['center'].apply(lambda x: x[1]).mean()\n",
    "map_center = [mean_lat, mean_lon]\n",
    "\n",
    "# Use \"OpenStreetMap\" as the tileset, which comes with built-in attribution\n",
    "m = folium.Map(location=map_center, zoom_start=10, tiles='OpenStreetMap')\n",
    "\n",
    "for _, row in hex_counts.iterrows():\n",
    "    folium.Polygon(\n",
    "        locations=h3.h3_to_geo_boundary(row['hex_id']),\n",
    "        fill=True,\n",
    "        fill_color=colormap(row['total_clients']),\n",
    "        fill_opacity=0.7,\n",
    "        stroke=True,  # Enable the border\n",
    "        weight=2,  # Increase the weight to make the polygons appear bigger\n",
    "        color='black',  # Color of the border\n",
    "        tooltip=f\"Number of clients: {row['total_clients']}\"\n",
    "    ).add_to(m)\n",
    "\n",
    "colormap.caption = 'Number of clients'\n",
    "m.add_child(colormap)\n",
    "\n",
    "m\n"
   ]
  },
  {
   "cell_type": "markdown",
   "metadata": {},
   "source": [
    "## Calculate Churn Rate for every hexagon"
   ]
  },
  {
   "cell_type": "code",
   "execution_count": 49,
   "metadata": {},
   "outputs": [],
   "source": [
    "import numpy as np"
   ]
  },
  {
   "cell_type": "code",
   "execution_count": 50,
   "metadata": {},
   "outputs": [],
   "source": [
    "churn = data.assign(churn_clients = np.where(data['Churn Label']=='Yes',data['Customer ID'],None)).groupby(['hex_id']).agg({'churn_clients':'count'}).reset_index()"
   ]
  },
  {
   "cell_type": "code",
   "execution_count": 51,
   "metadata": {},
   "outputs": [],
   "source": [
    "clients = data.groupby(['hex_id'])['Customer ID'].count().reset_index()"
   ]
  },
  {
   "cell_type": "code",
   "execution_count": 52,
   "metadata": {},
   "outputs": [],
   "source": [
    "churn_data = clients.join(churn.set_index(['hex_id']), on=['hex_id'])"
   ]
  },
  {
   "cell_type": "code",
   "execution_count": 54,
   "metadata": {},
   "outputs": [],
   "source": [
    "churn_data['churn_rate'] = churn_data['churn_clients']/churn_data['Customer ID']"
   ]
  },
  {
   "cell_type": "code",
   "execution_count": 55,
   "metadata": {},
   "outputs": [
    {
     "data": {
      "text/html": [
       "<div>\n",
       "<style scoped>\n",
       "    .dataframe tbody tr th:only-of-type {\n",
       "        vertical-align: middle;\n",
       "    }\n",
       "\n",
       "    .dataframe tbody tr th {\n",
       "        vertical-align: top;\n",
       "    }\n",
       "\n",
       "    .dataframe thead th {\n",
       "        text-align: right;\n",
       "    }\n",
       "</style>\n",
       "<table border=\"1\" class=\"dataframe\">\n",
       "  <thead>\n",
       "    <tr style=\"text-align: right;\">\n",
       "      <th></th>\n",
       "      <th>hex_id</th>\n",
       "      <th>Customer ID</th>\n",
       "      <th>churn_clients</th>\n",
       "      <th>churn_rate</th>\n",
       "    </tr>\n",
       "  </thead>\n",
       "  <tbody>\n",
       "    <tr>\n",
       "      <th>0</th>\n",
       "      <td>858c107bfffffff</td>\n",
       "      <td>5031</td>\n",
       "      <td>1323</td>\n",
       "      <td>0.262970</td>\n",
       "    </tr>\n",
       "    <tr>\n",
       "      <th>1</th>\n",
       "      <td>858c147bfffffff</td>\n",
       "      <td>2012</td>\n",
       "      <td>546</td>\n",
       "      <td>0.271372</td>\n",
       "    </tr>\n",
       "  </tbody>\n",
       "</table>\n",
       "</div>"
      ],
      "text/plain": [
       "            hex_id  Customer ID  churn_clients  churn_rate\n",
       "0  858c107bfffffff         5031           1323    0.262970\n",
       "1  858c147bfffffff         2012            546    0.271372"
      ]
     },
     "execution_count": 55,
     "metadata": {},
     "output_type": "execute_result"
    }
   ],
   "source": [
    "churn_data"
   ]
  },
  {
   "cell_type": "code",
   "execution_count": 61,
   "metadata": {},
   "outputs": [
    {
     "data": {
      "text/html": [
       "<div style=\"width:100%;\"><div style=\"position:relative;width:100%;height:0;padding-bottom:60%;\"><span style=\"color:#565656\">Make this Notebook Trusted to load map: File -> Trust Notebook</span><iframe srcdoc=\"&lt;!DOCTYPE html&gt;\n",
       "&lt;html&gt;\n",
       "&lt;head&gt;\n",
       "    \n",
       "    &lt;meta http-equiv=&quot;content-type&quot; content=&quot;text/html; charset=UTF-8&quot; /&gt;\n",
       "    \n",
       "        &lt;script&gt;\n",
       "            L_NO_TOUCH = false;\n",
       "            L_DISABLE_3D = false;\n",
       "        &lt;/script&gt;\n",
       "    \n",
       "    &lt;style&gt;html, body {width: 100%;height: 100%;margin: 0;padding: 0;}&lt;/style&gt;\n",
       "    &lt;style&gt;#map {position:absolute;top:0;bottom:0;right:0;left:0;}&lt;/style&gt;\n",
       "    &lt;script src=&quot;https://cdn.jsdelivr.net/npm/leaflet@1.9.3/dist/leaflet.js&quot;&gt;&lt;/script&gt;\n",
       "    &lt;script src=&quot;https://code.jquery.com/jquery-3.7.1.min.js&quot;&gt;&lt;/script&gt;\n",
       "    &lt;script src=&quot;https://cdn.jsdelivr.net/npm/bootstrap@5.2.2/dist/js/bootstrap.bundle.min.js&quot;&gt;&lt;/script&gt;\n",
       "    &lt;script src=&quot;https://cdnjs.cloudflare.com/ajax/libs/Leaflet.awesome-markers/2.0.2/leaflet.awesome-markers.js&quot;&gt;&lt;/script&gt;\n",
       "    &lt;link rel=&quot;stylesheet&quot; href=&quot;https://cdn.jsdelivr.net/npm/leaflet@1.9.3/dist/leaflet.css&quot;/&gt;\n",
       "    &lt;link rel=&quot;stylesheet&quot; href=&quot;https://cdn.jsdelivr.net/npm/bootstrap@5.2.2/dist/css/bootstrap.min.css&quot;/&gt;\n",
       "    &lt;link rel=&quot;stylesheet&quot; href=&quot;https://netdna.bootstrapcdn.com/bootstrap/3.0.0/css/bootstrap.min.css&quot;/&gt;\n",
       "    &lt;link rel=&quot;stylesheet&quot; href=&quot;https://cdn.jsdelivr.net/npm/@fortawesome/fontawesome-free@6.2.0/css/all.min.css&quot;/&gt;\n",
       "    &lt;link rel=&quot;stylesheet&quot; href=&quot;https://cdnjs.cloudflare.com/ajax/libs/Leaflet.awesome-markers/2.0.2/leaflet.awesome-markers.css&quot;/&gt;\n",
       "    &lt;link rel=&quot;stylesheet&quot; href=&quot;https://cdn.jsdelivr.net/gh/python-visualization/folium/folium/templates/leaflet.awesome.rotate.min.css&quot;/&gt;\n",
       "    \n",
       "            &lt;meta name=&quot;viewport&quot; content=&quot;width=device-width,\n",
       "                initial-scale=1.0, maximum-scale=1.0, user-scalable=no&quot; /&gt;\n",
       "            &lt;style&gt;\n",
       "                #map_0e534b949cd74556467f9f776c360728 {\n",
       "                    position: relative;\n",
       "                    width: 100.0%;\n",
       "                    height: 80.0%;\n",
       "                    left: 0.0%;\n",
       "                    top: 0.0%;\n",
       "                }\n",
       "                .leaflet-container { font-size: 1rem; }\n",
       "            &lt;/style&gt;\n",
       "        \n",
       "    &lt;script src=&quot;https://cdnjs.cloudflare.com/ajax/libs/d3/3.5.5/d3.min.js&quot;&gt;&lt;/script&gt;\n",
       "&lt;/head&gt;\n",
       "&lt;body&gt;\n",
       "    \n",
       "    \n",
       "            &lt;div class=&quot;folium-map&quot; id=&quot;map_0e534b949cd74556467f9f776c360728&quot; &gt;&lt;/div&gt;\n",
       "        \n",
       "&lt;/body&gt;\n",
       "&lt;script&gt;\n",
       "    \n",
       "    \n",
       "            var map_0e534b949cd74556467f9f776c360728 = L.map(\n",
       "                &quot;map_0e534b949cd74556467f9f776c360728&quot;,\n",
       "                {\n",
       "                    center: [-6.602638132046241, 107.24102040435457],\n",
       "                    crs: L.CRS.EPSG3857,\n",
       "                    zoom: 9,\n",
       "                    zoomControl: true,\n",
       "                    preferCanvas: false,\n",
       "                }\n",
       "            );\n",
       "\n",
       "            \n",
       "\n",
       "        \n",
       "    \n",
       "            var tile_layer_0dd8b548c6680c7788924c47cba9b95b = L.tileLayer(\n",
       "                &quot;https://{s}.tile.openstreetmap.org/{z}/{x}/{y}.png&quot;,\n",
       "                {&quot;attribution&quot;: &quot;Data by \\u0026copy; \\u003ca target=\\&quot;_blank\\&quot; href=\\&quot;http://openstreetmap.org\\&quot;\\u003eOpenStreetMap\\u003c/a\\u003e, under \\u003ca target=\\&quot;_blank\\&quot; href=\\&quot;http://www.openstreetmap.org/copyright\\&quot;\\u003eODbL\\u003c/a\\u003e.&quot;, &quot;detectRetina&quot;: false, &quot;maxNativeZoom&quot;: 18, &quot;maxZoom&quot;: 18, &quot;minZoom&quot;: 0, &quot;noWrap&quot;: false, &quot;opacity&quot;: 1, &quot;subdomains&quot;: &quot;abc&quot;, &quot;tms&quot;: false}\n",
       "            );\n",
       "        \n",
       "    \n",
       "                tile_layer_0dd8b548c6680c7788924c47cba9b95b.addTo(map_0e534b949cd74556467f9f776c360728);\n",
       "    \n",
       "            var polygon_d9fd9fb86f15396c1e6d9adbee81deaa = L.polygon(\n",
       "                [[-6.25453844437063, 106.95412977413248], [-6.169585572507736, 106.93377486361251], [-6.1481988840635085, 106.84682178004863], [-6.211830156415392, 106.78023477284731], [-6.296793306218341, 106.80064972300812], [-6.318114982052419, 106.88759169470293]],\n",
       "                {&quot;bubblingMouseEvents&quot;: true, &quot;color&quot;: &quot;#3388ff&quot;, &quot;dashArray&quot;: null, &quot;dashOffset&quot;: null, &quot;fill&quot;: true, &quot;fillColor&quot;: &quot;#008000ff&quot;, &quot;fillOpacity&quot;: 0.7, &quot;fillRule&quot;: &quot;evenodd&quot;, &quot;lineCap&quot;: &quot;round&quot;, &quot;lineJoin&quot;: &quot;round&quot;, &quot;noClip&quot;: false, &quot;opacity&quot;: 1.0, &quot;smoothFactor&quot;: 1.0, &quot;stroke&quot;: false, &quot;weight&quot;: 3}\n",
       "            ).addTo(map_0e534b949cd74556467f9f776c360728);\n",
       "        \n",
       "    \n",
       "            polygon_d9fd9fb86f15396c1e6d9adbee81deaa.bindTooltip(\n",
       "                `&lt;div&gt;\n",
       "                     Churn rate: 0.2629695885509839&lt;br&gt;Number of customers: 5031\n",
       "                 &lt;/div&gt;`,\n",
       "                {&quot;sticky&quot;: true}\n",
       "            );\n",
       "        \n",
       "    \n",
       "            var polygon_1bf2ba89f47f8617a3a75e1ce875408d = L.polygon(\n",
       "                [[-6.992843351168751, 107.7010336435289], [-6.908847026795143, 107.6810353160386], [-6.88802983812137, 107.59479158316032], [-6.951275931937366, 107.52855524420343], [-7.03528373763027, 107.54861421414738], [-7.05603404518201, 107.63484893037727]],\n",
       "                {&quot;bubblingMouseEvents&quot;: true, &quot;color&quot;: &quot;#3388ff&quot;, &quot;dashArray&quot;: null, &quot;dashOffset&quot;: null, &quot;fill&quot;: true, &quot;fillColor&quot;: &quot;#ff0000ff&quot;, &quot;fillOpacity&quot;: 0.7, &quot;fillRule&quot;: &quot;evenodd&quot;, &quot;lineCap&quot;: &quot;round&quot;, &quot;lineJoin&quot;: &quot;round&quot;, &quot;noClip&quot;: false, &quot;opacity&quot;: 1.0, &quot;smoothFactor&quot;: 1.0, &quot;stroke&quot;: false, &quot;weight&quot;: 3}\n",
       "            ).addTo(map_0e534b949cd74556467f9f776c360728);\n",
       "        \n",
       "    \n",
       "            polygon_1bf2ba89f47f8617a3a75e1ce875408d.bindTooltip(\n",
       "                `&lt;div&gt;\n",
       "                     Churn rate: 0.27137176938369784&lt;br&gt;Number of customers: 2012\n",
       "                 &lt;/div&gt;`,\n",
       "                {&quot;sticky&quot;: true}\n",
       "            );\n",
       "        \n",
       "    \n",
       "    var color_map_d8fa4367c65231b6daa64ff62248c8ad = {};\n",
       "\n",
       "    \n",
       "    color_map_d8fa4367c65231b6daa64ff62248c8ad.color = d3.scale.threshold()\n",
       "              .domain([0.2629695885509839, 0.2629864265887248, 0.2630032646264657, 0.2630201026642066, 0.26303694070194755, 0.26305377873968844, 0.2630706167774294, 0.26308745481517026, 0.2631042928529112, 0.2631211308906521, 0.263137968928393, 0.2631548069661339, 0.2631716450038748, 0.26318848304161574, 0.2632053210793566, 0.26322215911709756, 0.26323899715483845, 0.2632558351925794, 0.2632726732303203, 0.26328951126806116, 0.2633063493058021, 0.263323187343543, 0.2633400253812839, 0.2633568634190248, 0.26337370145676575, 0.26339053949450664, 0.2634073775322476, 0.26342421556998846, 0.26344105360772935, 0.2634578916454703, 0.2634747296832112, 0.2634915677209521, 0.263508405758693, 0.26352524379643394, 0.2635420818341748, 0.26355891987191576, 0.26357575790965665, 0.26359259594739753, 0.2636094339851385, 0.26362627202287936, 0.2636431100606203, 0.2636599480983612, 0.2636767861361021, 0.263693624173843, 0.26371046221158395, 0.26372730024932484, 0.2637441382870657, 0.26376097632480666, 0.26377781436254755, 0.2637946524002885, 0.2638114904380294, 0.2638283284757703, 0.2638451665135112, 0.26386200455125214, 0.263878842588993, 0.2638956806267339, 0.26391251866447485, 0.26392935670221573, 0.2639461947399567, 0.26396303277769756, 0.2639798708154385, 0.2639967088531794, 0.2640135468909203, 0.2640303849286612, 0.2640472229664021, 0.26406406100414304, 0.2640808990418839, 0.26409773707962486, 0.26411457511736575, 0.2641314131551067, 0.26414825119284757, 0.2641650892305885, 0.2641819272683294, 0.2641987653060703, 0.2642156033438112, 0.2642324413815521, 0.26424927941929305, 0.26426611745703393, 0.2642829554947749, 0.26429979353251576, 0.2643166315702567, 0.2643334696079976, 0.26435030764573847, 0.2643671456834794, 0.2643839837212203, 0.26440082175896124, 0.2644176597967021, 0.26443449783444306, 0.26445133587218395, 0.2644681739099249, 0.26448501194766577, 0.26450184998540666, 0.2645186880231476, 0.2645355260608885, 0.2645523640986294, 0.2645692021363703, 0.26458604017411125, 0.26460287821185213, 0.2646197162495931, 0.26463655428733396, 0.26465339232507484, 0.2646702303628158, 0.26468706840055667, 0.2647039064382976, 0.2647207444760385, 0.26473758251377943, 0.2647544205515203, 0.26477125858926126, 0.26478809662700215, 0.26480493466474303, 0.26482177270248397, 0.26483861074022486, 0.2648554487779658, 0.2648722868157067, 0.2648891248534476, 0.2649059628911885, 0.26492280092892945, 0.26493963896667033, 0.2649564770044113, 0.26497331504215216, 0.26499015307989304, 0.265006991117634, 0.26502382915537487, 0.2650406671931158, 0.2650575052308567, 0.26507434326859763, 0.2650911813063385, 0.26510801934407946, 0.26512485738182034, 0.26514169541956123, 0.26515853345730217, 0.26517537149504306, 0.265192209532784, 0.2652090475705249, 0.2652258856082658, 0.2652427236460067, 0.26525956168374765, 0.26527639972148853, 0.2652932377592294, 0.26531007579697036, 0.26532691383471124, 0.2653437518724522, 0.26536058991019307, 0.265377427947934, 0.2653942659856749, 0.26541110402341583, 0.2654279420611567, 0.2654447800988976, 0.26546161813663854, 0.26547845617437943, 0.26549529421212037, 0.26551213224986125, 0.2655289702876022, 0.2655458083253431, 0.265562646363084, 0.2655794844008249, 0.2655963224385658, 0.26561316047630673, 0.2656299985140476, 0.26564683655178856, 0.26566367458952944, 0.2656805126272704, 0.26569735066501127, 0.2657141887027522, 0.2657310267404931, 0.265747864778234, 0.2657647028159749, 0.2657815408537158, 0.26579837889145674, 0.26581521692919763, 0.26583205496693857, 0.26584889300467945, 0.2658657310424204, 0.2658825690801613, 0.26589940711790216, 0.2659162451556431, 0.265933083193384, 0.26594992123112493, 0.2659667592688658, 0.26598359730660676, 0.26600043534434764, 0.2660172733820886, 0.26603411141982947, 0.26605094945757035, 0.2660677874953113, 0.2660846255330522, 0.2661014635707931, 0.266118301608534, 0.26613513964627494, 0.26615197768401583, 0.26616881572175677, 0.26618565375949765, 0.26620249179723854, 0.2662193298349795, 0.26623616787272036, 0.2662530059104613, 0.2662698439482022, 0.26628668198594313, 0.266303520023684, 0.26632035806142496, 0.26633719609916584, 0.2663540341369067, 0.26637087217464767, 0.26638771021238855, 0.2664045482501295, 0.2664213862878704, 0.2664382243256113, 0.2664550623633522, 0.26647190040109314, 0.266488738438834, 0.2665055764765749, 0.26652241451431585, 0.26653925255205674, 0.2665560905897977, 0.26657292862753856, 0.2665897666652795, 0.2666066047030204, 0.26662344274076133, 0.2666402807785022, 0.2666571188162431, 0.26667395685398404, 0.2666907948917249, 0.26670763292946587, 0.26672447096720675, 0.2667413090049477, 0.2667581470426886, 0.2667749850804295, 0.2667918231181704, 0.2668086611559113, 0.2668254991936522, 0.2668423372313931, 0.26685917526913405, 0.26687601330687494, 0.2668928513446159, 0.26690968938235676, 0.2669265274200977, 0.2669433654578386, 0.2669602034955795, 0.2669770415333204, 0.2669938795710613, 0.26701071760880224, 0.2670275556465431, 0.26704439368428406, 0.26706123172202495, 0.2670780697597659, 0.2670949077975068, 0.26711174583524766, 0.2671285838729886, 0.2671454219107295, 0.2671622599484704, 0.2671790979862113, 0.26719593602395225, 0.26721277406169314, 0.2672296120994341, 0.26724645013717496, 0.26726328817491585, 0.2672801262126568, 0.2672969642503977, 0.2673138022881386, 0.2673306403258795, 0.26734747836362044, 0.2673643164013613, 0.26738115443910226, 0.26739799247684315, 0.26741483051458403, 0.267431668552325, 0.26744850659006586, 0.2674653446278068, 0.2674821826655477, 0.2674990207032886, 0.2675158587410295, 0.26753269677877045, 0.26754953481651134, 0.2675663728542522, 0.26758321089199316, 0.26760004892973405, 0.267616886967475, 0.2676337250052159, 0.2676505630429568, 0.2676674010806977, 0.26768423911843864, 0.2677010771561795, 0.2677179151939204, 0.26773475323166135, 0.26775159126940223, 0.2677684293071432, 0.26778526734488406, 0.267802105382625, 0.2678189434203659, 0.2678357814581068, 0.2678526194958477, 0.2678694575335886, 0.26788629557132954, 0.2679031336090704, 0.26791997164681136, 0.26793680968455225, 0.2679536477222932, 0.26797048576003407, 0.267987323797775, 0.2680041618355159, 0.2680209998732568, 0.2680378379109977, 0.2680546759487386, 0.26807151398647955, 0.26808835202422043, 0.2681051900619614, 0.26812202809970226, 0.2681388661374432, 0.2681557041751841, 0.26817254221292497, 0.2681893802506659, 0.2682062182884068, 0.26822305632614774, 0.2682398943638886, 0.26825673240162956, 0.26827357043937045, 0.2682904084771114, 0.26830724651485227, 0.26832408455259316, 0.2683409225903341, 0.268357760628075, 0.2683745986658159, 0.2683914367035568, 0.26840827474129775, 0.26842511277903863, 0.2684419508167796, 0.26845878885452046, 0.26847562689226134, 0.2684924649300023, 0.26850930296774317, 0.2685261410054841, 0.268542979043225, 0.26855981708096593, 0.2685766551187068, 0.26859349315644776, 0.26861033119418865, 0.26862716923192953, 0.26864400726967047, 0.26866084530741136, 0.2686776833451523, 0.2686945213828932, 0.2687113594206341, 0.268728197458375, 0.26874503549611595, 0.26876187353385683, 0.2687787115715977, 0.26879554960933866, 0.26881238764707954, 0.2688292256848205, 0.26884606372256137, 0.2688629017603023, 0.2688797397980432, 0.26889657783578413, 0.268913415873525, 0.2689302539112659, 0.26894709194900684, 0.26896392998674773, 0.26898076802448867, 0.26899760606222956, 0.2690144440999705, 0.2690312821377114, 0.2690481201754523, 0.2690649582131932, 0.2690817962509341, 0.26909863428867503, 0.2691154723264159, 0.26913231036415686, 0.26914914840189774, 0.2691659864396387, 0.26918282447737957, 0.2691996625151205, 0.2692165005528614, 0.2692333385906023, 0.2692501766283432, 0.2692670146660841, 0.26928385270382504, 0.26930069074156593, 0.26931752877930687, 0.26933436681704775, 0.2693512048547887, 0.2693680428925296, 0.26938488093027046, 0.2694017189680114, 0.2694185570057523, 0.26943539504349323, 0.2694522330812341, 0.26946907111897506, 0.26948590915671594, 0.2695027471944569, 0.26951958523219777, 0.26953642326993865, 0.2695532613076796, 0.2695700993454205, 0.2695869373831614, 0.2696037754209023, 0.26962061345864324, 0.26963745149638413, 0.26965428953412507, 0.26967112757186595, 0.2696879656096069, 0.2697048036473478, 0.26972164168508866, 0.2697384797228296, 0.2697553177605705, 0.26977215579831143, 0.2697889938360523, 0.26980583187379326, 0.26982266991153414, 0.2698395079492751, 0.26985634598701597, 0.26987318402475685, 0.2698900220624978, 0.2699068601002387, 0.2699236981379796, 0.2699405361757205, 0.26995737421346144, 0.26997421225120233, 0.26999105028894327, 0.27000788832668415, 0.27002472636442504, 0.270041564402166, 0.27005840243990686, 0.2700752404776478, 0.2700920785153887, 0.27010891655312963, 0.2701257545908705, 0.27014259262861146, 0.27015943066635234, 0.2701762687040932, 0.27019310674183417, 0.27020994477957505, 0.270226782817316, 0.2702436208550569, 0.2702604588927978, 0.2702772969305387, 0.27029413496827964, 0.2703109730060205, 0.2703278110437614, 0.27034464908150235, 0.27036148711924324, 0.2703783251569842, 0.27039516319472506, 0.270412001232466, 0.2704288392702069, 0.27044567730794783, 0.2704625153456887, 0.2704793533834296, 0.27049619142117054, 0.2705130294589114, 0.27052986749665237, 0.27054670553439325, 0.2705635435721342, 0.2705803816098751, 0.270597219647616, 0.2706140576853569, 0.2706308957230978, 0.2706477337608387, 0.2706645717985796, 0.27068140983632055, 0.27069824787406144, 0.2707150859118024, 0.27073192394954326, 0.2707487619872842, 0.2707656000250251, 0.270782438062766, 0.2707992761005069, 0.2708161141382478, 0.27083295217598874, 0.2708497902137296, 0.27086662825147056, 0.27088346628921145, 0.2709003043269524, 0.2709171423646933, 0.27093398040243416, 0.2709508184401751, 0.270967656477916, 0.2709844945156569, 0.2710013325533978, 0.27101817059113875, 0.27103500862887964, 0.2710518466666206, 0.27106868470436146, 0.27108552274210235, 0.2711023607798433, 0.2711191988175842, 0.2711360368553251, 0.271152874893066, 0.27116971293080694, 0.2711865509685478, 0.27120338900628876, 0.27122022704402965, 0.27123706508177053, 0.2712539031195115, 0.27127074115725236, 0.2712875791949933, 0.2713044172327342, 0.2713212552704751, 0.271338093308216, 0.27135493134595695, 0.27137176938369784])\n",
       "              .range([&#x27;#008000ff&#x27;, &#x27;#018000ff&#x27;, &#x27;#028000ff&#x27;, &#x27;#038000ff&#x27;, &#x27;#048100ff&#x27;, &#x27;#058100ff&#x27;, &#x27;#068100ff&#x27;, &#x27;#078100ff&#x27;, &#x27;#088100ff&#x27;, &#x27;#098100ff&#x27;, &#x27;#0a8100ff&#x27;, &#x27;#0b8200ff&#x27;, &#x27;#0c8200ff&#x27;, &#x27;#0d8200ff&#x27;, &#x27;#0e8200ff&#x27;, &#x27;#0f8200ff&#x27;, &#x27;#108200ff&#x27;, &#x27;#118300ff&#x27;, &#x27;#128300ff&#x27;, &#x27;#138300ff&#x27;, &#x27;#148300ff&#x27;, &#x27;#158300ff&#x27;, &#x27;#168300ff&#x27;, &#x27;#178300ff&#x27;, &#x27;#188400ff&#x27;, &#x27;#198400ff&#x27;, &#x27;#1a8400ff&#x27;, &#x27;#1b8400ff&#x27;, &#x27;#1c8400ff&#x27;, &#x27;#1d8400ff&#x27;, &#x27;#1e8400ff&#x27;, &#x27;#1f8500ff&#x27;, &#x27;#208500ff&#x27;, &#x27;#218500ff&#x27;, &#x27;#228500ff&#x27;, &#x27;#238500ff&#x27;, &#x27;#248500ff&#x27;, &#x27;#258600ff&#x27;, &#x27;#268600ff&#x27;, &#x27;#288600ff&#x27;, &#x27;#298600ff&#x27;, &#x27;#2a8600ff&#x27;, &#x27;#2b8600ff&#x27;, &#x27;#2c8600ff&#x27;, &#x27;#2d8700ff&#x27;, &#x27;#2e8700ff&#x27;, &#x27;#2f8700ff&#x27;, &#x27;#308700ff&#x27;, &#x27;#318700ff&#x27;, &#x27;#328700ff&#x27;, &#x27;#338700ff&#x27;, &#x27;#348800ff&#x27;, &#x27;#358800ff&#x27;, &#x27;#368800ff&#x27;, &#x27;#378800ff&#x27;, &#x27;#388800ff&#x27;, &#x27;#398800ff&#x27;, &#x27;#3a8800ff&#x27;, &#x27;#3b8900ff&#x27;, &#x27;#3c8900ff&#x27;, &#x27;#3d8900ff&#x27;, &#x27;#3e8900ff&#x27;, &#x27;#3f8900ff&#x27;, &#x27;#408900ff&#x27;, &#x27;#418a00ff&#x27;, &#x27;#428a00ff&#x27;, &#x27;#438a00ff&#x27;, &#x27;#448a00ff&#x27;, &#x27;#458a00ff&#x27;, &#x27;#468a00ff&#x27;, &#x27;#478a00ff&#x27;, &#x27;#488b00ff&#x27;, &#x27;#498b00ff&#x27;, &#x27;#4a8b00ff&#x27;, &#x27;#4b8b00ff&#x27;, &#x27;#4c8b00ff&#x27;, &#x27;#4d8b00ff&#x27;, &#x27;#4f8b00ff&#x27;, &#x27;#508c00ff&#x27;, &#x27;#518c00ff&#x27;, &#x27;#528c00ff&#x27;, &#x27;#538c00ff&#x27;, &#x27;#548c00ff&#x27;, &#x27;#558c00ff&#x27;, &#x27;#568d00ff&#x27;, &#x27;#578d00ff&#x27;, &#x27;#588d00ff&#x27;, &#x27;#598d00ff&#x27;, &#x27;#5a8d00ff&#x27;, &#x27;#5b8d00ff&#x27;, &#x27;#5c8d00ff&#x27;, &#x27;#5d8e00ff&#x27;, &#x27;#5e8e00ff&#x27;, &#x27;#5f8e00ff&#x27;, &#x27;#608e00ff&#x27;, &#x27;#618e00ff&#x27;, &#x27;#628e00ff&#x27;, &#x27;#638e00ff&#x27;, &#x27;#648f00ff&#x27;, &#x27;#658f00ff&#x27;, &#x27;#668f00ff&#x27;, &#x27;#678f00ff&#x27;, &#x27;#688f00ff&#x27;, &#x27;#698f00ff&#x27;, &#x27;#6a8f00ff&#x27;, &#x27;#6b9000ff&#x27;, &#x27;#6c9000ff&#x27;, &#x27;#6d9000ff&#x27;, &#x27;#6e9000ff&#x27;, &#x27;#6f9000ff&#x27;, &#x27;#709000ff&#x27;, &#x27;#719100ff&#x27;, &#x27;#729100ff&#x27;, &#x27;#739100ff&#x27;, &#x27;#749100ff&#x27;, &#x27;#759100ff&#x27;, &#x27;#779100ff&#x27;, &#x27;#789100ff&#x27;, &#x27;#799200ff&#x27;, &#x27;#7a9200ff&#x27;, &#x27;#7b9200ff&#x27;, &#x27;#7c9200ff&#x27;, &#x27;#7d9200ff&#x27;, &#x27;#7e9200ff&#x27;, &#x27;#7f9200ff&#x27;, &#x27;#809300ff&#x27;, &#x27;#819300ff&#x27;, &#x27;#829300ff&#x27;, &#x27;#839300ff&#x27;, &#x27;#849300ff&#x27;, &#x27;#859300ff&#x27;, &#x27;#869400ff&#x27;, &#x27;#879400ff&#x27;, &#x27;#889400ff&#x27;, &#x27;#899400ff&#x27;, &#x27;#8a9400ff&#x27;, &#x27;#8b9400ff&#x27;, &#x27;#8c9400ff&#x27;, &#x27;#8d9500ff&#x27;, &#x27;#8e9500ff&#x27;, &#x27;#8f9500ff&#x27;, &#x27;#909500ff&#x27;, &#x27;#919500ff&#x27;, &#x27;#929500ff&#x27;, &#x27;#939500ff&#x27;, &#x27;#949600ff&#x27;, &#x27;#959600ff&#x27;, &#x27;#969600ff&#x27;, &#x27;#979600ff&#x27;, &#x27;#989600ff&#x27;, &#x27;#999600ff&#x27;, &#x27;#9a9600ff&#x27;, &#x27;#9b9700ff&#x27;, &#x27;#9c9700ff&#x27;, &#x27;#9e9700ff&#x27;, &#x27;#9f9700ff&#x27;, &#x27;#a09700ff&#x27;, &#x27;#a19700ff&#x27;, &#x27;#a29800ff&#x27;, &#x27;#a39800ff&#x27;, &#x27;#a49800ff&#x27;, &#x27;#a59800ff&#x27;, &#x27;#a69800ff&#x27;, &#x27;#a79800ff&#x27;, &#x27;#a89800ff&#x27;, &#x27;#a99900ff&#x27;, &#x27;#aa9900ff&#x27;, &#x27;#ab9900ff&#x27;, &#x27;#ac9900ff&#x27;, &#x27;#ad9900ff&#x27;, &#x27;#ae9900ff&#x27;, &#x27;#af9900ff&#x27;, &#x27;#b09a00ff&#x27;, &#x27;#b19a00ff&#x27;, &#x27;#b29a00ff&#x27;, &#x27;#b39a00ff&#x27;, &#x27;#b49a00ff&#x27;, &#x27;#b59a00ff&#x27;, &#x27;#b69b00ff&#x27;, &#x27;#b79b00ff&#x27;, &#x27;#b89b00ff&#x27;, &#x27;#b99b00ff&#x27;, &#x27;#ba9b00ff&#x27;, &#x27;#bb9b00ff&#x27;, &#x27;#bc9b00ff&#x27;, &#x27;#bd9c00ff&#x27;, &#x27;#be9c00ff&#x27;, &#x27;#bf9c00ff&#x27;, &#x27;#c09c00ff&#x27;, &#x27;#c19c00ff&#x27;, &#x27;#c29c00ff&#x27;, &#x27;#c39c00ff&#x27;, &#x27;#c59d00ff&#x27;, &#x27;#c69d00ff&#x27;, &#x27;#c79d00ff&#x27;, &#x27;#c89d00ff&#x27;, &#x27;#c99d00ff&#x27;, &#x27;#ca9d00ff&#x27;, &#x27;#cb9d00ff&#x27;, &#x27;#cc9e00ff&#x27;, &#x27;#cd9e00ff&#x27;, &#x27;#ce9e00ff&#x27;, &#x27;#cf9e00ff&#x27;, &#x27;#d09e00ff&#x27;, &#x27;#d19e00ff&#x27;, &#x27;#d29f00ff&#x27;, &#x27;#d39f00ff&#x27;, &#x27;#d49f00ff&#x27;, &#x27;#d59f00ff&#x27;, &#x27;#d69f00ff&#x27;, &#x27;#d79f00ff&#x27;, &#x27;#d89f00ff&#x27;, &#x27;#d9a000ff&#x27;, &#x27;#daa000ff&#x27;, &#x27;#dba000ff&#x27;, &#x27;#dca000ff&#x27;, &#x27;#dda000ff&#x27;, &#x27;#dea000ff&#x27;, &#x27;#dfa000ff&#x27;, &#x27;#e0a100ff&#x27;, &#x27;#e1a100ff&#x27;, &#x27;#e2a100ff&#x27;, &#x27;#e3a100ff&#x27;, &#x27;#e4a100ff&#x27;, &#x27;#e5a100ff&#x27;, &#x27;#e6a100ff&#x27;, &#x27;#e7a200ff&#x27;, &#x27;#e8a200ff&#x27;, &#x27;#e9a200ff&#x27;, &#x27;#eaa200ff&#x27;, &#x27;#eba200ff&#x27;, &#x27;#eda200ff&#x27;, &#x27;#eea300ff&#x27;, &#x27;#efa300ff&#x27;, &#x27;#f0a300ff&#x27;, &#x27;#f1a300ff&#x27;, &#x27;#f2a300ff&#x27;, &#x27;#f3a300ff&#x27;, &#x27;#f4a300ff&#x27;, &#x27;#f5a400ff&#x27;, &#x27;#f6a400ff&#x27;, &#x27;#f7a400ff&#x27;, &#x27;#f8a400ff&#x27;, &#x27;#f9a400ff&#x27;, &#x27;#faa400ff&#x27;, &#x27;#fba400ff&#x27;, &#x27;#fca500ff&#x27;, &#x27;#fda500ff&#x27;, &#x27;#fea500ff&#x27;, &#x27;#ffa500ff&#x27;, &#x27;#ffa500ff&#x27;, &#x27;#ffa400ff&#x27;, &#x27;#ffa300ff&#x27;, &#x27;#ffa300ff&#x27;, &#x27;#ffa200ff&#x27;, &#x27;#ffa100ff&#x27;, &#x27;#ffa100ff&#x27;, &#x27;#ffa000ff&#x27;, &#x27;#ffa000ff&#x27;, &#x27;#ff9f00ff&#x27;, &#x27;#ff9e00ff&#x27;, &#x27;#ff9e00ff&#x27;, &#x27;#ff9d00ff&#x27;, &#x27;#ff9c00ff&#x27;, &#x27;#ff9c00ff&#x27;, &#x27;#ff9b00ff&#x27;, &#x27;#ff9a00ff&#x27;, &#x27;#ff9a00ff&#x27;, &#x27;#ff9900ff&#x27;, &#x27;#ff9800ff&#x27;, &#x27;#ff9800ff&#x27;, &#x27;#ff9700ff&#x27;, &#x27;#ff9600ff&#x27;, &#x27;#ff9600ff&#x27;, &#x27;#ff9500ff&#x27;, &#x27;#ff9400ff&#x27;, &#x27;#ff9400ff&#x27;, &#x27;#ff9300ff&#x27;, &#x27;#ff9200ff&#x27;, &#x27;#ff9200ff&#x27;, &#x27;#ff9100ff&#x27;, &#x27;#ff9000ff&#x27;, &#x27;#ff9000ff&#x27;, &#x27;#ff8f00ff&#x27;, &#x27;#ff8e00ff&#x27;, &#x27;#ff8e00ff&#x27;, &#x27;#ff8d00ff&#x27;, &#x27;#ff8c00ff&#x27;, &#x27;#ff8c00ff&#x27;, &#x27;#ff8b00ff&#x27;, &#x27;#ff8a00ff&#x27;, &#x27;#ff8a00ff&#x27;, &#x27;#ff8900ff&#x27;, &#x27;#ff8800ff&#x27;, &#x27;#ff8800ff&#x27;, &#x27;#ff8700ff&#x27;, &#x27;#ff8600ff&#x27;, &#x27;#ff8600ff&#x27;, &#x27;#ff8500ff&#x27;, &#x27;#ff8400ff&#x27;, &#x27;#ff8400ff&#x27;, &#x27;#ff8300ff&#x27;, &#x27;#ff8200ff&#x27;, &#x27;#ff8200ff&#x27;, &#x27;#ff8100ff&#x27;, &#x27;#ff8000ff&#x27;, &#x27;#ff8000ff&#x27;, &#x27;#ff7f00ff&#x27;, &#x27;#ff7e00ff&#x27;, &#x27;#ff7e00ff&#x27;, &#x27;#ff7d00ff&#x27;, &#x27;#ff7c00ff&#x27;, &#x27;#ff7c00ff&#x27;, &#x27;#ff7b00ff&#x27;, &#x27;#ff7a00ff&#x27;, &#x27;#ff7a00ff&#x27;, &#x27;#ff7900ff&#x27;, &#x27;#ff7800ff&#x27;, &#x27;#ff7800ff&#x27;, &#x27;#ff7700ff&#x27;, &#x27;#ff7600ff&#x27;, &#x27;#ff7600ff&#x27;, &#x27;#ff7500ff&#x27;, &#x27;#ff7400ff&#x27;, &#x27;#ff7400ff&#x27;, &#x27;#ff7300ff&#x27;, &#x27;#ff7200ff&#x27;, &#x27;#ff7200ff&#x27;, &#x27;#ff7100ff&#x27;, &#x27;#ff7000ff&#x27;, &#x27;#ff7000ff&#x27;, &#x27;#ff6f00ff&#x27;, &#x27;#ff6e00ff&#x27;, &#x27;#ff6e00ff&#x27;, &#x27;#ff6d00ff&#x27;, &#x27;#ff6c00ff&#x27;, &#x27;#ff6c00ff&#x27;, &#x27;#ff6b00ff&#x27;, &#x27;#ff6a00ff&#x27;, &#x27;#ff6a00ff&#x27;, &#x27;#ff6900ff&#x27;, &#x27;#ff6800ff&#x27;, &#x27;#ff6800ff&#x27;, &#x27;#ff6700ff&#x27;, &#x27;#ff6600ff&#x27;, &#x27;#ff6600ff&#x27;, &#x27;#ff6500ff&#x27;, &#x27;#ff6400ff&#x27;, &#x27;#ff6400ff&#x27;, &#x27;#ff6300ff&#x27;, &#x27;#ff6200ff&#x27;, &#x27;#ff6200ff&#x27;, &#x27;#ff6100ff&#x27;, &#x27;#ff6000ff&#x27;, &#x27;#ff6000ff&#x27;, &#x27;#ff5f00ff&#x27;, &#x27;#ff5e00ff&#x27;, &#x27;#ff5e00ff&#x27;, &#x27;#ff5d00ff&#x27;, &#x27;#ff5c00ff&#x27;, &#x27;#ff5c00ff&#x27;, &#x27;#ff5b00ff&#x27;, &#x27;#ff5a00ff&#x27;, &#x27;#ff5a00ff&#x27;, &#x27;#ff5900ff&#x27;, &#x27;#ff5800ff&#x27;, &#x27;#ff5800ff&#x27;, &#x27;#ff5700ff&#x27;, &#x27;#ff5600ff&#x27;, &#x27;#ff5600ff&#x27;, &#x27;#ff5500ff&#x27;, &#x27;#ff5400ff&#x27;, &#x27;#ff5400ff&#x27;, &#x27;#ff5300ff&#x27;, &#x27;#ff5200ff&#x27;, &#x27;#ff5200ff&#x27;, &#x27;#ff5100ff&#x27;, &#x27;#ff5000ff&#x27;, &#x27;#ff5000ff&#x27;, &#x27;#ff4f00ff&#x27;, &#x27;#ff4f00ff&#x27;, &#x27;#ff4e00ff&#x27;, &#x27;#ff4d00ff&#x27;, &#x27;#ff4d00ff&#x27;, &#x27;#ff4c00ff&#x27;, &#x27;#ff4b00ff&#x27;, &#x27;#ff4b00ff&#x27;, &#x27;#ff4a00ff&#x27;, &#x27;#ff4900ff&#x27;, &#x27;#ff4900ff&#x27;, &#x27;#ff4800ff&#x27;, &#x27;#ff4700ff&#x27;, &#x27;#ff4700ff&#x27;, &#x27;#ff4600ff&#x27;, &#x27;#ff4500ff&#x27;, &#x27;#ff4500ff&#x27;, &#x27;#ff4400ff&#x27;, &#x27;#ff4300ff&#x27;, &#x27;#ff4300ff&#x27;, &#x27;#ff4200ff&#x27;, &#x27;#ff4100ff&#x27;, &#x27;#ff4100ff&#x27;, &#x27;#ff4000ff&#x27;, &#x27;#ff3f00ff&#x27;, &#x27;#ff3f00ff&#x27;, &#x27;#ff3e00ff&#x27;, &#x27;#ff3d00ff&#x27;, &#x27;#ff3d00ff&#x27;, &#x27;#ff3c00ff&#x27;, &#x27;#ff3b00ff&#x27;, &#x27;#ff3b00ff&#x27;, &#x27;#ff3a00ff&#x27;, &#x27;#ff3900ff&#x27;, &#x27;#ff3900ff&#x27;, &#x27;#ff3800ff&#x27;, &#x27;#ff3700ff&#x27;, &#x27;#ff3700ff&#x27;, &#x27;#ff3600ff&#x27;, &#x27;#ff3500ff&#x27;, &#x27;#ff3500ff&#x27;, &#x27;#ff3400ff&#x27;, &#x27;#ff3300ff&#x27;, &#x27;#ff3300ff&#x27;, &#x27;#ff3200ff&#x27;, &#x27;#ff3100ff&#x27;, &#x27;#ff3100ff&#x27;, &#x27;#ff3000ff&#x27;, &#x27;#ff2f00ff&#x27;, &#x27;#ff2f00ff&#x27;, &#x27;#ff2e00ff&#x27;, &#x27;#ff2d00ff&#x27;, &#x27;#ff2d00ff&#x27;, &#x27;#ff2c00ff&#x27;, &#x27;#ff2b00ff&#x27;, &#x27;#ff2b00ff&#x27;, &#x27;#ff2a00ff&#x27;, &#x27;#ff2900ff&#x27;, &#x27;#ff2900ff&#x27;, &#x27;#ff2800ff&#x27;, &#x27;#ff2700ff&#x27;, &#x27;#ff2700ff&#x27;, &#x27;#ff2600ff&#x27;, &#x27;#ff2500ff&#x27;, &#x27;#ff2500ff&#x27;, &#x27;#ff2400ff&#x27;, &#x27;#ff2300ff&#x27;, &#x27;#ff2300ff&#x27;, &#x27;#ff2200ff&#x27;, &#x27;#ff2100ff&#x27;, &#x27;#ff2100ff&#x27;, &#x27;#ff2000ff&#x27;, &#x27;#ff1f00ff&#x27;, &#x27;#ff1f00ff&#x27;, &#x27;#ff1e00ff&#x27;, &#x27;#ff1d00ff&#x27;, &#x27;#ff1d00ff&#x27;, &#x27;#ff1c00ff&#x27;, &#x27;#ff1b00ff&#x27;, &#x27;#ff1b00ff&#x27;, &#x27;#ff1a00ff&#x27;, &#x27;#ff1900ff&#x27;, &#x27;#ff1900ff&#x27;, &#x27;#ff1800ff&#x27;, &#x27;#ff1700ff&#x27;, &#x27;#ff1700ff&#x27;, &#x27;#ff1600ff&#x27;, &#x27;#ff1500ff&#x27;, &#x27;#ff1500ff&#x27;, &#x27;#ff1400ff&#x27;, &#x27;#ff1300ff&#x27;, &#x27;#ff1300ff&#x27;, &#x27;#ff1200ff&#x27;, &#x27;#ff1100ff&#x27;, &#x27;#ff1100ff&#x27;, &#x27;#ff1000ff&#x27;, &#x27;#ff0f00ff&#x27;, &#x27;#ff0f00ff&#x27;, &#x27;#ff0e00ff&#x27;, &#x27;#ff0d00ff&#x27;, &#x27;#ff0d00ff&#x27;, &#x27;#ff0c00ff&#x27;, &#x27;#ff0b00ff&#x27;, &#x27;#ff0b00ff&#x27;, &#x27;#ff0a00ff&#x27;, &#x27;#ff0900ff&#x27;, &#x27;#ff0900ff&#x27;, &#x27;#ff0800ff&#x27;, &#x27;#ff0700ff&#x27;, &#x27;#ff0700ff&#x27;, &#x27;#ff0600ff&#x27;, &#x27;#ff0500ff&#x27;, &#x27;#ff0500ff&#x27;, &#x27;#ff0400ff&#x27;, &#x27;#ff0300ff&#x27;, &#x27;#ff0300ff&#x27;, &#x27;#ff0200ff&#x27;, &#x27;#ff0100ff&#x27;, &#x27;#ff0100ff&#x27;, &#x27;#ff0000ff&#x27;, &#x27;#ff0000ff&#x27;]);\n",
       "    \n",
       "\n",
       "    color_map_d8fa4367c65231b6daa64ff62248c8ad.x = d3.scale.linear()\n",
       "              .domain([0.2629695885509839, 0.27137176938369784])\n",
       "              .range([0, 450 - 50]);\n",
       "\n",
       "    color_map_d8fa4367c65231b6daa64ff62248c8ad.legend = L.control({position: &#x27;topright&#x27;});\n",
       "    color_map_d8fa4367c65231b6daa64ff62248c8ad.legend.onAdd = function (map) {var div = L.DomUtil.create(&#x27;div&#x27;, &#x27;legend&#x27;); return div};\n",
       "    color_map_d8fa4367c65231b6daa64ff62248c8ad.legend.addTo(map_0e534b949cd74556467f9f776c360728);\n",
       "\n",
       "    color_map_d8fa4367c65231b6daa64ff62248c8ad.xAxis = d3.svg.axis()\n",
       "        .scale(color_map_d8fa4367c65231b6daa64ff62248c8ad.x)\n",
       "        .orient(&quot;top&quot;)\n",
       "        .tickSize(1)\n",
       "        .tickValues([0.2629695885509839, 0.26717067896734087, 0.27137176938369784]);\n",
       "\n",
       "    color_map_d8fa4367c65231b6daa64ff62248c8ad.svg = d3.select(&quot;.legend.leaflet-control&quot;).append(&quot;svg&quot;)\n",
       "        .attr(&quot;id&quot;, &#x27;legend&#x27;)\n",
       "        .attr(&quot;width&quot;, 450)\n",
       "        .attr(&quot;height&quot;, 40);\n",
       "\n",
       "    color_map_d8fa4367c65231b6daa64ff62248c8ad.g = color_map_d8fa4367c65231b6daa64ff62248c8ad.svg.append(&quot;g&quot;)\n",
       "        .attr(&quot;class&quot;, &quot;key&quot;)\n",
       "        .attr(&quot;transform&quot;, &quot;translate(25,16)&quot;);\n",
       "\n",
       "    color_map_d8fa4367c65231b6daa64ff62248c8ad.g.selectAll(&quot;rect&quot;)\n",
       "        .data(color_map_d8fa4367c65231b6daa64ff62248c8ad.color.range().map(function(d, i) {\n",
       "          return {\n",
       "            x0: i ? color_map_d8fa4367c65231b6daa64ff62248c8ad.x(color_map_d8fa4367c65231b6daa64ff62248c8ad.color.domain()[i - 1]) : color_map_d8fa4367c65231b6daa64ff62248c8ad.x.range()[0],\n",
       "            x1: i &lt; color_map_d8fa4367c65231b6daa64ff62248c8ad.color.domain().length ? color_map_d8fa4367c65231b6daa64ff62248c8ad.x(color_map_d8fa4367c65231b6daa64ff62248c8ad.color.domain()[i]) : color_map_d8fa4367c65231b6daa64ff62248c8ad.x.range()[1],\n",
       "            z: d\n",
       "          };\n",
       "        }))\n",
       "      .enter().append(&quot;rect&quot;)\n",
       "        .attr(&quot;height&quot;, 40 - 30)\n",
       "        .attr(&quot;x&quot;, function(d) { return d.x0; })\n",
       "        .attr(&quot;width&quot;, function(d) { return d.x1 - d.x0; })\n",
       "        .style(&quot;fill&quot;, function(d) { return d.z; });\n",
       "\n",
       "    color_map_d8fa4367c65231b6daa64ff62248c8ad.g.call(color_map_d8fa4367c65231b6daa64ff62248c8ad.xAxis).append(&quot;text&quot;)\n",
       "        .attr(&quot;class&quot;, &quot;caption&quot;)\n",
       "        .attr(&quot;y&quot;, 21)\n",
       "        .text(&quot;Churn rate&quot;);\n",
       "&lt;/script&gt;\n",
       "&lt;/html&gt;\" style=\"position:absolute;width:100%;height:100%;left:0;top:0;border:none !important;\" allowfullscreen webkitallowfullscreen mozallowfullscreen></iframe></div></div>"
      ],
      "text/plain": [
       "<folium.folium.Map at 0x29fdf631250>"
      ]
     },
     "execution_count": 61,
     "metadata": {},
     "output_type": "execute_result"
    }
   ],
   "source": [
    "import folium\n",
    "import h3\n",
    "from branca.colormap import LinearColormap\n",
    "\n",
    "churn_data['center'] = churn_data['hex_id'].apply(lambda x: h3.h3_to_geo(x))\n",
    "\n",
    "color_range = [churn_data['churn_rate'].min(), churn_data['churn_rate'].max()]\n",
    "colormap = LinearColormap([\"green\", \"orange\", \"red\"], vmin=min(color_range), vmax=max(color_range))\n",
    "\n",
    "mean_lat, mean_lon = churn_data['center'].apply(lambda x: x[0]).mean(), churn_data['center'].apply(lambda x: x[1]).mean()\n",
    "map_center = [mean_lat, mean_lon]\n",
    "\n",
    "# Use \"OpenStreetMap\" as the tileset, which comes with built-in attribution\n",
    "m = folium.Map(location=map_center, zoom_start=9, width='100%', height='80%', tiles='OpenStreetMap')\n",
    "\n",
    "for _, row in churn_data.iterrows():\n",
    "    folium.Polygon(\n",
    "        locations=h3.h3_to_geo_boundary(row['hex_id']),\n",
    "        fill=True,\n",
    "        fill_color=colormap(row['churn_rate']),\n",
    "        fill_opacity=0.7,\n",
    "        stroke=False,\n",
    "        tooltip=f\"Churn rate: {row['churn_rate']}<br>Number of customers: {row['Customer ID']}\"\n",
    "    ).add_to(m)\n",
    "\n",
    "colormap.caption = 'Churn rate'\n",
    "m.add_child(colormap)\n",
    "\n",
    "m\n"
   ]
  },
  {
   "cell_type": "code",
   "execution_count": 62,
   "metadata": {},
   "outputs": [
    {
     "data": {
      "application/vnd.plotly.v1+json": {
       "config": {
        "plotlyServerURL": "https://plot.ly"
       },
       "data": [
        {
         "hovertemplate": "Customer ID=%{x}<br>churn_rate=%{marker.color}<extra></extra>",
         "legendgroup": "",
         "marker": {
          "color": [
           0.2629695885509839,
           0.27137176938369784
          ],
          "coloraxis": "coloraxis",
          "size": [
           0.2629695885509839,
           0.27137176938369784
          ],
          "sizemode": "area",
          "sizeref": 0.0006784294234592446,
          "symbol": "circle"
         },
         "mode": "markers",
         "name": "",
         "orientation": "v",
         "showlegend": false,
         "type": "scatter",
         "x": [
          5031,
          2012
         ],
         "xaxis": "x",
         "y": [
          0.2629695885509839,
          0.27137176938369784
         ],
         "yaxis": "y"
        },
        {
         "alignmentgroup": "True",
         "bingroup": "x",
         "hovertemplate": "Customer ID=%{x}<br>count=%{y}<extra></extra>",
         "legendgroup": "",
         "marker": {
          "color": "#0d0887"
         },
         "name": "",
         "offsetgroup": "",
         "opacity": 0.5,
         "showlegend": false,
         "type": "histogram",
         "x": [
          5031,
          2012
         ],
         "xaxis": "x2",
         "yaxis": "y2"
        }
       ],
       "layout": {
        "barmode": "overlay",
        "coloraxis": {
         "colorbar": {
          "title": {
           "text": "churn_rate"
          }
         },
         "colorscale": [
          [
           0,
           "#0d0887"
          ],
          [
           0.1111111111111111,
           "#46039f"
          ],
          [
           0.2222222222222222,
           "#7201a8"
          ],
          [
           0.3333333333333333,
           "#9c179e"
          ],
          [
           0.4444444444444444,
           "#bd3786"
          ],
          [
           0.5555555555555556,
           "#d8576b"
          ],
          [
           0.6666666666666666,
           "#ed7953"
          ],
          [
           0.7777777777777778,
           "#fb9f3a"
          ],
          [
           0.8888888888888888,
           "#fdca26"
          ],
          [
           1,
           "#f0f921"
          ]
         ]
        },
        "legend": {
         "itemsizing": "constant",
         "tracegroupgap": 0
        },
        "margin": {
         "t": 60
        },
        "template": {
         "data": {
          "bar": [
           {
            "error_x": {
             "color": "#2a3f5f"
            },
            "error_y": {
             "color": "#2a3f5f"
            },
            "marker": {
             "line": {
              "color": "#E5ECF6",
              "width": 0.5
             },
             "pattern": {
              "fillmode": "overlay",
              "size": 10,
              "solidity": 0.2
             }
            },
            "type": "bar"
           }
          ],
          "barpolar": [
           {
            "marker": {
             "line": {
              "color": "#E5ECF6",
              "width": 0.5
             },
             "pattern": {
              "fillmode": "overlay",
              "size": 10,
              "solidity": 0.2
             }
            },
            "type": "barpolar"
           }
          ],
          "carpet": [
           {
            "aaxis": {
             "endlinecolor": "#2a3f5f",
             "gridcolor": "white",
             "linecolor": "white",
             "minorgridcolor": "white",
             "startlinecolor": "#2a3f5f"
            },
            "baxis": {
             "endlinecolor": "#2a3f5f",
             "gridcolor": "white",
             "linecolor": "white",
             "minorgridcolor": "white",
             "startlinecolor": "#2a3f5f"
            },
            "type": "carpet"
           }
          ],
          "choropleth": [
           {
            "colorbar": {
             "outlinewidth": 0,
             "ticks": ""
            },
            "type": "choropleth"
           }
          ],
          "contour": [
           {
            "colorbar": {
             "outlinewidth": 0,
             "ticks": ""
            },
            "colorscale": [
             [
              0,
              "#0d0887"
             ],
             [
              0.1111111111111111,
              "#46039f"
             ],
             [
              0.2222222222222222,
              "#7201a8"
             ],
             [
              0.3333333333333333,
              "#9c179e"
             ],
             [
              0.4444444444444444,
              "#bd3786"
             ],
             [
              0.5555555555555556,
              "#d8576b"
             ],
             [
              0.6666666666666666,
              "#ed7953"
             ],
             [
              0.7777777777777778,
              "#fb9f3a"
             ],
             [
              0.8888888888888888,
              "#fdca26"
             ],
             [
              1,
              "#f0f921"
             ]
            ],
            "type": "contour"
           }
          ],
          "contourcarpet": [
           {
            "colorbar": {
             "outlinewidth": 0,
             "ticks": ""
            },
            "type": "contourcarpet"
           }
          ],
          "heatmap": [
           {
            "colorbar": {
             "outlinewidth": 0,
             "ticks": ""
            },
            "colorscale": [
             [
              0,
              "#0d0887"
             ],
             [
              0.1111111111111111,
              "#46039f"
             ],
             [
              0.2222222222222222,
              "#7201a8"
             ],
             [
              0.3333333333333333,
              "#9c179e"
             ],
             [
              0.4444444444444444,
              "#bd3786"
             ],
             [
              0.5555555555555556,
              "#d8576b"
             ],
             [
              0.6666666666666666,
              "#ed7953"
             ],
             [
              0.7777777777777778,
              "#fb9f3a"
             ],
             [
              0.8888888888888888,
              "#fdca26"
             ],
             [
              1,
              "#f0f921"
             ]
            ],
            "type": "heatmap"
           }
          ],
          "heatmapgl": [
           {
            "colorbar": {
             "outlinewidth": 0,
             "ticks": ""
            },
            "colorscale": [
             [
              0,
              "#0d0887"
             ],
             [
              0.1111111111111111,
              "#46039f"
             ],
             [
              0.2222222222222222,
              "#7201a8"
             ],
             [
              0.3333333333333333,
              "#9c179e"
             ],
             [
              0.4444444444444444,
              "#bd3786"
             ],
             [
              0.5555555555555556,
              "#d8576b"
             ],
             [
              0.6666666666666666,
              "#ed7953"
             ],
             [
              0.7777777777777778,
              "#fb9f3a"
             ],
             [
              0.8888888888888888,
              "#fdca26"
             ],
             [
              1,
              "#f0f921"
             ]
            ],
            "type": "heatmapgl"
           }
          ],
          "histogram": [
           {
            "marker": {
             "pattern": {
              "fillmode": "overlay",
              "size": 10,
              "solidity": 0.2
             }
            },
            "type": "histogram"
           }
          ],
          "histogram2d": [
           {
            "colorbar": {
             "outlinewidth": 0,
             "ticks": ""
            },
            "colorscale": [
             [
              0,
              "#0d0887"
             ],
             [
              0.1111111111111111,
              "#46039f"
             ],
             [
              0.2222222222222222,
              "#7201a8"
             ],
             [
              0.3333333333333333,
              "#9c179e"
             ],
             [
              0.4444444444444444,
              "#bd3786"
             ],
             [
              0.5555555555555556,
              "#d8576b"
             ],
             [
              0.6666666666666666,
              "#ed7953"
             ],
             [
              0.7777777777777778,
              "#fb9f3a"
             ],
             [
              0.8888888888888888,
              "#fdca26"
             ],
             [
              1,
              "#f0f921"
             ]
            ],
            "type": "histogram2d"
           }
          ],
          "histogram2dcontour": [
           {
            "colorbar": {
             "outlinewidth": 0,
             "ticks": ""
            },
            "colorscale": [
             [
              0,
              "#0d0887"
             ],
             [
              0.1111111111111111,
              "#46039f"
             ],
             [
              0.2222222222222222,
              "#7201a8"
             ],
             [
              0.3333333333333333,
              "#9c179e"
             ],
             [
              0.4444444444444444,
              "#bd3786"
             ],
             [
              0.5555555555555556,
              "#d8576b"
             ],
             [
              0.6666666666666666,
              "#ed7953"
             ],
             [
              0.7777777777777778,
              "#fb9f3a"
             ],
             [
              0.8888888888888888,
              "#fdca26"
             ],
             [
              1,
              "#f0f921"
             ]
            ],
            "type": "histogram2dcontour"
           }
          ],
          "mesh3d": [
           {
            "colorbar": {
             "outlinewidth": 0,
             "ticks": ""
            },
            "type": "mesh3d"
           }
          ],
          "parcoords": [
           {
            "line": {
             "colorbar": {
              "outlinewidth": 0,
              "ticks": ""
             }
            },
            "type": "parcoords"
           }
          ],
          "pie": [
           {
            "automargin": true,
            "type": "pie"
           }
          ],
          "scatter": [
           {
            "fillpattern": {
             "fillmode": "overlay",
             "size": 10,
             "solidity": 0.2
            },
            "type": "scatter"
           }
          ],
          "scatter3d": [
           {
            "line": {
             "colorbar": {
              "outlinewidth": 0,
              "ticks": ""
             }
            },
            "marker": {
             "colorbar": {
              "outlinewidth": 0,
              "ticks": ""
             }
            },
            "type": "scatter3d"
           }
          ],
          "scattercarpet": [
           {
            "marker": {
             "colorbar": {
              "outlinewidth": 0,
              "ticks": ""
             }
            },
            "type": "scattercarpet"
           }
          ],
          "scattergeo": [
           {
            "marker": {
             "colorbar": {
              "outlinewidth": 0,
              "ticks": ""
             }
            },
            "type": "scattergeo"
           }
          ],
          "scattergl": [
           {
            "marker": {
             "colorbar": {
              "outlinewidth": 0,
              "ticks": ""
             }
            },
            "type": "scattergl"
           }
          ],
          "scattermapbox": [
           {
            "marker": {
             "colorbar": {
              "outlinewidth": 0,
              "ticks": ""
             }
            },
            "type": "scattermapbox"
           }
          ],
          "scatterpolar": [
           {
            "marker": {
             "colorbar": {
              "outlinewidth": 0,
              "ticks": ""
             }
            },
            "type": "scatterpolar"
           }
          ],
          "scatterpolargl": [
           {
            "marker": {
             "colorbar": {
              "outlinewidth": 0,
              "ticks": ""
             }
            },
            "type": "scatterpolargl"
           }
          ],
          "scatterternary": [
           {
            "marker": {
             "colorbar": {
              "outlinewidth": 0,
              "ticks": ""
             }
            },
            "type": "scatterternary"
           }
          ],
          "surface": [
           {
            "colorbar": {
             "outlinewidth": 0,
             "ticks": ""
            },
            "colorscale": [
             [
              0,
              "#0d0887"
             ],
             [
              0.1111111111111111,
              "#46039f"
             ],
             [
              0.2222222222222222,
              "#7201a8"
             ],
             [
              0.3333333333333333,
              "#9c179e"
             ],
             [
              0.4444444444444444,
              "#bd3786"
             ],
             [
              0.5555555555555556,
              "#d8576b"
             ],
             [
              0.6666666666666666,
              "#ed7953"
             ],
             [
              0.7777777777777778,
              "#fb9f3a"
             ],
             [
              0.8888888888888888,
              "#fdca26"
             ],
             [
              1,
              "#f0f921"
             ]
            ],
            "type": "surface"
           }
          ],
          "table": [
           {
            "cells": {
             "fill": {
              "color": "#EBF0F8"
             },
             "line": {
              "color": "white"
             }
            },
            "header": {
             "fill": {
              "color": "#C8D4E3"
             },
             "line": {
              "color": "white"
             }
            },
            "type": "table"
           }
          ]
         },
         "layout": {
          "annotationdefaults": {
           "arrowcolor": "#2a3f5f",
           "arrowhead": 0,
           "arrowwidth": 1
          },
          "autotypenumbers": "strict",
          "coloraxis": {
           "colorbar": {
            "outlinewidth": 0,
            "ticks": ""
           }
          },
          "colorscale": {
           "diverging": [
            [
             0,
             "#8e0152"
            ],
            [
             0.1,
             "#c51b7d"
            ],
            [
             0.2,
             "#de77ae"
            ],
            [
             0.3,
             "#f1b6da"
            ],
            [
             0.4,
             "#fde0ef"
            ],
            [
             0.5,
             "#f7f7f7"
            ],
            [
             0.6,
             "#e6f5d0"
            ],
            [
             0.7,
             "#b8e186"
            ],
            [
             0.8,
             "#7fbc41"
            ],
            [
             0.9,
             "#4d9221"
            ],
            [
             1,
             "#276419"
            ]
           ],
           "sequential": [
            [
             0,
             "#0d0887"
            ],
            [
             0.1111111111111111,
             "#46039f"
            ],
            [
             0.2222222222222222,
             "#7201a8"
            ],
            [
             0.3333333333333333,
             "#9c179e"
            ],
            [
             0.4444444444444444,
             "#bd3786"
            ],
            [
             0.5555555555555556,
             "#d8576b"
            ],
            [
             0.6666666666666666,
             "#ed7953"
            ],
            [
             0.7777777777777778,
             "#fb9f3a"
            ],
            [
             0.8888888888888888,
             "#fdca26"
            ],
            [
             1,
             "#f0f921"
            ]
           ],
           "sequentialminus": [
            [
             0,
             "#0d0887"
            ],
            [
             0.1111111111111111,
             "#46039f"
            ],
            [
             0.2222222222222222,
             "#7201a8"
            ],
            [
             0.3333333333333333,
             "#9c179e"
            ],
            [
             0.4444444444444444,
             "#bd3786"
            ],
            [
             0.5555555555555556,
             "#d8576b"
            ],
            [
             0.6666666666666666,
             "#ed7953"
            ],
            [
             0.7777777777777778,
             "#fb9f3a"
            ],
            [
             0.8888888888888888,
             "#fdca26"
            ],
            [
             1,
             "#f0f921"
            ]
           ]
          },
          "colorway": [
           "#636efa",
           "#EF553B",
           "#00cc96",
           "#ab63fa",
           "#FFA15A",
           "#19d3f3",
           "#FF6692",
           "#B6E880",
           "#FF97FF",
           "#FECB52"
          ],
          "font": {
           "color": "#2a3f5f"
          },
          "geo": {
           "bgcolor": "white",
           "lakecolor": "white",
           "landcolor": "#E5ECF6",
           "showlakes": true,
           "showland": true,
           "subunitcolor": "white"
          },
          "hoverlabel": {
           "align": "left"
          },
          "hovermode": "closest",
          "mapbox": {
           "style": "light"
          },
          "paper_bgcolor": "white",
          "plot_bgcolor": "#E5ECF6",
          "polar": {
           "angularaxis": {
            "gridcolor": "white",
            "linecolor": "white",
            "ticks": ""
           },
           "bgcolor": "#E5ECF6",
           "radialaxis": {
            "gridcolor": "white",
            "linecolor": "white",
            "ticks": ""
           }
          },
          "scene": {
           "xaxis": {
            "backgroundcolor": "#E5ECF6",
            "gridcolor": "white",
            "gridwidth": 2,
            "linecolor": "white",
            "showbackground": true,
            "ticks": "",
            "zerolinecolor": "white"
           },
           "yaxis": {
            "backgroundcolor": "#E5ECF6",
            "gridcolor": "white",
            "gridwidth": 2,
            "linecolor": "white",
            "showbackground": true,
            "ticks": "",
            "zerolinecolor": "white"
           },
           "zaxis": {
            "backgroundcolor": "#E5ECF6",
            "gridcolor": "white",
            "gridwidth": 2,
            "linecolor": "white",
            "showbackground": true,
            "ticks": "",
            "zerolinecolor": "white"
           }
          },
          "shapedefaults": {
           "line": {
            "color": "#2a3f5f"
           }
          },
          "ternary": {
           "aaxis": {
            "gridcolor": "white",
            "linecolor": "white",
            "ticks": ""
           },
           "baxis": {
            "gridcolor": "white",
            "linecolor": "white",
            "ticks": ""
           },
           "bgcolor": "#E5ECF6",
           "caxis": {
            "gridcolor": "white",
            "linecolor": "white",
            "ticks": ""
           }
          },
          "title": {
           "x": 0.05
          },
          "xaxis": {
           "automargin": true,
           "gridcolor": "white",
           "linecolor": "white",
           "ticks": "",
           "title": {
            "standoff": 15
           },
           "zerolinecolor": "white",
           "zerolinewidth": 2
          },
          "yaxis": {
           "automargin": true,
           "gridcolor": "white",
           "linecolor": "white",
           "ticks": "",
           "title": {
            "standoff": 15
           },
           "zerolinecolor": "white",
           "zerolinewidth": 2
          }
         }
        },
        "xaxis": {
         "anchor": "y",
         "domain": [
          0,
          1
         ],
         "title": {
          "text": "Customer ID"
         }
        },
        "xaxis2": {
         "anchor": "y2",
         "domain": [
          0,
          1
         ],
         "matches": "x",
         "showgrid": true,
         "showticklabels": false
        },
        "yaxis": {
         "anchor": "x",
         "domain": [
          0,
          0.7326
         ],
         "title": {
          "text": "churn_rate"
         }
        },
        "yaxis2": {
         "anchor": "x2",
         "domain": [
          0.7426,
          1
         ],
         "matches": "y2",
         "showgrid": true,
         "showline": false,
         "showticklabels": false,
         "ticks": ""
        }
       }
      }
     },
     "metadata": {},
     "output_type": "display_data"
    }
   ],
   "source": [
    "fig = px.scatter(churn_data, x=\"Customer ID\",\n",
    "                 y=\"churn_rate\", \n",
    "                 size = 'churn_rate', \n",
    "                 color = 'churn_rate',\n",
    "                 marginal_x=\"histogram\")\n",
    "fig.show()"
   ]
  },
  {
   "cell_type": "markdown",
   "metadata": {},
   "source": [
    "# Customer's lifetime in the service"
   ]
  },
  {
   "cell_type": "markdown",
   "metadata": {},
   "source": [
    "Before we start looking at what services customers have used and their other characteristics, I think it is important to consider how long customers have used the service and after how many months in the service, customers begin to leave us.\n",
    "\n",
    "Let's see how many months the clients who are in the churn used our service and is there a point when the largest number of customers stop using the service"
   ]
  },
  {
   "cell_type": "code",
   "execution_count": 63,
   "metadata": {},
   "outputs": [
    {
     "data": {
      "application/vnd.plotly.v1+json": {
       "config": {
        "plotlyServerURL": "https://plot.ly"
       },
       "data": [
        {
         "alignmentgroup": "True",
         "bingroup": "x",
         "hovertemplate": "Churn Label=Yes<br>Tenure Months=%{x}<br>count=%{y}<extra></extra>",
         "legendgroup": "Yes",
         "marker": {
          "color": "#636efa",
          "pattern": {
           "shape": ""
          }
         },
         "name": "Yes",
         "offsetgroup": "Yes",
         "orientation": "v",
         "showlegend": true,
         "type": "histogram",
         "x": [
          2,
          2,
          8,
          28,
          49,
          10,
          1,
          1,
          47,
          1,
          17,
          5,
          34,
          11,
          2,
          15,
          8,
          18,
          9,
          1,
          7,
          12,
          5,
          25,
          68,
          55,
          37,
          10,
          3,
          27,
          25,
          1,
          2,
          1,
          8,
          1,
          7,
          20,
          4,
          58,
          2,
          53,
          15,
          7,
          1,
          8,
          13,
          1,
          6,
          1,
          19,
          2,
          4,
          4,
          1,
          1,
          2,
          11,
          15,
          1,
          2,
          1,
          2,
          3,
          13,
          59,
          16,
          1,
          1,
          5,
          52,
          18,
          1,
          8,
          10,
          24,
          1,
          4,
          32,
          5,
          38,
          24,
          54,
          2,
          7,
          2,
          68,
          43,
          63,
          2,
          4,
          21,
          10,
          27,
          5,
          2,
          25,
          1,
          1,
          11,
          55,
          34,
          69,
          1,
          1,
          3,
          22,
          1,
          61,
          12,
          60,
          1,
          28,
          4,
          7,
          13,
          1,
          1,
          24,
          5,
          15,
          48,
          8,
          1,
          2,
          22,
          5,
          12,
          20,
          2,
          6,
          5,
          40,
          27,
          23,
          34,
          1,
          10,
          13,
          39,
          32,
          35,
          56,
          12,
          1,
          4,
          1,
          12,
          65,
          9,
          9,
          7,
          49,
          43,
          65,
          56,
          10,
          43,
          1,
          20,
          1,
          2,
          3,
          1,
          8,
          2,
          4,
          2,
          4,
          1,
          52,
          2,
          1,
          2,
          3,
          3,
          25,
          1,
          4,
          3,
          33,
          30,
          45,
          10,
          20,
          15,
          22,
          3,
          15,
          1,
          5,
          33,
          2,
          2,
          1,
          46,
          62,
          10,
          6,
          40,
          1,
          58,
          70,
          2,
          21,
          16,
          7,
          60,
          50,
          4,
          1,
          55,
          12,
          1,
          62,
          1,
          20,
          3,
          22,
          4,
          59,
          60,
          15,
          10,
          6,
          63,
          50,
          1,
          12,
          9,
          17,
          9,
          10,
          1,
          3,
          13,
          4,
          6,
          3,
          35,
          2,
          1,
          1,
          8,
          7,
          2,
          1,
          44,
          71,
          1,
          62,
          1,
          33,
          35,
          34,
          4,
          7,
          27,
          18,
          2,
          32,
          18,
          12,
          8,
          26,
          3,
          8,
          38,
          14,
          32,
          1,
          12,
          5,
          40,
          5,
          10,
          2,
          23,
          23,
          49,
          2,
          2,
          7,
          41,
          2,
          13,
          11,
          17,
          25,
          3,
          4,
          37,
          19,
          39,
          7,
          14,
          11,
          1,
          2,
          13,
          3,
          1,
          12,
          60,
          1,
          6,
          15,
          21,
          1,
          7,
          53,
          1,
          1,
          17,
          11,
          19,
          3,
          24,
          2,
          1,
          16,
          34,
          3,
          16,
          1,
          15,
          11,
          1,
          1,
          7,
          2,
          46,
          68,
          59,
          7,
          8,
          6,
          11,
          15,
          70,
          16,
          18,
          34,
          47,
          39,
          1,
          4,
          1,
          59,
          1,
          2,
          1,
          66,
          3,
          14,
          10,
          18,
          9,
          13,
          4,
          4,
          59,
          10,
          1,
          5,
          1,
          22,
          34,
          41,
          64,
          4,
          18,
          1,
          2,
          15,
          9,
          15,
          1,
          12,
          2,
          5,
          4,
          16,
          1,
          5,
          4,
          37,
          13,
          24,
          61,
          41,
          22,
          2,
          19,
          8,
          15,
          1,
          17,
          1,
          2,
          29,
          2,
          14,
          8,
          5,
          63,
          1,
          53,
          1,
          16,
          1,
          10,
          3,
          66,
          17,
          7,
          12,
          42,
          2,
          1,
          30,
          15,
          13,
          67,
          23,
          35,
          56,
          9,
          17,
          48,
          17,
          34,
          42,
          11,
          1,
          1,
          3,
          50,
          5,
          51,
          46,
          1,
          41,
          29,
          26,
          1,
          3,
          66,
          21,
          1,
          4,
          9,
          1,
          1,
          9,
          1,
          1,
          2,
          3,
          14,
          41,
          13,
          2,
          18,
          1,
          4,
          38,
          12,
          19,
          10,
          1,
          23,
          32,
          32,
          31,
          19,
          57,
          1,
          24,
          1,
          65,
          10,
          2,
          1,
          1,
          1,
          38,
          19,
          52,
          1,
          3,
          1,
          2,
          35,
          16,
          1,
          1,
          30,
          5,
          56,
          44,
          1,
          49,
          47,
          31,
          3,
          8,
          2,
          65,
          1,
          1,
          24,
          69,
          7,
          11,
          1,
          58,
          14,
          12,
          25,
          58,
          16,
          1,
          1,
          2,
          23,
          57,
          24,
          49,
          5,
          2,
          4,
          5,
          47,
          10,
          1,
          67,
          5,
          67,
          15,
          1,
          26,
          22,
          21,
          47,
          2,
          22,
          7,
          1,
          49,
          43,
          1,
          1,
          1,
          32,
          17,
          4,
          1,
          1,
          37,
          8,
          3,
          1,
          5,
          40,
          1,
          51,
          1,
          33,
          30,
          2,
          2,
          29,
          13,
          7,
          30,
          2,
          24,
          1,
          1,
          7,
          67,
          57,
          7,
          1,
          14,
          28,
          17,
          10,
          34,
          1,
          3,
          2,
          6,
          12,
          1,
          3,
          23,
          1,
          65,
          16,
          66,
          1,
          53,
          69,
          13,
          4,
          12,
          1,
          54,
          48,
          2,
          29,
          15,
          17,
          56,
          21,
          1,
          1,
          1,
          35,
          32,
          33,
          1,
          8,
          5,
          2,
          42,
          40,
          57,
          1,
          38,
          2,
          8,
          7,
          31,
          18,
          14,
          28,
          15,
          5,
          1,
          1,
          4,
          53,
          59,
          46,
          14,
          31,
          13,
          35,
          2,
          1,
          25,
          16,
          1,
          36,
          1,
          9,
          8,
          45,
          25,
          13,
          46,
          25,
          18,
          60,
          30,
          1,
          39,
          1,
          31,
          3,
          1,
          7,
          61,
          39,
          10,
          1,
          67,
          6,
          1,
          33,
          2,
          7,
          1,
          52,
          22,
          47,
          33,
          18,
          24,
          1,
          4,
          2,
          1,
          19,
          22,
          4,
          4,
          4,
          7,
          19,
          5,
          8,
          1,
          2,
          3,
          13,
          28,
          15,
          10,
          5,
          2,
          1,
          5,
          1,
          4,
          31,
          1,
          1,
          10,
          15,
          17,
          53,
          16,
          9,
          25,
          4,
          50,
          9,
          3,
          10,
          32,
          9,
          66,
          3,
          29,
          1,
          41,
          8,
          12,
          1,
          4,
          1,
          7,
          6,
          14,
          25,
          22,
          61,
          70,
          1,
          1,
          47,
          1,
          22,
          48,
          1,
          25,
          20,
          18,
          1,
          9,
          28,
          11,
          12,
          53,
          41,
          20,
          7,
          7,
          22,
          3,
          51,
          5,
          62,
          28,
          10,
          69,
          12,
          27,
          1,
          14,
          32,
          3,
          22,
          16,
          5,
          23,
          1,
          50,
          1,
          71,
          46,
          2,
          1,
          32,
          3,
          5,
          49,
          17,
          23,
          6,
          6,
          2,
          4,
          4,
          3,
          8,
          1,
          1,
          30,
          5,
          1,
          72,
          13,
          32,
          16,
          29,
          38,
          17,
          1,
          2,
          2,
          1,
          4,
          5,
          9,
          18,
          25,
          17,
          52,
          3,
          1,
          8,
          43,
          22,
          54,
          1,
          1,
          7,
          12,
          54,
          1,
          23,
          3,
          10,
          37,
          31,
          34,
          29,
          12,
          1,
          33,
          4,
          35,
          19,
          1,
          1,
          31,
          4,
          1,
          10,
          2,
          9,
          4,
          38,
          51,
          1,
          41,
          12,
          5,
          10,
          11,
          1,
          16,
          1,
          4,
          1,
          13,
          1,
          21,
          11,
          2,
          2,
          1,
          6,
          4,
          12,
          4,
          4,
          3,
          53,
          68,
          1,
          10,
          1,
          51,
          24,
          18,
          72,
          4,
          1,
          26,
          7,
          5,
          42,
          4,
          2,
          8,
          9,
          1,
          43,
          1,
          3,
          70,
          11,
          50,
          5,
          1,
          16,
          15,
          46,
          8,
          31,
          32,
          1,
          20,
          26,
          5,
          1,
          14,
          36,
          9,
          5,
          9,
          2,
          1,
          8,
          2,
          3,
          51,
          2,
          39,
          12,
          26,
          18,
          2,
          4,
          1,
          9,
          2,
          29,
          1,
          9,
          50,
          1,
          54,
          42,
          1,
          1,
          9,
          46,
          1,
          13,
          19,
          1,
          24,
          67,
          6,
          20,
          20,
          46,
          11,
          2,
          1,
          16,
          3,
          57,
          5,
          4,
          7,
          1,
          2,
          4,
          1,
          7,
          4,
          1,
          1,
          1,
          1,
          41,
          66,
          35,
          10,
          54,
          2,
          26,
          15,
          31,
          18,
          61,
          1,
          24,
          3,
          1,
          43,
          4,
          25,
          57,
          4,
          36,
          1,
          35,
          4,
          58,
          30,
          21,
          3,
          41,
          21,
          1,
          11,
          1,
          72,
          3,
          1,
          47,
          18,
          1,
          20,
          6,
          1,
          48,
          3,
          2,
          1,
          1,
          3,
          9,
          49,
          6,
          6,
          16,
          7,
          25,
          20,
          4,
          28,
          1,
          11,
          4,
          54,
          28,
          2,
          1,
          1,
          14,
          1,
          4,
          20,
          14,
          30,
          3,
          40,
          2,
          1,
          10,
          1,
          14,
          58,
          22,
          1,
          49,
          68,
          1,
          7,
          9,
          1,
          24,
          2,
          27,
          57,
          1,
          13,
          1,
          63,
          25,
          35,
          71,
          6,
          15,
          9,
          37,
          2,
          29,
          5,
          28,
          11,
          55,
          24,
          1,
          6,
          4,
          3,
          1,
          11,
          1,
          5,
          8,
          22,
          29,
          13,
          43,
          3,
          2,
          66,
          62,
          17,
          56,
          31,
          2,
          66,
          3,
          1,
          31,
          14,
          35,
          37,
          7,
          24,
          1,
          32,
          1,
          17,
          19,
          2,
          8,
          1,
          1,
          1,
          9,
          3,
          49,
          2,
          55,
          21,
          69,
          1,
          39,
          6,
          17,
          1,
          58,
          1,
          19,
          3,
          3,
          3,
          30,
          15,
          10,
          1,
          38,
          1,
          16,
          1,
          12,
          4,
          15,
          41,
          1,
          1,
          7,
          42,
          1,
          12,
          55,
          17,
          1,
          72,
          11,
          8,
          1,
          23,
          39,
          9,
          15,
          30,
          1,
          3,
          67,
          1,
          1,
          12,
          22,
          2,
          27,
          10,
          1,
          22,
          1,
          21,
          6,
          72,
          54,
          3,
          8,
          5,
          1,
          2,
          1,
          65,
          33,
          15,
          30,
          2,
          4,
          2,
          25,
          25,
          43,
          10,
          2,
          9,
          27,
          69,
          22,
          56,
          66,
          24,
          1,
          36,
          1,
          1,
          1,
          39,
          5,
          24,
          2,
          5,
          11,
          4,
          1,
          1,
          2,
          3,
          44,
          24,
          18,
          1,
          65,
          53,
          1,
          15,
          4,
          9,
          22,
          38,
          53,
          1,
          8,
          16,
          1,
          7,
          9,
          37,
          5,
          3,
          31,
          2,
          37,
          38,
          48,
          10,
          8,
          2,
          3,
          4,
          37,
          1,
          5,
          28,
          30,
          36,
          1,
          4,
          17,
          3,
          4,
          4,
          26,
          5,
          4,
          1,
          1,
          8,
          1,
          50,
          26,
          6,
          3,
          3,
          1,
          14,
          61,
          40,
          58,
          18,
          7,
          2,
          19,
          11,
          39,
          15,
          5,
          1,
          10,
          6,
          16,
          2,
          2,
          19,
          1,
          66,
          36,
          39,
          21,
          2,
          4,
          35,
          33,
          45,
          7,
          6,
          3,
          11,
          1,
          40,
          47,
          7,
          1,
          7,
          15,
          11,
          67,
          8,
          44,
          24,
          15,
          17,
          1,
          9,
          7,
          36,
          3,
          34,
          1,
          22,
          47,
          24,
          53,
          8,
          2,
          8,
          48,
          43,
          16,
          8,
          20,
          2,
          27,
          5,
          52,
          37,
          69,
          40,
          6,
          11,
          6,
          3,
          5,
          8,
          1,
          28,
          1,
          29,
          19,
          6,
          1,
          1,
          6,
          15,
          25,
          10,
          13,
          49,
          1,
          37,
          26,
          12,
          10,
          5,
          18,
          3,
          54,
          10,
          1,
          2,
          32,
          36,
          53,
          1,
          12,
          1,
          5,
          6,
          26,
          1,
          64,
          13,
          9,
          10,
          2,
          20,
          9,
          32,
          70,
          1,
          1,
          1,
          13,
          7,
          1,
          7,
          54,
          5,
          1,
          33,
          55,
          6,
          8,
          11,
          49,
          1,
          15,
          16,
          44,
          5,
          4,
          30,
          1,
          9,
          1,
          1,
          61,
          59,
          3,
          3,
          1,
          13,
          18,
          3,
          1,
          1,
          70,
          68,
          26,
          11,
          1,
          1,
          46,
          4,
          22,
          9,
          7,
          1,
          40,
          29,
          3,
          1,
          3,
          23,
          13,
          1,
          39,
          1,
          14,
          1,
          1,
          1,
          1,
          1,
          42,
          7,
          1,
          10,
          17,
          1,
          8,
          1,
          39,
          58,
          6,
          22,
          70,
          21,
          71,
          1,
          20,
          4,
          32,
          6,
          27,
          1,
          13,
          1,
          19,
          10,
          13,
          1,
          68,
          39,
          1,
          1,
          36,
          15,
          5,
          13,
          5,
          2,
          17,
          1,
          9,
          1,
          1,
          1,
          9,
          20,
          70,
          3,
          20,
          21,
          17,
          2,
          21,
          5,
          24,
          1,
          10,
          1,
          53,
          3,
          46,
          49,
          11,
          45,
          37,
          49,
          14,
          1,
          47,
          13,
          5,
          3,
          26,
          8,
          9,
          1,
          12,
          42,
          33,
          31,
          18,
          42,
          4,
          12,
          15,
          7,
          14,
          3,
          16,
          65,
          42,
          6,
          53,
          5,
          68,
          3,
          12,
          43,
          68,
          25,
          66,
          70,
          27,
          1,
          3,
          29,
          36,
          1,
          2,
          12,
          1,
          1,
          59,
          3,
          1,
          1,
          2,
          29,
          52,
          2,
          13,
          19,
          47,
          5,
          52,
          42,
          25,
          9,
          16,
          5,
          3,
          31,
          1,
          1,
          10,
          4,
          43,
          4,
          11,
          47,
          1,
          4,
          17,
          43,
          21,
          42,
          46,
          5,
          6,
          1,
          7,
          2,
          1,
          5,
          22,
          1,
          1,
          3,
          1,
          1,
          33,
          1,
          2,
          2,
          3,
          26,
          67,
          71,
          1,
          5,
          9,
          26,
          54,
          2,
          1,
          30,
          4,
          17,
          60,
          1,
          13,
          38,
          1,
          50,
          65,
          1,
          7,
          2,
          45,
          1,
          1,
          13,
          10,
          4,
          1,
          41,
          71,
          3,
          69,
          32,
          51,
          72,
          6,
          1,
          1,
          31,
          58,
          47,
          44,
          2,
          1,
          1,
          1,
          5,
          1,
          1,
          1,
          1,
          40,
          1,
          3,
          13,
          58,
          42,
          1,
          29,
          1,
          1,
          2,
          10,
          49,
          6,
          2,
          35,
          70,
          2,
          15,
          42,
          9,
          1,
          21,
          2,
          1,
          16,
          14,
          15,
          1,
          2,
          55,
          7,
          13,
          3,
          66,
          38,
          1,
          22,
          1,
          1,
          43,
          1,
          2,
          1,
          12,
          6,
          34,
          1,
          10,
          16,
          7,
          27,
          1,
          9,
          48,
          3,
          2,
          2,
          14,
          3,
          57,
          3,
          64,
          2,
          12,
          40,
          12,
          54,
          4,
          1,
          51,
          4,
          35,
          1,
          38,
          37,
          3,
          61,
          11,
          1,
          19,
          56,
          2,
          14,
          4,
          15,
          1,
          64,
          1,
          55,
          18,
          32,
          66,
          7,
          6,
          13,
          11,
          9,
          1,
          54,
          25,
          37,
          14,
          4,
          3,
          1,
          13,
          45,
          1,
          6,
          3,
          12,
          8,
          6,
          3,
          1,
          1,
          41,
          9,
          43,
          33,
          1,
          56,
          3,
          1,
          5,
          1,
          70,
          48,
          13,
          24,
          27,
          25,
          22,
          1,
          4,
          18,
          56,
          16,
          30,
          8,
          50,
          41,
          3,
          3,
          40,
          3,
          23,
          1,
          4,
          1,
          12,
          9,
          1,
          67,
          4
         ],
         "xaxis": "x",
         "yaxis": "y"
        },
        {
         "alignmentgroup": "True",
         "hovertemplate": "Churn Label=Yes<br>Tenure Months=%{x}<extra></extra>",
         "legendgroup": "Yes",
         "marker": {
          "color": "#636efa"
         },
         "name": "Yes",
         "notched": true,
         "offsetgroup": "Yes",
         "showlegend": false,
         "type": "box",
         "x": [
          2,
          2,
          8,
          28,
          49,
          10,
          1,
          1,
          47,
          1,
          17,
          5,
          34,
          11,
          2,
          15,
          8,
          18,
          9,
          1,
          7,
          12,
          5,
          25,
          68,
          55,
          37,
          10,
          3,
          27,
          25,
          1,
          2,
          1,
          8,
          1,
          7,
          20,
          4,
          58,
          2,
          53,
          15,
          7,
          1,
          8,
          13,
          1,
          6,
          1,
          19,
          2,
          4,
          4,
          1,
          1,
          2,
          11,
          15,
          1,
          2,
          1,
          2,
          3,
          13,
          59,
          16,
          1,
          1,
          5,
          52,
          18,
          1,
          8,
          10,
          24,
          1,
          4,
          32,
          5,
          38,
          24,
          54,
          2,
          7,
          2,
          68,
          43,
          63,
          2,
          4,
          21,
          10,
          27,
          5,
          2,
          25,
          1,
          1,
          11,
          55,
          34,
          69,
          1,
          1,
          3,
          22,
          1,
          61,
          12,
          60,
          1,
          28,
          4,
          7,
          13,
          1,
          1,
          24,
          5,
          15,
          48,
          8,
          1,
          2,
          22,
          5,
          12,
          20,
          2,
          6,
          5,
          40,
          27,
          23,
          34,
          1,
          10,
          13,
          39,
          32,
          35,
          56,
          12,
          1,
          4,
          1,
          12,
          65,
          9,
          9,
          7,
          49,
          43,
          65,
          56,
          10,
          43,
          1,
          20,
          1,
          2,
          3,
          1,
          8,
          2,
          4,
          2,
          4,
          1,
          52,
          2,
          1,
          2,
          3,
          3,
          25,
          1,
          4,
          3,
          33,
          30,
          45,
          10,
          20,
          15,
          22,
          3,
          15,
          1,
          5,
          33,
          2,
          2,
          1,
          46,
          62,
          10,
          6,
          40,
          1,
          58,
          70,
          2,
          21,
          16,
          7,
          60,
          50,
          4,
          1,
          55,
          12,
          1,
          62,
          1,
          20,
          3,
          22,
          4,
          59,
          60,
          15,
          10,
          6,
          63,
          50,
          1,
          12,
          9,
          17,
          9,
          10,
          1,
          3,
          13,
          4,
          6,
          3,
          35,
          2,
          1,
          1,
          8,
          7,
          2,
          1,
          44,
          71,
          1,
          62,
          1,
          33,
          35,
          34,
          4,
          7,
          27,
          18,
          2,
          32,
          18,
          12,
          8,
          26,
          3,
          8,
          38,
          14,
          32,
          1,
          12,
          5,
          40,
          5,
          10,
          2,
          23,
          23,
          49,
          2,
          2,
          7,
          41,
          2,
          13,
          11,
          17,
          25,
          3,
          4,
          37,
          19,
          39,
          7,
          14,
          11,
          1,
          2,
          13,
          3,
          1,
          12,
          60,
          1,
          6,
          15,
          21,
          1,
          7,
          53,
          1,
          1,
          17,
          11,
          19,
          3,
          24,
          2,
          1,
          16,
          34,
          3,
          16,
          1,
          15,
          11,
          1,
          1,
          7,
          2,
          46,
          68,
          59,
          7,
          8,
          6,
          11,
          15,
          70,
          16,
          18,
          34,
          47,
          39,
          1,
          4,
          1,
          59,
          1,
          2,
          1,
          66,
          3,
          14,
          10,
          18,
          9,
          13,
          4,
          4,
          59,
          10,
          1,
          5,
          1,
          22,
          34,
          41,
          64,
          4,
          18,
          1,
          2,
          15,
          9,
          15,
          1,
          12,
          2,
          5,
          4,
          16,
          1,
          5,
          4,
          37,
          13,
          24,
          61,
          41,
          22,
          2,
          19,
          8,
          15,
          1,
          17,
          1,
          2,
          29,
          2,
          14,
          8,
          5,
          63,
          1,
          53,
          1,
          16,
          1,
          10,
          3,
          66,
          17,
          7,
          12,
          42,
          2,
          1,
          30,
          15,
          13,
          67,
          23,
          35,
          56,
          9,
          17,
          48,
          17,
          34,
          42,
          11,
          1,
          1,
          3,
          50,
          5,
          51,
          46,
          1,
          41,
          29,
          26,
          1,
          3,
          66,
          21,
          1,
          4,
          9,
          1,
          1,
          9,
          1,
          1,
          2,
          3,
          14,
          41,
          13,
          2,
          18,
          1,
          4,
          38,
          12,
          19,
          10,
          1,
          23,
          32,
          32,
          31,
          19,
          57,
          1,
          24,
          1,
          65,
          10,
          2,
          1,
          1,
          1,
          38,
          19,
          52,
          1,
          3,
          1,
          2,
          35,
          16,
          1,
          1,
          30,
          5,
          56,
          44,
          1,
          49,
          47,
          31,
          3,
          8,
          2,
          65,
          1,
          1,
          24,
          69,
          7,
          11,
          1,
          58,
          14,
          12,
          25,
          58,
          16,
          1,
          1,
          2,
          23,
          57,
          24,
          49,
          5,
          2,
          4,
          5,
          47,
          10,
          1,
          67,
          5,
          67,
          15,
          1,
          26,
          22,
          21,
          47,
          2,
          22,
          7,
          1,
          49,
          43,
          1,
          1,
          1,
          32,
          17,
          4,
          1,
          1,
          37,
          8,
          3,
          1,
          5,
          40,
          1,
          51,
          1,
          33,
          30,
          2,
          2,
          29,
          13,
          7,
          30,
          2,
          24,
          1,
          1,
          7,
          67,
          57,
          7,
          1,
          14,
          28,
          17,
          10,
          34,
          1,
          3,
          2,
          6,
          12,
          1,
          3,
          23,
          1,
          65,
          16,
          66,
          1,
          53,
          69,
          13,
          4,
          12,
          1,
          54,
          48,
          2,
          29,
          15,
          17,
          56,
          21,
          1,
          1,
          1,
          35,
          32,
          33,
          1,
          8,
          5,
          2,
          42,
          40,
          57,
          1,
          38,
          2,
          8,
          7,
          31,
          18,
          14,
          28,
          15,
          5,
          1,
          1,
          4,
          53,
          59,
          46,
          14,
          31,
          13,
          35,
          2,
          1,
          25,
          16,
          1,
          36,
          1,
          9,
          8,
          45,
          25,
          13,
          46,
          25,
          18,
          60,
          30,
          1,
          39,
          1,
          31,
          3,
          1,
          7,
          61,
          39,
          10,
          1,
          67,
          6,
          1,
          33,
          2,
          7,
          1,
          52,
          22,
          47,
          33,
          18,
          24,
          1,
          4,
          2,
          1,
          19,
          22,
          4,
          4,
          4,
          7,
          19,
          5,
          8,
          1,
          2,
          3,
          13,
          28,
          15,
          10,
          5,
          2,
          1,
          5,
          1,
          4,
          31,
          1,
          1,
          10,
          15,
          17,
          53,
          16,
          9,
          25,
          4,
          50,
          9,
          3,
          10,
          32,
          9,
          66,
          3,
          29,
          1,
          41,
          8,
          12,
          1,
          4,
          1,
          7,
          6,
          14,
          25,
          22,
          61,
          70,
          1,
          1,
          47,
          1,
          22,
          48,
          1,
          25,
          20,
          18,
          1,
          9,
          28,
          11,
          12,
          53,
          41,
          20,
          7,
          7,
          22,
          3,
          51,
          5,
          62,
          28,
          10,
          69,
          12,
          27,
          1,
          14,
          32,
          3,
          22,
          16,
          5,
          23,
          1,
          50,
          1,
          71,
          46,
          2,
          1,
          32,
          3,
          5,
          49,
          17,
          23,
          6,
          6,
          2,
          4,
          4,
          3,
          8,
          1,
          1,
          30,
          5,
          1,
          72,
          13,
          32,
          16,
          29,
          38,
          17,
          1,
          2,
          2,
          1,
          4,
          5,
          9,
          18,
          25,
          17,
          52,
          3,
          1,
          8,
          43,
          22,
          54,
          1,
          1,
          7,
          12,
          54,
          1,
          23,
          3,
          10,
          37,
          31,
          34,
          29,
          12,
          1,
          33,
          4,
          35,
          19,
          1,
          1,
          31,
          4,
          1,
          10,
          2,
          9,
          4,
          38,
          51,
          1,
          41,
          12,
          5,
          10,
          11,
          1,
          16,
          1,
          4,
          1,
          13,
          1,
          21,
          11,
          2,
          2,
          1,
          6,
          4,
          12,
          4,
          4,
          3,
          53,
          68,
          1,
          10,
          1,
          51,
          24,
          18,
          72,
          4,
          1,
          26,
          7,
          5,
          42,
          4,
          2,
          8,
          9,
          1,
          43,
          1,
          3,
          70,
          11,
          50,
          5,
          1,
          16,
          15,
          46,
          8,
          31,
          32,
          1,
          20,
          26,
          5,
          1,
          14,
          36,
          9,
          5,
          9,
          2,
          1,
          8,
          2,
          3,
          51,
          2,
          39,
          12,
          26,
          18,
          2,
          4,
          1,
          9,
          2,
          29,
          1,
          9,
          50,
          1,
          54,
          42,
          1,
          1,
          9,
          46,
          1,
          13,
          19,
          1,
          24,
          67,
          6,
          20,
          20,
          46,
          11,
          2,
          1,
          16,
          3,
          57,
          5,
          4,
          7,
          1,
          2,
          4,
          1,
          7,
          4,
          1,
          1,
          1,
          1,
          41,
          66,
          35,
          10,
          54,
          2,
          26,
          15,
          31,
          18,
          61,
          1,
          24,
          3,
          1,
          43,
          4,
          25,
          57,
          4,
          36,
          1,
          35,
          4,
          58,
          30,
          21,
          3,
          41,
          21,
          1,
          11,
          1,
          72,
          3,
          1,
          47,
          18,
          1,
          20,
          6,
          1,
          48,
          3,
          2,
          1,
          1,
          3,
          9,
          49,
          6,
          6,
          16,
          7,
          25,
          20,
          4,
          28,
          1,
          11,
          4,
          54,
          28,
          2,
          1,
          1,
          14,
          1,
          4,
          20,
          14,
          30,
          3,
          40,
          2,
          1,
          10,
          1,
          14,
          58,
          22,
          1,
          49,
          68,
          1,
          7,
          9,
          1,
          24,
          2,
          27,
          57,
          1,
          13,
          1,
          63,
          25,
          35,
          71,
          6,
          15,
          9,
          37,
          2,
          29,
          5,
          28,
          11,
          55,
          24,
          1,
          6,
          4,
          3,
          1,
          11,
          1,
          5,
          8,
          22,
          29,
          13,
          43,
          3,
          2,
          66,
          62,
          17,
          56,
          31,
          2,
          66,
          3,
          1,
          31,
          14,
          35,
          37,
          7,
          24,
          1,
          32,
          1,
          17,
          19,
          2,
          8,
          1,
          1,
          1,
          9,
          3,
          49,
          2,
          55,
          21,
          69,
          1,
          39,
          6,
          17,
          1,
          58,
          1,
          19,
          3,
          3,
          3,
          30,
          15,
          10,
          1,
          38,
          1,
          16,
          1,
          12,
          4,
          15,
          41,
          1,
          1,
          7,
          42,
          1,
          12,
          55,
          17,
          1,
          72,
          11,
          8,
          1,
          23,
          39,
          9,
          15,
          30,
          1,
          3,
          67,
          1,
          1,
          12,
          22,
          2,
          27,
          10,
          1,
          22,
          1,
          21,
          6,
          72,
          54,
          3,
          8,
          5,
          1,
          2,
          1,
          65,
          33,
          15,
          30,
          2,
          4,
          2,
          25,
          25,
          43,
          10,
          2,
          9,
          27,
          69,
          22,
          56,
          66,
          24,
          1,
          36,
          1,
          1,
          1,
          39,
          5,
          24,
          2,
          5,
          11,
          4,
          1,
          1,
          2,
          3,
          44,
          24,
          18,
          1,
          65,
          53,
          1,
          15,
          4,
          9,
          22,
          38,
          53,
          1,
          8,
          16,
          1,
          7,
          9,
          37,
          5,
          3,
          31,
          2,
          37,
          38,
          48,
          10,
          8,
          2,
          3,
          4,
          37,
          1,
          5,
          28,
          30,
          36,
          1,
          4,
          17,
          3,
          4,
          4,
          26,
          5,
          4,
          1,
          1,
          8,
          1,
          50,
          26,
          6,
          3,
          3,
          1,
          14,
          61,
          40,
          58,
          18,
          7,
          2,
          19,
          11,
          39,
          15,
          5,
          1,
          10,
          6,
          16,
          2,
          2,
          19,
          1,
          66,
          36,
          39,
          21,
          2,
          4,
          35,
          33,
          45,
          7,
          6,
          3,
          11,
          1,
          40,
          47,
          7,
          1,
          7,
          15,
          11,
          67,
          8,
          44,
          24,
          15,
          17,
          1,
          9,
          7,
          36,
          3,
          34,
          1,
          22,
          47,
          24,
          53,
          8,
          2,
          8,
          48,
          43,
          16,
          8,
          20,
          2,
          27,
          5,
          52,
          37,
          69,
          40,
          6,
          11,
          6,
          3,
          5,
          8,
          1,
          28,
          1,
          29,
          19,
          6,
          1,
          1,
          6,
          15,
          25,
          10,
          13,
          49,
          1,
          37,
          26,
          12,
          10,
          5,
          18,
          3,
          54,
          10,
          1,
          2,
          32,
          36,
          53,
          1,
          12,
          1,
          5,
          6,
          26,
          1,
          64,
          13,
          9,
          10,
          2,
          20,
          9,
          32,
          70,
          1,
          1,
          1,
          13,
          7,
          1,
          7,
          54,
          5,
          1,
          33,
          55,
          6,
          8,
          11,
          49,
          1,
          15,
          16,
          44,
          5,
          4,
          30,
          1,
          9,
          1,
          1,
          61,
          59,
          3,
          3,
          1,
          13,
          18,
          3,
          1,
          1,
          70,
          68,
          26,
          11,
          1,
          1,
          46,
          4,
          22,
          9,
          7,
          1,
          40,
          29,
          3,
          1,
          3,
          23,
          13,
          1,
          39,
          1,
          14,
          1,
          1,
          1,
          1,
          1,
          42,
          7,
          1,
          10,
          17,
          1,
          8,
          1,
          39,
          58,
          6,
          22,
          70,
          21,
          71,
          1,
          20,
          4,
          32,
          6,
          27,
          1,
          13,
          1,
          19,
          10,
          13,
          1,
          68,
          39,
          1,
          1,
          36,
          15,
          5,
          13,
          5,
          2,
          17,
          1,
          9,
          1,
          1,
          1,
          9,
          20,
          70,
          3,
          20,
          21,
          17,
          2,
          21,
          5,
          24,
          1,
          10,
          1,
          53,
          3,
          46,
          49,
          11,
          45,
          37,
          49,
          14,
          1,
          47,
          13,
          5,
          3,
          26,
          8,
          9,
          1,
          12,
          42,
          33,
          31,
          18,
          42,
          4,
          12,
          15,
          7,
          14,
          3,
          16,
          65,
          42,
          6,
          53,
          5,
          68,
          3,
          12,
          43,
          68,
          25,
          66,
          70,
          27,
          1,
          3,
          29,
          36,
          1,
          2,
          12,
          1,
          1,
          59,
          3,
          1,
          1,
          2,
          29,
          52,
          2,
          13,
          19,
          47,
          5,
          52,
          42,
          25,
          9,
          16,
          5,
          3,
          31,
          1,
          1,
          10,
          4,
          43,
          4,
          11,
          47,
          1,
          4,
          17,
          43,
          21,
          42,
          46,
          5,
          6,
          1,
          7,
          2,
          1,
          5,
          22,
          1,
          1,
          3,
          1,
          1,
          33,
          1,
          2,
          2,
          3,
          26,
          67,
          71,
          1,
          5,
          9,
          26,
          54,
          2,
          1,
          30,
          4,
          17,
          60,
          1,
          13,
          38,
          1,
          50,
          65,
          1,
          7,
          2,
          45,
          1,
          1,
          13,
          10,
          4,
          1,
          41,
          71,
          3,
          69,
          32,
          51,
          72,
          6,
          1,
          1,
          31,
          58,
          47,
          44,
          2,
          1,
          1,
          1,
          5,
          1,
          1,
          1,
          1,
          40,
          1,
          3,
          13,
          58,
          42,
          1,
          29,
          1,
          1,
          2,
          10,
          49,
          6,
          2,
          35,
          70,
          2,
          15,
          42,
          9,
          1,
          21,
          2,
          1,
          16,
          14,
          15,
          1,
          2,
          55,
          7,
          13,
          3,
          66,
          38,
          1,
          22,
          1,
          1,
          43,
          1,
          2,
          1,
          12,
          6,
          34,
          1,
          10,
          16,
          7,
          27,
          1,
          9,
          48,
          3,
          2,
          2,
          14,
          3,
          57,
          3,
          64,
          2,
          12,
          40,
          12,
          54,
          4,
          1,
          51,
          4,
          35,
          1,
          38,
          37,
          3,
          61,
          11,
          1,
          19,
          56,
          2,
          14,
          4,
          15,
          1,
          64,
          1,
          55,
          18,
          32,
          66,
          7,
          6,
          13,
          11,
          9,
          1,
          54,
          25,
          37,
          14,
          4,
          3,
          1,
          13,
          45,
          1,
          6,
          3,
          12,
          8,
          6,
          3,
          1,
          1,
          41,
          9,
          43,
          33,
          1,
          56,
          3,
          1,
          5,
          1,
          70,
          48,
          13,
          24,
          27,
          25,
          22,
          1,
          4,
          18,
          56,
          16,
          30,
          8,
          50,
          41,
          3,
          3,
          40,
          3,
          23,
          1,
          4,
          1,
          12,
          9,
          1,
          67,
          4
         ],
         "xaxis": "x2",
         "yaxis": "y2"
        },
        {
         "alignmentgroup": "True",
         "bingroup": "x",
         "hovertemplate": "Churn Label=No<br>Tenure Months=%{x}<br>count=%{y}<extra></extra>",
         "legendgroup": "No",
         "marker": {
          "color": "#EF553B",
          "pattern": {
           "shape": ""
          }
         },
         "name": "No",
         "offsetgroup": "No",
         "orientation": "v",
         "showlegend": true,
         "type": "histogram",
         "x": [
          1,
          34,
          45,
          22,
          10,
          62,
          13,
          16,
          58,
          25,
          69,
          52,
          71,
          21,
          12,
          58,
          49,
          30,
          72,
          71,
          2,
          27,
          1,
          1,
          72,
          46,
          10,
          70,
          17,
          63,
          13,
          49,
          2,
          52,
          69,
          43,
          25,
          60,
          63,
          66,
          34,
          72,
          47,
          60,
          72,
          18,
          3,
          47,
          31,
          50,
          10,
          1,
          52,
          64,
          62,
          3,
          56,
          46,
          8,
          30,
          45,
          11,
          42,
          49,
          9,
          35,
          48,
          46,
          29,
          30,
          1,
          66,
          65,
          72,
          71,
          52,
          1,
          1,
          38,
          66,
          5,
          72,
          32,
          43,
          72,
          52,
          43,
          64,
          3,
          36,
          41,
          27,
          56,
          6,
          7,
          4,
          33,
          72,
          1,
          71,
          13,
          67,
          43,
          23,
          64,
          57,
          72,
          61,
          64,
          71,
          65,
          3,
          30,
          15,
          8,
          70,
          62,
          6,
          14,
          22,
          22,
          16,
          10,
          13,
          2,
          53,
          11,
          69,
          72,
          16,
          43,
          14,
          32,
          34,
          15,
          61,
          1,
          33,
          20,
          3,
          13,
          40,
          43,
          69,
          72,
          59,
          20,
          24,
          59,
          72,
          1,
          27,
          14,
          71,
          13,
          44,
          33,
          72,
          64,
          1,
          61,
          29,
          23,
          57,
          72,
          66,
          65,
          8,
          71,
          1,
          12,
          24,
          31,
          30,
          47,
          54,
          50,
          72,
          29,
          10,
          18,
          16,
          72,
          72,
          41,
          65,
          13,
          4,
          41,
          42,
          51,
          32,
          10,
          67,
          61,
          50,
          29,
          57,
          31,
          45,
          61,
          50,
          19,
          71,
          57,
          20,
          21,
          14,
          5,
          6,
          10,
          1,
          68,
          22,
          20,
          35,
          23,
          6,
          12,
          1,
          71,
          35,
          40,
          23,
          4,
          68,
          38,
          52,
          29,
          38,
          48,
          1,
          22,
          43,
          5,
          51,
          71,
          35,
          72,
          1,
          9,
          69,
          52,
          11,
          28,
          17,
          35,
          8,
          46,
          68,
          36,
          32,
          71,
          66,
          63,
          41,
          1,
          70,
          23,
          64,
          37,
          17,
          7,
          16,
          64,
          42,
          5,
          41,
          58,
          47,
          18,
          23,
          1,
          71,
          72,
          33,
          24,
          56,
          37,
          43,
          1,
          61,
          17,
          41,
          72,
          48,
          42,
          44,
          1,
          27,
          27,
          2,
          19,
          42,
          66,
          33,
          33,
          23,
          32,
          11,
          68,
          20,
          72,
          60,
          32,
          46,
          29,
          51,
          48,
          16,
          70,
          40,
          5,
          7,
          29,
          44,
          10,
          55,
          52,
          10,
          18,
          68,
          72,
          2,
          41,
          26,
          36,
          72,
          35,
          1,
          16,
          49,
          54,
          18,
          36,
          52,
          8,
          72,
          64,
          22,
          60,
          61,
          24,
          28,
          30,
          2,
          1,
          6,
          24,
          72,
          70,
          64,
          72,
          44,
          17,
          9,
          24,
          35,
          7,
          11,
          20,
          72,
          72,
          15,
          72,
          0,
          63,
          2,
          61,
          1,
          28,
          70,
          34,
          71,
          70,
          52,
          69,
          11,
          1,
          20,
          61,
          56,
          30,
          28,
          5,
          12,
          67,
          29,
          55,
          52,
          72,
          58,
          35,
          56,
          24,
          70,
          2,
          68,
          12,
          63,
          33,
          69,
          60,
          72,
          11,
          1,
          34,
          65,
          50,
          15,
          72,
          72,
          55,
          23,
          56,
          1,
          38,
          11,
          1,
          56,
          3,
          7,
          59,
          7,
          71,
          15,
          71,
          11,
          60,
          47,
          11,
          28,
          61,
          31,
          9,
          35,
          2,
          1,
          3,
          52,
          5,
          72,
          71,
          72,
          46,
          63,
          30,
          1,
          16,
          4,
          51,
          65,
          16,
          2,
          66,
          46,
          32,
          72,
          38,
          51,
          72,
          66,
          44,
          50,
          15,
          8,
          66,
          57,
          7,
          10,
          62,
          40,
          20,
          25,
          23,
          66,
          72,
          46,
          72,
          10,
          40,
          31,
          68,
          68,
          49,
          15,
          50,
          24,
          35,
          17,
          10,
          68,
          45,
          37,
          10,
          1,
          65,
          57,
          3,
          49,
          70,
          53,
          53,
          22,
          65,
          48,
          3,
          45,
          61,
          3,
          40,
          1,
          1,
          51,
          52,
          51,
          1,
          31,
          47,
          22,
          1,
          72,
          47,
          72,
          66,
          35,
          29,
          2,
          4,
          65,
          27,
          29,
          29,
          20,
          58,
          14,
          72,
          46,
          71,
          32,
          26,
          68,
          2,
          61,
          9,
          22,
          5,
          65,
          5,
          25,
          72,
          27,
          32,
          30,
          70,
          42,
          72,
          47,
          2,
          61,
          5,
          72,
          72,
          3,
          48,
          63,
          27,
          70,
          7,
          0,
          2,
          66,
          3,
          72,
          1,
          72,
          65,
          11,
          22,
          14,
          41,
          17,
          11,
          72,
          3,
          59,
          71,
          5,
          27,
          63,
          72,
          34,
          24,
          72,
          60,
          68,
          8,
          34,
          6,
          2,
          31,
          20,
          1,
          70,
          39,
          46,
          72,
          18,
          71,
          42,
          34,
          5,
          25,
          55,
          70,
          61,
          43,
          47,
          5,
          62,
          14,
          34,
          38,
          70,
          37,
          60,
          62,
          36,
          44,
          72,
          13,
          15,
          65,
          12,
          72,
          72,
          72,
          52,
          2,
          5,
          68,
          72,
          66,
          72,
          26,
          64,
          62,
          5,
          3,
          72,
          57,
          66,
          45,
          3,
          51,
          60,
          33,
          26,
          67,
          49,
          1,
          7,
          27,
          37,
          31,
          32,
          63,
          30,
          71,
          53,
          50,
          2,
          56,
          67,
          4,
          19,
          8,
          71,
          15,
          72,
          12,
          72,
          23,
          72,
          26,
          21,
          60,
          12,
          16,
          63,
          22,
          32,
          68,
          30,
          16,
          33,
          72,
          12,
          4,
          0,
          65,
          15,
          24,
          13,
          24,
          72,
          54,
          4,
          32,
          35,
          8,
          22,
          15,
          22,
          71,
          4,
          25,
          32,
          7,
          17,
          8,
          56,
          3,
          71,
          49,
          58,
          59,
          11,
          35,
          20,
          40,
          39,
          72,
          12,
          1,
          27,
          34,
          56,
          58,
          22,
          10,
          13,
          72,
          2,
          4,
          37,
          21,
          53,
          23,
          3,
          71,
          9,
          1,
          71,
          64,
          4,
          23,
          39,
          28,
          5,
          45,
          37,
          60,
          47,
          50,
          27,
          62,
          71,
          66,
          68,
          13,
          56,
          16,
          14,
          8,
          43,
          52,
          3,
          29,
          16,
          40,
          36,
          26,
          72,
          34,
          10,
          14,
          47,
          24,
          20,
          22,
          1,
          59,
          58,
          59,
          3,
          32,
          46,
          0,
          52,
          32,
          16,
          51,
          29,
          70,
          71,
          41,
          1,
          7,
          67,
          5,
          15,
          20,
          54,
          42,
          9,
          63,
          69,
          69,
          40,
          60,
          71,
          32,
          39,
          38,
          52,
          48,
          70,
          20,
          50,
          25,
          12,
          23,
          27,
          47,
          26,
          2,
          26,
          72,
          63,
          71,
          11,
          14,
          13,
          6,
          11,
          18,
          32,
          29,
          3,
          41,
          1,
          7,
          52,
          45,
          70,
          53,
          62,
          60,
          23,
          67,
          71,
          25,
          5,
          26,
          1,
          70,
          72,
          32,
          14,
          13,
          46,
          43,
          39,
          57,
          53,
          18,
          58,
          71,
          35,
          3,
          38,
          35,
          47,
          14,
          20,
          66,
          15,
          42,
          17,
          37,
          12,
          60,
          18,
          3,
          9,
          56,
          7,
          69,
          54,
          62,
          62,
          17,
          9,
          64,
          72,
          30,
          49,
          61,
          47,
          20,
          70,
          54,
          61,
          13,
          3,
          25,
          30,
          21,
          23,
          45,
          24,
          56,
          1,
          55,
          72,
          45,
          47,
          2,
          2,
          12,
          69,
          56,
          4,
          64,
          62,
          63,
          53,
          5,
          49,
          62,
          55,
          71,
          72,
          36,
          25,
          72,
          36,
          1,
          72,
          59,
          1,
          30,
          64,
          63,
          72,
          62,
          67,
          70,
          20,
          5,
          24,
          72,
          66,
          45,
          69,
          28,
          36,
          42,
          48,
          11,
          7,
          3,
          8,
          32,
          60,
          10,
          71,
          43,
          23,
          72,
          22,
          1,
          69,
          50,
          15,
          31,
          0,
          8,
          64,
          28,
          57,
          19,
          51,
          67,
          11,
          72,
          66,
          9,
          9,
          48,
          10,
          72,
          51,
          61,
          54,
          33,
          27,
          23,
          1,
          45,
          39,
          72,
          58,
          70,
          61,
          2,
          46,
          48,
          64,
          72,
          12,
          72,
          29,
          33,
          1,
          62,
          4,
          24,
          14,
          3,
          8,
          35,
          66,
          8,
          71,
          43,
          29,
          65,
          35,
          64,
          58,
          18,
          67,
          63,
          60,
          70,
          48,
          12,
          71,
          44,
          45,
          23,
          43,
          35,
          9,
          65,
          27,
          40,
          8,
          58,
          52,
          3,
          41,
          20,
          1,
          23,
          6,
          8,
          18,
          52,
          31,
          29,
          36,
          42,
          60,
          22,
          36,
          9,
          1,
          12,
          23,
          62,
          8,
          31,
          45,
          69,
          2,
          44,
          39,
          72,
          13,
          51,
          71,
          56,
          1,
          23,
          66,
          1,
          11,
          52,
          3,
          51,
          64,
          37,
          13,
          49,
          45,
          18,
          68,
          54,
          23,
          71,
          67,
          14,
          63,
          41,
          17,
          56,
          5,
          3,
          37,
          8,
          63,
          7,
          3,
          72,
          19,
          59,
          35,
          14,
          69,
          7,
          69,
          72,
          4,
          63,
          72,
          46,
          30,
          63,
          60,
          25,
          6,
          22,
          31,
          39,
          26,
          12,
          2,
          39,
          7,
          4,
          55,
          72,
          10,
          11,
          15,
          23,
          1,
          47,
          15,
          68,
          21,
          21,
          56,
          6,
          65,
          42,
          68,
          48,
          50,
          7,
          63,
          17,
          4,
          62,
          2,
          48,
          27,
          70,
          46,
          69,
          65,
          72,
          17,
          51,
          51,
          72,
          34,
          67,
          49,
          53,
          27,
          69,
          2,
          46,
          54,
          20,
          11,
          30,
          68,
          38,
          1,
          63,
          3,
          48,
          66,
          68,
          7,
          72,
          29,
          37,
          59,
          60,
          27,
          17,
          58,
          1,
          53,
          35,
          68,
          47,
          65,
          9,
          8,
          14,
          45,
          8,
          66,
          72,
          23,
          4,
          6,
          67,
          7,
          56,
          72,
          72,
          23,
          35,
          27,
          12,
          40,
          7,
          70,
          60,
          39,
          72,
          54,
          63,
          71,
          42,
          47,
          11,
          55,
          69,
          3,
          30,
          5,
          71,
          29,
          52,
          68,
          46,
          8,
          72,
          17,
          3,
          2,
          51,
          6,
          3,
          17,
          30,
          31,
          45,
          64,
          61,
          1,
          72,
          7,
          66,
          40,
          16,
          67,
          41,
          56,
          72,
          54,
          52,
          50,
          27,
          72,
          62,
          12,
          44,
          54,
          68,
          20,
          50,
          58,
          35,
          2,
          63,
          58,
          27,
          71,
          63,
          71,
          68,
          1,
          65,
          72,
          28,
          72,
          2,
          60,
          26,
          68,
          42,
          57,
          54,
          44,
          42,
          72,
          71,
          23,
          30,
          35,
          1,
          22,
          7,
          36,
          34,
          72,
          36,
          71,
          23,
          17,
          1,
          12,
          72,
          1,
          72,
          60,
          61,
          6,
          72,
          32,
          65,
          45,
          42,
          8,
          32,
          22,
          1,
          1,
          54,
          4,
          56,
          45,
          71,
          59,
          69,
          19,
          55,
          38,
          47,
          46,
          65,
          71,
          52,
          6,
          26,
          48,
          64,
          1,
          72,
          1,
          51,
          41,
          72,
          43,
          72,
          47,
          72,
          3,
          26,
          29,
          27,
          24,
          67,
          23,
          14,
          4,
          16,
          46,
          68,
          38,
          17,
          4,
          12,
          72,
          3,
          41,
          40,
          7,
          69,
          7,
          5,
          72,
          44,
          65,
          3,
          24,
          72,
          24,
          22,
          70,
          25,
          37,
          22,
          59,
          1,
          3,
          53,
          1,
          20,
          51,
          51,
          13,
          1,
          1,
          63,
          3,
          46,
          1,
          71,
          55,
          70,
          67,
          14,
          20,
          49,
          72,
          46,
          24,
          5,
          33,
          42,
          23,
          8,
          66,
          24,
          53,
          60,
          20,
          23,
          72,
          21,
          31,
          57,
          45,
          10,
          14,
          27,
          69,
          35,
          45,
          17,
          22,
          67,
          67,
          9,
          5,
          54,
          70,
          53,
          31,
          13,
          28,
          38,
          52,
          62,
          16,
          12,
          72,
          71,
          24,
          15,
          2,
          5,
          41,
          43,
          1,
          1,
          71,
          7,
          28,
          16,
          7,
          69,
          1,
          3,
          69,
          71,
          69,
          48,
          45,
          51,
          72,
          37,
          71,
          66,
          51,
          30,
          34,
          64,
          65,
          47,
          67,
          39,
          14,
          56,
          14,
          16,
          70,
          72,
          23,
          21,
          36,
          50,
          48,
          50,
          72,
          10,
          18,
          9,
          2,
          40,
          69,
          18,
          11,
          55,
          33,
          46,
          34,
          3,
          30,
          33,
          45,
          40,
          71,
          72,
          22,
          46,
          55,
          1,
          12,
          31,
          67,
          1,
          41,
          42,
          23,
          1,
          56,
          15,
          12,
          54,
          7,
          16,
          21,
          30,
          3,
          11,
          62,
          18,
          6,
          46,
          21,
          68,
          1,
          25,
          24,
          51,
          57,
          15,
          72,
          28,
          70,
          13,
          59,
          62,
          21,
          2,
          1,
          4,
          19,
          67,
          72,
          53,
          5,
          71,
          50,
          56,
          2,
          46,
          71,
          29,
          69,
          71,
          56,
          56,
          28,
          19,
          66,
          17,
          52,
          19,
          36,
          72,
          34,
          8,
          69,
          50,
          10,
          12,
          70,
          64,
          66,
          71,
          20,
          72,
          71,
          38,
          33,
          23,
          58,
          70,
          4,
          45,
          36,
          54,
          23,
          41,
          5,
          27,
          1,
          67,
          72,
          56,
          44,
          66,
          69,
          40,
          30,
          11,
          15,
          11,
          64,
          72,
          72,
          1,
          15,
          60,
          56,
          8,
          49,
          70,
          52,
          72,
          40,
          40,
          1,
          30,
          44,
          7,
          72,
          8,
          3,
          8,
          5,
          72,
          54,
          72,
          1,
          69,
          48,
          8,
          71,
          67,
          34,
          3,
          9,
          71,
          57,
          72,
          48,
          18,
          43,
          72,
          35,
          4,
          49,
          71,
          11,
          63,
          65,
          49,
          4,
          72,
          26,
          35,
          57,
          28,
          25,
          47,
          57,
          16,
          5,
          72,
          48,
          68,
          30,
          3,
          14,
          4,
          71,
          8,
          61,
          72,
          5,
          49,
          8,
          3,
          9,
          67,
          46,
          67,
          55,
          33,
          62,
          49,
          1,
          14,
          18,
          72,
          64,
          69,
          1,
          71,
          66,
          2,
          71,
          11,
          47,
          60,
          11,
          29,
          21,
          48,
          3,
          43,
          5,
          1,
          71,
          8,
          8,
          20,
          71,
          31,
          38,
          2,
          12,
          9,
          11,
          6,
          71,
          42,
          45,
          28,
          43,
          60,
          7,
          25,
          27,
          10,
          27,
          11,
          4,
          68,
          1,
          18,
          26,
          17,
          59,
          30,
          50,
          9,
          3,
          14,
          31,
          7,
          17,
          32,
          2,
          72,
          27,
          7,
          11,
          72,
          4,
          71,
          47,
          57,
          50,
          8,
          48,
          70,
          1,
          8,
          60,
          49,
          29,
          67,
          67,
          6,
          47,
          53,
          69,
          3,
          4,
          56,
          61,
          2,
          12,
          28,
          24,
          68,
          39,
          42,
          6,
          38,
          18,
          4,
          27,
          41,
          50,
          72,
          70,
          44,
          34,
          72,
          71,
          64,
          72,
          29,
          23,
          52,
          64,
          24,
          2,
          34,
          53,
          47,
          72,
          72,
          7,
          71,
          41,
          67,
          69,
          70,
          72,
          34,
          65,
          70,
          72,
          35,
          12,
          62,
          25,
          52,
          8,
          2,
          56,
          12,
          47,
          2,
          18,
          8,
          45,
          3,
          38,
          72,
          71,
          66,
          13,
          65,
          15,
          72,
          42,
          71,
          35,
          53,
          48,
          30,
          10,
          12,
          57,
          58,
          37,
          44,
          27,
          8,
          25,
          57,
          12,
          62,
          65,
          71,
          21,
          71,
          7,
          72,
          1,
          72,
          64,
          72,
          29,
          13,
          31,
          14,
          72,
          25,
          18,
          71,
          28,
          2,
          17,
          56,
          60,
          33,
          1,
          63,
          55,
          65,
          63,
          70,
          36,
          22,
          5,
          1,
          56,
          2,
          35,
          64,
          15,
          1,
          70,
          39,
          29,
          14,
          61,
          13,
          66,
          59,
          62,
          33,
          66,
          72,
          51,
          63,
          27,
          4,
          42,
          29,
          30,
          71,
          46,
          69,
          72,
          28,
          72,
          7,
          22,
          72,
          8,
          52,
          68,
          71,
          2,
          34,
          35,
          61,
          1,
          53,
          72,
          41,
          24,
          8,
          1,
          54,
          41,
          19,
          72,
          62,
          56,
          32,
          21,
          62,
          2,
          27,
          25,
          49,
          63,
          4,
          1,
          11,
          52,
          60,
          64,
          43,
          61,
          66,
          67,
          42,
          31,
          7,
          34,
          3,
          19,
          3,
          46,
          69,
          5,
          1,
          26,
          25,
          64,
          30,
          13,
          64,
          46,
          12,
          13,
          67,
          24,
          6,
          10,
          13,
          7,
          38,
          43,
          25,
          27,
          72,
          71,
          24,
          57,
          15,
          4,
          28,
          55,
          55,
          20,
          62,
          43,
          60,
          58,
          7,
          2,
          37,
          65,
          39,
          68,
          62,
          72,
          41,
          4,
          53,
          39,
          63,
          15,
          13,
          1,
          1,
          60,
          40,
          66,
          42,
          66,
          49,
          41,
          41,
          23,
          3,
          4,
          52,
          11,
          2,
          26,
          24,
          12,
          60,
          64,
          66,
          60,
          17,
          42,
          1,
          47,
          10,
          70,
          67,
          1,
          4,
          66,
          12,
          24,
          26,
          57,
          42,
          64,
          19,
          22,
          12,
          31,
          11,
          68,
          72,
          67,
          60,
          58,
          1,
          37,
          13,
          43,
          6,
          71,
          72,
          6,
          12,
          21,
          6,
          43,
          35,
          32,
          52,
          32,
          72,
          51,
          68,
          8,
          49,
          72,
          54,
          50,
          69,
          1,
          68,
          40,
          31,
          33,
          55,
          68,
          12,
          71,
          40,
          64,
          53,
          72,
          46,
          40,
          12,
          9,
          51,
          49,
          56,
          4,
          20,
          26,
          51,
          4,
          1,
          27,
          12,
          34,
          24,
          14,
          59,
          3,
          65,
          59,
          72,
          3,
          19,
          1,
          24,
          57,
          72,
          67,
          52,
          71,
          26,
          35,
          55,
          33,
          72,
          1,
          37,
          12,
          1,
          62,
          1,
          18,
          2,
          19,
          9,
          27,
          24,
          11,
          1,
          38,
          9,
          54,
          29,
          44,
          59,
          18,
          67,
          33,
          5,
          2,
          72,
          9,
          67,
          8,
          17,
          68,
          25,
          67,
          32,
          67,
          72,
          1,
          48,
          61,
          2,
          71,
          37,
          65,
          67,
          50,
          25,
          64,
          25,
          24,
          37,
          21,
          1,
          10,
          51,
          10,
          6,
          47,
          61,
          52,
          35,
          71,
          45,
          2,
          51,
          60,
          9,
          17,
          46,
          68,
          4,
          28,
          39,
          11,
          71,
          2,
          17,
          55,
          58,
          9,
          26,
          50,
          72,
          43,
          56,
          1,
          72,
          36,
          5,
          44,
          70,
          44,
          69,
          68,
          16,
          68,
          4,
          26,
          5,
          70,
          24,
          72,
          1,
          70,
          36,
          41,
          14,
          13,
          6,
          15,
          47,
          8,
          17,
          15,
          26,
          23,
          4,
          29,
          25,
          3,
          69,
          14,
          19,
          39,
          31,
          24,
          14,
          64,
          50,
          52,
          28,
          21,
          17,
          58,
          51,
          72,
          27,
          3,
          64,
          45,
          71,
          58,
          34,
          15,
          66,
          12,
          58,
          3,
          9,
          3,
          40,
          68,
          50,
          1,
          72,
          40,
          72,
          6,
          5,
          48,
          64,
          17,
          40,
          41,
          51,
          41,
          2,
          68,
          24,
          70,
          3,
          2,
          3,
          13,
          7,
          12,
          53,
          63,
          15,
          36,
          4,
          24,
          61,
          16,
          65,
          26,
          16,
          5,
          19,
          10,
          72,
          10,
          11,
          17,
          36,
          17,
          66,
          61,
          22,
          1,
          6,
          68,
          52,
          10,
          72,
          47,
          24,
          65,
          4,
          34,
          14,
          13,
          65,
          23,
          55,
          49,
          60,
          69,
          40,
          67,
          13,
          41,
          4,
          24,
          5,
          5,
          72,
          24,
          42,
          4,
          68,
          33,
          69,
          38,
          3,
          48,
          15,
          25,
          48,
          1,
          1,
          37,
          66,
          26,
          63,
          18,
          64,
          28,
          1,
          66,
          1,
          18,
          0,
          12,
          12,
          55,
          7,
          68,
          49,
          40,
          16,
          72,
          2,
          23,
          71,
          12,
          54,
          68,
          27,
          21,
          64,
          57,
          19,
          31,
          52,
          46,
          11,
          53,
          57,
          71,
          1,
          68,
          72,
          2,
          41,
          72,
          58,
          7,
          65,
          1,
          56,
          4,
          58,
          62,
          26,
          62,
          58,
          68,
          61,
          42,
          18,
          56,
          4,
          35,
          64,
          31,
          67,
          70,
          2,
          29,
          47,
          12,
          8,
          54,
          69,
          26,
          72,
          70,
          28,
          21,
          53,
          53,
          70,
          61,
          11,
          2,
          25,
          41,
          71,
          34,
          29,
          40,
          36,
          46,
          58,
          39,
          52,
          70,
          65,
          1,
          70,
          29,
          67,
          1,
          30,
          48,
          55,
          37,
          31,
          4,
          72,
          1,
          15,
          8,
          35,
          56,
          65,
          2,
          65,
          18,
          23,
          70,
          4,
          19,
          18,
          38,
          47,
          52,
          9,
          26,
          44,
          3,
          2,
          25,
          2,
          58,
          59,
          44,
          66,
          68,
          9,
          19,
          4,
          70,
          1,
          8,
          53,
          51,
          11,
          60,
          17,
          1,
          43,
          16,
          57,
          37,
          72,
          2,
          17,
          16,
          10,
          64,
          1,
          25,
          71,
          72,
          49,
          29,
          72,
          50,
          71,
          70,
          71,
          61,
          68,
          62,
          7,
          6,
          33,
          28,
          27,
          7,
          30,
          63,
          53,
          21,
          17,
          16,
          35,
          32,
          28,
          1,
          59,
          72,
          40,
          40,
          63,
          3,
          40,
          8,
          34,
          9,
          31,
          50,
          9,
          25,
          1,
          45,
          55,
          38,
          38,
          34,
          70,
          13,
          61,
          41,
          21,
          55,
          69,
          69,
          47,
          72,
          33,
          72,
          37,
          62,
          71,
          23,
          16,
          9,
          17,
          24,
          1,
          72,
          72,
          11,
          60,
          49,
          30,
          53,
          39,
          9,
          39,
          8,
          51,
          71,
          71,
          70,
          38,
          28,
          32,
          49,
          37,
          10,
          67,
          7,
          51,
          9,
          4,
          71,
          24,
          22,
          44,
          33,
          1,
          30,
          1,
          16,
          71,
          43,
          50,
          41,
          40,
          3,
          37,
          32,
          32,
          59,
          30,
          27,
          9,
          68,
          69,
          26,
          69,
          11,
          1,
          10,
          55,
          44,
          69,
          11,
          29,
          57,
          28,
          42,
          23,
          18,
          62,
          67,
          62,
          2,
          23,
          25,
          72,
          2,
          8,
          35,
          24,
          2,
          72,
          41,
          26,
          4,
          48,
          12,
          60,
          55,
          1,
          1,
          42,
          1,
          3,
          72,
          15,
          11,
          5,
          72,
          55,
          40,
          57,
          52,
          43,
          47,
          3,
          55,
          29,
          12,
          66,
          27,
          58,
          9,
          6,
          9,
          8,
          12,
          43,
          42,
          66,
          1,
          10,
          18,
          3,
          50,
          1,
          2,
          17,
          69,
          72,
          50,
          53,
          58,
          46,
          72,
          6,
          72,
          4,
          52,
          0,
          2,
          65,
          51,
          12,
          24,
          64,
          26,
          15,
          64,
          27,
          8,
          10,
          2,
          51,
          46,
          1,
          46,
          50,
          53,
          61,
          5,
          47,
          54,
          19,
          26,
          70,
          17,
          1,
          19,
          26,
          50,
          68,
          9,
          51,
          9,
          22,
          71,
          26,
          71,
          4,
          12,
          18,
          3,
          72,
          13,
          42,
          17,
          7,
          68,
          56,
          38,
          72,
          48,
          52,
          35,
          67,
          1,
          53,
          34,
          19,
          60,
          11,
          60,
          72,
          39,
          59,
          2,
          71,
          24,
          67,
          37,
          11,
          18,
          50,
          67,
          25,
          9,
          10,
          70,
          9,
          4,
          2,
          19,
          7,
          1,
          9,
          5,
          56,
          18,
          70,
          72,
          17,
          29,
          63,
          59,
          3,
          8,
          68,
          68,
          52,
          72,
          32,
          72,
          1,
          42,
          45,
          43,
          37,
          63,
          3,
          66,
          8,
          71,
          72,
          16,
          66,
          51,
          8,
          14,
          70,
          70,
          24,
          69,
          42,
          39,
          45,
          72,
          38,
          72,
          72,
          55,
          51,
          63,
          1,
          23,
          2,
          52,
          36,
          1,
          28,
          7,
          72,
          10,
          42,
          7,
          72,
          63,
          56,
          5,
          72,
          68,
          67,
          8,
          52,
          18,
          59,
          60,
          7,
          59,
          46,
          5,
          59,
          70,
          44,
          64,
          58,
          46,
          58,
          72,
          11,
          34,
          54,
          72,
          54,
          14,
          1,
          56,
          68,
          14,
          68,
          55,
          16,
          9,
          53,
          70,
          14,
          10,
          29,
          30,
          72,
          10,
          1,
          20,
          1,
          29,
          1,
          3,
          20,
          64,
          6,
          50,
          6,
          7,
          72,
          8,
          67,
          72,
          33,
          70,
          22,
          59,
          36,
          51,
          53,
          20,
          63,
          40,
          35,
          26,
          53,
          34,
          19,
          43,
          6,
          56,
          34,
          10,
          56,
          55,
          36,
          47,
          12,
          24,
          35,
          67,
          21,
          13,
          71,
          29,
          7,
          57,
          65,
          27,
          72,
          1,
          11,
          39,
          59,
          26,
          2,
          72,
          65,
          72,
          6,
          32,
          50,
          61,
          72,
          1,
          12,
          61,
          18,
          21,
          68,
          12,
          62,
          1,
          1,
          62,
          36,
          69,
          63,
          23,
          10,
          71,
          45,
          70,
          22,
          52,
          65,
          72,
          10,
          7,
          5,
          24,
          72,
          21,
          69,
          44,
          61,
          72,
          72,
          14,
          7,
          48,
          55,
          1,
          45,
          3,
          71,
          8,
          69,
          72,
          71,
          33,
          16,
          56,
          1,
          57,
          56,
          1,
          40,
          46,
          63,
          68,
          69,
          56,
          10,
          63,
          24,
          19,
          22,
          70,
          49,
          42,
          57,
          72,
          46,
          72,
          35,
          72,
          28,
          45,
          1,
          6,
          48,
          25,
          64,
          50,
          52,
          4,
          32,
          45,
          9,
          54,
          64,
          12,
          67,
          45,
          10,
          29,
          24,
          66,
          51,
          45,
          49,
          29,
          40,
          25,
          22,
          72,
          33,
          23,
          69,
          3,
          56,
          65,
          71,
          14,
          2,
          40,
          1,
          7,
          15,
          71,
          54,
          31,
          11,
          18,
          72,
          71,
          5,
          38,
          5,
          52,
          68,
          69,
          42,
          50,
          33,
          7,
          64,
          59,
          6,
          3,
          15,
          13,
          23,
          31,
          29,
          49,
          56,
          63,
          63,
          24,
          36,
          21,
          13,
          1,
          25,
          71,
          66,
          45,
          22,
          67,
          68,
          0,
          4,
          63,
          21,
          1,
          17,
          30,
          22,
          9,
          1,
          19,
          72,
          70,
          66,
          7,
          46,
          32,
          24,
          37,
          8,
          72,
          71,
          16,
          57,
          66,
          21,
          66,
          17,
          8,
          27,
          34,
          30,
          33,
          14,
          16,
          49,
          70,
          32,
          18,
          37,
          4,
          16,
          17,
          19,
          60,
          51,
          28,
          43,
          42,
          1,
          63,
          68,
          60,
          45,
          70,
          4,
          68,
          22,
          18,
          29,
          31,
          48,
          50,
          7,
          68,
          26,
          57,
          3,
          19,
          3,
          59,
          42,
          67,
          1,
          66,
          61,
          4,
          64,
          54,
          1,
          54,
          18,
          3,
          72,
          60,
          11,
          61,
          39,
          37,
          72,
          72,
          8,
          22,
          38,
          17,
          70,
          28,
          15,
          72,
          57,
          46,
          30,
          10,
          32,
          13,
          44,
          9,
          67,
          71,
          1,
          17,
          1,
          32,
          41,
          1,
          62,
          17,
          72,
          56,
          9,
          72,
          20,
          19,
          53,
          6,
          9,
          8,
          71,
          71,
          68,
          34,
          26,
          7,
          20,
          60,
          72,
          72,
          4,
          16,
          62,
          10,
          31,
          71,
          58,
          70,
          71,
          69,
          72,
          26,
          33,
          10,
          57,
          10,
          39,
          11,
          68,
          18,
          18,
          52,
          56,
          45,
          67,
          3,
          65,
          63,
          11,
          1,
          55,
          25,
          72,
          65,
          7,
          72,
          21,
          2,
          4,
          72,
          6,
          52,
          69,
          8,
          63,
          60,
          12,
          13,
          22,
          72,
          2,
          40,
          44,
          71,
          26,
          1,
          3,
          13,
          1,
          4,
          2,
          72,
          37,
          23,
          42,
          32,
          22,
          42,
          8,
          65,
          70,
          22,
          67,
          25,
          20,
          2,
          51,
          46,
          13,
          26,
          19,
          72,
          18,
          24,
          46,
          72,
          70,
          2,
          31,
          16,
          52,
          13,
          35,
          59,
          72,
          49,
          2,
          21,
          54,
          1,
          6,
          49,
          56,
          56,
          6,
          32,
          50,
          58,
          65,
          64,
          66,
          38,
          20,
          64,
          60,
          50,
          72,
          60,
          46,
          69,
          31,
          19,
          71,
          12,
          44,
          56,
          72,
          11,
          15,
          72,
          56,
          64,
          34,
          35,
          22,
          9,
          23,
          68,
          33,
          31,
          56,
          66,
          72,
          34,
          58,
          37,
          71,
          1,
          71,
          35,
          6,
          69,
          53,
          5,
          2,
          62,
          19,
          9,
          53,
          5,
          71,
          1,
          72,
          4,
          59,
          31,
          3,
          49,
          2,
          55,
          72,
          36,
          10,
          72,
          28,
          38,
          61,
          52,
          67,
          34,
          54,
          1,
          46,
          55,
          1,
          64,
          58,
          56,
          72,
          72,
          22,
          39,
          12,
          54,
          18,
          32,
          41,
          67,
          65,
          25,
          67,
          43,
          24,
          69,
          37,
          20,
          7,
          41,
          54,
          69,
          53,
          18,
          64,
          20,
          57,
          63,
          13,
          48,
          57,
          71,
          7,
          16,
          34,
          16,
          48,
          58,
          72,
          7,
          30,
          31,
          46,
          50,
          28,
          66,
          41,
          72,
          7,
          38,
          44,
          47,
          53,
          4,
          20,
          57,
          44,
          24,
          15,
          24,
          33,
          58,
          72,
          71,
          51,
          72,
          14,
          72,
          22,
          2,
          15,
          51,
          70,
          71,
          39,
          61,
          52,
          64,
          62,
          30,
          63,
          1,
          15,
          27,
          4,
          72,
          45,
          45,
          36,
          1,
          16,
          71,
          10,
          20,
          4,
          29,
          2,
          29,
          13,
          59,
          18,
          17,
          47,
          19,
          68,
          2,
          7,
          18,
          71,
          13,
          72,
          66,
          24,
          56,
          22,
          42,
          72,
          12,
          71,
          26,
          7,
          6,
          51,
          72,
          47,
          62,
          16,
          6,
          69,
          64,
          25,
          6,
          66,
          61,
          43,
          12,
          23,
          71,
          34,
          41,
          72,
          14,
          41,
          23,
          71,
          72,
          6,
          23,
          72,
          7,
          9,
          12,
          1,
          48,
          20,
          10,
          20,
          20,
          19,
          22,
          35,
          1,
          39,
          54,
          56,
          18,
          16,
          68,
          53,
          72,
          9,
          30,
          18,
          55,
          33,
          44,
          30,
          71,
          1,
          23,
          22,
          49,
          42,
          7,
          67,
          15,
          67,
          53,
          21,
          40,
          22,
          39,
          2,
          57,
          8,
          7,
          49,
          65,
          55,
          71,
          35,
          17,
          72,
          28,
          18,
          52,
          47,
          23,
          66,
          8,
          71,
          50,
          46,
          66,
          42,
          5,
          29,
          27,
          25,
          57,
          47,
          13,
          71,
          1,
          2,
          55,
          71,
          50,
          1,
          5,
          66,
          49,
          3,
          66,
          11,
          28,
          65,
          62,
          2,
          2,
          55,
          41,
          30,
          17,
          16,
          72,
          9,
          1,
          23,
          8,
          19,
          7,
          61,
          57,
          15,
          1,
          12,
          54,
          4,
          20,
          26,
          53,
          68,
          72,
          12,
          68,
          50,
          41,
          30,
          1,
          29,
          23,
          60,
          72,
          72,
          66,
          72,
          51,
          70,
          9,
          59,
          3,
          38,
          37,
          37,
          14,
          72,
          72,
          17,
          10,
          0,
          1,
          29,
          65,
          8,
          61,
          45,
          72,
          12,
          7,
          9,
          58,
          2,
          40,
          9,
          41,
          26,
          33,
          68,
          65,
          55,
          19,
          45,
          70,
          12,
          72,
          12,
          71,
          35,
          70,
          31,
          30,
          33,
          54,
          59,
          55,
          69,
          66,
          37,
          9,
          69,
          10,
          13,
          69,
          66,
          46,
          56,
          70,
          33,
          72,
          19,
          71,
          1,
          61,
          71,
          68,
          46,
          33,
          53,
          50,
          57,
          54,
          60,
          10,
          43,
          13,
          43,
          1,
          69,
          61,
          43,
          56,
          70,
          49,
          32,
          72,
          37,
          69,
          26,
          58,
          24,
          5,
          30,
          55,
          44,
          47,
          64,
          1,
          20,
          37,
          30,
          38,
          52,
          71,
          66,
          72,
          25,
          69,
          53,
          26,
          21,
          1,
          48,
          26,
          60,
          18,
          4,
          65,
          70,
          62,
          66,
          65,
          34,
          16,
          50,
          71,
          18,
          4,
          58,
          56,
          56,
          4,
          10,
          4,
          51,
          6,
          63,
          48,
          35,
          2,
          50,
          33,
          31,
          9,
          54,
          46,
          34,
          71,
          63,
          51,
          64,
          61,
          15,
          18,
          57,
          14,
          18,
          72,
          70,
          38,
          68,
          65,
          30,
          51,
          31,
          72,
          37,
          55,
          33,
          46,
          1,
          19,
          61,
          26,
          45,
          62,
          3,
          41,
          67,
          71,
          37,
          60,
          6,
          11,
          10,
          34,
          62,
          64,
          25,
          26,
          10,
          53,
          33,
          71,
          29,
          24,
          20,
          1,
          72,
          52,
          9,
          1,
          69,
          1,
          54,
          33,
          45,
          11,
          6,
          21,
          65,
          43,
          60,
          17,
          35,
          12,
          1,
          28,
          70,
          18,
          70,
          9,
          67,
          1,
          18,
          71,
          1,
          55,
          59,
          7,
          45,
          54,
          51,
          72,
          44,
          2,
          66,
          68,
          31,
          21,
          21,
          55,
          71,
          22,
          67,
          14,
          21,
          4,
          70,
          21,
          20,
          22,
          63,
          70,
          5,
          72,
          13,
          61,
          1,
          56,
          4,
          35,
          72,
          49,
          44,
          37,
          61,
          70,
          41,
          70,
          51,
          42,
          48,
          48,
          27,
          46,
          25,
          13,
          31,
          23,
          2,
          65,
          55,
          35,
          6,
          17,
          10,
          15,
          13,
          58,
          45,
          72,
          68,
          38,
          2,
          11,
          20,
          72,
          40,
          62,
          22,
          11,
          7,
          3,
          58,
          6,
          22,
          64,
          6,
          39,
          20,
          64,
          46,
          28,
          33,
          39,
          1,
          70,
          65,
          1,
          18,
          24,
          63,
          44,
          4,
          37,
          34,
          35,
          4,
          39,
          43,
          61,
          49,
          4,
          64,
          3,
          1,
          40,
          34,
          1,
          45,
          43,
          41,
          5,
          72,
          4,
          9,
          72,
          33,
          72,
          15,
          29,
          15,
          72,
          19,
          1,
          2,
          11,
          12,
          70,
          23,
          49,
          2,
          69,
          24,
          32,
          27,
          58,
          18,
          47,
          70,
          36,
          67,
          10,
          19,
          71,
          72,
          48,
          1,
          18,
          67,
          69,
          72,
          38,
          40,
          61,
          32,
          21,
          59,
          47,
          69,
          2,
          22,
          15,
          53,
          28,
          22,
          16,
          48,
          30,
          3,
          57,
          23,
          65,
          44,
          71,
          37,
          12,
          69,
          35,
          5,
          58,
          72,
          72,
          1,
          53,
          27,
          18,
          46,
          72,
          4,
          25,
          40,
          63,
          14,
          72,
          39,
          47,
          19,
          17,
          34,
          42,
          71,
          19,
          57,
          72,
          6,
          61,
          48,
          16,
          3,
          65,
          70,
          60,
          69,
          35,
          22,
          66,
          34,
          72,
          31,
          30,
          19,
          65,
          30,
          6,
          2,
          53,
          7,
          61,
          13,
          35,
          2,
          3,
          62,
          72,
          63,
          35,
          62,
          15,
          55,
          11,
          61,
          71,
          35,
          17,
          47,
          3,
          3,
          44,
          1,
          44,
          18,
          65,
          3,
          33,
          34,
          14,
          13,
          23,
          47,
          17,
          59,
          69,
          10,
          12,
          39,
          71,
          71,
          33,
          67,
          9,
          52,
          70,
          1,
          1,
          52,
          6,
          7,
          26,
          25,
          69,
          72,
          4,
          59,
          67,
          26,
          27,
          72,
          6,
          62,
          20,
          6,
          51,
          61,
          62,
          72,
          13,
          38,
          34,
          18,
          56,
          36,
          57,
          70,
          68,
          1,
          37,
          4,
          1,
          20,
          72,
          11,
          33,
          62,
          1,
          16,
          22,
          49,
          36,
          31,
          5,
          66,
          64,
          10,
          29,
          57,
          46,
          53,
          17,
          38,
          15,
          22,
          57,
          11,
          1,
          12,
          36,
          2,
          72,
          62,
          6,
          48,
          35,
          52,
          1,
          71,
          67,
          60,
          23,
          39,
          15,
          24,
          37,
          50,
          54,
          3,
          5,
          33,
          41,
          34,
          13,
          20,
          51,
          41,
          13,
          35,
          4,
          12,
          7,
          53,
          63,
          5,
          37,
          12,
          38,
          9,
          13,
          47,
          61,
          16,
          41,
          43,
          6,
          58,
          19,
          11,
          39,
          8,
          26,
          53,
          70,
          59,
          7,
          59,
          61,
          72,
          13,
          64,
          10,
          65,
          62,
          55,
          25,
          1,
          64,
          36,
          61,
          26,
          68,
          72,
          71,
          57,
          4,
          1,
          72,
          21,
          71,
          69,
          64,
          16,
          4,
          1,
          18,
          2,
          19,
          40,
          66,
          21,
          8,
          72,
          48,
          69,
          72,
          14,
          6,
          8,
          17,
          65,
          57,
          56,
          14,
          52,
          58,
          67,
          2,
          6,
          71,
          46,
          67,
          3,
          3,
          50,
          23,
          67,
          39,
          69,
          1,
          32,
          60,
          72,
          26,
          2,
          2,
          36,
          7,
          60,
          19,
          45,
          4,
          47,
          1,
          59,
          35,
          32,
          54,
          66,
          61,
          72,
          44,
          41,
          50,
          8,
          18,
          72,
          42,
          18,
          13,
          68,
          69,
          25,
          59,
          5,
          69,
          13,
          52,
          61,
          29,
          25,
          15,
          19,
          44,
          58,
          62,
          70,
          10,
          26,
          66,
          51,
          72,
          65,
          70,
          72,
          1,
          3,
          58,
          33,
          54,
          72,
          72,
          72,
          54,
          59,
          54,
          60,
          60,
          3,
          69,
          1,
          50,
          56,
          60,
          69,
          3,
          60,
          13,
          62,
          45,
          25,
          44,
          2,
          22,
          35,
          29,
          27,
          54,
          57,
          62,
          15,
          70,
          21,
          23,
          6,
          4,
          23,
          26,
          8,
          2,
          59,
          39,
          21,
          48,
          31,
          64,
          46,
          52,
          67,
          67,
          71,
          71,
          32,
          2,
          71,
          60,
          55,
          6,
          48,
          63,
          12,
          54,
          30,
          40,
          9,
          62,
          28,
          70,
          46,
          23,
          47,
          68,
          67,
          14,
          57,
          55,
          1,
          23,
          47,
          38,
          2,
          15,
          26,
          35,
          3,
          42,
          10,
          61,
          68,
          10,
          72,
          55,
          7,
          2,
          9,
          27,
          64,
          70,
          67,
          24,
          4,
          44,
          72,
          66,
          65,
          1,
          38,
          23,
          10,
          72,
          35,
          58,
          70,
          38,
          60,
          26,
          8,
          36,
          54,
          55,
          72,
          54,
          72,
          52,
          60,
          39,
          15,
          43,
          63,
          2,
          72,
          40,
          58,
          67,
          31,
          69,
          32,
          21,
          52,
          72,
          52,
          41,
          41,
          67,
          16,
          17,
          35,
          58,
          52,
          70,
          19,
          35,
          32,
          17,
          67,
          9,
          4,
          58,
          60,
          1,
          27,
          66,
          15,
          41,
          59,
          50,
          17,
          6,
          51,
          49,
          59,
          50,
          59,
          18,
          10,
          14,
          35,
          8,
          18,
          60,
          6,
          19,
          53,
          72,
          60,
          13,
          5,
          13,
          37,
          64,
          61,
          26,
          24,
          17,
          26,
          52,
          1,
          21,
          67,
          44,
          70,
          56,
          46,
          63,
          11,
          15,
          72,
          6,
          63,
          18,
          43,
          15,
          55,
          70,
          63,
          25,
          18,
          28,
          53,
          1,
          26,
          34,
          19,
          62,
          24,
          68,
          31,
          63,
          61,
          18,
          6,
          33,
          56,
          23,
          9,
          5,
          61,
          70,
          15,
          8,
          8,
          4,
          34,
          68,
          45,
          9,
          22,
          2,
          70,
          10,
          72,
          49,
          54,
          71,
          22,
          50,
          43,
          45,
          64,
          23,
          68,
          26,
          14,
          71,
          64,
          57,
          72,
          40,
          14,
          2,
          5,
          29,
          3,
          71,
          9,
          48,
          26,
          9,
          46,
          64,
          59,
          7,
          72,
          16,
          25,
          24,
          10,
          69,
          57,
          50,
          28,
          25,
          3,
          61,
          2,
          51,
          71,
          20,
          6,
          6,
          29,
          36,
          28,
          63,
          48,
          49,
          72,
          72,
          47,
          1,
          36,
          43,
          27,
          38,
          35,
          0,
          59,
          27,
          2,
          7,
          36,
          41,
          13,
          19,
          60,
          69,
          43,
          11,
          45,
          72,
          12,
          67,
          37,
          39,
          41,
          25,
          8,
          71,
          5,
          30,
          40,
          54,
          72,
          28,
          18,
          59,
          22,
          1,
          72,
          50,
          48,
          49,
          28,
          68,
          13,
          11,
          72,
          70,
          49,
          67,
          46,
          37,
          13,
          72,
          68,
          15,
          24,
          24,
          27,
          71,
          67,
          63,
          1,
          4,
          52,
          10,
          68,
          52,
          70,
          43,
          52,
          12,
          56,
          0,
          42,
          22,
          27,
          51,
          1,
          71,
          69,
          14,
          57,
          72,
          48,
          4,
          31,
          1,
          57,
          62,
          3,
          72,
          29,
          13,
          11,
          21,
          19,
          35,
          25,
          67,
          72,
          43,
          55,
          27,
          13,
          70,
          19,
          20,
          43,
          5,
          70,
          40,
          6,
          39,
          45,
          57,
          72,
          72,
          3,
          59,
          4,
          27,
          4,
          60,
          8,
          8,
          35,
          53,
          18,
          15,
          67,
          6,
          1,
          5,
          13,
          29,
          1,
          18,
          2,
          30,
          66,
          38,
          44,
          2,
          42,
          58,
          58,
          71,
          48,
          8,
          67,
          49,
          52,
          63,
          68,
          31,
          64,
          62,
          21,
          72,
          32,
          71,
          34,
          35,
          3,
          3,
          53,
          4,
          48,
          54,
          62,
          22,
          51,
          30,
          56,
          35,
          64,
          30,
          25,
          1,
          70,
          57,
          9,
          69,
          72,
          44,
          72,
          54,
          27,
          54,
          3,
          53,
          15,
          5,
          48,
          25,
          58,
          10,
          71,
          65,
          28,
          67,
          35,
          72,
          61,
          68,
          3,
          48,
          68,
          47,
          32,
          5,
          49,
          15,
          12,
          67,
          9,
          13,
          38,
          42,
          9,
          49,
          61,
          50,
          53,
          51,
          24,
          62,
          24,
          70,
          1,
          8,
          72,
          23,
          31,
          37,
          35,
          23,
          20,
          36,
          71,
          43,
          57,
          27,
          13,
          67,
          64,
          26,
          38,
          23,
          72,
          62,
          40,
          41,
          34,
          1,
          51,
          39,
          12,
          72,
          63,
          44,
          18,
          13,
          68,
          6,
          2,
          55,
          38,
          19,
          12,
          72,
          24,
          72,
          11,
          66
         ],
         "xaxis": "x",
         "yaxis": "y"
        },
        {
         "alignmentgroup": "True",
         "hovertemplate": "Churn Label=No<br>Tenure Months=%{x}<extra></extra>",
         "legendgroup": "No",
         "marker": {
          "color": "#EF553B"
         },
         "name": "No",
         "notched": true,
         "offsetgroup": "No",
         "showlegend": false,
         "type": "box",
         "x": [
          1,
          34,
          45,
          22,
          10,
          62,
          13,
          16,
          58,
          25,
          69,
          52,
          71,
          21,
          12,
          58,
          49,
          30,
          72,
          71,
          2,
          27,
          1,
          1,
          72,
          46,
          10,
          70,
          17,
          63,
          13,
          49,
          2,
          52,
          69,
          43,
          25,
          60,
          63,
          66,
          34,
          72,
          47,
          60,
          72,
          18,
          3,
          47,
          31,
          50,
          10,
          1,
          52,
          64,
          62,
          3,
          56,
          46,
          8,
          30,
          45,
          11,
          42,
          49,
          9,
          35,
          48,
          46,
          29,
          30,
          1,
          66,
          65,
          72,
          71,
          52,
          1,
          1,
          38,
          66,
          5,
          72,
          32,
          43,
          72,
          52,
          43,
          64,
          3,
          36,
          41,
          27,
          56,
          6,
          7,
          4,
          33,
          72,
          1,
          71,
          13,
          67,
          43,
          23,
          64,
          57,
          72,
          61,
          64,
          71,
          65,
          3,
          30,
          15,
          8,
          70,
          62,
          6,
          14,
          22,
          22,
          16,
          10,
          13,
          2,
          53,
          11,
          69,
          72,
          16,
          43,
          14,
          32,
          34,
          15,
          61,
          1,
          33,
          20,
          3,
          13,
          40,
          43,
          69,
          72,
          59,
          20,
          24,
          59,
          72,
          1,
          27,
          14,
          71,
          13,
          44,
          33,
          72,
          64,
          1,
          61,
          29,
          23,
          57,
          72,
          66,
          65,
          8,
          71,
          1,
          12,
          24,
          31,
          30,
          47,
          54,
          50,
          72,
          29,
          10,
          18,
          16,
          72,
          72,
          41,
          65,
          13,
          4,
          41,
          42,
          51,
          32,
          10,
          67,
          61,
          50,
          29,
          57,
          31,
          45,
          61,
          50,
          19,
          71,
          57,
          20,
          21,
          14,
          5,
          6,
          10,
          1,
          68,
          22,
          20,
          35,
          23,
          6,
          12,
          1,
          71,
          35,
          40,
          23,
          4,
          68,
          38,
          52,
          29,
          38,
          48,
          1,
          22,
          43,
          5,
          51,
          71,
          35,
          72,
          1,
          9,
          69,
          52,
          11,
          28,
          17,
          35,
          8,
          46,
          68,
          36,
          32,
          71,
          66,
          63,
          41,
          1,
          70,
          23,
          64,
          37,
          17,
          7,
          16,
          64,
          42,
          5,
          41,
          58,
          47,
          18,
          23,
          1,
          71,
          72,
          33,
          24,
          56,
          37,
          43,
          1,
          61,
          17,
          41,
          72,
          48,
          42,
          44,
          1,
          27,
          27,
          2,
          19,
          42,
          66,
          33,
          33,
          23,
          32,
          11,
          68,
          20,
          72,
          60,
          32,
          46,
          29,
          51,
          48,
          16,
          70,
          40,
          5,
          7,
          29,
          44,
          10,
          55,
          52,
          10,
          18,
          68,
          72,
          2,
          41,
          26,
          36,
          72,
          35,
          1,
          16,
          49,
          54,
          18,
          36,
          52,
          8,
          72,
          64,
          22,
          60,
          61,
          24,
          28,
          30,
          2,
          1,
          6,
          24,
          72,
          70,
          64,
          72,
          44,
          17,
          9,
          24,
          35,
          7,
          11,
          20,
          72,
          72,
          15,
          72,
          0,
          63,
          2,
          61,
          1,
          28,
          70,
          34,
          71,
          70,
          52,
          69,
          11,
          1,
          20,
          61,
          56,
          30,
          28,
          5,
          12,
          67,
          29,
          55,
          52,
          72,
          58,
          35,
          56,
          24,
          70,
          2,
          68,
          12,
          63,
          33,
          69,
          60,
          72,
          11,
          1,
          34,
          65,
          50,
          15,
          72,
          72,
          55,
          23,
          56,
          1,
          38,
          11,
          1,
          56,
          3,
          7,
          59,
          7,
          71,
          15,
          71,
          11,
          60,
          47,
          11,
          28,
          61,
          31,
          9,
          35,
          2,
          1,
          3,
          52,
          5,
          72,
          71,
          72,
          46,
          63,
          30,
          1,
          16,
          4,
          51,
          65,
          16,
          2,
          66,
          46,
          32,
          72,
          38,
          51,
          72,
          66,
          44,
          50,
          15,
          8,
          66,
          57,
          7,
          10,
          62,
          40,
          20,
          25,
          23,
          66,
          72,
          46,
          72,
          10,
          40,
          31,
          68,
          68,
          49,
          15,
          50,
          24,
          35,
          17,
          10,
          68,
          45,
          37,
          10,
          1,
          65,
          57,
          3,
          49,
          70,
          53,
          53,
          22,
          65,
          48,
          3,
          45,
          61,
          3,
          40,
          1,
          1,
          51,
          52,
          51,
          1,
          31,
          47,
          22,
          1,
          72,
          47,
          72,
          66,
          35,
          29,
          2,
          4,
          65,
          27,
          29,
          29,
          20,
          58,
          14,
          72,
          46,
          71,
          32,
          26,
          68,
          2,
          61,
          9,
          22,
          5,
          65,
          5,
          25,
          72,
          27,
          32,
          30,
          70,
          42,
          72,
          47,
          2,
          61,
          5,
          72,
          72,
          3,
          48,
          63,
          27,
          70,
          7,
          0,
          2,
          66,
          3,
          72,
          1,
          72,
          65,
          11,
          22,
          14,
          41,
          17,
          11,
          72,
          3,
          59,
          71,
          5,
          27,
          63,
          72,
          34,
          24,
          72,
          60,
          68,
          8,
          34,
          6,
          2,
          31,
          20,
          1,
          70,
          39,
          46,
          72,
          18,
          71,
          42,
          34,
          5,
          25,
          55,
          70,
          61,
          43,
          47,
          5,
          62,
          14,
          34,
          38,
          70,
          37,
          60,
          62,
          36,
          44,
          72,
          13,
          15,
          65,
          12,
          72,
          72,
          72,
          52,
          2,
          5,
          68,
          72,
          66,
          72,
          26,
          64,
          62,
          5,
          3,
          72,
          57,
          66,
          45,
          3,
          51,
          60,
          33,
          26,
          67,
          49,
          1,
          7,
          27,
          37,
          31,
          32,
          63,
          30,
          71,
          53,
          50,
          2,
          56,
          67,
          4,
          19,
          8,
          71,
          15,
          72,
          12,
          72,
          23,
          72,
          26,
          21,
          60,
          12,
          16,
          63,
          22,
          32,
          68,
          30,
          16,
          33,
          72,
          12,
          4,
          0,
          65,
          15,
          24,
          13,
          24,
          72,
          54,
          4,
          32,
          35,
          8,
          22,
          15,
          22,
          71,
          4,
          25,
          32,
          7,
          17,
          8,
          56,
          3,
          71,
          49,
          58,
          59,
          11,
          35,
          20,
          40,
          39,
          72,
          12,
          1,
          27,
          34,
          56,
          58,
          22,
          10,
          13,
          72,
          2,
          4,
          37,
          21,
          53,
          23,
          3,
          71,
          9,
          1,
          71,
          64,
          4,
          23,
          39,
          28,
          5,
          45,
          37,
          60,
          47,
          50,
          27,
          62,
          71,
          66,
          68,
          13,
          56,
          16,
          14,
          8,
          43,
          52,
          3,
          29,
          16,
          40,
          36,
          26,
          72,
          34,
          10,
          14,
          47,
          24,
          20,
          22,
          1,
          59,
          58,
          59,
          3,
          32,
          46,
          0,
          52,
          32,
          16,
          51,
          29,
          70,
          71,
          41,
          1,
          7,
          67,
          5,
          15,
          20,
          54,
          42,
          9,
          63,
          69,
          69,
          40,
          60,
          71,
          32,
          39,
          38,
          52,
          48,
          70,
          20,
          50,
          25,
          12,
          23,
          27,
          47,
          26,
          2,
          26,
          72,
          63,
          71,
          11,
          14,
          13,
          6,
          11,
          18,
          32,
          29,
          3,
          41,
          1,
          7,
          52,
          45,
          70,
          53,
          62,
          60,
          23,
          67,
          71,
          25,
          5,
          26,
          1,
          70,
          72,
          32,
          14,
          13,
          46,
          43,
          39,
          57,
          53,
          18,
          58,
          71,
          35,
          3,
          38,
          35,
          47,
          14,
          20,
          66,
          15,
          42,
          17,
          37,
          12,
          60,
          18,
          3,
          9,
          56,
          7,
          69,
          54,
          62,
          62,
          17,
          9,
          64,
          72,
          30,
          49,
          61,
          47,
          20,
          70,
          54,
          61,
          13,
          3,
          25,
          30,
          21,
          23,
          45,
          24,
          56,
          1,
          55,
          72,
          45,
          47,
          2,
          2,
          12,
          69,
          56,
          4,
          64,
          62,
          63,
          53,
          5,
          49,
          62,
          55,
          71,
          72,
          36,
          25,
          72,
          36,
          1,
          72,
          59,
          1,
          30,
          64,
          63,
          72,
          62,
          67,
          70,
          20,
          5,
          24,
          72,
          66,
          45,
          69,
          28,
          36,
          42,
          48,
          11,
          7,
          3,
          8,
          32,
          60,
          10,
          71,
          43,
          23,
          72,
          22,
          1,
          69,
          50,
          15,
          31,
          0,
          8,
          64,
          28,
          57,
          19,
          51,
          67,
          11,
          72,
          66,
          9,
          9,
          48,
          10,
          72,
          51,
          61,
          54,
          33,
          27,
          23,
          1,
          45,
          39,
          72,
          58,
          70,
          61,
          2,
          46,
          48,
          64,
          72,
          12,
          72,
          29,
          33,
          1,
          62,
          4,
          24,
          14,
          3,
          8,
          35,
          66,
          8,
          71,
          43,
          29,
          65,
          35,
          64,
          58,
          18,
          67,
          63,
          60,
          70,
          48,
          12,
          71,
          44,
          45,
          23,
          43,
          35,
          9,
          65,
          27,
          40,
          8,
          58,
          52,
          3,
          41,
          20,
          1,
          23,
          6,
          8,
          18,
          52,
          31,
          29,
          36,
          42,
          60,
          22,
          36,
          9,
          1,
          12,
          23,
          62,
          8,
          31,
          45,
          69,
          2,
          44,
          39,
          72,
          13,
          51,
          71,
          56,
          1,
          23,
          66,
          1,
          11,
          52,
          3,
          51,
          64,
          37,
          13,
          49,
          45,
          18,
          68,
          54,
          23,
          71,
          67,
          14,
          63,
          41,
          17,
          56,
          5,
          3,
          37,
          8,
          63,
          7,
          3,
          72,
          19,
          59,
          35,
          14,
          69,
          7,
          69,
          72,
          4,
          63,
          72,
          46,
          30,
          63,
          60,
          25,
          6,
          22,
          31,
          39,
          26,
          12,
          2,
          39,
          7,
          4,
          55,
          72,
          10,
          11,
          15,
          23,
          1,
          47,
          15,
          68,
          21,
          21,
          56,
          6,
          65,
          42,
          68,
          48,
          50,
          7,
          63,
          17,
          4,
          62,
          2,
          48,
          27,
          70,
          46,
          69,
          65,
          72,
          17,
          51,
          51,
          72,
          34,
          67,
          49,
          53,
          27,
          69,
          2,
          46,
          54,
          20,
          11,
          30,
          68,
          38,
          1,
          63,
          3,
          48,
          66,
          68,
          7,
          72,
          29,
          37,
          59,
          60,
          27,
          17,
          58,
          1,
          53,
          35,
          68,
          47,
          65,
          9,
          8,
          14,
          45,
          8,
          66,
          72,
          23,
          4,
          6,
          67,
          7,
          56,
          72,
          72,
          23,
          35,
          27,
          12,
          40,
          7,
          70,
          60,
          39,
          72,
          54,
          63,
          71,
          42,
          47,
          11,
          55,
          69,
          3,
          30,
          5,
          71,
          29,
          52,
          68,
          46,
          8,
          72,
          17,
          3,
          2,
          51,
          6,
          3,
          17,
          30,
          31,
          45,
          64,
          61,
          1,
          72,
          7,
          66,
          40,
          16,
          67,
          41,
          56,
          72,
          54,
          52,
          50,
          27,
          72,
          62,
          12,
          44,
          54,
          68,
          20,
          50,
          58,
          35,
          2,
          63,
          58,
          27,
          71,
          63,
          71,
          68,
          1,
          65,
          72,
          28,
          72,
          2,
          60,
          26,
          68,
          42,
          57,
          54,
          44,
          42,
          72,
          71,
          23,
          30,
          35,
          1,
          22,
          7,
          36,
          34,
          72,
          36,
          71,
          23,
          17,
          1,
          12,
          72,
          1,
          72,
          60,
          61,
          6,
          72,
          32,
          65,
          45,
          42,
          8,
          32,
          22,
          1,
          1,
          54,
          4,
          56,
          45,
          71,
          59,
          69,
          19,
          55,
          38,
          47,
          46,
          65,
          71,
          52,
          6,
          26,
          48,
          64,
          1,
          72,
          1,
          51,
          41,
          72,
          43,
          72,
          47,
          72,
          3,
          26,
          29,
          27,
          24,
          67,
          23,
          14,
          4,
          16,
          46,
          68,
          38,
          17,
          4,
          12,
          72,
          3,
          41,
          40,
          7,
          69,
          7,
          5,
          72,
          44,
          65,
          3,
          24,
          72,
          24,
          22,
          70,
          25,
          37,
          22,
          59,
          1,
          3,
          53,
          1,
          20,
          51,
          51,
          13,
          1,
          1,
          63,
          3,
          46,
          1,
          71,
          55,
          70,
          67,
          14,
          20,
          49,
          72,
          46,
          24,
          5,
          33,
          42,
          23,
          8,
          66,
          24,
          53,
          60,
          20,
          23,
          72,
          21,
          31,
          57,
          45,
          10,
          14,
          27,
          69,
          35,
          45,
          17,
          22,
          67,
          67,
          9,
          5,
          54,
          70,
          53,
          31,
          13,
          28,
          38,
          52,
          62,
          16,
          12,
          72,
          71,
          24,
          15,
          2,
          5,
          41,
          43,
          1,
          1,
          71,
          7,
          28,
          16,
          7,
          69,
          1,
          3,
          69,
          71,
          69,
          48,
          45,
          51,
          72,
          37,
          71,
          66,
          51,
          30,
          34,
          64,
          65,
          47,
          67,
          39,
          14,
          56,
          14,
          16,
          70,
          72,
          23,
          21,
          36,
          50,
          48,
          50,
          72,
          10,
          18,
          9,
          2,
          40,
          69,
          18,
          11,
          55,
          33,
          46,
          34,
          3,
          30,
          33,
          45,
          40,
          71,
          72,
          22,
          46,
          55,
          1,
          12,
          31,
          67,
          1,
          41,
          42,
          23,
          1,
          56,
          15,
          12,
          54,
          7,
          16,
          21,
          30,
          3,
          11,
          62,
          18,
          6,
          46,
          21,
          68,
          1,
          25,
          24,
          51,
          57,
          15,
          72,
          28,
          70,
          13,
          59,
          62,
          21,
          2,
          1,
          4,
          19,
          67,
          72,
          53,
          5,
          71,
          50,
          56,
          2,
          46,
          71,
          29,
          69,
          71,
          56,
          56,
          28,
          19,
          66,
          17,
          52,
          19,
          36,
          72,
          34,
          8,
          69,
          50,
          10,
          12,
          70,
          64,
          66,
          71,
          20,
          72,
          71,
          38,
          33,
          23,
          58,
          70,
          4,
          45,
          36,
          54,
          23,
          41,
          5,
          27,
          1,
          67,
          72,
          56,
          44,
          66,
          69,
          40,
          30,
          11,
          15,
          11,
          64,
          72,
          72,
          1,
          15,
          60,
          56,
          8,
          49,
          70,
          52,
          72,
          40,
          40,
          1,
          30,
          44,
          7,
          72,
          8,
          3,
          8,
          5,
          72,
          54,
          72,
          1,
          69,
          48,
          8,
          71,
          67,
          34,
          3,
          9,
          71,
          57,
          72,
          48,
          18,
          43,
          72,
          35,
          4,
          49,
          71,
          11,
          63,
          65,
          49,
          4,
          72,
          26,
          35,
          57,
          28,
          25,
          47,
          57,
          16,
          5,
          72,
          48,
          68,
          30,
          3,
          14,
          4,
          71,
          8,
          61,
          72,
          5,
          49,
          8,
          3,
          9,
          67,
          46,
          67,
          55,
          33,
          62,
          49,
          1,
          14,
          18,
          72,
          64,
          69,
          1,
          71,
          66,
          2,
          71,
          11,
          47,
          60,
          11,
          29,
          21,
          48,
          3,
          43,
          5,
          1,
          71,
          8,
          8,
          20,
          71,
          31,
          38,
          2,
          12,
          9,
          11,
          6,
          71,
          42,
          45,
          28,
          43,
          60,
          7,
          25,
          27,
          10,
          27,
          11,
          4,
          68,
          1,
          18,
          26,
          17,
          59,
          30,
          50,
          9,
          3,
          14,
          31,
          7,
          17,
          32,
          2,
          72,
          27,
          7,
          11,
          72,
          4,
          71,
          47,
          57,
          50,
          8,
          48,
          70,
          1,
          8,
          60,
          49,
          29,
          67,
          67,
          6,
          47,
          53,
          69,
          3,
          4,
          56,
          61,
          2,
          12,
          28,
          24,
          68,
          39,
          42,
          6,
          38,
          18,
          4,
          27,
          41,
          50,
          72,
          70,
          44,
          34,
          72,
          71,
          64,
          72,
          29,
          23,
          52,
          64,
          24,
          2,
          34,
          53,
          47,
          72,
          72,
          7,
          71,
          41,
          67,
          69,
          70,
          72,
          34,
          65,
          70,
          72,
          35,
          12,
          62,
          25,
          52,
          8,
          2,
          56,
          12,
          47,
          2,
          18,
          8,
          45,
          3,
          38,
          72,
          71,
          66,
          13,
          65,
          15,
          72,
          42,
          71,
          35,
          53,
          48,
          30,
          10,
          12,
          57,
          58,
          37,
          44,
          27,
          8,
          25,
          57,
          12,
          62,
          65,
          71,
          21,
          71,
          7,
          72,
          1,
          72,
          64,
          72,
          29,
          13,
          31,
          14,
          72,
          25,
          18,
          71,
          28,
          2,
          17,
          56,
          60,
          33,
          1,
          63,
          55,
          65,
          63,
          70,
          36,
          22,
          5,
          1,
          56,
          2,
          35,
          64,
          15,
          1,
          70,
          39,
          29,
          14,
          61,
          13,
          66,
          59,
          62,
          33,
          66,
          72,
          51,
          63,
          27,
          4,
          42,
          29,
          30,
          71,
          46,
          69,
          72,
          28,
          72,
          7,
          22,
          72,
          8,
          52,
          68,
          71,
          2,
          34,
          35,
          61,
          1,
          53,
          72,
          41,
          24,
          8,
          1,
          54,
          41,
          19,
          72,
          62,
          56,
          32,
          21,
          62,
          2,
          27,
          25,
          49,
          63,
          4,
          1,
          11,
          52,
          60,
          64,
          43,
          61,
          66,
          67,
          42,
          31,
          7,
          34,
          3,
          19,
          3,
          46,
          69,
          5,
          1,
          26,
          25,
          64,
          30,
          13,
          64,
          46,
          12,
          13,
          67,
          24,
          6,
          10,
          13,
          7,
          38,
          43,
          25,
          27,
          72,
          71,
          24,
          57,
          15,
          4,
          28,
          55,
          55,
          20,
          62,
          43,
          60,
          58,
          7,
          2,
          37,
          65,
          39,
          68,
          62,
          72,
          41,
          4,
          53,
          39,
          63,
          15,
          13,
          1,
          1,
          60,
          40,
          66,
          42,
          66,
          49,
          41,
          41,
          23,
          3,
          4,
          52,
          11,
          2,
          26,
          24,
          12,
          60,
          64,
          66,
          60,
          17,
          42,
          1,
          47,
          10,
          70,
          67,
          1,
          4,
          66,
          12,
          24,
          26,
          57,
          42,
          64,
          19,
          22,
          12,
          31,
          11,
          68,
          72,
          67,
          60,
          58,
          1,
          37,
          13,
          43,
          6,
          71,
          72,
          6,
          12,
          21,
          6,
          43,
          35,
          32,
          52,
          32,
          72,
          51,
          68,
          8,
          49,
          72,
          54,
          50,
          69,
          1,
          68,
          40,
          31,
          33,
          55,
          68,
          12,
          71,
          40,
          64,
          53,
          72,
          46,
          40,
          12,
          9,
          51,
          49,
          56,
          4,
          20,
          26,
          51,
          4,
          1,
          27,
          12,
          34,
          24,
          14,
          59,
          3,
          65,
          59,
          72,
          3,
          19,
          1,
          24,
          57,
          72,
          67,
          52,
          71,
          26,
          35,
          55,
          33,
          72,
          1,
          37,
          12,
          1,
          62,
          1,
          18,
          2,
          19,
          9,
          27,
          24,
          11,
          1,
          38,
          9,
          54,
          29,
          44,
          59,
          18,
          67,
          33,
          5,
          2,
          72,
          9,
          67,
          8,
          17,
          68,
          25,
          67,
          32,
          67,
          72,
          1,
          48,
          61,
          2,
          71,
          37,
          65,
          67,
          50,
          25,
          64,
          25,
          24,
          37,
          21,
          1,
          10,
          51,
          10,
          6,
          47,
          61,
          52,
          35,
          71,
          45,
          2,
          51,
          60,
          9,
          17,
          46,
          68,
          4,
          28,
          39,
          11,
          71,
          2,
          17,
          55,
          58,
          9,
          26,
          50,
          72,
          43,
          56,
          1,
          72,
          36,
          5,
          44,
          70,
          44,
          69,
          68,
          16,
          68,
          4,
          26,
          5,
          70,
          24,
          72,
          1,
          70,
          36,
          41,
          14,
          13,
          6,
          15,
          47,
          8,
          17,
          15,
          26,
          23,
          4,
          29,
          25,
          3,
          69,
          14,
          19,
          39,
          31,
          24,
          14,
          64,
          50,
          52,
          28,
          21,
          17,
          58,
          51,
          72,
          27,
          3,
          64,
          45,
          71,
          58,
          34,
          15,
          66,
          12,
          58,
          3,
          9,
          3,
          40,
          68,
          50,
          1,
          72,
          40,
          72,
          6,
          5,
          48,
          64,
          17,
          40,
          41,
          51,
          41,
          2,
          68,
          24,
          70,
          3,
          2,
          3,
          13,
          7,
          12,
          53,
          63,
          15,
          36,
          4,
          24,
          61,
          16,
          65,
          26,
          16,
          5,
          19,
          10,
          72,
          10,
          11,
          17,
          36,
          17,
          66,
          61,
          22,
          1,
          6,
          68,
          52,
          10,
          72,
          47,
          24,
          65,
          4,
          34,
          14,
          13,
          65,
          23,
          55,
          49,
          60,
          69,
          40,
          67,
          13,
          41,
          4,
          24,
          5,
          5,
          72,
          24,
          42,
          4,
          68,
          33,
          69,
          38,
          3,
          48,
          15,
          25,
          48,
          1,
          1,
          37,
          66,
          26,
          63,
          18,
          64,
          28,
          1,
          66,
          1,
          18,
          0,
          12,
          12,
          55,
          7,
          68,
          49,
          40,
          16,
          72,
          2,
          23,
          71,
          12,
          54,
          68,
          27,
          21,
          64,
          57,
          19,
          31,
          52,
          46,
          11,
          53,
          57,
          71,
          1,
          68,
          72,
          2,
          41,
          72,
          58,
          7,
          65,
          1,
          56,
          4,
          58,
          62,
          26,
          62,
          58,
          68,
          61,
          42,
          18,
          56,
          4,
          35,
          64,
          31,
          67,
          70,
          2,
          29,
          47,
          12,
          8,
          54,
          69,
          26,
          72,
          70,
          28,
          21,
          53,
          53,
          70,
          61,
          11,
          2,
          25,
          41,
          71,
          34,
          29,
          40,
          36,
          46,
          58,
          39,
          52,
          70,
          65,
          1,
          70,
          29,
          67,
          1,
          30,
          48,
          55,
          37,
          31,
          4,
          72,
          1,
          15,
          8,
          35,
          56,
          65,
          2,
          65,
          18,
          23,
          70,
          4,
          19,
          18,
          38,
          47,
          52,
          9,
          26,
          44,
          3,
          2,
          25,
          2,
          58,
          59,
          44,
          66,
          68,
          9,
          19,
          4,
          70,
          1,
          8,
          53,
          51,
          11,
          60,
          17,
          1,
          43,
          16,
          57,
          37,
          72,
          2,
          17,
          16,
          10,
          64,
          1,
          25,
          71,
          72,
          49,
          29,
          72,
          50,
          71,
          70,
          71,
          61,
          68,
          62,
          7,
          6,
          33,
          28,
          27,
          7,
          30,
          63,
          53,
          21,
          17,
          16,
          35,
          32,
          28,
          1,
          59,
          72,
          40,
          40,
          63,
          3,
          40,
          8,
          34,
          9,
          31,
          50,
          9,
          25,
          1,
          45,
          55,
          38,
          38,
          34,
          70,
          13,
          61,
          41,
          21,
          55,
          69,
          69,
          47,
          72,
          33,
          72,
          37,
          62,
          71,
          23,
          16,
          9,
          17,
          24,
          1,
          72,
          72,
          11,
          60,
          49,
          30,
          53,
          39,
          9,
          39,
          8,
          51,
          71,
          71,
          70,
          38,
          28,
          32,
          49,
          37,
          10,
          67,
          7,
          51,
          9,
          4,
          71,
          24,
          22,
          44,
          33,
          1,
          30,
          1,
          16,
          71,
          43,
          50,
          41,
          40,
          3,
          37,
          32,
          32,
          59,
          30,
          27,
          9,
          68,
          69,
          26,
          69,
          11,
          1,
          10,
          55,
          44,
          69,
          11,
          29,
          57,
          28,
          42,
          23,
          18,
          62,
          67,
          62,
          2,
          23,
          25,
          72,
          2,
          8,
          35,
          24,
          2,
          72,
          41,
          26,
          4,
          48,
          12,
          60,
          55,
          1,
          1,
          42,
          1,
          3,
          72,
          15,
          11,
          5,
          72,
          55,
          40,
          57,
          52,
          43,
          47,
          3,
          55,
          29,
          12,
          66,
          27,
          58,
          9,
          6,
          9,
          8,
          12,
          43,
          42,
          66,
          1,
          10,
          18,
          3,
          50,
          1,
          2,
          17,
          69,
          72,
          50,
          53,
          58,
          46,
          72,
          6,
          72,
          4,
          52,
          0,
          2,
          65,
          51,
          12,
          24,
          64,
          26,
          15,
          64,
          27,
          8,
          10,
          2,
          51,
          46,
          1,
          46,
          50,
          53,
          61,
          5,
          47,
          54,
          19,
          26,
          70,
          17,
          1,
          19,
          26,
          50,
          68,
          9,
          51,
          9,
          22,
          71,
          26,
          71,
          4,
          12,
          18,
          3,
          72,
          13,
          42,
          17,
          7,
          68,
          56,
          38,
          72,
          48,
          52,
          35,
          67,
          1,
          53,
          34,
          19,
          60,
          11,
          60,
          72,
          39,
          59,
          2,
          71,
          24,
          67,
          37,
          11,
          18,
          50,
          67,
          25,
          9,
          10,
          70,
          9,
          4,
          2,
          19,
          7,
          1,
          9,
          5,
          56,
          18,
          70,
          72,
          17,
          29,
          63,
          59,
          3,
          8,
          68,
          68,
          52,
          72,
          32,
          72,
          1,
          42,
          45,
          43,
          37,
          63,
          3,
          66,
          8,
          71,
          72,
          16,
          66,
          51,
          8,
          14,
          70,
          70,
          24,
          69,
          42,
          39,
          45,
          72,
          38,
          72,
          72,
          55,
          51,
          63,
          1,
          23,
          2,
          52,
          36,
          1,
          28,
          7,
          72,
          10,
          42,
          7,
          72,
          63,
          56,
          5,
          72,
          68,
          67,
          8,
          52,
          18,
          59,
          60,
          7,
          59,
          46,
          5,
          59,
          70,
          44,
          64,
          58,
          46,
          58,
          72,
          11,
          34,
          54,
          72,
          54,
          14,
          1,
          56,
          68,
          14,
          68,
          55,
          16,
          9,
          53,
          70,
          14,
          10,
          29,
          30,
          72,
          10,
          1,
          20,
          1,
          29,
          1,
          3,
          20,
          64,
          6,
          50,
          6,
          7,
          72,
          8,
          67,
          72,
          33,
          70,
          22,
          59,
          36,
          51,
          53,
          20,
          63,
          40,
          35,
          26,
          53,
          34,
          19,
          43,
          6,
          56,
          34,
          10,
          56,
          55,
          36,
          47,
          12,
          24,
          35,
          67,
          21,
          13,
          71,
          29,
          7,
          57,
          65,
          27,
          72,
          1,
          11,
          39,
          59,
          26,
          2,
          72,
          65,
          72,
          6,
          32,
          50,
          61,
          72,
          1,
          12,
          61,
          18,
          21,
          68,
          12,
          62,
          1,
          1,
          62,
          36,
          69,
          63,
          23,
          10,
          71,
          45,
          70,
          22,
          52,
          65,
          72,
          10,
          7,
          5,
          24,
          72,
          21,
          69,
          44,
          61,
          72,
          72,
          14,
          7,
          48,
          55,
          1,
          45,
          3,
          71,
          8,
          69,
          72,
          71,
          33,
          16,
          56,
          1,
          57,
          56,
          1,
          40,
          46,
          63,
          68,
          69,
          56,
          10,
          63,
          24,
          19,
          22,
          70,
          49,
          42,
          57,
          72,
          46,
          72,
          35,
          72,
          28,
          45,
          1,
          6,
          48,
          25,
          64,
          50,
          52,
          4,
          32,
          45,
          9,
          54,
          64,
          12,
          67,
          45,
          10,
          29,
          24,
          66,
          51,
          45,
          49,
          29,
          40,
          25,
          22,
          72,
          33,
          23,
          69,
          3,
          56,
          65,
          71,
          14,
          2,
          40,
          1,
          7,
          15,
          71,
          54,
          31,
          11,
          18,
          72,
          71,
          5,
          38,
          5,
          52,
          68,
          69,
          42,
          50,
          33,
          7,
          64,
          59,
          6,
          3,
          15,
          13,
          23,
          31,
          29,
          49,
          56,
          63,
          63,
          24,
          36,
          21,
          13,
          1,
          25,
          71,
          66,
          45,
          22,
          67,
          68,
          0,
          4,
          63,
          21,
          1,
          17,
          30,
          22,
          9,
          1,
          19,
          72,
          70,
          66,
          7,
          46,
          32,
          24,
          37,
          8,
          72,
          71,
          16,
          57,
          66,
          21,
          66,
          17,
          8,
          27,
          34,
          30,
          33,
          14,
          16,
          49,
          70,
          32,
          18,
          37,
          4,
          16,
          17,
          19,
          60,
          51,
          28,
          43,
          42,
          1,
          63,
          68,
          60,
          45,
          70,
          4,
          68,
          22,
          18,
          29,
          31,
          48,
          50,
          7,
          68,
          26,
          57,
          3,
          19,
          3,
          59,
          42,
          67,
          1,
          66,
          61,
          4,
          64,
          54,
          1,
          54,
          18,
          3,
          72,
          60,
          11,
          61,
          39,
          37,
          72,
          72,
          8,
          22,
          38,
          17,
          70,
          28,
          15,
          72,
          57,
          46,
          30,
          10,
          32,
          13,
          44,
          9,
          67,
          71,
          1,
          17,
          1,
          32,
          41,
          1,
          62,
          17,
          72,
          56,
          9,
          72,
          20,
          19,
          53,
          6,
          9,
          8,
          71,
          71,
          68,
          34,
          26,
          7,
          20,
          60,
          72,
          72,
          4,
          16,
          62,
          10,
          31,
          71,
          58,
          70,
          71,
          69,
          72,
          26,
          33,
          10,
          57,
          10,
          39,
          11,
          68,
          18,
          18,
          52,
          56,
          45,
          67,
          3,
          65,
          63,
          11,
          1,
          55,
          25,
          72,
          65,
          7,
          72,
          21,
          2,
          4,
          72,
          6,
          52,
          69,
          8,
          63,
          60,
          12,
          13,
          22,
          72,
          2,
          40,
          44,
          71,
          26,
          1,
          3,
          13,
          1,
          4,
          2,
          72,
          37,
          23,
          42,
          32,
          22,
          42,
          8,
          65,
          70,
          22,
          67,
          25,
          20,
          2,
          51,
          46,
          13,
          26,
          19,
          72,
          18,
          24,
          46,
          72,
          70,
          2,
          31,
          16,
          52,
          13,
          35,
          59,
          72,
          49,
          2,
          21,
          54,
          1,
          6,
          49,
          56,
          56,
          6,
          32,
          50,
          58,
          65,
          64,
          66,
          38,
          20,
          64,
          60,
          50,
          72,
          60,
          46,
          69,
          31,
          19,
          71,
          12,
          44,
          56,
          72,
          11,
          15,
          72,
          56,
          64,
          34,
          35,
          22,
          9,
          23,
          68,
          33,
          31,
          56,
          66,
          72,
          34,
          58,
          37,
          71,
          1,
          71,
          35,
          6,
          69,
          53,
          5,
          2,
          62,
          19,
          9,
          53,
          5,
          71,
          1,
          72,
          4,
          59,
          31,
          3,
          49,
          2,
          55,
          72,
          36,
          10,
          72,
          28,
          38,
          61,
          52,
          67,
          34,
          54,
          1,
          46,
          55,
          1,
          64,
          58,
          56,
          72,
          72,
          22,
          39,
          12,
          54,
          18,
          32,
          41,
          67,
          65,
          25,
          67,
          43,
          24,
          69,
          37,
          20,
          7,
          41,
          54,
          69,
          53,
          18,
          64,
          20,
          57,
          63,
          13,
          48,
          57,
          71,
          7,
          16,
          34,
          16,
          48,
          58,
          72,
          7,
          30,
          31,
          46,
          50,
          28,
          66,
          41,
          72,
          7,
          38,
          44,
          47,
          53,
          4,
          20,
          57,
          44,
          24,
          15,
          24,
          33,
          58,
          72,
          71,
          51,
          72,
          14,
          72,
          22,
          2,
          15,
          51,
          70,
          71,
          39,
          61,
          52,
          64,
          62,
          30,
          63,
          1,
          15,
          27,
          4,
          72,
          45,
          45,
          36,
          1,
          16,
          71,
          10,
          20,
          4,
          29,
          2,
          29,
          13,
          59,
          18,
          17,
          47,
          19,
          68,
          2,
          7,
          18,
          71,
          13,
          72,
          66,
          24,
          56,
          22,
          42,
          72,
          12,
          71,
          26,
          7,
          6,
          51,
          72,
          47,
          62,
          16,
          6,
          69,
          64,
          25,
          6,
          66,
          61,
          43,
          12,
          23,
          71,
          34,
          41,
          72,
          14,
          41,
          23,
          71,
          72,
          6,
          23,
          72,
          7,
          9,
          12,
          1,
          48,
          20,
          10,
          20,
          20,
          19,
          22,
          35,
          1,
          39,
          54,
          56,
          18,
          16,
          68,
          53,
          72,
          9,
          30,
          18,
          55,
          33,
          44,
          30,
          71,
          1,
          23,
          22,
          49,
          42,
          7,
          67,
          15,
          67,
          53,
          21,
          40,
          22,
          39,
          2,
          57,
          8,
          7,
          49,
          65,
          55,
          71,
          35,
          17,
          72,
          28,
          18,
          52,
          47,
          23,
          66,
          8,
          71,
          50,
          46,
          66,
          42,
          5,
          29,
          27,
          25,
          57,
          47,
          13,
          71,
          1,
          2,
          55,
          71,
          50,
          1,
          5,
          66,
          49,
          3,
          66,
          11,
          28,
          65,
          62,
          2,
          2,
          55,
          41,
          30,
          17,
          16,
          72,
          9,
          1,
          23,
          8,
          19,
          7,
          61,
          57,
          15,
          1,
          12,
          54,
          4,
          20,
          26,
          53,
          68,
          72,
          12,
          68,
          50,
          41,
          30,
          1,
          29,
          23,
          60,
          72,
          72,
          66,
          72,
          51,
          70,
          9,
          59,
          3,
          38,
          37,
          37,
          14,
          72,
          72,
          17,
          10,
          0,
          1,
          29,
          65,
          8,
          61,
          45,
          72,
          12,
          7,
          9,
          58,
          2,
          40,
          9,
          41,
          26,
          33,
          68,
          65,
          55,
          19,
          45,
          70,
          12,
          72,
          12,
          71,
          35,
          70,
          31,
          30,
          33,
          54,
          59,
          55,
          69,
          66,
          37,
          9,
          69,
          10,
          13,
          69,
          66,
          46,
          56,
          70,
          33,
          72,
          19,
          71,
          1,
          61,
          71,
          68,
          46,
          33,
          53,
          50,
          57,
          54,
          60,
          10,
          43,
          13,
          43,
          1,
          69,
          61,
          43,
          56,
          70,
          49,
          32,
          72,
          37,
          69,
          26,
          58,
          24,
          5,
          30,
          55,
          44,
          47,
          64,
          1,
          20,
          37,
          30,
          38,
          52,
          71,
          66,
          72,
          25,
          69,
          53,
          26,
          21,
          1,
          48,
          26,
          60,
          18,
          4,
          65,
          70,
          62,
          66,
          65,
          34,
          16,
          50,
          71,
          18,
          4,
          58,
          56,
          56,
          4,
          10,
          4,
          51,
          6,
          63,
          48,
          35,
          2,
          50,
          33,
          31,
          9,
          54,
          46,
          34,
          71,
          63,
          51,
          64,
          61,
          15,
          18,
          57,
          14,
          18,
          72,
          70,
          38,
          68,
          65,
          30,
          51,
          31,
          72,
          37,
          55,
          33,
          46,
          1,
          19,
          61,
          26,
          45,
          62,
          3,
          41,
          67,
          71,
          37,
          60,
          6,
          11,
          10,
          34,
          62,
          64,
          25,
          26,
          10,
          53,
          33,
          71,
          29,
          24,
          20,
          1,
          72,
          52,
          9,
          1,
          69,
          1,
          54,
          33,
          45,
          11,
          6,
          21,
          65,
          43,
          60,
          17,
          35,
          12,
          1,
          28,
          70,
          18,
          70,
          9,
          67,
          1,
          18,
          71,
          1,
          55,
          59,
          7,
          45,
          54,
          51,
          72,
          44,
          2,
          66,
          68,
          31,
          21,
          21,
          55,
          71,
          22,
          67,
          14,
          21,
          4,
          70,
          21,
          20,
          22,
          63,
          70,
          5,
          72,
          13,
          61,
          1,
          56,
          4,
          35,
          72,
          49,
          44,
          37,
          61,
          70,
          41,
          70,
          51,
          42,
          48,
          48,
          27,
          46,
          25,
          13,
          31,
          23,
          2,
          65,
          55,
          35,
          6,
          17,
          10,
          15,
          13,
          58,
          45,
          72,
          68,
          38,
          2,
          11,
          20,
          72,
          40,
          62,
          22,
          11,
          7,
          3,
          58,
          6,
          22,
          64,
          6,
          39,
          20,
          64,
          46,
          28,
          33,
          39,
          1,
          70,
          65,
          1,
          18,
          24,
          63,
          44,
          4,
          37,
          34,
          35,
          4,
          39,
          43,
          61,
          49,
          4,
          64,
          3,
          1,
          40,
          34,
          1,
          45,
          43,
          41,
          5,
          72,
          4,
          9,
          72,
          33,
          72,
          15,
          29,
          15,
          72,
          19,
          1,
          2,
          11,
          12,
          70,
          23,
          49,
          2,
          69,
          24,
          32,
          27,
          58,
          18,
          47,
          70,
          36,
          67,
          10,
          19,
          71,
          72,
          48,
          1,
          18,
          67,
          69,
          72,
          38,
          40,
          61,
          32,
          21,
          59,
          47,
          69,
          2,
          22,
          15,
          53,
          28,
          22,
          16,
          48,
          30,
          3,
          57,
          23,
          65,
          44,
          71,
          37,
          12,
          69,
          35,
          5,
          58,
          72,
          72,
          1,
          53,
          27,
          18,
          46,
          72,
          4,
          25,
          40,
          63,
          14,
          72,
          39,
          47,
          19,
          17,
          34,
          42,
          71,
          19,
          57,
          72,
          6,
          61,
          48,
          16,
          3,
          65,
          70,
          60,
          69,
          35,
          22,
          66,
          34,
          72,
          31,
          30,
          19,
          65,
          30,
          6,
          2,
          53,
          7,
          61,
          13,
          35,
          2,
          3,
          62,
          72,
          63,
          35,
          62,
          15,
          55,
          11,
          61,
          71,
          35,
          17,
          47,
          3,
          3,
          44,
          1,
          44,
          18,
          65,
          3,
          33,
          34,
          14,
          13,
          23,
          47,
          17,
          59,
          69,
          10,
          12,
          39,
          71,
          71,
          33,
          67,
          9,
          52,
          70,
          1,
          1,
          52,
          6,
          7,
          26,
          25,
          69,
          72,
          4,
          59,
          67,
          26,
          27,
          72,
          6,
          62,
          20,
          6,
          51,
          61,
          62,
          72,
          13,
          38,
          34,
          18,
          56,
          36,
          57,
          70,
          68,
          1,
          37,
          4,
          1,
          20,
          72,
          11,
          33,
          62,
          1,
          16,
          22,
          49,
          36,
          31,
          5,
          66,
          64,
          10,
          29,
          57,
          46,
          53,
          17,
          38,
          15,
          22,
          57,
          11,
          1,
          12,
          36,
          2,
          72,
          62,
          6,
          48,
          35,
          52,
          1,
          71,
          67,
          60,
          23,
          39,
          15,
          24,
          37,
          50,
          54,
          3,
          5,
          33,
          41,
          34,
          13,
          20,
          51,
          41,
          13,
          35,
          4,
          12,
          7,
          53,
          63,
          5,
          37,
          12,
          38,
          9,
          13,
          47,
          61,
          16,
          41,
          43,
          6,
          58,
          19,
          11,
          39,
          8,
          26,
          53,
          70,
          59,
          7,
          59,
          61,
          72,
          13,
          64,
          10,
          65,
          62,
          55,
          25,
          1,
          64,
          36,
          61,
          26,
          68,
          72,
          71,
          57,
          4,
          1,
          72,
          21,
          71,
          69,
          64,
          16,
          4,
          1,
          18,
          2,
          19,
          40,
          66,
          21,
          8,
          72,
          48,
          69,
          72,
          14,
          6,
          8,
          17,
          65,
          57,
          56,
          14,
          52,
          58,
          67,
          2,
          6,
          71,
          46,
          67,
          3,
          3,
          50,
          23,
          67,
          39,
          69,
          1,
          32,
          60,
          72,
          26,
          2,
          2,
          36,
          7,
          60,
          19,
          45,
          4,
          47,
          1,
          59,
          35,
          32,
          54,
          66,
          61,
          72,
          44,
          41,
          50,
          8,
          18,
          72,
          42,
          18,
          13,
          68,
          69,
          25,
          59,
          5,
          69,
          13,
          52,
          61,
          29,
          25,
          15,
          19,
          44,
          58,
          62,
          70,
          10,
          26,
          66,
          51,
          72,
          65,
          70,
          72,
          1,
          3,
          58,
          33,
          54,
          72,
          72,
          72,
          54,
          59,
          54,
          60,
          60,
          3,
          69,
          1,
          50,
          56,
          60,
          69,
          3,
          60,
          13,
          62,
          45,
          25,
          44,
          2,
          22,
          35,
          29,
          27,
          54,
          57,
          62,
          15,
          70,
          21,
          23,
          6,
          4,
          23,
          26,
          8,
          2,
          59,
          39,
          21,
          48,
          31,
          64,
          46,
          52,
          67,
          67,
          71,
          71,
          32,
          2,
          71,
          60,
          55,
          6,
          48,
          63,
          12,
          54,
          30,
          40,
          9,
          62,
          28,
          70,
          46,
          23,
          47,
          68,
          67,
          14,
          57,
          55,
          1,
          23,
          47,
          38,
          2,
          15,
          26,
          35,
          3,
          42,
          10,
          61,
          68,
          10,
          72,
          55,
          7,
          2,
          9,
          27,
          64,
          70,
          67,
          24,
          4,
          44,
          72,
          66,
          65,
          1,
          38,
          23,
          10,
          72,
          35,
          58,
          70,
          38,
          60,
          26,
          8,
          36,
          54,
          55,
          72,
          54,
          72,
          52,
          60,
          39,
          15,
          43,
          63,
          2,
          72,
          40,
          58,
          67,
          31,
          69,
          32,
          21,
          52,
          72,
          52,
          41,
          41,
          67,
          16,
          17,
          35,
          58,
          52,
          70,
          19,
          35,
          32,
          17,
          67,
          9,
          4,
          58,
          60,
          1,
          27,
          66,
          15,
          41,
          59,
          50,
          17,
          6,
          51,
          49,
          59,
          50,
          59,
          18,
          10,
          14,
          35,
          8,
          18,
          60,
          6,
          19,
          53,
          72,
          60,
          13,
          5,
          13,
          37,
          64,
          61,
          26,
          24,
          17,
          26,
          52,
          1,
          21,
          67,
          44,
          70,
          56,
          46,
          63,
          11,
          15,
          72,
          6,
          63,
          18,
          43,
          15,
          55,
          70,
          63,
          25,
          18,
          28,
          53,
          1,
          26,
          34,
          19,
          62,
          24,
          68,
          31,
          63,
          61,
          18,
          6,
          33,
          56,
          23,
          9,
          5,
          61,
          70,
          15,
          8,
          8,
          4,
          34,
          68,
          45,
          9,
          22,
          2,
          70,
          10,
          72,
          49,
          54,
          71,
          22,
          50,
          43,
          45,
          64,
          23,
          68,
          26,
          14,
          71,
          64,
          57,
          72,
          40,
          14,
          2,
          5,
          29,
          3,
          71,
          9,
          48,
          26,
          9,
          46,
          64,
          59,
          7,
          72,
          16,
          25,
          24,
          10,
          69,
          57,
          50,
          28,
          25,
          3,
          61,
          2,
          51,
          71,
          20,
          6,
          6,
          29,
          36,
          28,
          63,
          48,
          49,
          72,
          72,
          47,
          1,
          36,
          43,
          27,
          38,
          35,
          0,
          59,
          27,
          2,
          7,
          36,
          41,
          13,
          19,
          60,
          69,
          43,
          11,
          45,
          72,
          12,
          67,
          37,
          39,
          41,
          25,
          8,
          71,
          5,
          30,
          40,
          54,
          72,
          28,
          18,
          59,
          22,
          1,
          72,
          50,
          48,
          49,
          28,
          68,
          13,
          11,
          72,
          70,
          49,
          67,
          46,
          37,
          13,
          72,
          68,
          15,
          24,
          24,
          27,
          71,
          67,
          63,
          1,
          4,
          52,
          10,
          68,
          52,
          70,
          43,
          52,
          12,
          56,
          0,
          42,
          22,
          27,
          51,
          1,
          71,
          69,
          14,
          57,
          72,
          48,
          4,
          31,
          1,
          57,
          62,
          3,
          72,
          29,
          13,
          11,
          21,
          19,
          35,
          25,
          67,
          72,
          43,
          55,
          27,
          13,
          70,
          19,
          20,
          43,
          5,
          70,
          40,
          6,
          39,
          45,
          57,
          72,
          72,
          3,
          59,
          4,
          27,
          4,
          60,
          8,
          8,
          35,
          53,
          18,
          15,
          67,
          6,
          1,
          5,
          13,
          29,
          1,
          18,
          2,
          30,
          66,
          38,
          44,
          2,
          42,
          58,
          58,
          71,
          48,
          8,
          67,
          49,
          52,
          63,
          68,
          31,
          64,
          62,
          21,
          72,
          32,
          71,
          34,
          35,
          3,
          3,
          53,
          4,
          48,
          54,
          62,
          22,
          51,
          30,
          56,
          35,
          64,
          30,
          25,
          1,
          70,
          57,
          9,
          69,
          72,
          44,
          72,
          54,
          27,
          54,
          3,
          53,
          15,
          5,
          48,
          25,
          58,
          10,
          71,
          65,
          28,
          67,
          35,
          72,
          61,
          68,
          3,
          48,
          68,
          47,
          32,
          5,
          49,
          15,
          12,
          67,
          9,
          13,
          38,
          42,
          9,
          49,
          61,
          50,
          53,
          51,
          24,
          62,
          24,
          70,
          1,
          8,
          72,
          23,
          31,
          37,
          35,
          23,
          20,
          36,
          71,
          43,
          57,
          27,
          13,
          67,
          64,
          26,
          38,
          23,
          72,
          62,
          40,
          41,
          34,
          1,
          51,
          39,
          12,
          72,
          63,
          44,
          18,
          13,
          68,
          6,
          2,
          55,
          38,
          19,
          12,
          72,
          24,
          72,
          11,
          66
         ],
         "xaxis": "x2",
         "yaxis": "y2"
        }
       ],
       "layout": {
        "barmode": "relative",
        "legend": {
         "title": {
          "text": "Churn Label"
         },
         "tracegroupgap": 0
        },
        "margin": {
         "t": 60
        },
        "template": {
         "data": {
          "bar": [
           {
            "error_x": {
             "color": "#2a3f5f"
            },
            "error_y": {
             "color": "#2a3f5f"
            },
            "marker": {
             "line": {
              "color": "#E5ECF6",
              "width": 0.5
             },
             "pattern": {
              "fillmode": "overlay",
              "size": 10,
              "solidity": 0.2
             }
            },
            "type": "bar"
           }
          ],
          "barpolar": [
           {
            "marker": {
             "line": {
              "color": "#E5ECF6",
              "width": 0.5
             },
             "pattern": {
              "fillmode": "overlay",
              "size": 10,
              "solidity": 0.2
             }
            },
            "type": "barpolar"
           }
          ],
          "carpet": [
           {
            "aaxis": {
             "endlinecolor": "#2a3f5f",
             "gridcolor": "white",
             "linecolor": "white",
             "minorgridcolor": "white",
             "startlinecolor": "#2a3f5f"
            },
            "baxis": {
             "endlinecolor": "#2a3f5f",
             "gridcolor": "white",
             "linecolor": "white",
             "minorgridcolor": "white",
             "startlinecolor": "#2a3f5f"
            },
            "type": "carpet"
           }
          ],
          "choropleth": [
           {
            "colorbar": {
             "outlinewidth": 0,
             "ticks": ""
            },
            "type": "choropleth"
           }
          ],
          "contour": [
           {
            "colorbar": {
             "outlinewidth": 0,
             "ticks": ""
            },
            "colorscale": [
             [
              0,
              "#0d0887"
             ],
             [
              0.1111111111111111,
              "#46039f"
             ],
             [
              0.2222222222222222,
              "#7201a8"
             ],
             [
              0.3333333333333333,
              "#9c179e"
             ],
             [
              0.4444444444444444,
              "#bd3786"
             ],
             [
              0.5555555555555556,
              "#d8576b"
             ],
             [
              0.6666666666666666,
              "#ed7953"
             ],
             [
              0.7777777777777778,
              "#fb9f3a"
             ],
             [
              0.8888888888888888,
              "#fdca26"
             ],
             [
              1,
              "#f0f921"
             ]
            ],
            "type": "contour"
           }
          ],
          "contourcarpet": [
           {
            "colorbar": {
             "outlinewidth": 0,
             "ticks": ""
            },
            "type": "contourcarpet"
           }
          ],
          "heatmap": [
           {
            "colorbar": {
             "outlinewidth": 0,
             "ticks": ""
            },
            "colorscale": [
             [
              0,
              "#0d0887"
             ],
             [
              0.1111111111111111,
              "#46039f"
             ],
             [
              0.2222222222222222,
              "#7201a8"
             ],
             [
              0.3333333333333333,
              "#9c179e"
             ],
             [
              0.4444444444444444,
              "#bd3786"
             ],
             [
              0.5555555555555556,
              "#d8576b"
             ],
             [
              0.6666666666666666,
              "#ed7953"
             ],
             [
              0.7777777777777778,
              "#fb9f3a"
             ],
             [
              0.8888888888888888,
              "#fdca26"
             ],
             [
              1,
              "#f0f921"
             ]
            ],
            "type": "heatmap"
           }
          ],
          "heatmapgl": [
           {
            "colorbar": {
             "outlinewidth": 0,
             "ticks": ""
            },
            "colorscale": [
             [
              0,
              "#0d0887"
             ],
             [
              0.1111111111111111,
              "#46039f"
             ],
             [
              0.2222222222222222,
              "#7201a8"
             ],
             [
              0.3333333333333333,
              "#9c179e"
             ],
             [
              0.4444444444444444,
              "#bd3786"
             ],
             [
              0.5555555555555556,
              "#d8576b"
             ],
             [
              0.6666666666666666,
              "#ed7953"
             ],
             [
              0.7777777777777778,
              "#fb9f3a"
             ],
             [
              0.8888888888888888,
              "#fdca26"
             ],
             [
              1,
              "#f0f921"
             ]
            ],
            "type": "heatmapgl"
           }
          ],
          "histogram": [
           {
            "marker": {
             "pattern": {
              "fillmode": "overlay",
              "size": 10,
              "solidity": 0.2
             }
            },
            "type": "histogram"
           }
          ],
          "histogram2d": [
           {
            "colorbar": {
             "outlinewidth": 0,
             "ticks": ""
            },
            "colorscale": [
             [
              0,
              "#0d0887"
             ],
             [
              0.1111111111111111,
              "#46039f"
             ],
             [
              0.2222222222222222,
              "#7201a8"
             ],
             [
              0.3333333333333333,
              "#9c179e"
             ],
             [
              0.4444444444444444,
              "#bd3786"
             ],
             [
              0.5555555555555556,
              "#d8576b"
             ],
             [
              0.6666666666666666,
              "#ed7953"
             ],
             [
              0.7777777777777778,
              "#fb9f3a"
             ],
             [
              0.8888888888888888,
              "#fdca26"
             ],
             [
              1,
              "#f0f921"
             ]
            ],
            "type": "histogram2d"
           }
          ],
          "histogram2dcontour": [
           {
            "colorbar": {
             "outlinewidth": 0,
             "ticks": ""
            },
            "colorscale": [
             [
              0,
              "#0d0887"
             ],
             [
              0.1111111111111111,
              "#46039f"
             ],
             [
              0.2222222222222222,
              "#7201a8"
             ],
             [
              0.3333333333333333,
              "#9c179e"
             ],
             [
              0.4444444444444444,
              "#bd3786"
             ],
             [
              0.5555555555555556,
              "#d8576b"
             ],
             [
              0.6666666666666666,
              "#ed7953"
             ],
             [
              0.7777777777777778,
              "#fb9f3a"
             ],
             [
              0.8888888888888888,
              "#fdca26"
             ],
             [
              1,
              "#f0f921"
             ]
            ],
            "type": "histogram2dcontour"
           }
          ],
          "mesh3d": [
           {
            "colorbar": {
             "outlinewidth": 0,
             "ticks": ""
            },
            "type": "mesh3d"
           }
          ],
          "parcoords": [
           {
            "line": {
             "colorbar": {
              "outlinewidth": 0,
              "ticks": ""
             }
            },
            "type": "parcoords"
           }
          ],
          "pie": [
           {
            "automargin": true,
            "type": "pie"
           }
          ],
          "scatter": [
           {
            "fillpattern": {
             "fillmode": "overlay",
             "size": 10,
             "solidity": 0.2
            },
            "type": "scatter"
           }
          ],
          "scatter3d": [
           {
            "line": {
             "colorbar": {
              "outlinewidth": 0,
              "ticks": ""
             }
            },
            "marker": {
             "colorbar": {
              "outlinewidth": 0,
              "ticks": ""
             }
            },
            "type": "scatter3d"
           }
          ],
          "scattercarpet": [
           {
            "marker": {
             "colorbar": {
              "outlinewidth": 0,
              "ticks": ""
             }
            },
            "type": "scattercarpet"
           }
          ],
          "scattergeo": [
           {
            "marker": {
             "colorbar": {
              "outlinewidth": 0,
              "ticks": ""
             }
            },
            "type": "scattergeo"
           }
          ],
          "scattergl": [
           {
            "marker": {
             "colorbar": {
              "outlinewidth": 0,
              "ticks": ""
             }
            },
            "type": "scattergl"
           }
          ],
          "scattermapbox": [
           {
            "marker": {
             "colorbar": {
              "outlinewidth": 0,
              "ticks": ""
             }
            },
            "type": "scattermapbox"
           }
          ],
          "scatterpolar": [
           {
            "marker": {
             "colorbar": {
              "outlinewidth": 0,
              "ticks": ""
             }
            },
            "type": "scatterpolar"
           }
          ],
          "scatterpolargl": [
           {
            "marker": {
             "colorbar": {
              "outlinewidth": 0,
              "ticks": ""
             }
            },
            "type": "scatterpolargl"
           }
          ],
          "scatterternary": [
           {
            "marker": {
             "colorbar": {
              "outlinewidth": 0,
              "ticks": ""
             }
            },
            "type": "scatterternary"
           }
          ],
          "surface": [
           {
            "colorbar": {
             "outlinewidth": 0,
             "ticks": ""
            },
            "colorscale": [
             [
              0,
              "#0d0887"
             ],
             [
              0.1111111111111111,
              "#46039f"
             ],
             [
              0.2222222222222222,
              "#7201a8"
             ],
             [
              0.3333333333333333,
              "#9c179e"
             ],
             [
              0.4444444444444444,
              "#bd3786"
             ],
             [
              0.5555555555555556,
              "#d8576b"
             ],
             [
              0.6666666666666666,
              "#ed7953"
             ],
             [
              0.7777777777777778,
              "#fb9f3a"
             ],
             [
              0.8888888888888888,
              "#fdca26"
             ],
             [
              1,
              "#f0f921"
             ]
            ],
            "type": "surface"
           }
          ],
          "table": [
           {
            "cells": {
             "fill": {
              "color": "#EBF0F8"
             },
             "line": {
              "color": "white"
             }
            },
            "header": {
             "fill": {
              "color": "#C8D4E3"
             },
             "line": {
              "color": "white"
             }
            },
            "type": "table"
           }
          ]
         },
         "layout": {
          "annotationdefaults": {
           "arrowcolor": "#2a3f5f",
           "arrowhead": 0,
           "arrowwidth": 1
          },
          "autotypenumbers": "strict",
          "coloraxis": {
           "colorbar": {
            "outlinewidth": 0,
            "ticks": ""
           }
          },
          "colorscale": {
           "diverging": [
            [
             0,
             "#8e0152"
            ],
            [
             0.1,
             "#c51b7d"
            ],
            [
             0.2,
             "#de77ae"
            ],
            [
             0.3,
             "#f1b6da"
            ],
            [
             0.4,
             "#fde0ef"
            ],
            [
             0.5,
             "#f7f7f7"
            ],
            [
             0.6,
             "#e6f5d0"
            ],
            [
             0.7,
             "#b8e186"
            ],
            [
             0.8,
             "#7fbc41"
            ],
            [
             0.9,
             "#4d9221"
            ],
            [
             1,
             "#276419"
            ]
           ],
           "sequential": [
            [
             0,
             "#0d0887"
            ],
            [
             0.1111111111111111,
             "#46039f"
            ],
            [
             0.2222222222222222,
             "#7201a8"
            ],
            [
             0.3333333333333333,
             "#9c179e"
            ],
            [
             0.4444444444444444,
             "#bd3786"
            ],
            [
             0.5555555555555556,
             "#d8576b"
            ],
            [
             0.6666666666666666,
             "#ed7953"
            ],
            [
             0.7777777777777778,
             "#fb9f3a"
            ],
            [
             0.8888888888888888,
             "#fdca26"
            ],
            [
             1,
             "#f0f921"
            ]
           ],
           "sequentialminus": [
            [
             0,
             "#0d0887"
            ],
            [
             0.1111111111111111,
             "#46039f"
            ],
            [
             0.2222222222222222,
             "#7201a8"
            ],
            [
             0.3333333333333333,
             "#9c179e"
            ],
            [
             0.4444444444444444,
             "#bd3786"
            ],
            [
             0.5555555555555556,
             "#d8576b"
            ],
            [
             0.6666666666666666,
             "#ed7953"
            ],
            [
             0.7777777777777778,
             "#fb9f3a"
            ],
            [
             0.8888888888888888,
             "#fdca26"
            ],
            [
             1,
             "#f0f921"
            ]
           ]
          },
          "colorway": [
           "#636efa",
           "#EF553B",
           "#00cc96",
           "#ab63fa",
           "#FFA15A",
           "#19d3f3",
           "#FF6692",
           "#B6E880",
           "#FF97FF",
           "#FECB52"
          ],
          "font": {
           "color": "#2a3f5f"
          },
          "geo": {
           "bgcolor": "white",
           "lakecolor": "white",
           "landcolor": "#E5ECF6",
           "showlakes": true,
           "showland": true,
           "subunitcolor": "white"
          },
          "hoverlabel": {
           "align": "left"
          },
          "hovermode": "closest",
          "mapbox": {
           "style": "light"
          },
          "paper_bgcolor": "white",
          "plot_bgcolor": "#E5ECF6",
          "polar": {
           "angularaxis": {
            "gridcolor": "white",
            "linecolor": "white",
            "ticks": ""
           },
           "bgcolor": "#E5ECF6",
           "radialaxis": {
            "gridcolor": "white",
            "linecolor": "white",
            "ticks": ""
           }
          },
          "scene": {
           "xaxis": {
            "backgroundcolor": "#E5ECF6",
            "gridcolor": "white",
            "gridwidth": 2,
            "linecolor": "white",
            "showbackground": true,
            "ticks": "",
            "zerolinecolor": "white"
           },
           "yaxis": {
            "backgroundcolor": "#E5ECF6",
            "gridcolor": "white",
            "gridwidth": 2,
            "linecolor": "white",
            "showbackground": true,
            "ticks": "",
            "zerolinecolor": "white"
           },
           "zaxis": {
            "backgroundcolor": "#E5ECF6",
            "gridcolor": "white",
            "gridwidth": 2,
            "linecolor": "white",
            "showbackground": true,
            "ticks": "",
            "zerolinecolor": "white"
           }
          },
          "shapedefaults": {
           "line": {
            "color": "#2a3f5f"
           }
          },
          "ternary": {
           "aaxis": {
            "gridcolor": "white",
            "linecolor": "white",
            "ticks": ""
           },
           "baxis": {
            "gridcolor": "white",
            "linecolor": "white",
            "ticks": ""
           },
           "bgcolor": "#E5ECF6",
           "caxis": {
            "gridcolor": "white",
            "linecolor": "white",
            "ticks": ""
           }
          },
          "title": {
           "x": 0.05
          },
          "xaxis": {
           "automargin": true,
           "gridcolor": "white",
           "linecolor": "white",
           "ticks": "",
           "title": {
            "standoff": 15
           },
           "zerolinecolor": "white",
           "zerolinewidth": 2
          },
          "yaxis": {
           "automargin": true,
           "gridcolor": "white",
           "linecolor": "white",
           "ticks": "",
           "title": {
            "standoff": 15
           },
           "zerolinecolor": "white",
           "zerolinewidth": 2
          }
         }
        },
        "xaxis": {
         "anchor": "y",
         "domain": [
          0,
          1
         ],
         "title": {
          "text": "Tenure Months"
         }
        },
        "xaxis2": {
         "anchor": "y2",
         "domain": [
          0,
          1
         ],
         "matches": "x",
         "showgrid": true,
         "showticklabels": false
        },
        "yaxis": {
         "anchor": "x",
         "domain": [
          0,
          0.7326
         ],
         "title": {
          "text": "count"
         }
        },
        "yaxis2": {
         "anchor": "x2",
         "domain": [
          0.7426,
          1
         ],
         "matches": "y2",
         "showgrid": false,
         "showline": false,
         "showticklabels": false,
         "ticks": ""
        }
       }
      }
     },
     "metadata": {},
     "output_type": "display_data"
    }
   ],
   "source": [
    "fig = px.histogram(data, x=\"Tenure Months\", color=\"Churn Label\",marginal=\"box\" )\n",
    "fig.show()"
   ]
  },
  {
   "cell_type": "code",
   "execution_count": 65,
   "metadata": {},
   "outputs": [
    {
     "data": {
      "text/plain": [
       "Churn Label      \n",
       "No           0.50    38.0\n",
       "             0.75    61.0\n",
       "             0.90    71.0\n",
       "             0.95    72.0\n",
       "Yes          0.50    10.0\n",
       "             0.75    29.0\n",
       "             0.90    51.0\n",
       "             0.95    60.0\n",
       "Name: Tenure Months, dtype: float64"
      ]
     },
     "execution_count": 65,
     "metadata": {},
     "output_type": "execute_result"
    }
   ],
   "source": [
    "data.groupby('Churn Label')['Tenure Months'].quantile([.50,.75,.90,.95])"
   ]
  },
  {
   "cell_type": "code",
   "execution_count": 66,
   "metadata": {},
   "outputs": [
    {
     "data": {
      "text/plain": [
       "Churn Label\n",
       "No     37.569965\n",
       "Yes    17.979133\n",
       "Name: Tenure Months, dtype: float64"
      ]
     },
     "execution_count": 66,
     "metadata": {},
     "output_type": "execute_result"
    }
   ],
   "source": [
    "data.groupby('Churn Label')['Tenure Months'].mean()"
   ]
  },
  {
   "cell_type": "markdown",
   "metadata": {},
   "source": [
    "# Services used by client"
   ]
  },
  {
   "cell_type": "code",
   "execution_count": 81,
   "metadata": {},
   "outputs": [],
   "source": [
    "corr_df = data.copy()\n",
    "corr_df['Churn Label'].replace(to_replace='Yes', value=1, inplace=True)\n",
    "corr_df['Churn Label'].replace(to_replace='No',  value=0, inplace=True)"
   ]
  },
  {
   "cell_type": "code",
   "execution_count": 83,
   "metadata": {},
   "outputs": [
    {
     "data": {
      "text/html": [
       "<div>\n",
       "<style scoped>\n",
       "    .dataframe tbody tr th:only-of-type {\n",
       "        vertical-align: middle;\n",
       "    }\n",
       "\n",
       "    .dataframe tbody tr th {\n",
       "        vertical-align: top;\n",
       "    }\n",
       "\n",
       "    .dataframe thead th {\n",
       "        text-align: right;\n",
       "    }\n",
       "</style>\n",
       "<table border=\"1\" class=\"dataframe\">\n",
       "  <thead>\n",
       "    <tr style=\"text-align: right;\">\n",
       "      <th></th>\n",
       "      <th>Churn Label</th>\n",
       "      <th>Device Class_High End</th>\n",
       "      <th>Device Class_Low End</th>\n",
       "      <th>Device Class_Mid End</th>\n",
       "      <th>Games Product_No</th>\n",
       "      <th>Games Product_No internet service</th>\n",
       "      <th>Games Product_Yes</th>\n",
       "      <th>Music Product_No</th>\n",
       "      <th>Music Product_No internet service</th>\n",
       "      <th>Music Product_Yes</th>\n",
       "      <th>...</th>\n",
       "      <th>Video Product_No</th>\n",
       "      <th>Video Product_No internet service</th>\n",
       "      <th>Video Product_Yes</th>\n",
       "      <th>Use MyApp_No</th>\n",
       "      <th>Use MyApp_No internet service</th>\n",
       "      <th>Use MyApp_Yes</th>\n",
       "      <th>Payment Method_Credit</th>\n",
       "      <th>Payment Method_Debit</th>\n",
       "      <th>Payment Method_Digital Wallet</th>\n",
       "      <th>Payment Method_Pulsa</th>\n",
       "    </tr>\n",
       "  </thead>\n",
       "  <tbody>\n",
       "    <tr>\n",
       "      <th>0</th>\n",
       "      <td>1</td>\n",
       "      <td>0</td>\n",
       "      <td>0</td>\n",
       "      <td>1</td>\n",
       "      <td>0</td>\n",
       "      <td>0</td>\n",
       "      <td>1</td>\n",
       "      <td>0</td>\n",
       "      <td>0</td>\n",
       "      <td>1</td>\n",
       "      <td>...</td>\n",
       "      <td>1</td>\n",
       "      <td>0</td>\n",
       "      <td>0</td>\n",
       "      <td>1</td>\n",
       "      <td>0</td>\n",
       "      <td>0</td>\n",
       "      <td>0</td>\n",
       "      <td>0</td>\n",
       "      <td>1</td>\n",
       "      <td>0</td>\n",
       "    </tr>\n",
       "    <tr>\n",
       "      <th>1</th>\n",
       "      <td>1</td>\n",
       "      <td>1</td>\n",
       "      <td>0</td>\n",
       "      <td>0</td>\n",
       "      <td>1</td>\n",
       "      <td>0</td>\n",
       "      <td>0</td>\n",
       "      <td>1</td>\n",
       "      <td>0</td>\n",
       "      <td>0</td>\n",
       "      <td>...</td>\n",
       "      <td>1</td>\n",
       "      <td>0</td>\n",
       "      <td>0</td>\n",
       "      <td>1</td>\n",
       "      <td>0</td>\n",
       "      <td>0</td>\n",
       "      <td>0</td>\n",
       "      <td>0</td>\n",
       "      <td>0</td>\n",
       "      <td>1</td>\n",
       "    </tr>\n",
       "    <tr>\n",
       "      <th>2</th>\n",
       "      <td>1</td>\n",
       "      <td>1</td>\n",
       "      <td>0</td>\n",
       "      <td>0</td>\n",
       "      <td>1</td>\n",
       "      <td>0</td>\n",
       "      <td>0</td>\n",
       "      <td>1</td>\n",
       "      <td>0</td>\n",
       "      <td>0</td>\n",
       "      <td>...</td>\n",
       "      <td>0</td>\n",
       "      <td>0</td>\n",
       "      <td>1</td>\n",
       "      <td>0</td>\n",
       "      <td>0</td>\n",
       "      <td>1</td>\n",
       "      <td>0</td>\n",
       "      <td>0</td>\n",
       "      <td>0</td>\n",
       "      <td>1</td>\n",
       "    </tr>\n",
       "    <tr>\n",
       "      <th>3</th>\n",
       "      <td>1</td>\n",
       "      <td>1</td>\n",
       "      <td>0</td>\n",
       "      <td>0</td>\n",
       "      <td>1</td>\n",
       "      <td>0</td>\n",
       "      <td>0</td>\n",
       "      <td>1</td>\n",
       "      <td>0</td>\n",
       "      <td>0</td>\n",
       "      <td>...</td>\n",
       "      <td>0</td>\n",
       "      <td>0</td>\n",
       "      <td>1</td>\n",
       "      <td>0</td>\n",
       "      <td>0</td>\n",
       "      <td>1</td>\n",
       "      <td>0</td>\n",
       "      <td>0</td>\n",
       "      <td>0</td>\n",
       "      <td>1</td>\n",
       "    </tr>\n",
       "    <tr>\n",
       "      <th>4</th>\n",
       "      <td>1</td>\n",
       "      <td>1</td>\n",
       "      <td>0</td>\n",
       "      <td>0</td>\n",
       "      <td>1</td>\n",
       "      <td>0</td>\n",
       "      <td>0</td>\n",
       "      <td>0</td>\n",
       "      <td>0</td>\n",
       "      <td>1</td>\n",
       "      <td>...</td>\n",
       "      <td>0</td>\n",
       "      <td>0</td>\n",
       "      <td>1</td>\n",
       "      <td>0</td>\n",
       "      <td>0</td>\n",
       "      <td>1</td>\n",
       "      <td>0</td>\n",
       "      <td>1</td>\n",
       "      <td>0</td>\n",
       "      <td>0</td>\n",
       "    </tr>\n",
       "  </tbody>\n",
       "</table>\n",
       "<p>5 rows × 25 columns</p>\n",
       "</div>"
      ],
      "text/plain": [
       "   Churn Label  Device Class_High End  Device Class_Low End  \\\n",
       "0            1                      0                     0   \n",
       "1            1                      1                     0   \n",
       "2            1                      1                     0   \n",
       "3            1                      1                     0   \n",
       "4            1                      1                     0   \n",
       "\n",
       "   Device Class_Mid End  Games Product_No  Games Product_No internet service  \\\n",
       "0                     1                 0                                  0   \n",
       "1                     0                 1                                  0   \n",
       "2                     0                 1                                  0   \n",
       "3                     0                 1                                  0   \n",
       "4                     0                 1                                  0   \n",
       "\n",
       "   Games Product_Yes  Music Product_No  Music Product_No internet service  \\\n",
       "0                  1                 0                                  0   \n",
       "1                  0                 1                                  0   \n",
       "2                  0                 1                                  0   \n",
       "3                  0                 1                                  0   \n",
       "4                  0                 0                                  0   \n",
       "\n",
       "   Music Product_Yes  ...  Video Product_No  \\\n",
       "0                  1  ...                 1   \n",
       "1                  0  ...                 1   \n",
       "2                  0  ...                 0   \n",
       "3                  0  ...                 0   \n",
       "4                  1  ...                 0   \n",
       "\n",
       "   Video Product_No internet service  Video Product_Yes  Use MyApp_No  \\\n",
       "0                                  0                  0             1   \n",
       "1                                  0                  0             1   \n",
       "2                                  0                  1             0   \n",
       "3                                  0                  1             0   \n",
       "4                                  0                  1             0   \n",
       "\n",
       "   Use MyApp_No internet service  Use MyApp_Yes  Payment Method_Credit  \\\n",
       "0                              0              0                      0   \n",
       "1                              0              0                      0   \n",
       "2                              0              1                      0   \n",
       "3                              0              1                      0   \n",
       "4                              0              1                      0   \n",
       "\n",
       "   Payment Method_Debit  Payment Method_Digital Wallet  Payment Method_Pulsa  \n",
       "0                     0                              1                     0  \n",
       "1                     0                              0                     1  \n",
       "2                     0                              0                     1  \n",
       "3                     0                              0                     1  \n",
       "4                     1                              0                     0  \n",
       "\n",
       "[5 rows x 25 columns]"
      ]
     },
     "execution_count": 83,
     "metadata": {},
     "output_type": "execute_result"
    }
   ],
   "source": [
    "column_subset = corr_df[['Churn Label','Device Class', 'Games Product', 'Music Product', 'Education Product', 'Call Center', 'Video Product', 'Use MyApp', 'Payment Method']]\n",
    "df_dummies = pd.get_dummies(column_subset, dtype=int)\n",
    "df_dummies.head()\n"
   ]
  },
  {
   "cell_type": "code",
   "execution_count": 84,
   "metadata": {},
   "outputs": [],
   "source": [
    "import seaborn as sns"
   ]
  },
  {
   "cell_type": "code",
   "execution_count": 85,
   "metadata": {},
   "outputs": [
    {
     "data": {
      "image/png": "[encoded data removed]",
      "text/plain": [
       "<Figure size 900x700 with 2 Axes>"
      ]
     },
     "metadata": {},
     "output_type": "display_data"
    }
   ],
   "source": [
    "plt.figure(figsize=(9, 7))\n",
    "sns.heatmap(df_dummies.corr(), annot=False, cmap='coolwarm')\n",
    "\n",
    "plt.show()"
   ]
  },
  {
   "cell_type": "code",
   "execution_count": 86,
   "metadata": {},
   "outputs": [
    {
     "data": {
      "application/vnd.plotly.v1+json": {
       "config": {
        "plotlyServerURL": "https://plot.ly"
       },
       "data": [
        {
         "alignmentgroup": "True",
         "hovertemplate": "index=%{x}<br>value=%{marker.color}<extra></extra>",
         "legendgroup": "",
         "marker": {
          "color": [
           1,
           0.3426367998511208,
           0.3080197449448237,
           0.30191874901128596,
           0.2680051809623594,
           0.2524813605956865,
           0.16467355590159438,
           0.13084502938616832,
           0.1289158811151093,
           0.06322774611875867,
           0.0613815480151869,
           -0.06615979128029068,
           -0.08225486893814218,
           -0.0916828385884294,
           -0.11793667192853857,
           -0.12421382390260427,
           -0.13430175066262853,
           -0.16467355590159374,
           -0.171226291948553,
           -0.22789044975609318,
           -0.22789044975609318,
           -0.22789044975609318,
           -0.22789044975609318,
           -0.22789044975609318,
           -0.22789044975609318
          ],
          "coloraxis": "coloraxis",
          "pattern": {
           "shape": ""
          }
         },
         "name": "",
         "offsetgroup": "",
         "orientation": "v",
         "showlegend": false,
         "textposition": "auto",
         "type": "bar",
         "x": [
          "Churn Label",
          "Games Product_No",
          "Device Class_High End",
          "Payment Method_Pulsa",
          "Music Product_No",
          "Education Product_No",
          "Call Center_No",
          "Use MyApp_No",
          "Video Product_No",
          "Video Product_Yes",
          "Use MyApp_Yes",
          "Education Product_Yes",
          "Music Product_Yes",
          "Payment Method_Digital Wallet",
          "Payment Method_Debit",
          "Device Class_Mid End",
          "Payment Method_Credit",
          "Call Center_Yes",
          "Games Product_Yes",
          "Video Product_No internet service",
          "Games Product_No internet service",
          "Device Class_Low End",
          "Use MyApp_No internet service",
          "Education Product_No internet service",
          "Music Product_No internet service"
         ],
         "xaxis": "x",
         "y": [
          1,
          0.3426367998511208,
          0.3080197449448237,
          0.30191874901128596,
          0.2680051809623594,
          0.2524813605956865,
          0.16467355590159438,
          0.13084502938616832,
          0.1289158811151093,
          0.06322774611875867,
          0.0613815480151869,
          -0.06615979128029068,
          -0.08225486893814218,
          -0.0916828385884294,
          -0.11793667192853857,
          -0.12421382390260427,
          -0.13430175066262853,
          -0.16467355590159374,
          -0.171226291948553,
          -0.22789044975609318,
          -0.22789044975609318,
          -0.22789044975609318,
          -0.22789044975609318,
          -0.22789044975609318,
          -0.22789044975609318
         ],
         "yaxis": "y"
        }
       ],
       "layout": {
        "barmode": "relative",
        "coloraxis": {
         "colorbar": {
          "title": {
           "text": "value"
          }
         },
         "colorscale": [
          [
           0,
           "#0d0887"
          ],
          [
           0.1111111111111111,
           "#46039f"
          ],
          [
           0.2222222222222222,
           "#7201a8"
          ],
          [
           0.3333333333333333,
           "#9c179e"
          ],
          [
           0.4444444444444444,
           "#bd3786"
          ],
          [
           0.5555555555555556,
           "#d8576b"
          ],
          [
           0.6666666666666666,
           "#ed7953"
          ],
          [
           0.7777777777777778,
           "#fb9f3a"
          ],
          [
           0.8888888888888888,
           "#fdca26"
          ],
          [
           1,
           "#f0f921"
          ]
         ]
        },
        "legend": {
         "tracegroupgap": 0
        },
        "margin": {
         "t": 60
        },
        "template": {
         "data": {
          "bar": [
           {
            "error_x": {
             "color": "#2a3f5f"
            },
            "error_y": {
             "color": "#2a3f5f"
            },
            "marker": {
             "line": {
              "color": "#E5ECF6",
              "width": 0.5
             },
             "pattern": {
              "fillmode": "overlay",
              "size": 10,
              "solidity": 0.2
             }
            },
            "type": "bar"
           }
          ],
          "barpolar": [
           {
            "marker": {
             "line": {
              "color": "#E5ECF6",
              "width": 0.5
             },
             "pattern": {
              "fillmode": "overlay",
              "size": 10,
              "solidity": 0.2
             }
            },
            "type": "barpolar"
           }
          ],
          "carpet": [
           {
            "aaxis": {
             "endlinecolor": "#2a3f5f",
             "gridcolor": "white",
             "linecolor": "white",
             "minorgridcolor": "white",
             "startlinecolor": "#2a3f5f"
            },
            "baxis": {
             "endlinecolor": "#2a3f5f",
             "gridcolor": "white",
             "linecolor": "white",
             "minorgridcolor": "white",
             "startlinecolor": "#2a3f5f"
            },
            "type": "carpet"
           }
          ],
          "choropleth": [
           {
            "colorbar": {
             "outlinewidth": 0,
             "ticks": ""
            },
            "type": "choropleth"
           }
          ],
          "contour": [
           {
            "colorbar": {
             "outlinewidth": 0,
             "ticks": ""
            },
            "colorscale": [
             [
              0,
              "#0d0887"
             ],
             [
              0.1111111111111111,
              "#46039f"
             ],
             [
              0.2222222222222222,
              "#7201a8"
             ],
             [
              0.3333333333333333,
              "#9c179e"
             ],
             [
              0.4444444444444444,
              "#bd3786"
             ],
             [
              0.5555555555555556,
              "#d8576b"
             ],
             [
              0.6666666666666666,
              "#ed7953"
             ],
             [
              0.7777777777777778,
              "#fb9f3a"
             ],
             [
              0.8888888888888888,
              "#fdca26"
             ],
             [
              1,
              "#f0f921"
             ]
            ],
            "type": "contour"
           }
          ],
          "contourcarpet": [
           {
            "colorbar": {
             "outlinewidth": 0,
             "ticks": ""
            },
            "type": "contourcarpet"
           }
          ],
          "heatmap": [
           {
            "colorbar": {
             "outlinewidth": 0,
             "ticks": ""
            },
            "colorscale": [
             [
              0,
              "#0d0887"
             ],
             [
              0.1111111111111111,
              "#46039f"
             ],
             [
              0.2222222222222222,
              "#7201a8"
             ],
             [
              0.3333333333333333,
              "#9c179e"
             ],
             [
              0.4444444444444444,
              "#bd3786"
             ],
             [
              0.5555555555555556,
              "#d8576b"
             ],
             [
              0.6666666666666666,
              "#ed7953"
             ],
             [
              0.7777777777777778,
              "#fb9f3a"
             ],
             [
              0.8888888888888888,
              "#fdca26"
             ],
             [
              1,
              "#f0f921"
             ]
            ],
            "type": "heatmap"
           }
          ],
          "heatmapgl": [
           {
            "colorbar": {
             "outlinewidth": 0,
             "ticks": ""
            },
            "colorscale": [
             [
              0,
              "#0d0887"
             ],
             [
              0.1111111111111111,
              "#46039f"
             ],
             [
              0.2222222222222222,
              "#7201a8"
             ],
             [
              0.3333333333333333,
              "#9c179e"
             ],
             [
              0.4444444444444444,
              "#bd3786"
             ],
             [
              0.5555555555555556,
              "#d8576b"
             ],
             [
              0.6666666666666666,
              "#ed7953"
             ],
             [
              0.7777777777777778,
              "#fb9f3a"
             ],
             [
              0.8888888888888888,
              "#fdca26"
             ],
             [
              1,
              "#f0f921"
             ]
            ],
            "type": "heatmapgl"
           }
          ],
          "histogram": [
           {
            "marker": {
             "pattern": {
              "fillmode": "overlay",
              "size": 10,
              "solidity": 0.2
             }
            },
            "type": "histogram"
           }
          ],
          "histogram2d": [
           {
            "colorbar": {
             "outlinewidth": 0,
             "ticks": ""
            },
            "colorscale": [
             [
              0,
              "#0d0887"
             ],
             [
              0.1111111111111111,
              "#46039f"
             ],
             [
              0.2222222222222222,
              "#7201a8"
             ],
             [
              0.3333333333333333,
              "#9c179e"
             ],
             [
              0.4444444444444444,
              "#bd3786"
             ],
             [
              0.5555555555555556,
              "#d8576b"
             ],
             [
              0.6666666666666666,
              "#ed7953"
             ],
             [
              0.7777777777777778,
              "#fb9f3a"
             ],
             [
              0.8888888888888888,
              "#fdca26"
             ],
             [
              1,
              "#f0f921"
             ]
            ],
            "type": "histogram2d"
           }
          ],
          "histogram2dcontour": [
           {
            "colorbar": {
             "outlinewidth": 0,
             "ticks": ""
            },
            "colorscale": [
             [
              0,
              "#0d0887"
             ],
             [
              0.1111111111111111,
              "#46039f"
             ],
             [
              0.2222222222222222,
              "#7201a8"
             ],
             [
              0.3333333333333333,
              "#9c179e"
             ],
             [
              0.4444444444444444,
              "#bd3786"
             ],
             [
              0.5555555555555556,
              "#d8576b"
             ],
             [
              0.6666666666666666,
              "#ed7953"
             ],
             [
              0.7777777777777778,
              "#fb9f3a"
             ],
             [
              0.8888888888888888,
              "#fdca26"
             ],
             [
              1,
              "#f0f921"
             ]
            ],
            "type": "histogram2dcontour"
           }
          ],
          "mesh3d": [
           {
            "colorbar": {
             "outlinewidth": 0,
             "ticks": ""
            },
            "type": "mesh3d"
           }
          ],
          "parcoords": [
           {
            "line": {
             "colorbar": {
              "outlinewidth": 0,
              "ticks": ""
             }
            },
            "type": "parcoords"
           }
          ],
          "pie": [
           {
            "automargin": true,
            "type": "pie"
           }
          ],
          "scatter": [
           {
            "fillpattern": {
             "fillmode": "overlay",
             "size": 10,
             "solidity": 0.2
            },
            "type": "scatter"
           }
          ],
          "scatter3d": [
           {
            "line": {
             "colorbar": {
              "outlinewidth": 0,
              "ticks": ""
             }
            },
            "marker": {
             "colorbar": {
              "outlinewidth": 0,
              "ticks": ""
             }
            },
            "type": "scatter3d"
           }
          ],
          "scattercarpet": [
           {
            "marker": {
             "colorbar": {
              "outlinewidth": 0,
              "ticks": ""
             }
            },
            "type": "scattercarpet"
           }
          ],
          "scattergeo": [
           {
            "marker": {
             "colorbar": {
              "outlinewidth": 0,
              "ticks": ""
             }
            },
            "type": "scattergeo"
           }
          ],
          "scattergl": [
           {
            "marker": {
             "colorbar": {
              "outlinewidth": 0,
              "ticks": ""
             }
            },
            "type": "scattergl"
           }
          ],
          "scattermapbox": [
           {
            "marker": {
             "colorbar": {
              "outlinewidth": 0,
              "ticks": ""
             }
            },
            "type": "scattermapbox"
           }
          ],
          "scatterpolar": [
           {
            "marker": {
             "colorbar": {
              "outlinewidth": 0,
              "ticks": ""
             }
            },
            "type": "scatterpolar"
           }
          ],
          "scatterpolargl": [
           {
            "marker": {
             "colorbar": {
              "outlinewidth": 0,
              "ticks": ""
             }
            },
            "type": "scatterpolargl"
           }
          ],
          "scatterternary": [
           {
            "marker": {
             "colorbar": {
              "outlinewidth": 0,
              "ticks": ""
             }
            },
            "type": "scatterternary"
           }
          ],
          "surface": [
           {
            "colorbar": {
             "outlinewidth": 0,
             "ticks": ""
            },
            "colorscale": [
             [
              0,
              "#0d0887"
             ],
             [
              0.1111111111111111,
              "#46039f"
             ],
             [
              0.2222222222222222,
              "#7201a8"
             ],
             [
              0.3333333333333333,
              "#9c179e"
             ],
             [
              0.4444444444444444,
              "#bd3786"
             ],
             [
              0.5555555555555556,
              "#d8576b"
             ],
             [
              0.6666666666666666,
              "#ed7953"
             ],
             [
              0.7777777777777778,
              "#fb9f3a"
             ],
             [
              0.8888888888888888,
              "#fdca26"
             ],
             [
              1,
              "#f0f921"
             ]
            ],
            "type": "surface"
           }
          ],
          "table": [
           {
            "cells": {
             "fill": {
              "color": "#EBF0F8"
             },
             "line": {
              "color": "white"
             }
            },
            "header": {
             "fill": {
              "color": "#C8D4E3"
             },
             "line": {
              "color": "white"
             }
            },
            "type": "table"
           }
          ]
         },
         "layout": {
          "annotationdefaults": {
           "arrowcolor": "#2a3f5f",
           "arrowhead": 0,
           "arrowwidth": 1
          },
          "autotypenumbers": "strict",
          "coloraxis": {
           "colorbar": {
            "outlinewidth": 0,
            "ticks": ""
           }
          },
          "colorscale": {
           "diverging": [
            [
             0,
             "#8e0152"
            ],
            [
             0.1,
             "#c51b7d"
            ],
            [
             0.2,
             "#de77ae"
            ],
            [
             0.3,
             "#f1b6da"
            ],
            [
             0.4,
             "#fde0ef"
            ],
            [
             0.5,
             "#f7f7f7"
            ],
            [
             0.6,
             "#e6f5d0"
            ],
            [
             0.7,
             "#b8e186"
            ],
            [
             0.8,
             "#7fbc41"
            ],
            [
             0.9,
             "#4d9221"
            ],
            [
             1,
             "#276419"
            ]
           ],
           "sequential": [
            [
             0,
             "#0d0887"
            ],
            [
             0.1111111111111111,
             "#46039f"
            ],
            [
             0.2222222222222222,
             "#7201a8"
            ],
            [
             0.3333333333333333,
             "#9c179e"
            ],
            [
             0.4444444444444444,
             "#bd3786"
            ],
            [
             0.5555555555555556,
             "#d8576b"
            ],
            [
             0.6666666666666666,
             "#ed7953"
            ],
            [
             0.7777777777777778,
             "#fb9f3a"
            ],
            [
             0.8888888888888888,
             "#fdca26"
            ],
            [
             1,
             "#f0f921"
            ]
           ],
           "sequentialminus": [
            [
             0,
             "#0d0887"
            ],
            [
             0.1111111111111111,
             "#46039f"
            ],
            [
             0.2222222222222222,
             "#7201a8"
            ],
            [
             0.3333333333333333,
             "#9c179e"
            ],
            [
             0.4444444444444444,
             "#bd3786"
            ],
            [
             0.5555555555555556,
             "#d8576b"
            ],
            [
             0.6666666666666666,
             "#ed7953"
            ],
            [
             0.7777777777777778,
             "#fb9f3a"
            ],
            [
             0.8888888888888888,
             "#fdca26"
            ],
            [
             1,
             "#f0f921"
            ]
           ]
          },
          "colorway": [
           "#636efa",
           "#EF553B",
           "#00cc96",
           "#ab63fa",
           "#FFA15A",
           "#19d3f3",
           "#FF6692",
           "#B6E880",
           "#FF97FF",
           "#FECB52"
          ],
          "font": {
           "color": "#2a3f5f"
          },
          "geo": {
           "bgcolor": "white",
           "lakecolor": "white",
           "landcolor": "#E5ECF6",
           "showlakes": true,
           "showland": true,
           "subunitcolor": "white"
          },
          "hoverlabel": {
           "align": "left"
          },
          "hovermode": "closest",
          "mapbox": {
           "style": "light"
          },
          "paper_bgcolor": "white",
          "plot_bgcolor": "#E5ECF6",
          "polar": {
           "angularaxis": {
            "gridcolor": "white",
            "linecolor": "white",
            "ticks": ""
           },
           "bgcolor": "#E5ECF6",
           "radialaxis": {
            "gridcolor": "white",
            "linecolor": "white",
            "ticks": ""
           }
          },
          "scene": {
           "xaxis": {
            "backgroundcolor": "#E5ECF6",
            "gridcolor": "white",
            "gridwidth": 2,
            "linecolor": "white",
            "showbackground": true,
            "ticks": "",
            "zerolinecolor": "white"
           },
           "yaxis": {
            "backgroundcolor": "#E5ECF6",
            "gridcolor": "white",
            "gridwidth": 2,
            "linecolor": "white",
            "showbackground": true,
            "ticks": "",
            "zerolinecolor": "white"
           },
           "zaxis": {
            "backgroundcolor": "#E5ECF6",
            "gridcolor": "white",
            "gridwidth": 2,
            "linecolor": "white",
            "showbackground": true,
            "ticks": "",
            "zerolinecolor": "white"
           }
          },
          "shapedefaults": {
           "line": {
            "color": "#2a3f5f"
           }
          },
          "ternary": {
           "aaxis": {
            "gridcolor": "white",
            "linecolor": "white",
            "ticks": ""
           },
           "baxis": {
            "gridcolor": "white",
            "linecolor": "white",
            "ticks": ""
           },
           "bgcolor": "#E5ECF6",
           "caxis": {
            "gridcolor": "white",
            "linecolor": "white",
            "ticks": ""
           }
          },
          "title": {
           "x": 0.05
          },
          "xaxis": {
           "automargin": true,
           "gridcolor": "white",
           "linecolor": "white",
           "ticks": "",
           "title": {
            "standoff": 15
           },
           "zerolinecolor": "white",
           "zerolinewidth": 2
          },
          "yaxis": {
           "automargin": true,
           "gridcolor": "white",
           "linecolor": "white",
           "ticks": "",
           "title": {
            "standoff": 15
           },
           "zerolinecolor": "white",
           "zerolinewidth": 2
          }
         }
        },
        "xaxis": {
         "anchor": "y",
         "domain": [
          0,
          1
         ],
         "title": {
          "text": "index"
         }
        },
        "yaxis": {
         "anchor": "x",
         "domain": [
          0,
          1
         ],
         "title": {
          "text": "value"
         }
        }
       }
      }
     },
     "metadata": {},
     "output_type": "display_data"
    }
   ],
   "source": [
    "fig = px.bar(df_dummies.corr()['Churn Label'].sort_values(ascending = False), \n",
    "             color = 'value')\n",
    "fig.show()"
   ]
  },
  {
   "cell_type": "code",
   "execution_count": 88,
   "metadata": {},
   "outputs": [
    {
     "data": {
      "application/vnd.plotly.v1+json": {
       "config": {
        "plotlyServerURL": "https://plot.ly"
       },
       "data": [
        {
         "domain": {
          "x": [
           0,
           0.49
          ],
          "y": [
           0,
           1
          ]
         },
         "hovertemplate": "Churn Label=No<br>Device Class=%{label}<br>Customer ID=%{value}<extra></extra>",
         "labels": [
          "High End",
          "Low End",
          "Mid End"
         ],
         "legendgroup": "",
         "name": "",
         "showlegend": true,
         "type": "pie",
         "values": [
          1799,
          1413,
          1962
         ]
        },
        {
         "domain": {
          "x": [
           0.51,
           1
          ],
          "y": [
           0,
           1
          ]
         },
         "hovertemplate": "Churn Label=Yes<br>Device Class=%{label}<br>Customer ID=%{value}<extra></extra>",
         "labels": [
          "High End",
          "Low End",
          "Mid End"
         ],
         "legendgroup": "",
         "name": "",
         "showlegend": true,
         "type": "pie",
         "values": [
          1297,
          113,
          459
         ]
        }
       ],
       "layout": {
        "annotations": [
         {
          "font": {},
          "showarrow": false,
          "text": "Churn Label=No",
          "x": 0.245,
          "xanchor": "center",
          "xref": "paper",
          "y": 1,
          "yanchor": "bottom",
          "yref": "paper"
         },
         {
          "font": {},
          "showarrow": false,
          "text": "Churn Label=Yes",
          "x": 0.755,
          "xanchor": "center",
          "xref": "paper",
          "y": 1,
          "yanchor": "bottom",
          "yref": "paper"
         }
        ],
        "legend": {
         "tracegroupgap": 0
        },
        "template": {
         "data": {
          "bar": [
           {
            "error_x": {
             "color": "#2a3f5f"
            },
            "error_y": {
             "color": "#2a3f5f"
            },
            "marker": {
             "line": {
              "color": "#E5ECF6",
              "width": 0.5
             },
             "pattern": {
              "fillmode": "overlay",
              "size": 10,
              "solidity": 0.2
             }
            },
            "type": "bar"
           }
          ],
          "barpolar": [
           {
            "marker": {
             "line": {
              "color": "#E5ECF6",
              "width": 0.5
             },
             "pattern": {
              "fillmode": "overlay",
              "size": 10,
              "solidity": 0.2
             }
            },
            "type": "barpolar"
           }
          ],
          "carpet": [
           {
            "aaxis": {
             "endlinecolor": "#2a3f5f",
             "gridcolor": "white",
             "linecolor": "white",
             "minorgridcolor": "white",
             "startlinecolor": "#2a3f5f"
            },
            "baxis": {
             "endlinecolor": "#2a3f5f",
             "gridcolor": "white",
             "linecolor": "white",
             "minorgridcolor": "white",
             "startlinecolor": "#2a3f5f"
            },
            "type": "carpet"
           }
          ],
          "choropleth": [
           {
            "colorbar": {
             "outlinewidth": 0,
             "ticks": ""
            },
            "type": "choropleth"
           }
          ],
          "contour": [
           {
            "colorbar": {
             "outlinewidth": 0,
             "ticks": ""
            },
            "colorscale": [
             [
              0,
              "#0d0887"
             ],
             [
              0.1111111111111111,
              "#46039f"
             ],
             [
              0.2222222222222222,
              "#7201a8"
             ],
             [
              0.3333333333333333,
              "#9c179e"
             ],
             [
              0.4444444444444444,
              "#bd3786"
             ],
             [
              0.5555555555555556,
              "#d8576b"
             ],
             [
              0.6666666666666666,
              "#ed7953"
             ],
             [
              0.7777777777777778,
              "#fb9f3a"
             ],
             [
              0.8888888888888888,
              "#fdca26"
             ],
             [
              1,
              "#f0f921"
             ]
            ],
            "type": "contour"
           }
          ],
          "contourcarpet": [
           {
            "colorbar": {
             "outlinewidth": 0,
             "ticks": ""
            },
            "type": "contourcarpet"
           }
          ],
          "heatmap": [
           {
            "colorbar": {
             "outlinewidth": 0,
             "ticks": ""
            },
            "colorscale": [
             [
              0,
              "#0d0887"
             ],
             [
              0.1111111111111111,
              "#46039f"
             ],
             [
              0.2222222222222222,
              "#7201a8"
             ],
             [
              0.3333333333333333,
              "#9c179e"
             ],
             [
              0.4444444444444444,
              "#bd3786"
             ],
             [
              0.5555555555555556,
              "#d8576b"
             ],
             [
              0.6666666666666666,
              "#ed7953"
             ],
             [
              0.7777777777777778,
              "#fb9f3a"
             ],
             [
              0.8888888888888888,
              "#fdca26"
             ],
             [
              1,
              "#f0f921"
             ]
            ],
            "type": "heatmap"
           }
          ],
          "heatmapgl": [
           {
            "colorbar": {
             "outlinewidth": 0,
             "ticks": ""
            },
            "colorscale": [
             [
              0,
              "#0d0887"
             ],
             [
              0.1111111111111111,
              "#46039f"
             ],
             [
              0.2222222222222222,
              "#7201a8"
             ],
             [
              0.3333333333333333,
              "#9c179e"
             ],
             [
              0.4444444444444444,
              "#bd3786"
             ],
             [
              0.5555555555555556,
              "#d8576b"
             ],
             [
              0.6666666666666666,
              "#ed7953"
             ],
             [
              0.7777777777777778,
              "#fb9f3a"
             ],
             [
              0.8888888888888888,
              "#fdca26"
             ],
             [
              1,
              "#f0f921"
             ]
            ],
            "type": "heatmapgl"
           }
          ],
          "histogram": [
           {
            "marker": {
             "pattern": {
              "fillmode": "overlay",
              "size": 10,
              "solidity": 0.2
             }
            },
            "type": "histogram"
           }
          ],
          "histogram2d": [
           {
            "colorbar": {
             "outlinewidth": 0,
             "ticks": ""
            },
            "colorscale": [
             [
              0,
              "#0d0887"
             ],
             [
              0.1111111111111111,
              "#46039f"
             ],
             [
              0.2222222222222222,
              "#7201a8"
             ],
             [
              0.3333333333333333,
              "#9c179e"
             ],
             [
              0.4444444444444444,
              "#bd3786"
             ],
             [
              0.5555555555555556,
              "#d8576b"
             ],
             [
              0.6666666666666666,
              "#ed7953"
             ],
             [
              0.7777777777777778,
              "#fb9f3a"
             ],
             [
              0.8888888888888888,
              "#fdca26"
             ],
             [
              1,
              "#f0f921"
             ]
            ],
            "type": "histogram2d"
           }
          ],
          "histogram2dcontour": [
           {
            "colorbar": {
             "outlinewidth": 0,
             "ticks": ""
            },
            "colorscale": [
             [
              0,
              "#0d0887"
             ],
             [
              0.1111111111111111,
              "#46039f"
             ],
             [
              0.2222222222222222,
              "#7201a8"
             ],
             [
              0.3333333333333333,
              "#9c179e"
             ],
             [
              0.4444444444444444,
              "#bd3786"
             ],
             [
              0.5555555555555556,
              "#d8576b"
             ],
             [
              0.6666666666666666,
              "#ed7953"
             ],
             [
              0.7777777777777778,
              "#fb9f3a"
             ],
             [
              0.8888888888888888,
              "#fdca26"
             ],
             [
              1,
              "#f0f921"
             ]
            ],
            "type": "histogram2dcontour"
           }
          ],
          "mesh3d": [
           {
            "colorbar": {
             "outlinewidth": 0,
             "ticks": ""
            },
            "type": "mesh3d"
           }
          ],
          "parcoords": [
           {
            "line": {
             "colorbar": {
              "outlinewidth": 0,
              "ticks": ""
             }
            },
            "type": "parcoords"
           }
          ],
          "pie": [
           {
            "automargin": true,
            "type": "pie"
           }
          ],
          "scatter": [
           {
            "fillpattern": {
             "fillmode": "overlay",
             "size": 10,
             "solidity": 0.2
            },
            "type": "scatter"
           }
          ],
          "scatter3d": [
           {
            "line": {
             "colorbar": {
              "outlinewidth": 0,
              "ticks": ""
             }
            },
            "marker": {
             "colorbar": {
              "outlinewidth": 0,
              "ticks": ""
             }
            },
            "type": "scatter3d"
           }
          ],
          "scattercarpet": [
           {
            "marker": {
             "colorbar": {
              "outlinewidth": 0,
              "ticks": ""
             }
            },
            "type": "scattercarpet"
           }
          ],
          "scattergeo": [
           {
            "marker": {
             "colorbar": {
              "outlinewidth": 0,
              "ticks": ""
             }
            },
            "type": "scattergeo"
           }
          ],
          "scattergl": [
           {
            "marker": {
             "colorbar": {
              "outlinewidth": 0,
              "ticks": ""
             }
            },
            "type": "scattergl"
           }
          ],
          "scattermapbox": [
           {
            "marker": {
             "colorbar": {
              "outlinewidth": 0,
              "ticks": ""
             }
            },
            "type": "scattermapbox"
           }
          ],
          "scatterpolar": [
           {
            "marker": {
             "colorbar": {
              "outlinewidth": 0,
              "ticks": ""
             }
            },
            "type": "scatterpolar"
           }
          ],
          "scatterpolargl": [
           {
            "marker": {
             "colorbar": {
              "outlinewidth": 0,
              "ticks": ""
             }
            },
            "type": "scatterpolargl"
           }
          ],
          "scatterternary": [
           {
            "marker": {
             "colorbar": {
              "outlinewidth": 0,
              "ticks": ""
             }
            },
            "type": "scatterternary"
           }
          ],
          "surface": [
           {
            "colorbar": {
             "outlinewidth": 0,
             "ticks": ""
            },
            "colorscale": [
             [
              0,
              "#0d0887"
             ],
             [
              0.1111111111111111,
              "#46039f"
             ],
             [
              0.2222222222222222,
              "#7201a8"
             ],
             [
              0.3333333333333333,
              "#9c179e"
             ],
             [
              0.4444444444444444,
              "#bd3786"
             ],
             [
              0.5555555555555556,
              "#d8576b"
             ],
             [
              0.6666666666666666,
              "#ed7953"
             ],
             [
              0.7777777777777778,
              "#fb9f3a"
             ],
             [
              0.8888888888888888,
              "#fdca26"
             ],
             [
              1,
              "#f0f921"
             ]
            ],
            "type": "surface"
           }
          ],
          "table": [
           {
            "cells": {
             "fill": {
              "color": "#EBF0F8"
             },
             "line": {
              "color": "white"
             }
            },
            "header": {
             "fill": {
              "color": "#C8D4E3"
             },
             "line": {
              "color": "white"
             }
            },
            "type": "table"
           }
          ]
         },
         "layout": {
          "annotationdefaults": {
           "arrowcolor": "#2a3f5f",
           "arrowhead": 0,
           "arrowwidth": 1
          },
          "autotypenumbers": "strict",
          "coloraxis": {
           "colorbar": {
            "outlinewidth": 0,
            "ticks": ""
           }
          },
          "colorscale": {
           "diverging": [
            [
             0,
             "#8e0152"
            ],
            [
             0.1,
             "#c51b7d"
            ],
            [
             0.2,
             "#de77ae"
            ],
            [
             0.3,
             "#f1b6da"
            ],
            [
             0.4,
             "#fde0ef"
            ],
            [
             0.5,
             "#f7f7f7"
            ],
            [
             0.6,
             "#e6f5d0"
            ],
            [
             0.7,
             "#b8e186"
            ],
            [
             0.8,
             "#7fbc41"
            ],
            [
             0.9,
             "#4d9221"
            ],
            [
             1,
             "#276419"
            ]
           ],
           "sequential": [
            [
             0,
             "#0d0887"
            ],
            [
             0.1111111111111111,
             "#46039f"
            ],
            [
             0.2222222222222222,
             "#7201a8"
            ],
            [
             0.3333333333333333,
             "#9c179e"
            ],
            [
             0.4444444444444444,
             "#bd3786"
            ],
            [
             0.5555555555555556,
             "#d8576b"
            ],
            [
             0.6666666666666666,
             "#ed7953"
            ],
            [
             0.7777777777777778,
             "#fb9f3a"
            ],
            [
             0.8888888888888888,
             "#fdca26"
            ],
            [
             1,
             "#f0f921"
            ]
           ],
           "sequentialminus": [
            [
             0,
             "#0d0887"
            ],
            [
             0.1111111111111111,
             "#46039f"
            ],
            [
             0.2222222222222222,
             "#7201a8"
            ],
            [
             0.3333333333333333,
             "#9c179e"
            ],
            [
             0.4444444444444444,
             "#bd3786"
            ],
            [
             0.5555555555555556,
             "#d8576b"
            ],
            [
             0.6666666666666666,
             "#ed7953"
            ],
            [
             0.7777777777777778,
             "#fb9f3a"
            ],
            [
             0.8888888888888888,
             "#fdca26"
            ],
            [
             1,
             "#f0f921"
            ]
           ]
          },
          "colorway": [
           "#636efa",
           "#EF553B",
           "#00cc96",
           "#ab63fa",
           "#FFA15A",
           "#19d3f3",
           "#FF6692",
           "#B6E880",
           "#FF97FF",
           "#FECB52"
          ],
          "font": {
           "color": "#2a3f5f"
          },
          "geo": {
           "bgcolor": "white",
           "lakecolor": "white",
           "landcolor": "#E5ECF6",
           "showlakes": true,
           "showland": true,
           "subunitcolor": "white"
          },
          "hoverlabel": {
           "align": "left"
          },
          "hovermode": "closest",
          "mapbox": {
           "style": "light"
          },
          "paper_bgcolor": "white",
          "plot_bgcolor": "#E5ECF6",
          "polar": {
           "angularaxis": {
            "gridcolor": "white",
            "linecolor": "white",
            "ticks": ""
           },
           "bgcolor": "#E5ECF6",
           "radialaxis": {
            "gridcolor": "white",
            "linecolor": "white",
            "ticks": ""
           }
          },
          "scene": {
           "xaxis": {
            "backgroundcolor": "#E5ECF6",
            "gridcolor": "white",
            "gridwidth": 2,
            "linecolor": "white",
            "showbackground": true,
            "ticks": "",
            "zerolinecolor": "white"
           },
           "yaxis": {
            "backgroundcolor": "#E5ECF6",
            "gridcolor": "white",
            "gridwidth": 2,
            "linecolor": "white",
            "showbackground": true,
            "ticks": "",
            "zerolinecolor": "white"
           },
           "zaxis": {
            "backgroundcolor": "#E5ECF6",
            "gridcolor": "white",
            "gridwidth": 2,
            "linecolor": "white",
            "showbackground": true,
            "ticks": "",
            "zerolinecolor": "white"
           }
          },
          "shapedefaults": {
           "line": {
            "color": "#2a3f5f"
           }
          },
          "ternary": {
           "aaxis": {
            "gridcolor": "white",
            "linecolor": "white",
            "ticks": ""
           },
           "baxis": {
            "gridcolor": "white",
            "linecolor": "white",
            "ticks": ""
           },
           "bgcolor": "#E5ECF6",
           "caxis": {
            "gridcolor": "white",
            "linecolor": "white",
            "ticks": ""
           }
          },
          "title": {
           "x": 0.05
          },
          "xaxis": {
           "automargin": true,
           "gridcolor": "white",
           "linecolor": "white",
           "ticks": "",
           "title": {
            "standoff": 15
           },
           "zerolinecolor": "white",
           "zerolinewidth": 2
          },
          "yaxis": {
           "automargin": true,
           "gridcolor": "white",
           "linecolor": "white",
           "ticks": "",
           "title": {
            "standoff": 15
           },
           "zerolinecolor": "white",
           "zerolinewidth": 2
          }
         }
        },
        "title": {
         "text": "What type of clients' devices who left the service?"
        }
       }
      }
     },
     "metadata": {},
     "output_type": "display_data"
    }
   ],
   "source": [
    "fig = px.pie(data.groupby(['Device Class','Churn Label'])['Customer ID'].count().reset_index(), \n",
    "             values='Customer ID', \n",
    "             facet_col = 'Churn Label',\n",
    "             names='Device Class',\n",
    "            title = \"What type of clients' devices who left the service?\")\n",
    "fig.show()"
   ]
  },
  {
   "cell_type": "code",
   "execution_count": 92,
   "metadata": {},
   "outputs": [
    {
     "data": {
      "application/vnd.plotly.v1+json": {
       "config": {
        "plotlyServerURL": "https://plot.ly"
       },
       "data": [
        {
         "domain": {
          "x": [
           0,
           0.49
          ],
          "y": [
           0,
           1
          ]
         },
         "hole": 0.5,
         "hovertemplate": "Churn Label=No<br>Payment Method=%{label}<br>Customer ID=%{value}<extra></extra>",
         "labels": [
          "Credit",
          "Debit",
          "Digital Wallet",
          "Pulsa"
         ],
         "legendgroup": "",
         "name": "",
         "showlegend": true,
         "type": "pie",
         "values": [
          1290,
          1286,
          1304,
          1294
         ]
        },
        {
         "domain": {
          "x": [
           0.51,
           1
          ],
          "y": [
           0,
           1
          ]
         },
         "hole": 0.5,
         "hovertemplate": "Churn Label=Yes<br>Payment Method=%{label}<br>Customer ID=%{value}<extra></extra>",
         "labels": [
          "Credit",
          "Debit",
          "Digital Wallet",
          "Pulsa"
         ],
         "legendgroup": "",
         "name": "",
         "showlegend": true,
         "type": "pie",
         "values": [
          232,
          258,
          308,
          1071
         ]
        }
       ],
       "layout": {
        "annotations": [
         {
          "font": {},
          "showarrow": false,
          "text": "Churn Label=No",
          "x": 0.245,
          "xanchor": "center",
          "xref": "paper",
          "y": 1,
          "yanchor": "bottom",
          "yref": "paper"
         },
         {
          "font": {},
          "showarrow": false,
          "text": "Churn Label=Yes",
          "x": 0.755,
          "xanchor": "center",
          "xref": "paper",
          "y": 1,
          "yanchor": "bottom",
          "yref": "paper"
         }
        ],
        "legend": {
         "tracegroupgap": 0
        },
        "template": {
         "data": {
          "bar": [
           {
            "error_x": {
             "color": "#2a3f5f"
            },
            "error_y": {
             "color": "#2a3f5f"
            },
            "marker": {
             "line": {
              "color": "#E5ECF6",
              "width": 0.5
             },
             "pattern": {
              "fillmode": "overlay",
              "size": 10,
              "solidity": 0.2
             }
            },
            "type": "bar"
           }
          ],
          "barpolar": [
           {
            "marker": {
             "line": {
              "color": "#E5ECF6",
              "width": 0.5
             },
             "pattern": {
              "fillmode": "overlay",
              "size": 10,
              "solidity": 0.2
             }
            },
            "type": "barpolar"
           }
          ],
          "carpet": [
           {
            "aaxis": {
             "endlinecolor": "#2a3f5f",
             "gridcolor": "white",
             "linecolor": "white",
             "minorgridcolor": "white",
             "startlinecolor": "#2a3f5f"
            },
            "baxis": {
             "endlinecolor": "#2a3f5f",
             "gridcolor": "white",
             "linecolor": "white",
             "minorgridcolor": "white",
             "startlinecolor": "#2a3f5f"
            },
            "type": "carpet"
           }
          ],
          "choropleth": [
           {
            "colorbar": {
             "outlinewidth": 0,
             "ticks": ""
            },
            "type": "choropleth"
           }
          ],
          "contour": [
           {
            "colorbar": {
             "outlinewidth": 0,
             "ticks": ""
            },
            "colorscale": [
             [
              0,
              "#0d0887"
             ],
             [
              0.1111111111111111,
              "#46039f"
             ],
             [
              0.2222222222222222,
              "#7201a8"
             ],
             [
              0.3333333333333333,
              "#9c179e"
             ],
             [
              0.4444444444444444,
              "#bd3786"
             ],
             [
              0.5555555555555556,
              "#d8576b"
             ],
             [
              0.6666666666666666,
              "#ed7953"
             ],
             [
              0.7777777777777778,
              "#fb9f3a"
             ],
             [
              0.8888888888888888,
              "#fdca26"
             ],
             [
              1,
              "#f0f921"
             ]
            ],
            "type": "contour"
           }
          ],
          "contourcarpet": [
           {
            "colorbar": {
             "outlinewidth": 0,
             "ticks": ""
            },
            "type": "contourcarpet"
           }
          ],
          "heatmap": [
           {
            "colorbar": {
             "outlinewidth": 0,
             "ticks": ""
            },
            "colorscale": [
             [
              0,
              "#0d0887"
             ],
             [
              0.1111111111111111,
              "#46039f"
             ],
             [
              0.2222222222222222,
              "#7201a8"
             ],
             [
              0.3333333333333333,
              "#9c179e"
             ],
             [
              0.4444444444444444,
              "#bd3786"
             ],
             [
              0.5555555555555556,
              "#d8576b"
             ],
             [
              0.6666666666666666,
              "#ed7953"
             ],
             [
              0.7777777777777778,
              "#fb9f3a"
             ],
             [
              0.8888888888888888,
              "#fdca26"
             ],
             [
              1,
              "#f0f921"
             ]
            ],
            "type": "heatmap"
           }
          ],
          "heatmapgl": [
           {
            "colorbar": {
             "outlinewidth": 0,
             "ticks": ""
            },
            "colorscale": [
             [
              0,
              "#0d0887"
             ],
             [
              0.1111111111111111,
              "#46039f"
             ],
             [
              0.2222222222222222,
              "#7201a8"
             ],
             [
              0.3333333333333333,
              "#9c179e"
             ],
             [
              0.4444444444444444,
              "#bd3786"
             ],
             [
              0.5555555555555556,
              "#d8576b"
             ],
             [
              0.6666666666666666,
              "#ed7953"
             ],
             [
              0.7777777777777778,
              "#fb9f3a"
             ],
             [
              0.8888888888888888,
              "#fdca26"
             ],
             [
              1,
              "#f0f921"
             ]
            ],
            "type": "heatmapgl"
           }
          ],
          "histogram": [
           {
            "marker": {
             "pattern": {
              "fillmode": "overlay",
              "size": 10,
              "solidity": 0.2
             }
            },
            "type": "histogram"
           }
          ],
          "histogram2d": [
           {
            "colorbar": {
             "outlinewidth": 0,
             "ticks": ""
            },
            "colorscale": [
             [
              0,
              "#0d0887"
             ],
             [
              0.1111111111111111,
              "#46039f"
             ],
             [
              0.2222222222222222,
              "#7201a8"
             ],
             [
              0.3333333333333333,
              "#9c179e"
             ],
             [
              0.4444444444444444,
              "#bd3786"
             ],
             [
              0.5555555555555556,
              "#d8576b"
             ],
             [
              0.6666666666666666,
              "#ed7953"
             ],
             [
              0.7777777777777778,
              "#fb9f3a"
             ],
             [
              0.8888888888888888,
              "#fdca26"
             ],
             [
              1,
              "#f0f921"
             ]
            ],
            "type": "histogram2d"
           }
          ],
          "histogram2dcontour": [
           {
            "colorbar": {
             "outlinewidth": 0,
             "ticks": ""
            },
            "colorscale": [
             [
              0,
              "#0d0887"
             ],
             [
              0.1111111111111111,
              "#46039f"
             ],
             [
              0.2222222222222222,
              "#7201a8"
             ],
             [
              0.3333333333333333,
              "#9c179e"
             ],
             [
              0.4444444444444444,
              "#bd3786"
             ],
             [
              0.5555555555555556,
              "#d8576b"
             ],
             [
              0.6666666666666666,
              "#ed7953"
             ],
             [
              0.7777777777777778,
              "#fb9f3a"
             ],
             [
              0.8888888888888888,
              "#fdca26"
             ],
             [
              1,
              "#f0f921"
             ]
            ],
            "type": "histogram2dcontour"
           }
          ],
          "mesh3d": [
           {
            "colorbar": {
             "outlinewidth": 0,
             "ticks": ""
            },
            "type": "mesh3d"
           }
          ],
          "parcoords": [
           {
            "line": {
             "colorbar": {
              "outlinewidth": 0,
              "ticks": ""
             }
            },
            "type": "parcoords"
           }
          ],
          "pie": [
           {
            "automargin": true,
            "type": "pie"
           }
          ],
          "scatter": [
           {
            "fillpattern": {
             "fillmode": "overlay",
             "size": 10,
             "solidity": 0.2
            },
            "type": "scatter"
           }
          ],
          "scatter3d": [
           {
            "line": {
             "colorbar": {
              "outlinewidth": 0,
              "ticks": ""
             }
            },
            "marker": {
             "colorbar": {
              "outlinewidth": 0,
              "ticks": ""
             }
            },
            "type": "scatter3d"
           }
          ],
          "scattercarpet": [
           {
            "marker": {
             "colorbar": {
              "outlinewidth": 0,
              "ticks": ""
             }
            },
            "type": "scattercarpet"
           }
          ],
          "scattergeo": [
           {
            "marker": {
             "colorbar": {
              "outlinewidth": 0,
              "ticks": ""
             }
            },
            "type": "scattergeo"
           }
          ],
          "scattergl": [
           {
            "marker": {
             "colorbar": {
              "outlinewidth": 0,
              "ticks": ""
             }
            },
            "type": "scattergl"
           }
          ],
          "scattermapbox": [
           {
            "marker": {
             "colorbar": {
              "outlinewidth": 0,
              "ticks": ""
             }
            },
            "type": "scattermapbox"
           }
          ],
          "scatterpolar": [
           {
            "marker": {
             "colorbar": {
              "outlinewidth": 0,
              "ticks": ""
             }
            },
            "type": "scatterpolar"
           }
          ],
          "scatterpolargl": [
           {
            "marker": {
             "colorbar": {
              "outlinewidth": 0,
              "ticks": ""
             }
            },
            "type": "scatterpolargl"
           }
          ],
          "scatterternary": [
           {
            "marker": {
             "colorbar": {
              "outlinewidth": 0,
              "ticks": ""
             }
            },
            "type": "scatterternary"
           }
          ],
          "surface": [
           {
            "colorbar": {
             "outlinewidth": 0,
             "ticks": ""
            },
            "colorscale": [
             [
              0,
              "#0d0887"
             ],
             [
              0.1111111111111111,
              "#46039f"
             ],
             [
              0.2222222222222222,
              "#7201a8"
             ],
             [
              0.3333333333333333,
              "#9c179e"
             ],
             [
              0.4444444444444444,
              "#bd3786"
             ],
             [
              0.5555555555555556,
              "#d8576b"
             ],
             [
              0.6666666666666666,
              "#ed7953"
             ],
             [
              0.7777777777777778,
              "#fb9f3a"
             ],
             [
              0.8888888888888888,
              "#fdca26"
             ],
             [
              1,
              "#f0f921"
             ]
            ],
            "type": "surface"
           }
          ],
          "table": [
           {
            "cells": {
             "fill": {
              "color": "#EBF0F8"
             },
             "line": {
              "color": "white"
             }
            },
            "header": {
             "fill": {
              "color": "#C8D4E3"
             },
             "line": {
              "color": "white"
             }
            },
            "type": "table"
           }
          ]
         },
         "layout": {
          "annotationdefaults": {
           "arrowcolor": "#2a3f5f",
           "arrowhead": 0,
           "arrowwidth": 1
          },
          "autotypenumbers": "strict",
          "coloraxis": {
           "colorbar": {
            "outlinewidth": 0,
            "ticks": ""
           }
          },
          "colorscale": {
           "diverging": [
            [
             0,
             "#8e0152"
            ],
            [
             0.1,
             "#c51b7d"
            ],
            [
             0.2,
             "#de77ae"
            ],
            [
             0.3,
             "#f1b6da"
            ],
            [
             0.4,
             "#fde0ef"
            ],
            [
             0.5,
             "#f7f7f7"
            ],
            [
             0.6,
             "#e6f5d0"
            ],
            [
             0.7,
             "#b8e186"
            ],
            [
             0.8,
             "#7fbc41"
            ],
            [
             0.9,
             "#4d9221"
            ],
            [
             1,
             "#276419"
            ]
           ],
           "sequential": [
            [
             0,
             "#0d0887"
            ],
            [
             0.1111111111111111,
             "#46039f"
            ],
            [
             0.2222222222222222,
             "#7201a8"
            ],
            [
             0.3333333333333333,
             "#9c179e"
            ],
            [
             0.4444444444444444,
             "#bd3786"
            ],
            [
             0.5555555555555556,
             "#d8576b"
            ],
            [
             0.6666666666666666,
             "#ed7953"
            ],
            [
             0.7777777777777778,
             "#fb9f3a"
            ],
            [
             0.8888888888888888,
             "#fdca26"
            ],
            [
             1,
             "#f0f921"
            ]
           ],
           "sequentialminus": [
            [
             0,
             "#0d0887"
            ],
            [
             0.1111111111111111,
             "#46039f"
            ],
            [
             0.2222222222222222,
             "#7201a8"
            ],
            [
             0.3333333333333333,
             "#9c179e"
            ],
            [
             0.4444444444444444,
             "#bd3786"
            ],
            [
             0.5555555555555556,
             "#d8576b"
            ],
            [
             0.6666666666666666,
             "#ed7953"
            ],
            [
             0.7777777777777778,
             "#fb9f3a"
            ],
            [
             0.8888888888888888,
             "#fdca26"
            ],
            [
             1,
             "#f0f921"
            ]
           ]
          },
          "colorway": [
           "#636efa",
           "#EF553B",
           "#00cc96",
           "#ab63fa",
           "#FFA15A",
           "#19d3f3",
           "#FF6692",
           "#B6E880",
           "#FF97FF",
           "#FECB52"
          ],
          "font": {
           "color": "#2a3f5f"
          },
          "geo": {
           "bgcolor": "white",
           "lakecolor": "white",
           "landcolor": "#E5ECF6",
           "showlakes": true,
           "showland": true,
           "subunitcolor": "white"
          },
          "hoverlabel": {
           "align": "left"
          },
          "hovermode": "closest",
          "mapbox": {
           "style": "light"
          },
          "paper_bgcolor": "white",
          "plot_bgcolor": "#E5ECF6",
          "polar": {
           "angularaxis": {
            "gridcolor": "white",
            "linecolor": "white",
            "ticks": ""
           },
           "bgcolor": "#E5ECF6",
           "radialaxis": {
            "gridcolor": "white",
            "linecolor": "white",
            "ticks": ""
           }
          },
          "scene": {
           "xaxis": {
            "backgroundcolor": "#E5ECF6",
            "gridcolor": "white",
            "gridwidth": 2,
            "linecolor": "white",
            "showbackground": true,
            "ticks": "",
            "zerolinecolor": "white"
           },
           "yaxis": {
            "backgroundcolor": "#E5ECF6",
            "gridcolor": "white",
            "gridwidth": 2,
            "linecolor": "white",
            "showbackground": true,
            "ticks": "",
            "zerolinecolor": "white"
           },
           "zaxis": {
            "backgroundcolor": "#E5ECF6",
            "gridcolor": "white",
            "gridwidth": 2,
            "linecolor": "white",
            "showbackground": true,
            "ticks": "",
            "zerolinecolor": "white"
           }
          },
          "shapedefaults": {
           "line": {
            "color": "#2a3f5f"
           }
          },
          "ternary": {
           "aaxis": {
            "gridcolor": "white",
            "linecolor": "white",
            "ticks": ""
           },
           "baxis": {
            "gridcolor": "white",
            "linecolor": "white",
            "ticks": ""
           },
           "bgcolor": "#E5ECF6",
           "caxis": {
            "gridcolor": "white",
            "linecolor": "white",
            "ticks": ""
           }
          },
          "title": {
           "x": 0.05
          },
          "xaxis": {
           "automargin": true,
           "gridcolor": "white",
           "linecolor": "white",
           "ticks": "",
           "title": {
            "standoff": 15
           },
           "zerolinecolor": "white",
           "zerolinewidth": 2
          },
          "yaxis": {
           "automargin": true,
           "gridcolor": "white",
           "linecolor": "white",
           "ticks": "",
           "title": {
            "standoff": 15
           },
           "zerolinecolor": "white",
           "zerolinewidth": 2
          }
         }
        },
        "title": {
         "text": "What type of clients' payment method who left the service?"
        }
       }
      }
     },
     "metadata": {},
     "output_type": "display_data"
    }
   ],
   "source": [
    "fig = px.pie(data.groupby(['Payment Method','Churn Label'])['Customer ID'].count().reset_index(), \n",
    "             values='Customer ID', \n",
    "             facet_col = 'Churn Label',\n",
    "             names='Payment Method',\n",
    "             hole = .5,\n",
    "            title = \"What type of clients' payment method who left the service?\")\n",
    "fig.show()"
   ]
  },
  {
   "cell_type": "code",
   "execution_count": 93,
   "metadata": {},
   "outputs": [
    {
     "data": {
      "application/vnd.plotly.v1+json": {
       "config": {
        "plotlyServerURL": "https://plot.ly"
       },
       "data": [
        {
         "customdata": [
          [
           "No"
          ],
          [
           "Yes"
          ]
         ],
         "domain": {
          "x": [
           0,
           0.235
          ],
          "y": [
           0,
           1
          ]
         },
         "hovertemplate": "Payment Method=Credit<br>Churn Label=%{customdata[0]}<br>Customer ID=%{value}<extra></extra>",
         "labels": [
          "No",
          "Yes"
         ],
         "legendgroup": "",
         "marker": {
          "colors": [
           "#636efa",
           "#EF553B"
          ]
         },
         "name": "",
         "showlegend": true,
         "type": "pie",
         "values": [
          1290,
          232
         ]
        },
        {
         "customdata": [
          [
           "No"
          ],
          [
           "Yes"
          ]
         ],
         "domain": {
          "x": [
           0.255,
           0.49
          ],
          "y": [
           0,
           1
          ]
         },
         "hovertemplate": "Payment Method=Debit<br>Churn Label=%{customdata[0]}<br>Customer ID=%{value}<extra></extra>",
         "labels": [
          "No",
          "Yes"
         ],
         "legendgroup": "",
         "marker": {
          "colors": [
           "#636efa",
           "#EF553B"
          ]
         },
         "name": "",
         "showlegend": true,
         "type": "pie",
         "values": [
          1286,
          258
         ]
        },
        {
         "customdata": [
          [
           "No"
          ],
          [
           "Yes"
          ]
         ],
         "domain": {
          "x": [
           0.51,
           0.745
          ],
          "y": [
           0,
           1
          ]
         },
         "hovertemplate": "Payment Method=Digital Wallet<br>Churn Label=%{customdata[0]}<br>Customer ID=%{value}<extra></extra>",
         "labels": [
          "No",
          "Yes"
         ],
         "legendgroup": "",
         "marker": {
          "colors": [
           "#636efa",
           "#EF553B"
          ]
         },
         "name": "",
         "showlegend": true,
         "type": "pie",
         "values": [
          1304,
          308
         ]
        },
        {
         "customdata": [
          [
           "No"
          ],
          [
           "Yes"
          ]
         ],
         "domain": {
          "x": [
           0.7649999999999999,
           0.9999999999999999
          ],
          "y": [
           0,
           1
          ]
         },
         "hovertemplate": "Payment Method=Pulsa<br>Churn Label=%{customdata[0]}<br>Customer ID=%{value}<extra></extra>",
         "labels": [
          "No",
          "Yes"
         ],
         "legendgroup": "",
         "marker": {
          "colors": [
           "#636efa",
           "#EF553B"
          ]
         },
         "name": "",
         "showlegend": true,
         "type": "pie",
         "values": [
          1294,
          1071
         ]
        }
       ],
       "layout": {
        "annotations": [
         {
          "font": {},
          "showarrow": false,
          "text": "Payment Method=Credit",
          "x": 0.1175,
          "xanchor": "center",
          "xref": "paper",
          "y": 1,
          "yanchor": "bottom",
          "yref": "paper"
         },
         {
          "font": {},
          "showarrow": false,
          "text": "Payment Method=Debit",
          "x": 0.3725,
          "xanchor": "center",
          "xref": "paper",
          "y": 1,
          "yanchor": "bottom",
          "yref": "paper"
         },
         {
          "font": {},
          "showarrow": false,
          "text": "Payment Method=Digital Wallet",
          "x": 0.6275,
          "xanchor": "center",
          "xref": "paper",
          "y": 1,
          "yanchor": "bottom",
          "yref": "paper"
         },
         {
          "font": {},
          "showarrow": false,
          "text": "Payment Method=Pulsa",
          "x": 0.8824999999999998,
          "xanchor": "center",
          "xref": "paper",
          "y": 1,
          "yanchor": "bottom",
          "yref": "paper"
         }
        ],
        "legend": {
         "tracegroupgap": 0
        },
        "template": {
         "data": {
          "bar": [
           {
            "error_x": {
             "color": "#2a3f5f"
            },
            "error_y": {
             "color": "#2a3f5f"
            },
            "marker": {
             "line": {
              "color": "#E5ECF6",
              "width": 0.5
             },
             "pattern": {
              "fillmode": "overlay",
              "size": 10,
              "solidity": 0.2
             }
            },
            "type": "bar"
           }
          ],
          "barpolar": [
           {
            "marker": {
             "line": {
              "color": "#E5ECF6",
              "width": 0.5
             },
             "pattern": {
              "fillmode": "overlay",
              "size": 10,
              "solidity": 0.2
             }
            },
            "type": "barpolar"
           }
          ],
          "carpet": [
           {
            "aaxis": {
             "endlinecolor": "#2a3f5f",
             "gridcolor": "white",
             "linecolor": "white",
             "minorgridcolor": "white",
             "startlinecolor": "#2a3f5f"
            },
            "baxis": {
             "endlinecolor": "#2a3f5f",
             "gridcolor": "white",
             "linecolor": "white",
             "minorgridcolor": "white",
             "startlinecolor": "#2a3f5f"
            },
            "type": "carpet"
           }
          ],
          "choropleth": [
           {
            "colorbar": {
             "outlinewidth": 0,
             "ticks": ""
            },
            "type": "choropleth"
           }
          ],
          "contour": [
           {
            "colorbar": {
             "outlinewidth": 0,
             "ticks": ""
            },
            "colorscale": [
             [
              0,
              "#0d0887"
             ],
             [
              0.1111111111111111,
              "#46039f"
             ],
             [
              0.2222222222222222,
              "#7201a8"
             ],
             [
              0.3333333333333333,
              "#9c179e"
             ],
             [
              0.4444444444444444,
              "#bd3786"
             ],
             [
              0.5555555555555556,
              "#d8576b"
             ],
             [
              0.6666666666666666,
              "#ed7953"
             ],
             [
              0.7777777777777778,
              "#fb9f3a"
             ],
             [
              0.8888888888888888,
              "#fdca26"
             ],
             [
              1,
              "#f0f921"
             ]
            ],
            "type": "contour"
           }
          ],
          "contourcarpet": [
           {
            "colorbar": {
             "outlinewidth": 0,
             "ticks": ""
            },
            "type": "contourcarpet"
           }
          ],
          "heatmap": [
           {
            "colorbar": {
             "outlinewidth": 0,
             "ticks": ""
            },
            "colorscale": [
             [
              0,
              "#0d0887"
             ],
             [
              0.1111111111111111,
              "#46039f"
             ],
             [
              0.2222222222222222,
              "#7201a8"
             ],
             [
              0.3333333333333333,
              "#9c179e"
             ],
             [
              0.4444444444444444,
              "#bd3786"
             ],
             [
              0.5555555555555556,
              "#d8576b"
             ],
             [
              0.6666666666666666,
              "#ed7953"
             ],
             [
              0.7777777777777778,
              "#fb9f3a"
             ],
             [
              0.8888888888888888,
              "#fdca26"
             ],
             [
              1,
              "#f0f921"
             ]
            ],
            "type": "heatmap"
           }
          ],
          "heatmapgl": [
           {
            "colorbar": {
             "outlinewidth": 0,
             "ticks": ""
            },
            "colorscale": [
             [
              0,
              "#0d0887"
             ],
             [
              0.1111111111111111,
              "#46039f"
             ],
             [
              0.2222222222222222,
              "#7201a8"
             ],
             [
              0.3333333333333333,
              "#9c179e"
             ],
             [
              0.4444444444444444,
              "#bd3786"
             ],
             [
              0.5555555555555556,
              "#d8576b"
             ],
             [
              0.6666666666666666,
              "#ed7953"
             ],
             [
              0.7777777777777778,
              "#fb9f3a"
             ],
             [
              0.8888888888888888,
              "#fdca26"
             ],
             [
              1,
              "#f0f921"
             ]
            ],
            "type": "heatmapgl"
           }
          ],
          "histogram": [
           {
            "marker": {
             "pattern": {
              "fillmode": "overlay",
              "size": 10,
              "solidity": 0.2
             }
            },
            "type": "histogram"
           }
          ],
          "histogram2d": [
           {
            "colorbar": {
             "outlinewidth": 0,
             "ticks": ""
            },
            "colorscale": [
             [
              0,
              "#0d0887"
             ],
             [
              0.1111111111111111,
              "#46039f"
             ],
             [
              0.2222222222222222,
              "#7201a8"
             ],
             [
              0.3333333333333333,
              "#9c179e"
             ],
             [
              0.4444444444444444,
              "#bd3786"
             ],
             [
              0.5555555555555556,
              "#d8576b"
             ],
             [
              0.6666666666666666,
              "#ed7953"
             ],
             [
              0.7777777777777778,
              "#fb9f3a"
             ],
             [
              0.8888888888888888,
              "#fdca26"
             ],
             [
              1,
              "#f0f921"
             ]
            ],
            "type": "histogram2d"
           }
          ],
          "histogram2dcontour": [
           {
            "colorbar": {
             "outlinewidth": 0,
             "ticks": ""
            },
            "colorscale": [
             [
              0,
              "#0d0887"
             ],
             [
              0.1111111111111111,
              "#46039f"
             ],
             [
              0.2222222222222222,
              "#7201a8"
             ],
             [
              0.3333333333333333,
              "#9c179e"
             ],
             [
              0.4444444444444444,
              "#bd3786"
             ],
             [
              0.5555555555555556,
              "#d8576b"
             ],
             [
              0.6666666666666666,
              "#ed7953"
             ],
             [
              0.7777777777777778,
              "#fb9f3a"
             ],
             [
              0.8888888888888888,
              "#fdca26"
             ],
             [
              1,
              "#f0f921"
             ]
            ],
            "type": "histogram2dcontour"
           }
          ],
          "mesh3d": [
           {
            "colorbar": {
             "outlinewidth": 0,
             "ticks": ""
            },
            "type": "mesh3d"
           }
          ],
          "parcoords": [
           {
            "line": {
             "colorbar": {
              "outlinewidth": 0,
              "ticks": ""
             }
            },
            "type": "parcoords"
           }
          ],
          "pie": [
           {
            "automargin": true,
            "type": "pie"
           }
          ],
          "scatter": [
           {
            "fillpattern": {
             "fillmode": "overlay",
             "size": 10,
             "solidity": 0.2
            },
            "type": "scatter"
           }
          ],
          "scatter3d": [
           {
            "line": {
             "colorbar": {
              "outlinewidth": 0,
              "ticks": ""
             }
            },
            "marker": {
             "colorbar": {
              "outlinewidth": 0,
              "ticks": ""
             }
            },
            "type": "scatter3d"
           }
          ],
          "scattercarpet": [
           {
            "marker": {
             "colorbar": {
              "outlinewidth": 0,
              "ticks": ""
             }
            },
            "type": "scattercarpet"
           }
          ],
          "scattergeo": [
           {
            "marker": {
             "colorbar": {
              "outlinewidth": 0,
              "ticks": ""
             }
            },
            "type": "scattergeo"
           }
          ],
          "scattergl": [
           {
            "marker": {
             "colorbar": {
              "outlinewidth": 0,
              "ticks": ""
             }
            },
            "type": "scattergl"
           }
          ],
          "scattermapbox": [
           {
            "marker": {
             "colorbar": {
              "outlinewidth": 0,
              "ticks": ""
             }
            },
            "type": "scattermapbox"
           }
          ],
          "scatterpolar": [
           {
            "marker": {
             "colorbar": {
              "outlinewidth": 0,
              "ticks": ""
             }
            },
            "type": "scatterpolar"
           }
          ],
          "scatterpolargl": [
           {
            "marker": {
             "colorbar": {
              "outlinewidth": 0,
              "ticks": ""
             }
            },
            "type": "scatterpolargl"
           }
          ],
          "scatterternary": [
           {
            "marker": {
             "colorbar": {
              "outlinewidth": 0,
              "ticks": ""
             }
            },
            "type": "scatterternary"
           }
          ],
          "surface": [
           {
            "colorbar": {
             "outlinewidth": 0,
             "ticks": ""
            },
            "colorscale": [
             [
              0,
              "#0d0887"
             ],
             [
              0.1111111111111111,
              "#46039f"
             ],
             [
              0.2222222222222222,
              "#7201a8"
             ],
             [
              0.3333333333333333,
              "#9c179e"
             ],
             [
              0.4444444444444444,
              "#bd3786"
             ],
             [
              0.5555555555555556,
              "#d8576b"
             ],
             [
              0.6666666666666666,
              "#ed7953"
             ],
             [
              0.7777777777777778,
              "#fb9f3a"
             ],
             [
              0.8888888888888888,
              "#fdca26"
             ],
             [
              1,
              "#f0f921"
             ]
            ],
            "type": "surface"
           }
          ],
          "table": [
           {
            "cells": {
             "fill": {
              "color": "#EBF0F8"
             },
             "line": {
              "color": "white"
             }
            },
            "header": {
             "fill": {
              "color": "#C8D4E3"
             },
             "line": {
              "color": "white"
             }
            },
            "type": "table"
           }
          ]
         },
         "layout": {
          "annotationdefaults": {
           "arrowcolor": "#2a3f5f",
           "arrowhead": 0,
           "arrowwidth": 1
          },
          "autotypenumbers": "strict",
          "coloraxis": {
           "colorbar": {
            "outlinewidth": 0,
            "ticks": ""
           }
          },
          "colorscale": {
           "diverging": [
            [
             0,
             "#8e0152"
            ],
            [
             0.1,
             "#c51b7d"
            ],
            [
             0.2,
             "#de77ae"
            ],
            [
             0.3,
             "#f1b6da"
            ],
            [
             0.4,
             "#fde0ef"
            ],
            [
             0.5,
             "#f7f7f7"
            ],
            [
             0.6,
             "#e6f5d0"
            ],
            [
             0.7,
             "#b8e186"
            ],
            [
             0.8,
             "#7fbc41"
            ],
            [
             0.9,
             "#4d9221"
            ],
            [
             1,
             "#276419"
            ]
           ],
           "sequential": [
            [
             0,
             "#0d0887"
            ],
            [
             0.1111111111111111,
             "#46039f"
            ],
            [
             0.2222222222222222,
             "#7201a8"
            ],
            [
             0.3333333333333333,
             "#9c179e"
            ],
            [
             0.4444444444444444,
             "#bd3786"
            ],
            [
             0.5555555555555556,
             "#d8576b"
            ],
            [
             0.6666666666666666,
             "#ed7953"
            ],
            [
             0.7777777777777778,
             "#fb9f3a"
            ],
            [
             0.8888888888888888,
             "#fdca26"
            ],
            [
             1,
             "#f0f921"
            ]
           ],
           "sequentialminus": [
            [
             0,
             "#0d0887"
            ],
            [
             0.1111111111111111,
             "#46039f"
            ],
            [
             0.2222222222222222,
             "#7201a8"
            ],
            [
             0.3333333333333333,
             "#9c179e"
            ],
            [
             0.4444444444444444,
             "#bd3786"
            ],
            [
             0.5555555555555556,
             "#d8576b"
            ],
            [
             0.6666666666666666,
             "#ed7953"
            ],
            [
             0.7777777777777778,
             "#fb9f3a"
            ],
            [
             0.8888888888888888,
             "#fdca26"
            ],
            [
             1,
             "#f0f921"
            ]
           ]
          },
          "colorway": [
           "#636efa",
           "#EF553B",
           "#00cc96",
           "#ab63fa",
           "#FFA15A",
           "#19d3f3",
           "#FF6692",
           "#B6E880",
           "#FF97FF",
           "#FECB52"
          ],
          "font": {
           "color": "#2a3f5f"
          },
          "geo": {
           "bgcolor": "white",
           "lakecolor": "white",
           "landcolor": "#E5ECF6",
           "showlakes": true,
           "showland": true,
           "subunitcolor": "white"
          },
          "hoverlabel": {
           "align": "left"
          },
          "hovermode": "closest",
          "mapbox": {
           "style": "light"
          },
          "paper_bgcolor": "white",
          "plot_bgcolor": "#E5ECF6",
          "polar": {
           "angularaxis": {
            "gridcolor": "white",
            "linecolor": "white",
            "ticks": ""
           },
           "bgcolor": "#E5ECF6",
           "radialaxis": {
            "gridcolor": "white",
            "linecolor": "white",
            "ticks": ""
           }
          },
          "scene": {
           "xaxis": {
            "backgroundcolor": "#E5ECF6",
            "gridcolor": "white",
            "gridwidth": 2,
            "linecolor": "white",
            "showbackground": true,
            "ticks": "",
            "zerolinecolor": "white"
           },
           "yaxis": {
            "backgroundcolor": "#E5ECF6",
            "gridcolor": "white",
            "gridwidth": 2,
            "linecolor": "white",
            "showbackground": true,
            "ticks": "",
            "zerolinecolor": "white"
           },
           "zaxis": {
            "backgroundcolor": "#E5ECF6",
            "gridcolor": "white",
            "gridwidth": 2,
            "linecolor": "white",
            "showbackground": true,
            "ticks": "",
            "zerolinecolor": "white"
           }
          },
          "shapedefaults": {
           "line": {
            "color": "#2a3f5f"
           }
          },
          "ternary": {
           "aaxis": {
            "gridcolor": "white",
            "linecolor": "white",
            "ticks": ""
           },
           "baxis": {
            "gridcolor": "white",
            "linecolor": "white",
            "ticks": ""
           },
           "bgcolor": "#E5ECF6",
           "caxis": {
            "gridcolor": "white",
            "linecolor": "white",
            "ticks": ""
           }
          },
          "title": {
           "x": 0.05
          },
          "xaxis": {
           "automargin": true,
           "gridcolor": "white",
           "linecolor": "white",
           "ticks": "",
           "title": {
            "standoff": 15
           },
           "zerolinecolor": "white",
           "zerolinewidth": 2
          },
          "yaxis": {
           "automargin": true,
           "gridcolor": "white",
           "linecolor": "white",
           "ticks": "",
           "title": {
            "standoff": 15
           },
           "zerolinecolor": "white",
           "zerolinewidth": 2
          }
         }
        },
        "title": {
         "text": "Churn rate by customer payment method"
        }
       }
      }
     },
     "metadata": {},
     "output_type": "display_data"
    }
   ],
   "source": [
    "fig = px.pie(data.groupby(['Payment Method','Churn Label'])['Customer ID'].count().reset_index(), \n",
    "            values='Customer ID', \n",
    "            names='Churn Label',\n",
    "            facet_col = 'Payment Method',\n",
    "            color = 'Churn Label',\n",
    "            title = 'Churn rate by customer payment method')\n",
    "\n",
    "fig.show()"
   ]
  }
 ],
 "metadata": {
  "kernelspec": {
   "display_name": "Python 3",
   "language": "python",
   "name": "python3"
  },
  "language_info": {
   "codemirror_mode": {
    "name": "ipython",
    "version": 3
   },
   "file_extension": ".py",
   "mimetype": "text/x-python",
   "name": "python",
   "nbconvert_exporter": "python",
   "pygments_lexer": "ipython3",
   "version": "3.11.4"
  }
 },
 "nbformat": 4,
 "nbformat_minor": 2
}
